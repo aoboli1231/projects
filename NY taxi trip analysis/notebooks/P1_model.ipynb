{
 "cells": [
  {
   "cell_type": "code",
   "execution_count": 1,
   "id": "intended-writer",
   "metadata": {},
   "outputs": [],
   "source": [
    "# create modeling spark session\n",
    "from pyspark.sql import SparkSession\n",
    "\n",
    "spark = (\n",
    "    SparkSession.builder.appName('Project 1 modeling')\n",
    "    .config('spark.sql.repl.eagerEval.enabled', True) \n",
    "    .config('spark.sql.parquet.cacheMetadata', 'true')\n",
    "    .config(\"spark.sql.session.timeZone\", \"Etc/UTC\")\n",
    "    .config(\"spark.executor.memory\", \"8g\")\n",
    "    .config(\"spark.driver.memory\", \"8g\")\n",
    "    .getOrCreate()\n",
    ")"
   ]
  },
  {
   "cell_type": "code",
   "execution_count": 2,
   "id": "disturbed-professor",
   "metadata": {},
   "outputs": [],
   "source": [
    "########################################################################\n",
    "\n",
    "\n",
    "# NOTE, Need to replace the working directions of the file, please do not include back slash at the end\n",
    "# remove current directory and change it to your directory to the project\n",
    "\n",
    "\n",
    "directory = \"/Users/aobo/Desktop/project_1\"\n",
    "\n",
    "\n",
    "\n",
    "#########################################################################"
   ]
  },
  {
   "cell_type": "code",
   "execution_count": 3,
   "id": "married-morning",
   "metadata": {},
   "outputs": [],
   "source": [
    "# read full training data\n",
    "sdf_Uber = spark.read.parquet(directory + '/data/curated/HVFH/train/full_HVFH_train.parquet')\n",
    "sdf_Ytaxi = spark.read.parquet(directory + '/data/curated/ytaxi/train/full_ytaxi_train.parquet')\n",
    "\n",
    "# even though null value is removed in preprocessing, remove again just in case\n",
    "sdf_Uber = sdf_Uber.dropna('any')\n",
    "sdf_Ytaxi = sdf_Ytaxi.dropna('any')"
   ]
  },
  {
   "cell_type": "code",
   "execution_count": 4,
   "id": "sunrise-share",
   "metadata": {},
   "outputs": [],
   "source": [
    "# vectorize selected features from correlation visualisation\n",
    "from pyspark.ml.feature import VectorAssembler\n",
    "\n",
    "features = 'features'\n",
    "# selected feature are obtained from visualisation, where the pearson correlations are higher than 0.1\n",
    "uber_input_cols = ['DOLocationID','trip_miles', 'trip_time']\n",
    "ytaxi_input_cols = ['trip_distance', 'trip_Time','RatecodeID']\n",
    "\n",
    "Uber_assembler = VectorAssembler(\n",
    "    # which column to combine\n",
    "    inputCols=uber_input_cols, \n",
    "    # How should the combined columns be named\n",
    "    outputCol=features\n",
    ")\n",
    "\n",
    "ytaxi_assembler = VectorAssembler(\n",
    "    # which column to combine\n",
    "    inputCols=ytaxi_input_cols, \n",
    "    # How should the combined columns be named\n",
    "    outputCol=features\n",
    ")\n",
    "# remove any null value in the dataframe\n",
    "# even though this is done in preprocessing, double check to ensure that training is good\n",
    "Uber_model_sdf = Uber_assembler.transform(sdf_Uber)\n",
    "Ytaxi_model_sdf = ytaxi_assembler.transform(sdf_Ytaxi)\n"
   ]
  },
  {
   "cell_type": "code",
   "execution_count": 5,
   "id": "administrative-dancing",
   "metadata": {},
   "outputs": [],
   "source": [
    "# import linear regression from pyspark\n",
    "# also import generalized linear regression since trip cost data show a gamma distribution (right skewed)\n",
    "from pyspark.ml.regression import LinearRegression\n",
    "import time\n",
    "import pandas as pd\n"
   ]
  },
  {
   "cell_type": "code",
   "execution_count": 6,
   "id": "identical-prospect",
   "metadata": {},
   "outputs": [
    {
     "name": "stdout",
     "output_type": "stream",
     "text": [
      "107.67938590049744\n"
     ]
    }
   ],
   "source": [
    "# conduct uber's linear regression model\n",
    "start = time.time()\n",
    "uber_linear = LinearRegression(featuresCol='features', labelCol='total_amount').fit(Uber_model_sdf)\n",
    "print(time.time()-start)\n",
    "# last model runtime 94"
   ]
  },
  {
   "cell_type": "code",
   "execution_count": 7,
   "id": "moderate-threat",
   "metadata": {},
   "outputs": [
    {
     "name": "stdout",
     "output_type": "stream",
     "text": [
      "43.409226179122925\n"
     ]
    }
   ],
   "source": [
    "# conduct yellow taxi's linear regression model\n",
    "start = time.time()\n",
    "ytaxi_linear = LinearRegression(featuresCol='features', labelCol='total_amount').fit(Ytaxi_model_sdf)\n",
    "print(time.time()-start)\n",
    "# last model runtime 45"
   ]
  },
  {
   "cell_type": "code",
   "execution_count": 8,
   "id": "exterior-arlington",
   "metadata": {},
   "outputs": [],
   "source": [
    "# read testing files: September 2019, for Uber and Yellow taxi\n",
    "sdf_Uber_prediction = spark.read.parquet(directory + '/data/curated/HVFH/test/final_0919HVFH.parquet')\n",
    "sdf_ytaxi_prediction = spark.read.parquet(directory + '/data/curated/ytaxi/test/final_0919ytaxi.parquet')\n",
    "\n",
    "# even though null value is removed in preprocessing, remove again just in case\n",
    "sdf_Uber_prediction = sdf_Uber_prediction.dropna('any')\n",
    "sdf_ytaxi_prediction = sdf_ytaxi_prediction.dropna('any')"
   ]
  },
  {
   "cell_type": "code",
   "execution_count": 9,
   "id": "unavailable-newport",
   "metadata": {},
   "outputs": [
    {
     "data": {
      "text/html": [
       "<table border='1'>\n",
       "<tr><th>DOLocationID</th><th>trip_miles</th><th>trip_time</th><th>total_amount</th><th>features</th></tr>\n",
       "<tr><td>169</td><td>1.63</td><td>426</td><td>7.51</td><td>[169.0,1.63,426.0]</td></tr>\n",
       "<tr><td>18</td><td>1.6</td><td>556</td><td>9.21</td><td>[18.0,1.6,556.0]</td></tr>\n",
       "<tr><td>198</td><td>18.01</td><td>1678</td><td>29.09</td><td>[198.0,18.01,1678.0]</td></tr>\n",
       "<tr><td>112</td><td>0.88</td><td>325</td><td>8.01</td><td>[112.0,0.88,325.0]</td></tr>\n",
       "<tr><td>107</td><td>4.96</td><td>1271</td><td>20.62</td><td>[107.0,4.96,1271.0]</td></tr>\n",
       "</table>\n"
      ],
      "text/plain": [
       "+------------+----------+---------+------------+--------------------+\n",
       "|DOLocationID|trip_miles|trip_time|total_amount|            features|\n",
       "+------------+----------+---------+------------+--------------------+\n",
       "|         169|      1.63|      426|        7.51|  [169.0,1.63,426.0]|\n",
       "|          18|       1.6|      556|        9.21|    [18.0,1.6,556.0]|\n",
       "|         198|     18.01|     1678|       29.09|[198.0,18.01,1678.0]|\n",
       "|         112|      0.88|      325|        8.01|  [112.0,0.88,325.0]|\n",
       "|         107|      4.96|     1271|       20.62| [107.0,4.96,1271.0]|\n",
       "+------------+----------+---------+------------+--------------------+"
      ]
     },
     "execution_count": 9,
     "metadata": {},
     "output_type": "execute_result"
    }
   ],
   "source": [
    "# preprocess for predictions for uber, get all features in vector form\n",
    "\n",
    "predict_test = sdf_Uber_prediction.select(*uber_input_cols,'total_amount')\n",
    "\n",
    "Uber_predict_sdf = Uber_assembler.transform(predict_test)\n",
    "\n",
    "Uber_predict_sdf.limit(5)"
   ]
  },
  {
   "cell_type": "code",
   "execution_count": 10,
   "id": "computational-brand",
   "metadata": {},
   "outputs": [
    {
     "data": {
      "text/html": [
       "<table border='1'>\n",
       "<tr><th>trip_distance</th><th>trip_Time</th><th>RatecodeID</th><th>total_amount</th><th>features</th></tr>\n",
       "<tr><td>2.0</td><td>1138</td><td>1.0</td><td>16.8</td><td>[2.0,1138.0,1.0]</td></tr>\n",
       "<tr><td>5.5</td><td>1717</td><td>1.0</td><td>26.3</td><td>[5.5,1717.0,1.0]</td></tr>\n",
       "<tr><td>2.9</td><td>4</td><td>1.0</td><td>3.8</td><td>[2.9,4.0,1.0]</td></tr>\n",
       "<tr><td>1.5</td><td>325</td><td>1.0</td><td>8.3</td><td>[1.5,325.0,1.0]</td></tr>\n",
       "<tr><td>8.3</td><td>2195</td><td>1.0</td><td>39.96</td><td>[8.3,2195.0,1.0]</td></tr>\n",
       "</table>\n"
      ],
      "text/plain": [
       "+-------------+---------+----------+------------+----------------+\n",
       "|trip_distance|trip_Time|RatecodeID|total_amount|        features|\n",
       "+-------------+---------+----------+------------+----------------+\n",
       "|          2.0|     1138|       1.0|        16.8|[2.0,1138.0,1.0]|\n",
       "|          5.5|     1717|       1.0|        26.3|[5.5,1717.0,1.0]|\n",
       "|          2.9|        4|       1.0|         3.8|   [2.9,4.0,1.0]|\n",
       "|          1.5|      325|       1.0|         8.3| [1.5,325.0,1.0]|\n",
       "|          8.3|     2195|       1.0|       39.96|[8.3,2195.0,1.0]|\n",
       "+-------------+---------+----------+------------+----------------+"
      ]
     },
     "execution_count": 10,
     "metadata": {},
     "output_type": "execute_result"
    }
   ],
   "source": [
    "# preprocess for predictions for yellow taxi,  get all features in vector form\n",
    "predict_test = sdf_ytaxi_prediction.select(*ytaxi_input_cols,'total_amount')\n",
    "\n",
    "Ytaxi_predict_sdf = ytaxi_assembler.transform(predict_test)\n",
    "\n",
    "Ytaxi_predict_sdf.limit(5)"
   ]
  },
  {
   "cell_type": "code",
   "execution_count": 11,
   "id": "attached-africa",
   "metadata": {},
   "outputs": [
    {
     "data": {
      "text/html": [
       "<table border='1'>\n",
       "<tr><th>DOLocationID</th><th>trip_miles</th><th>trip_time</th><th>total_amount</th><th>features</th><th>prediction</th></tr>\n",
       "<tr><td>169</td><td>1.63</td><td>426</td><td>7.51</td><td>[169.0,1.63,426.0]</td><td>8.507885839488226</td></tr>\n",
       "<tr><td>18</td><td>1.6</td><td>556</td><td>9.21</td><td>[18.0,1.6,556.0]</td><td>7.054626963209339</td></tr>\n",
       "<tr><td>198</td><td>18.01</td><td>1678</td><td>29.09</td><td>[198.0,18.01,1678.0]</td><td>59.73527554591401</td></tr>\n",
       "<tr><td>112</td><td>0.88</td><td>325</td><td>8.01</td><td>[112.0,0.88,325.0]</td><td>5.0988230885188885</td></tr>\n",
       "<tr><td>107</td><td>4.96</td><td>1271</td><td>20.62</td><td>[107.0,4.96,1271.0]</td><td>21.538509994761064</td></tr>\n",
       "</table>\n"
      ],
      "text/plain": [
       "+------------+----------+---------+------------+--------------------+------------------+\n",
       "|DOLocationID|trip_miles|trip_time|total_amount|            features|        prediction|\n",
       "+------------+----------+---------+------------+--------------------+------------------+\n",
       "|         169|      1.63|      426|        7.51|  [169.0,1.63,426.0]| 8.507885839488226|\n",
       "|          18|       1.6|      556|        9.21|    [18.0,1.6,556.0]| 7.054626963209339|\n",
       "|         198|     18.01|     1678|       29.09|[198.0,18.01,1678.0]| 59.73527554591401|\n",
       "|         112|      0.88|      325|        8.01|  [112.0,0.88,325.0]|5.0988230885188885|\n",
       "|         107|      4.96|     1271|       20.62| [107.0,4.96,1271.0]|21.538509994761064|\n",
       "+------------+----------+---------+------------+--------------------+------------------+"
      ]
     },
     "execution_count": 11,
     "metadata": {},
     "output_type": "execute_result"
    }
   ],
   "source": [
    "# obtain linear regression prediction for Uber\n",
    "uber_lr_prediction = uber_linear.transform(Uber_predict_sdf)\n",
    "uber_lr_prediction.limit(5)\n"
   ]
  },
  {
   "cell_type": "code",
   "execution_count": 12,
   "id": "humanitarian-albania",
   "metadata": {},
   "outputs": [
    {
     "data": {
      "text/html": [
       "<table border='1'>\n",
       "<tr><th>trip_distance</th><th>trip_Time</th><th>RatecodeID</th><th>total_amount</th><th>features</th><th>prediction</th></tr>\n",
       "<tr><td>2.0</td><td>1138</td><td>1.0</td><td>16.8</td><td>[2.0,1138.0,1.0]</td><td>17.89807093522201</td></tr>\n",
       "<tr><td>5.5</td><td>1717</td><td>1.0</td><td>26.3</td><td>[5.5,1717.0,1.0]</td><td>29.873914829578055</td></tr>\n",
       "<tr><td>2.9</td><td>4</td><td>1.0</td><td>3.8</td><td>[2.9,4.0,1.0]</td><td>14.037174683773163</td></tr>\n",
       "<tr><td>1.5</td><td>325</td><td>1.0</td><td>8.3</td><td>[1.5,325.0,1.0]</td><td>12.236397635227922</td></tr>\n",
       "<tr><td>8.3</td><td>2195</td><td>1.0</td><td>39.96</td><td>[8.3,2195.0,1.0]</td><td>39.53465779800557</td></tr>\n",
       "</table>\n"
      ],
      "text/plain": [
       "+-------------+---------+----------+------------+----------------+------------------+\n",
       "|trip_distance|trip_Time|RatecodeID|total_amount|        features|        prediction|\n",
       "+-------------+---------+----------+------------+----------------+------------------+\n",
       "|          2.0|     1138|       1.0|        16.8|[2.0,1138.0,1.0]| 17.89807093522201|\n",
       "|          5.5|     1717|       1.0|        26.3|[5.5,1717.0,1.0]|29.873914829578055|\n",
       "|          2.9|        4|       1.0|         3.8|   [2.9,4.0,1.0]|14.037174683773163|\n",
       "|          1.5|      325|       1.0|         8.3| [1.5,325.0,1.0]|12.236397635227922|\n",
       "|          8.3|     2195|       1.0|       39.96|[8.3,2195.0,1.0]| 39.53465779800557|\n",
       "+-------------+---------+----------+------------+----------------+------------------+"
      ]
     },
     "execution_count": 12,
     "metadata": {},
     "output_type": "execute_result"
    }
   ],
   "source": [
    "# obtain linear regression prediction for Yellow taxi\n",
    "ytaxi_lr_prediction = ytaxi_linear.transform(Ytaxi_predict_sdf)\n",
    "ytaxi_lr_prediction.limit(5)"
   ]
  },
  {
   "cell_type": "code",
   "execution_count": 13,
   "id": "varied-imperial",
   "metadata": {},
   "outputs": [],
   "source": [
    "from pyspark.ml.evaluation import RegressionEvaluator"
   ]
  },
  {
   "cell_type": "code",
   "execution_count": 14,
   "id": "powerful-conditioning",
   "metadata": {},
   "outputs": [],
   "source": [
    "# evaluate linear regression prediction, create evaluation metric of root-mean-square deviation\n",
    "rmse_evaluator = RegressionEvaluator(\n",
    "    labelCol=\"total_amount\", predictionCol=\"prediction\", metricName=\"rmse\")"
   ]
  },
  {
   "cell_type": "code",
   "execution_count": 15,
   "id": "ideal-meaning",
   "metadata": {},
   "outputs": [],
   "source": [
    "# create r^2 evaluator\n",
    "r2_evaluator = RegressionEvaluator(\n",
    "    labelCol=\"total_amount\", predictionCol=\"prediction\", metricName=\"r2\")"
   ]
  },
  {
   "cell_type": "code",
   "execution_count": 16,
   "id": "accompanied-procedure",
   "metadata": {},
   "outputs": [
    {
     "name": "stdout",
     "output_type": "stream",
     "text": [
      "Root Mean Squared Error (RMSE) on Yellow taxi's trip data = 5.15711\n"
     ]
    }
   ],
   "source": [
    "# evaluate yellow taxi's linear regression on rmse\n",
    "ytaxi_lr_rmse = rmse_evaluator.evaluate(ytaxi_lr_prediction)\n",
    "print(\"Root Mean Squared Error (RMSE) on Yellow taxi's trip data = %g\" % ytaxi_lr_rmse)"
   ]
  },
  {
   "cell_type": "code",
   "execution_count": 17,
   "id": "talented-myrtle",
   "metadata": {},
   "outputs": [
    {
     "name": "stdout",
     "output_type": "stream",
     "text": [
      "R Squared (R^2) on Yellow taxi's trip data = 0.876661\n"
     ]
    }
   ],
   "source": [
    "# evaluate yellow taxi's linear regression on r-squared\n",
    "ytaxi_lr_r2 = r2_evaluator.evaluate(ytaxi_lr_prediction)\n",
    "print(\"R Squared (R^2) on Yellow taxi's trip data = %g\" % ytaxi_lr_r2)"
   ]
  },
  {
   "cell_type": "code",
   "execution_count": 18,
   "id": "engaging-produce",
   "metadata": {},
   "outputs": [
    {
     "name": "stdout",
     "output_type": "stream",
     "text": [
      "Root Mean Squared Error (RMSE) on Uber's trip data = 10.199\n"
     ]
    }
   ],
   "source": [
    "# evaluate Uber's linear regression on rmse\n",
    "uber_lr_rmse = rmse_evaluator.evaluate(uber_lr_prediction)\n",
    "print(\"Root Mean Squared Error (RMSE) on Uber's trip data = %g\" % uber_lr_rmse)"
   ]
  },
  {
   "cell_type": "code",
   "execution_count": 19,
   "id": "ordered-nepal",
   "metadata": {},
   "outputs": [
    {
     "name": "stdout",
     "output_type": "stream",
     "text": [
      "R Squared (R^2) on Uber's trip data = 0.778073\n"
     ]
    }
   ],
   "source": [
    "# evaluate Uber's linear regression on r-squared\n",
    "uber_lr_r2 = r2_evaluator.evaluate(uber_lr_prediction)\n",
    "print(\"R Squared (R^2) on Uber's trip data = %g\" % uber_lr_r2)"
   ]
  },
  {
   "cell_type": "code",
   "execution_count": 20,
   "id": "earlier-influence",
   "metadata": {},
   "outputs": [],
   "source": [
    "# Use another machine learning model to study the training data\n",
    "# conduct gradient boost tree regression\n",
    "from pyspark.ml.regression import GBTRegressor"
   ]
  },
  {
   "cell_type": "code",
   "execution_count": 21,
   "id": "collectible-committee",
   "metadata": {},
   "outputs": [
    {
     "name": "stdout",
     "output_type": "stream",
     "text": [
      "241.50389695167542\n"
     ]
    }
   ],
   "source": [
    "# Use gradient boost tree regression to train the data\n",
    "# Train a GBT model on Uber\n",
    "\n",
    "start = time.time()\n",
    "\n",
    "# take a sample of the full Uber training data. 100 million trip records is too much for gradient boosted \n",
    "# decision tree model, take 10 million as sample, that is 0.1 of the full data\n",
    "# 0.1 represent the fraction of full trip data that is sampled\n",
    "uber_sample = Uber_model_sdf.sample(False, 0.1)\n",
    "\n",
    "# train the model based on the sample\n",
    "uber_gbtr_model = GBTRegressor(featuresCol='features', labelCol='total_amount', \n",
    "                               maxIter=10).fit(uber_sample)\n",
    "print(time.time()-start)\n",
    "# last runtime is 250 seconds"
   ]
  },
  {
   "cell_type": "code",
   "execution_count": 22,
   "id": "played-thing",
   "metadata": {},
   "outputs": [
    {
     "name": "stdout",
     "output_type": "stream",
     "text": [
      "55.5467529296875\n"
     ]
    }
   ],
   "source": [
    "# Train a GBT model on yellow taxi's trip data\n",
    "start = time.time()\n",
    "\n",
    "# take a sample of the full yellow taxi training data. 50 million trip records is too much for gradient \n",
    "# boosted decision tree model, take 10 million as sample, that is 0.2 of the full data\n",
    "# 0.2 represent the fraction of full trip data that is sampled\n",
    "ytaxi_sample = Ytaxi_predict_sdf.sample(False, 0.2)\n",
    "\n",
    "# train the model based on the sample\n",
    "ytaxi_gbtr_model = GBTRegressor(featuresCol='features', labelCol='total_amount', \n",
    "                               maxIter=10).fit(ytaxi_sample)\n",
    "print(time.time()-start)\n",
    "# last run time is 86 seconds"
   ]
  },
  {
   "cell_type": "code",
   "execution_count": 23,
   "id": "fantastic-frame",
   "metadata": {},
   "outputs": [
    {
     "data": {
      "text/html": [
       "<table border='1'>\n",
       "<tr><th>DOLocationID</th><th>trip_miles</th><th>trip_time</th><th>total_amount</th><th>features</th><th>prediction</th></tr>\n",
       "<tr><td>169</td><td>1.63</td><td>426</td><td>7.51</td><td>[169.0,1.63,426.0]</td><td>7.017095343620239</td></tr>\n",
       "<tr><td>18</td><td>1.6</td><td>556</td><td>9.21</td><td>[18.0,1.6,556.0]</td><td>9.730696891266616</td></tr>\n",
       "<tr><td>198</td><td>18.01</td><td>1678</td><td>29.09</td><td>[198.0,18.01,1678.0]</td><td>56.91508861178963</td></tr>\n",
       "<tr><td>112</td><td>0.88</td><td>325</td><td>8.01</td><td>[112.0,0.88,325.0]</td><td>8.118172218050452</td></tr>\n",
       "<tr><td>107</td><td>4.96</td><td>1271</td><td>20.62</td><td>[107.0,4.96,1271.0]</td><td>19.407448881309755</td></tr>\n",
       "</table>\n"
      ],
      "text/plain": [
       "+------------+----------+---------+------------+--------------------+------------------+\n",
       "|DOLocationID|trip_miles|trip_time|total_amount|            features|        prediction|\n",
       "+------------+----------+---------+------------+--------------------+------------------+\n",
       "|         169|      1.63|      426|        7.51|  [169.0,1.63,426.0]| 7.017095343620239|\n",
       "|          18|       1.6|      556|        9.21|    [18.0,1.6,556.0]| 9.730696891266616|\n",
       "|         198|     18.01|     1678|       29.09|[198.0,18.01,1678.0]| 56.91508861178963|\n",
       "|         112|      0.88|      325|        8.01|  [112.0,0.88,325.0]| 8.118172218050452|\n",
       "|         107|      4.96|     1271|       20.62| [107.0,4.96,1271.0]|19.407448881309755|\n",
       "+------------+----------+---------+------------+--------------------+------------------+"
      ]
     },
     "execution_count": 23,
     "metadata": {},
     "output_type": "execute_result"
    }
   ],
   "source": [
    "# obtain linear regression prediction for Uber,  get all features in vector form\n",
    "uber_gbtr_prediction = uber_gbtr_model.transform(Uber_predict_sdf)\n",
    "uber_gbtr_prediction.limit(5)"
   ]
  },
  {
   "cell_type": "code",
   "execution_count": 24,
   "id": "sought-preliminary",
   "metadata": {},
   "outputs": [
    {
     "data": {
      "text/html": [
       "<table border='1'>\n",
       "<tr><th>trip_distance</th><th>trip_Time</th><th>RatecodeID</th><th>total_amount</th><th>features</th><th>prediction</th></tr>\n",
       "<tr><td>2.0</td><td>1138</td><td>1.0</td><td>16.8</td><td>[2.0,1138.0,1.0]</td><td>19.321503326532987</td></tr>\n",
       "<tr><td>5.5</td><td>1717</td><td>1.0</td><td>26.3</td><td>[5.5,1717.0,1.0]</td><td>26.980896294295516</td></tr>\n",
       "<tr><td>2.9</td><td>4</td><td>1.0</td><td>3.8</td><td>[2.9,4.0,1.0]</td><td>10.323916326001184</td></tr>\n",
       "<tr><td>1.5</td><td>325</td><td>1.0</td><td>8.3</td><td>[1.5,325.0,1.0]</td><td>11.911319141038874</td></tr>\n",
       "<tr><td>8.3</td><td>2195</td><td>1.0</td><td>39.96</td><td>[8.3,2195.0,1.0]</td><td>40.32984289940157</td></tr>\n",
       "</table>\n"
      ],
      "text/plain": [
       "+-------------+---------+----------+------------+----------------+------------------+\n",
       "|trip_distance|trip_Time|RatecodeID|total_amount|        features|        prediction|\n",
       "+-------------+---------+----------+------------+----------------+------------------+\n",
       "|          2.0|     1138|       1.0|        16.8|[2.0,1138.0,1.0]|19.321503326532987|\n",
       "|          5.5|     1717|       1.0|        26.3|[5.5,1717.0,1.0]|26.980896294295516|\n",
       "|          2.9|        4|       1.0|         3.8|   [2.9,4.0,1.0]|10.323916326001184|\n",
       "|          1.5|      325|       1.0|         8.3| [1.5,325.0,1.0]|11.911319141038874|\n",
       "|          8.3|     2195|       1.0|       39.96|[8.3,2195.0,1.0]| 40.32984289940157|\n",
       "+-------------+---------+----------+------------+----------------+------------------+"
      ]
     },
     "execution_count": 24,
     "metadata": {},
     "output_type": "execute_result"
    }
   ],
   "source": [
    "# obtain linear regression prediction for Yellow taxi,  get all features in vector form\n",
    "ytaxi_gbtr_prediction = ytaxi_gbtr_model.transform(Ytaxi_predict_sdf)\n",
    "ytaxi_gbtr_prediction.limit(5)"
   ]
  },
  {
   "cell_type": "code",
   "execution_count": 26,
   "id": "existing-burning",
   "metadata": {},
   "outputs": [
    {
     "name": "stdout",
     "output_type": "stream",
     "text": [
      "Root Mean Squared Error (RMSE) on Uber's trip data = 10.0267\n"
     ]
    }
   ],
   "source": [
    "# evaluate Uber's GBTR on rmse\n",
    "uber_gbtr_rmse = rmse_evaluator.evaluate(uber_gbtr_prediction)\n",
    "print(\"Root Mean Squared Error (RMSE) on Uber's trip data = %g\" % uber_gbtr_rmse)"
   ]
  },
  {
   "cell_type": "code",
   "execution_count": 27,
   "id": "increasing-surname",
   "metadata": {},
   "outputs": [
    {
     "name": "stdout",
     "output_type": "stream",
     "text": [
      "R Squared (R^2) on Yellow taxi's trip data = 0.785509\n"
     ]
    }
   ],
   "source": [
    "# evaluate Uber's GBTR on r-squared\n",
    "uber_gbtr_r2 = r2_evaluator.evaluate(uber_gbtr_prediction)\n",
    "print(\"R Squared (R^2) on Yellow taxi's trip data = %g\" % uber_gbtr_r2)"
   ]
  },
  {
   "cell_type": "code",
   "execution_count": 28,
   "id": "gross-performance",
   "metadata": {},
   "outputs": [
    {
     "name": "stdout",
     "output_type": "stream",
     "text": [
      "Root Mean Squared Error (RMSE) on Yellow taxi's trip data = 4.00216\n"
     ]
    }
   ],
   "source": [
    "# evaluate yellow taxi's GBTR on rmse\n",
    "ytaxi_gbtr_rmse = rmse_evaluator.evaluate(ytaxi_gbtr_prediction)\n",
    "print(\"Root Mean Squared Error (RMSE) on Yellow taxi's trip data = %g\" % ytaxi_gbtr_rmse)"
   ]
  },
  {
   "cell_type": "code",
   "execution_count": 29,
   "id": "still-movement",
   "metadata": {},
   "outputs": [
    {
     "name": "stdout",
     "output_type": "stream",
     "text": [
      "R Squared (R^2) on Yellow taxi's trip data = 0.925719\n"
     ]
    }
   ],
   "source": [
    "# evaluate yellow taxi's GBTR on r-squared\n",
    "ytaxi_gbtr_r2 = r2_evaluator.evaluate(ytaxi_gbtr_prediction)\n",
    "print(\"R Squared (R^2) on Yellow taxi's trip data = %g\" % ytaxi_gbtr_r2)"
   ]
  },
  {
   "cell_type": "code",
   "execution_count": 24,
   "id": "living-swiss",
   "metadata": {},
   "outputs": [],
   "source": [
    "# Gradient Boosted Tree Regression is better than linear regression\n",
    "# compare the Gradient Boosted Tree Regression predictions for Yellow taxi and uber"
   ]
  },
  {
   "cell_type": "code",
   "execution_count": 39,
   "id": "least-conversation",
   "metadata": {},
   "outputs": [
    {
     "name": "stdout",
     "output_type": "stream",
     "text": [
      "2282.892424106598\n"
     ]
    }
   ],
   "source": [
    "# convert spark dataframe to pandas dataframe for pyplot histogram plot\n",
    "start = time.time()\n",
    "uber_gbtr = uber_gbtr_prediction.toPandas()\n",
    "ytaxi_gbtr = ytaxi_gbtr_prediction.toPandas()\n",
    "print(time.time()-start)"
   ]
  },
  {
   "cell_type": "code",
   "execution_count": 101,
   "id": "capital-leather",
   "metadata": {},
   "outputs": [],
   "source": [
    "import numpy as np\n",
    "import matplotlib.pyplot as plt\n",
    "\n",
    "# dataset size is too big for histogram graph (over 8 million), take a sample of dataset for graph\n",
    "# compare Uber and Yellow taxi sampled price\n",
    "sample_HVFH = uber_gbtr.sample(100000)\n",
    "sample_ytaxi = ytaxi_gbtr.sample(100000)\n"
   ]
  },
  {
   "cell_type": "code",
   "execution_count": 102,
   "id": "optical-suspension",
   "metadata": {},
   "outputs": [
    {
     "data": {
      "image/png": "[encoded data removed]",
      "text/plain": [
       "<Figure size 432x288 with 1 Axes>"
      ]
     },
     "metadata": {
      "needs_background": "light"
     },
     "output_type": "display_data"
    }
   ],
   "source": [
    "# plot the prediction cost of yellow taxi and Uber comparison\n",
    "plt.hist(sample_HVFH[\"prediction\"], bins=100, range=[0, 100],label = \"Uber\")\n",
    "plt.hist(sample_ytaxi[\"prediction\"], bins=100, range=[0, 100], label = \"Yellow Taxi\")\n",
    "\n",
    "# add graph lables\n",
    "plt.xlabel('Trip cost')\n",
    "plt.ylabel('Trip counts')\n",
    "plt.title('Sample Prediction September 2019 Uber vs Yellow Taxi Trip Cost')\n",
    "\n",
    "# indicate color of different dataset\n",
    "plt.legend(loc='upper right')\n",
    "\n",
    "# save graph for analysis\n",
    "plt.savefig(directory + '/plots/Uber_vs_Yellow_taxi_trip_cost_prediction')"
   ]
  },
  {
   "cell_type": "code",
   "execution_count": 103,
   "id": "subject-bacon",
   "metadata": {},
   "outputs": [
    {
     "data": {
      "image/png": "[encoded data removed]",
      "text/plain": [
       "<Figure size 432x288 with 1 Axes>"
      ]
     },
     "metadata": {
      "needs_background": "light"
     },
     "output_type": "display_data"
    }
   ],
   "source": [
    "# plot the True cost of yellow taxi and Uber comparison\n",
    "plt.hist(sample_HVFH[\"total_amount\"], bins=100, range=[0, 100],label = \"Uber\")\n",
    "plt.hist(sample_ytaxi[\"total_amount\"], bins=100, range=[0, 100], label = \"Yellow Taxi\")\n",
    "\n",
    "# add graph lables\n",
    "plt.xlabel('Trip cost')\n",
    "plt.ylabel('Trip counts')\n",
    "plt.title('Sample Ture September 2019 Uber vs Yellow Taxi Trip Cost')\n",
    "\n",
    "# indicate color of different dataset\n",
    "plt.legend(loc='upper right')\n",
    "\n",
    "# save graph for analysis\n",
    "plt.savefig(directory + '/plots/Uber_vs_Yellow_taxi_trip_cost_true')"
   ]
  },
  {
   "cell_type": "code",
   "execution_count": 43,
   "id": "amino-mouth",
   "metadata": {},
   "outputs": [],
   "source": [
    "# now use compute another model for Uber and yellow taxi, with common feature trip time and trip distance\n",
    "# and predict on the same dataset (Yellow taxi's dataset)\n",
    "\n",
    "features = 'features'\n",
    "uber_compare_input_cols = ['trip_miles', 'trip_time']\n",
    "ytaxi_compare_input_cols = ['trip_distance', 'trip_Time']\n",
    "\n",
    "Uber_compare_assembler = VectorAssembler(\n",
    "    # which column to combine\n",
    "    inputCols=uber_compare_input_cols, \n",
    "    # How should the combined columns be named\n",
    "    outputCol=features\n",
    ")\n",
    "\n",
    "ytaxi_compare_assembler = VectorAssembler(\n",
    "    # which column to combine\n",
    "    inputCols=ytaxi_compare_input_cols, \n",
    "    # How should the combined columns be named\n",
    "    outputCol=features\n",
    ")\n",
    "# remove any null value in the dataframe\n",
    "# even though this is done in preprocessing, double check to ensure that training is good\n",
    "Uber_compare_model = Uber_compare_assembler.transform(sdf_Uber)\n",
    "Ytaxi_compare_model = ytaxi_compare_assembler.transform(sdf_Ytaxi)\n",
    "\n"
   ]
  },
  {
   "cell_type": "code",
   "execution_count": 51,
   "id": "cellular-catch",
   "metadata": {},
   "outputs": [],
   "source": [
    "# preprocess for predictions for uber\n",
    "\n",
    "predict_compare_test = sdf_ytaxi_prediction.select(*ytaxi_compare_input_cols,'total_amount')\n",
    "\n",
    "compare_prediction_sdf = ytaxi_compare_assembler.transform(predict_compare_test)"
   ]
  },
  {
   "cell_type": "code",
   "execution_count": 53,
   "id": "genuine-engagement",
   "metadata": {},
   "outputs": [
    {
     "name": "stdout",
     "output_type": "stream",
     "text": [
      "281.6166160106659\n"
     ]
    }
   ],
   "source": [
    "# Use GBTR as it's better than linear regression\n",
    "\n",
    "start = time.time()\n",
    "\n",
    "# take a sample of the full Uber training data. 100 million trip records is too much for gradient boosted \n",
    "# decision tree model, take 10 million as sample, that is 0.1 of the full data\n",
    "# 0.1 represent the fraction of full trip data that is sampled\n",
    "uber_sample = Uber_compare_model.sample(False, 0.1)\n",
    "\n",
    "# train the model based on the sample\n",
    "uber_compare_gbtr_model = GBTRegressor(featuresCol='features', labelCol='total_amount', \n",
    "                               maxIter=10).fit(uber_sample)\n",
    "print(time.time()-start)"
   ]
  },
  {
   "cell_type": "code",
   "execution_count": 54,
   "id": "western-world",
   "metadata": {},
   "outputs": [
    {
     "name": "stdout",
     "output_type": "stream",
     "text": [
      "210.61018013954163\n"
     ]
    }
   ],
   "source": [
    "# Train a GBT model on yellow taxi's trip data\n",
    "start = time.time()\n",
    "\n",
    "# take a sample of the full yellow taxi training data. 50 million trip records is too much for gradient \n",
    "# boosted decision tree model, take 10 million as sample, that is 0.2 of the full data\n",
    "# 0.2 represent the fraction of full trip data that is sampled\n",
    "ytaxi_sample = Ytaxi_compare_model.sample(False, 0.2)\n",
    "\n",
    "# train the model based on the sample\n",
    "ytaxi_compare_gbtr_model = GBTRegressor(featuresCol='features', labelCol='total_amount', \n",
    "                               maxIter=10).fit(ytaxi_sample)\n",
    "print(time.time()-start)"
   ]
  },
  {
   "cell_type": "code",
   "execution_count": null,
   "id": "mighty-attitude",
   "metadata": {},
   "outputs": [],
   "source": [
    "# predict based on the same data, with different model"
   ]
  },
  {
   "cell_type": "code",
   "execution_count": 55,
   "id": "perfect-bicycle",
   "metadata": {},
   "outputs": [],
   "source": [
    "# obtain linear regression prediction for Uber\n",
    "compare_uber_gbtr_prediction = uber_compare_gbtr_model.transform(compare_prediction_sdf)\n",
    "compare_ytaxi_gbtr_prediction = ytaxi_compare_gbtr_model.transform(compare_prediction_sdf)"
   ]
  },
  {
   "cell_type": "code",
   "execution_count": 56,
   "id": "written-demand",
   "metadata": {},
   "outputs": [
    {
     "data": {
      "text/html": [
       "<table border='1'>\n",
       "<tr><th>trip_distance</th><th>trip_Time</th><th>total_amount</th><th>features</th><th>prediction</th></tr>\n",
       "<tr><td>2.0</td><td>1138</td><td>16.8</td><td>[2.0,1138.0]</td><td>15.801850162727861</td></tr>\n",
       "<tr><td>5.5</td><td>1717</td><td>26.3</td><td>[5.5,1717.0]</td><td>23.752076198487867</td></tr>\n",
       "<tr><td>2.9</td><td>4</td><td>3.8</td><td>[2.9,4.0]</td><td>7.475622896774754</td></tr>\n",
       "<tr><td>1.5</td><td>325</td><td>8.3</td><td>[1.5,325.0]</td><td>7.424086369117854</td></tr>\n",
       "<tr><td>8.3</td><td>2195</td><td>39.96</td><td>[8.3,2195.0]</td><td>35.2749846816146</td></tr>\n",
       "</table>\n"
      ],
      "text/plain": [
       "+-------------+---------+------------+------------+------------------+\n",
       "|trip_distance|trip_Time|total_amount|    features|        prediction|\n",
       "+-------------+---------+------------+------------+------------------+\n",
       "|          2.0|     1138|        16.8|[2.0,1138.0]|15.801850162727861|\n",
       "|          5.5|     1717|        26.3|[5.5,1717.0]|23.752076198487867|\n",
       "|          2.9|        4|         3.8|   [2.9,4.0]| 7.475622896774754|\n",
       "|          1.5|      325|         8.3| [1.5,325.0]| 7.424086369117854|\n",
       "|          8.3|     2195|       39.96|[8.3,2195.0]|  35.2749846816146|\n",
       "+-------------+---------+------------+------------+------------------+"
      ]
     },
     "execution_count": 56,
     "metadata": {},
     "output_type": "execute_result"
    }
   ],
   "source": [
    "compare_uber_gbtr_prediction.limit(5)"
   ]
  },
  {
   "cell_type": "code",
   "execution_count": 59,
   "id": "similar-parks",
   "metadata": {},
   "outputs": [
    {
     "data": {
      "text/html": [
       "<table border='1'>\n",
       "<tr><th>trip_distance</th><th>trip_Time</th><th>total_amount</th><th>features</th><th>prediction</th></tr>\n",
       "<tr><td>2.0</td><td>1138</td><td>16.8</td><td>[2.0,1138.0]</td><td>17.98673668319054</td></tr>\n",
       "<tr><td>5.5</td><td>1717</td><td>26.3</td><td>[5.5,1717.0]</td><td>27.09588466437247</td></tr>\n",
       "<tr><td>2.9</td><td>4</td><td>3.8</td><td>[2.9,4.0]</td><td>24.028469957721285</td></tr>\n",
       "<tr><td>1.5</td><td>325</td><td>8.3</td><td>[1.5,325.0]</td><td>11.874977632631458</td></tr>\n",
       "<tr><td>8.3</td><td>2195</td><td>39.96</td><td>[8.3,2195.0]</td><td>43.84441296317804</td></tr>\n",
       "</table>\n"
      ],
      "text/plain": [
       "+-------------+---------+------------+------------+------------------+\n",
       "|trip_distance|trip_Time|total_amount|    features|        prediction|\n",
       "+-------------+---------+------------+------------+------------------+\n",
       "|          2.0|     1138|        16.8|[2.0,1138.0]| 17.98673668319054|\n",
       "|          5.5|     1717|        26.3|[5.5,1717.0]| 27.09588466437247|\n",
       "|          2.9|        4|         3.8|   [2.9,4.0]|24.028469957721285|\n",
       "|          1.5|      325|         8.3| [1.5,325.0]|11.874977632631458|\n",
       "|          8.3|     2195|       39.96|[8.3,2195.0]| 43.84441296317804|\n",
       "+-------------+---------+------------+------------+------------------+"
      ]
     },
     "execution_count": 59,
     "metadata": {},
     "output_type": "execute_result"
    }
   ],
   "source": [
    "compare_ytaxi_gbtr_prediction.limit(5)"
   ]
  },
  {
   "cell_type": "code",
   "execution_count": 110,
   "id": "dried-borough",
   "metadata": {},
   "outputs": [
    {
     "name": "stdout",
     "output_type": "stream",
     "text": [
      "Root Mean Squared Error (RMSE) on Uber's trip data = 7.61719\n"
     ]
    }
   ],
   "source": [
    "# evaluate Uber's GBTR on rmse\n",
    "uber_gbtr_compare_rmse = rmse_evaluator.evaluate(compare_uber_gbtr_prediction)\n",
    "print(\"Root Mean Squared Error (RMSE) on Uber's trip data = %g\" % uber_gbtr_compare_rmse)"
   ]
  },
  {
   "cell_type": "code",
   "execution_count": 111,
   "id": "labeled-absence",
   "metadata": {},
   "outputs": [
    {
     "name": "stdout",
     "output_type": "stream",
     "text": [
      "R Squared (R^2) on Yellow taxi's trip data = 0.730923\n"
     ]
    }
   ],
   "source": [
    "# evaluate Uber's GBTR on r-squared\n",
    "uber_gbtr_compare_r2 = r2_evaluator.evaluate(compare_uber_gbtr_prediction)\n",
    "print(\"R Squared (R^2) on Yellow taxi's trip data = %g\" % uber_gbtr_compare_r2)"
   ]
  },
  {
   "cell_type": "code",
   "execution_count": 112,
   "id": "formed-bennett",
   "metadata": {},
   "outputs": [
    {
     "name": "stdout",
     "output_type": "stream",
     "text": [
      "Root Mean Squared Error (RMSE) on Yellow taxi's trip data = 5.53418\n"
     ]
    }
   ],
   "source": [
    "# evaluate yellow taxi's GBTR on rmse\n",
    "ytaxi_gbtr_compare_rmse = rmse_evaluator.evaluate(compare_ytaxi_gbtr_prediction)\n",
    "print(\"Root Mean Squared Error (RMSE) on Yellow taxi's trip data = %g\" % ytaxi_gbtr_compare_rmse)"
   ]
  },
  {
   "cell_type": "code",
   "execution_count": 113,
   "id": "typical-complaint",
   "metadata": {},
   "outputs": [
    {
     "name": "stdout",
     "output_type": "stream",
     "text": [
      "R Squared (R^2) on Yellow taxi's trip data = 0.857966\n"
     ]
    }
   ],
   "source": [
    "# evaluate yellow taxi's GBTR on r-squared\n",
    "ytaxi_gbtr_compare_r2 = r2_evaluator.evaluate(compare_ytaxi_gbtr_prediction)\n",
    "print(\"R Squared (R^2) on Yellow taxi's trip data = %g\" % ytaxi_gbtr_compare_r2)"
   ]
  },
  {
   "cell_type": "code",
   "execution_count": 115,
   "id": "hazardous-omega",
   "metadata": {},
   "outputs": [
    {
     "data": {
      "image/png": "[encoded data removed]",
      "text/plain": [
       "<Figure size 432x288 with 1 Axes>"
      ]
     },
     "metadata": {
      "needs_background": "light"
     },
     "output_type": "display_data"
    }
   ],
   "source": [
    "# create table for evaluation metrics\n",
    "# set up row and column names\n",
    "row = ['Uber Gradient Boosted Tree Regression',\n",
    "      'Yellow taxi Gradient Boosted Tree Regression']\n",
    "column = ['R-squared', 'Root mean square error']\n",
    "# create a plot\n",
    "fig, ax = plt.subplots(1,1)\n",
    "ax.axis('off')\n",
    "# allocate data\n",
    "compare_celltext = [[uber_gbtr_compare_r2,uber_gbtr_compare_rmse],\n",
    "            [ytaxi_gbtr_compare_r2,ytaxi_gbtr_compare_rmse]]\n",
    "table = ax.table(cellText=compare_celltext, rowLabels=row, colLabels=column,loc='top') \n",
    "\n",
    "\n",
    "# remove surrounding empty spaces for the table\n",
    "bbox = table.get_window_extent(fig.canvas.get_renderer())\n",
    "bbox_inches = bbox.transformed(fig.dpi_scale_trans.inverted())\n",
    "# save the table figure\n",
    "plt.savefig(directory + '/plots/Uber_vs_ytaxi_prediction_comparison_evaluation_metric', dpi=300, bbox_inches=bbox_inches)"
   ]
  },
  {
   "cell_type": "code",
   "execution_count": 60,
   "id": "trying-president",
   "metadata": {},
   "outputs": [
    {
     "name": "stdout",
     "output_type": "stream",
     "text": [
      "1578.5251603126526\n"
     ]
    }
   ],
   "source": [
    "# convert to pandas dataframe for pyplot histogram plot\n",
    "start = time.time()\n",
    "compare_uber_gbtr = compare_uber_gbtr_prediction.toPandas()\n",
    "compare_ytaxi_gbtr = compare_ytaxi_gbtr_prediction.toPandas()\n",
    "print(time.time()-start)"
   ]
  },
  {
   "cell_type": "code",
   "execution_count": 62,
   "id": "stunning-thriller",
   "metadata": {},
   "outputs": [
    {
     "data": {
      "text/html": [
       "<div>\n",
       "<style scoped>\n",
       "    .dataframe tbody tr th:only-of-type {\n",
       "        vertical-align: middle;\n",
       "    }\n",
       "\n",
       "    .dataframe tbody tr th {\n",
       "        vertical-align: top;\n",
       "    }\n",
       "\n",
       "    .dataframe thead th {\n",
       "        text-align: right;\n",
       "    }\n",
       "</style>\n",
       "<table border=\"1\" class=\"dataframe\">\n",
       "  <thead>\n",
       "    <tr style=\"text-align: right;\">\n",
       "      <th></th>\n",
       "      <th>trip_distance</th>\n",
       "      <th>trip_Time</th>\n",
       "      <th>total_amount</th>\n",
       "      <th>features</th>\n",
       "      <th>prediction</th>\n",
       "    </tr>\n",
       "  </thead>\n",
       "  <tbody>\n",
       "    <tr>\n",
       "      <th>0</th>\n",
       "      <td>2.00</td>\n",
       "      <td>1138</td>\n",
       "      <td>16.80</td>\n",
       "      <td>[2.0, 1138.0]</td>\n",
       "      <td>15.801850</td>\n",
       "    </tr>\n",
       "    <tr>\n",
       "      <th>1</th>\n",
       "      <td>5.50</td>\n",
       "      <td>1717</td>\n",
       "      <td>26.30</td>\n",
       "      <td>[5.5, 1717.0]</td>\n",
       "      <td>23.752076</td>\n",
       "    </tr>\n",
       "    <tr>\n",
       "      <th>2</th>\n",
       "      <td>2.90</td>\n",
       "      <td>4</td>\n",
       "      <td>3.80</td>\n",
       "      <td>[2.9, 4.0]</td>\n",
       "      <td>7.475623</td>\n",
       "    </tr>\n",
       "    <tr>\n",
       "      <th>3</th>\n",
       "      <td>1.50</td>\n",
       "      <td>325</td>\n",
       "      <td>8.30</td>\n",
       "      <td>[1.5, 325.0]</td>\n",
       "      <td>7.424086</td>\n",
       "    </tr>\n",
       "    <tr>\n",
       "      <th>4</th>\n",
       "      <td>8.30</td>\n",
       "      <td>2195</td>\n",
       "      <td>39.96</td>\n",
       "      <td>[8.3, 2195.0]</td>\n",
       "      <td>35.274985</td>\n",
       "    </tr>\n",
       "    <tr>\n",
       "      <th>...</th>\n",
       "      <td>...</td>\n",
       "      <td>...</td>\n",
       "      <td>...</td>\n",
       "      <td>...</td>\n",
       "      <td>...</td>\n",
       "    </tr>\n",
       "    <tr>\n",
       "      <th>6334161</th>\n",
       "      <td>1.54</td>\n",
       "      <td>467</td>\n",
       "      <td>14.12</td>\n",
       "      <td>[1.54, 467.0]</td>\n",
       "      <td>8.822288</td>\n",
       "    </tr>\n",
       "    <tr>\n",
       "      <th>6334162</th>\n",
       "      <td>2.06</td>\n",
       "      <td>506</td>\n",
       "      <td>13.80</td>\n",
       "      <td>[2.06, 506.0]</td>\n",
       "      <td>8.822288</td>\n",
       "    </tr>\n",
       "    <tr>\n",
       "      <th>6334163</th>\n",
       "      <td>0.96</td>\n",
       "      <td>353</td>\n",
       "      <td>12.25</td>\n",
       "      <td>[0.96, 353.0]</td>\n",
       "      <td>7.424086</td>\n",
       "    </tr>\n",
       "    <tr>\n",
       "      <th>6334164</th>\n",
       "      <td>0.82</td>\n",
       "      <td>219</td>\n",
       "      <td>10.56</td>\n",
       "      <td>[0.82, 219.0]</td>\n",
       "      <td>7.424086</td>\n",
       "    </tr>\n",
       "    <tr>\n",
       "      <th>6334165</th>\n",
       "      <td>4.34</td>\n",
       "      <td>905</td>\n",
       "      <td>24.12</td>\n",
       "      <td>[4.34, 905.0]</td>\n",
       "      <td>15.791673</td>\n",
       "    </tr>\n",
       "  </tbody>\n",
       "</table>\n",
       "<p>6334166 rows × 5 columns</p>\n",
       "</div>"
      ],
      "text/plain": [
       "         trip_distance  trip_Time  total_amount       features  prediction\n",
       "0                 2.00       1138         16.80  [2.0, 1138.0]   15.801850\n",
       "1                 5.50       1717         26.30  [5.5, 1717.0]   23.752076\n",
       "2                 2.90          4          3.80     [2.9, 4.0]    7.475623\n",
       "3                 1.50        325          8.30   [1.5, 325.0]    7.424086\n",
       "4                 8.30       2195         39.96  [8.3, 2195.0]   35.274985\n",
       "...                ...        ...           ...            ...         ...\n",
       "6334161           1.54        467         14.12  [1.54, 467.0]    8.822288\n",
       "6334162           2.06        506         13.80  [2.06, 506.0]    8.822288\n",
       "6334163           0.96        353         12.25  [0.96, 353.0]    7.424086\n",
       "6334164           0.82        219         10.56  [0.82, 219.0]    7.424086\n",
       "6334165           4.34        905         24.12  [4.34, 905.0]   15.791673\n",
       "\n",
       "[6334166 rows x 5 columns]"
      ]
     },
     "execution_count": 62,
     "metadata": {},
     "output_type": "execute_result"
    }
   ],
   "source": [
    "compare_uber_gbtr"
   ]
  },
  {
   "cell_type": "code",
   "execution_count": 119,
   "id": "buried-contrast",
   "metadata": {},
   "outputs": [
    {
     "data": {
      "image/png": "[encoded data removed]",
      "text/plain": [
       "<Figure size 432x288 with 1 Axes>"
      ]
     },
     "metadata": {
      "needs_background": "light"
     },
     "output_type": "display_data"
    }
   ],
   "source": [
    "plt.hist(compare_uber_gbtr[\"prediction\"], bins=100, range=[0, 100],label = \"Uber\")\n",
    "plt.hist(compare_ytaxi_gbtr[\"prediction\"], bins=100, range=[0, 100], label = \"Yellow Taxi\")\n",
    "\n",
    "# add graph lables\n",
    "plt.xlabel('Trip cost')\n",
    "plt.ylabel('Trip counts')\n",
    "plt.title('September Uber vs Yellow Taxi Trip Cost Comparison')\n",
    "\n",
    "# indicate color of different dataset\n",
    "plt.legend(loc='upper right')\n",
    "\n",
    "# save graph for analysis\n",
    "plt.savefig(directory + '/plots/Uber_vs_Yellow_taxi_trip_cost_comparison')"
   ]
  },
  {
   "cell_type": "code",
   "execution_count": 114,
   "id": "floating-southeast",
   "metadata": {},
   "outputs": [
    {
     "data": {
      "image/png": "[encoded data removed]",
      "text/plain": [
       "<Figure size 432x288 with 1 Axes>"
      ]
     },
     "metadata": {
      "needs_background": "light"
     },
     "output_type": "display_data"
    }
   ],
   "source": [
    "# create table for evaluation metrics, compare between Linear Regression model and Gradient Boosted\n",
    "# Tree model\n",
    "# set up row and column names\n",
    "row = ['Uber Linear Regression', 'Uber Gradient Boosted Tree Regression',\n",
    "      'Yellow taxi Linear Regression', 'Yellow taxi Gradient Boosted Tree Regression']\n",
    "column = ['R-squared', 'Root mean square error']\n",
    "\n",
    "# create a plot\n",
    "fig, ax = plt.subplots(1,1)\n",
    "ax.axis('off')\n",
    "# allocate data with column and match row\n",
    "celltext = [[uber_lr_r2,uber_lr_rmse],\n",
    "            [uber_gbtr_r2,uber_gbtr_rmse],\n",
    "            [ytaxi_lr_r2,ytaxi_lr_rmse], \n",
    "            [ytaxi_gbtr_r2,ytaxi_gbtr_rmse]\n",
    "            ]\n",
    "\n",
    "table = ax.table(cellText=celltext, rowLabels=row, colLabels=column,loc='top') \n",
    "\n",
    "\n",
    "# remove surrounding empty spaces for the table\n",
    "bbox = table.get_window_extent(fig.canvas.get_renderer())\n",
    "bbox_inches = bbox.transformed(fig.dpi_scale_trans.inverted())\n",
    "\n",
    "# save the table figure\n",
    "plt.savefig(directory + '/plots/Uber_vs_Yellow_taxi_evaluation_metric', dpi=300, bbox_inches=bbox_inches)"
   ]
  },
  {
   "cell_type": "code",
   "execution_count": 94,
   "id": "analyzed-pennsylvania",
   "metadata": {},
   "outputs": [
    {
     "data": {
      "text/plain": [
       "3.2874749428022483"
      ]
     },
     "execution_count": 94,
     "metadata": {},
     "output_type": "execute_result"
    }
   ],
   "source": [
    "# calculate mean cost different between Uber and Yellow taxi, with the same prediction dataset\n",
    "compare_ytaxi_gbtr[\"prediction\"].mean() - compare_uber_gbtr[\"prediction\"].mean()"
   ]
  }
 ],
 "metadata": {
  "kernelspec": {
   "display_name": "Python 3",
   "language": "python",
   "name": "python3"
  },
  "language_info": {
   "codemirror_mode": {
    "name": "ipython",
    "version": 3
   },
   "file_extension": ".py",
   "mimetype": "text/x-python",
   "name": "python",
   "nbconvert_exporter": "python",
   "pygments_lexer": "ipython3",
   "version": "3.9.2"
  }
 },
 "nbformat": 4,
 "nbformat_minor": 5
}
