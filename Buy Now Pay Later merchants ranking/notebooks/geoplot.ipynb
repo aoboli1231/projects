{
 "cells": [
  {
   "cell_type": "code",
   "execution_count": 1,
   "metadata": {},
   "outputs": [],
   "source": [
    "import geopandas as gpd\n",
    "import warnings \n",
    "import pandas as pd\n",
    "import folium\n",
    "\n",
    "warnings.filterwarnings(\"ignore\")"
   ]
  },
  {
   "cell_type": "code",
   "execution_count": 2,
   "metadata": {},
   "outputs": [],
   "source": [
    "regions = gpd.GeoDataFrame.from_file(\n",
    "    \"../data/tables/POA_2021_AUST_GDA2020_SHP/POA_2021_AUST_GDA2020.shp\"\n",
    ")\n"
   ]
  },
  {
   "cell_type": "code",
   "execution_count": 3,
   "metadata": {},
   "outputs": [],
   "source": [
    "regions = regions[regions[\"geometry\"] != None]\n",
    "regions['postcode'] = regions['POA_CODE21'].astype(int)"
   ]
  },
  {
   "cell_type": "code",
   "execution_count": 4,
   "metadata": {},
   "outputs": [],
   "source": [
    "trans_df = pd.concat([\n",
    "    pd.read_parquet(\"../data/tables/transactions_20210228_20210827_snapshot\"),\n",
    "    pd.read_parquet(\"../data/tables/transactions_20210828_20220227_snapshot\"),\n",
    "    pd.read_parquet(\"../data/tables/transactions_20220228_20220828_snapshot\")])"
   ]
  },
  {
   "cell_type": "code",
   "execution_count": 5,
   "metadata": {},
   "outputs": [],
   "source": [
    "trans_df = pd.merge(\n",
    "    trans_df,\n",
    "    pd.read_parquet(\"../data/tables/consumer_user_details.parquet\"),\n",
    "    on=\"user_id\"\n",
    ")"
   ]
  },
  {
   "cell_type": "code",
   "execution_count": 6,
   "metadata": {},
   "outputs": [],
   "source": [
    "consumer_df = pd.read_csv(\"../data/tables/tbl_consumer.csv\",sep=\"|\")"
   ]
  },
  {
   "cell_type": "code",
   "execution_count": 7,
   "metadata": {},
   "outputs": [],
   "source": [
    "con_postcode_count = consumer_df.groupby(\"postcode\")[\"name\"].count().reset_index().rename(columns={\"name\":\"count\"})\n"
   ]
  },
  {
   "cell_type": "code",
   "execution_count": 8,
   "metadata": {},
   "outputs": [],
   "source": [
    "trans_postcode_count = pd.merge(\n",
    "    trans_df.groupby(\"consumer_id\")[\"user_id\"].count().reset_index().rename(columns={\"user_id\":\"count\"}),\n",
    "    consumer_df[[\"consumer_id\",\"postcode\"]],\n",
    "    on=\"consumer_id\"\n",
    ").groupby(\"postcode\")[\"count\"].sum().reset_index()"
   ]
  },
  {
   "cell_type": "code",
   "execution_count": null,
   "metadata": {},
   "outputs": [],
   "source": [
    "# need to run locally, can't push to github due to file size\n",
    "tip_proportion = folium.Map(location=[-37.81, 144.95], tiles=\"Stamen Terrain\", zoom_start=10, control = True)\n",
    "\n",
    "tip_proportion = tip_proportion.add_child(folium.Choropleth(geo_data=regions, data = trans_postcode_count, \n",
    "                                            columns = ['postcode', 'count'],\n",
    "                                            key_on = 'properties.postcode',\n",
    "                                            fill_color = 'OrRd', name='choropleth'))\n",
    "\n",
    "tip_proportion.save('../plots/melbourne_postcode_average_transaction.html')\n",
    "tip_proportion"
   ]
  }
 ],
 "metadata": {
  "kernelspec": {
   "display_name": "Python 3",
   "language": "python",
   "name": "python3"
  },
  "language_info": {
   "codemirror_mode": {
    "name": "ipython",
    "version": 3
   },
   "file_extension": ".py",
   "mimetype": "text/x-python",
   "name": "python",
   "nbconvert_exporter": "python",
   "pygments_lexer": "ipython3",
   "version": "3.9.2"
  },
  "vscode": {
   "interpreter": {
    "hash": "8b547a52226fc5fe22fa6147a895ab8492f18b840e638a9d35222f35938a0abf"
   }
  }
 },
 "nbformat": 4,
 "nbformat_minor": 4
}
