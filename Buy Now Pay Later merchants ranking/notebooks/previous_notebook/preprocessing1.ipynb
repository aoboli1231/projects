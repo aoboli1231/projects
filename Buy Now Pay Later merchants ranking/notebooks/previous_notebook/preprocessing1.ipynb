{
 "cells": [
  {
   "cell_type": "markdown",
   "id": "a1d0c958",
   "metadata": {},
   "source": [
    "## Buy Now, Pay Later Project\n",
    "### MAST30034: Applied Data Science \n",
    "#### Notebook 1: Preprocessing Data"
   ]
  },
  {
   "cell_type": "code",
   "execution_count": 1,
   "id": "ca4a9746",
   "metadata": {},
   "outputs": [
    {
     "name": "stdout",
     "output_type": "stream",
     "text": [
      "22/09/27 19:52:12 WARN Utils: Your hostname, DESKTOP-G0KJF2G resolves to a loopback address: 127.0.1.1; using 172.31.175.79 instead (on interface eth0)\n",
      "22/09/27 19:52:12 WARN Utils: Set SPARK_LOCAL_IP if you need to bind to another address\n"
     ]
    },
    {
     "name": "stderr",
     "output_type": "stream",
     "text": [
      "Setting default log level to \"WARN\".\n",
      "To adjust logging level use sc.setLogLevel(newLevel). For SparkR, use setLogLevel(newLevel).\n"
     ]
    },
    {
     "name": "stdout",
     "output_type": "stream",
     "text": [
      "22/09/27 19:52:13 WARN NativeCodeLoader: Unable to load native-hadoop library for your platform... using builtin-java classes where applicable\n"
     ]
    }
   ],
   "source": [
    "# create modeling spark session\n",
    "from pyspark.sql import SparkSession\n",
    "\n",
    "spark = (\n",
    "    SparkSession.builder.appName('Project 2')\n",
    "    .config('spark.sql.repl.eagerEval.enabled', True) \n",
    "    .config('spark.sql.parquet.cacheMetadata', 'true')\n",
    "    .config(\"spark.sql.session.timeZone\", \"Etc/UTC\")\n",
    "    .config(\"spark.executor.memory\", \"8g\")\n",
    "    .config(\"spark.driver.memory\", \"8g\")\n",
    "    .getOrCreate()\n",
    ")"
   ]
  },
  {
   "cell_type": "markdown",
   "id": "e5534a10",
   "metadata": {},
   "source": [
    "#### Merchant Dataset:"
   ]
  },
  {
   "cell_type": "code",
   "execution_count": 2,
   "id": "informal-fishing",
   "metadata": {},
   "outputs": [
    {
     "name": "stderr",
     "output_type": "stream",
     "text": [
      "                                                                                \r"
     ]
    },
    {
     "data": {
      "text/html": [
       "<table border='1'>\n",
       "<tr><th>name</th><th>tags</th><th>merchant_abn</th></tr>\n",
       "<tr><td>Felis Limited</td><td>((furniture, home...</td><td>10023283211</td></tr>\n",
       "<tr><td>Arcu Ac Orci Corp...</td><td>([cable, satellit...</td><td>10142254217</td></tr>\n",
       "<tr><td>Nunc Sed Company</td><td>([jewelry, watch,...</td><td>10165489824</td></tr>\n",
       "<tr><td>Ultricies Digniss...</td><td>([wAtch, clock, a...</td><td>10187291046</td></tr>\n",
       "<tr><td>Enim Condimentum PC</td><td>([music shops - m...</td><td>10192359162</td></tr>\n",
       "</table>\n"
      ],
      "text/plain": [
       "+--------------------+--------------------+------------+\n",
       "|                name|                tags|merchant_abn|\n",
       "+--------------------+--------------------+------------+\n",
       "|       Felis Limited|((furniture, home...| 10023283211|\n",
       "|Arcu Ac Orci Corp...|([cable, satellit...| 10142254217|\n",
       "|    Nunc Sed Company|([jewelry, watch,...| 10165489824|\n",
       "|Ultricies Digniss...|([wAtch, clock, a...| 10187291046|\n",
       "| Enim Condimentum PC|([music shops - m...| 10192359162|\n",
       "+--------------------+--------------------+------------+"
      ]
     },
     "execution_count": 2,
     "metadata": {},
     "output_type": "execute_result"
    }
   ],
   "source": [
    "# read merchants data\n",
    "merchants = spark.read.parquet('../data/tables/tbl_merchants.parquet')\n",
    "merchants.limit(5)"
   ]
  },
  {
   "cell_type": "code",
   "execution_count": 3,
   "id": "growing-rally",
   "metadata": {},
   "outputs": [],
   "source": [
    "# In the coloumn \"tags\", tags, renueve level and \"take_rate\" are seperated by either \"), (\" or \"], [\", replace these by ### for splitting\n",
    "from pyspark.sql import functions as F\n",
    "merchants = merchants.withColumn(\"tags\",F.regexp_replace(F.regexp_replace(\n",
    "    F.col(\"tags\"),\"\\){1},{1}\\s?\\(\",\"###\"),\"\\]{1},{1}\\s?\\[\",\"###\"))\n"
   ]
  },
  {
   "cell_type": "code",
   "execution_count": 4,
   "id": "desirable-authentication",
   "metadata": {},
   "outputs": [
    {
     "name": "stdout",
     "output_type": "stream",
     "text": [
      "+---------------------------------------------------------------------------------------------------------------+\n",
      "|tags                                                                                                           |\n",
      "+---------------------------------------------------------------------------------------------------------------+\n",
      "|((furniture, home furnishings and equipment shops, and manufacturers, except appliances###e###take rate: 0.18))|\n",
      "|([cable, satellite, and otHer pay television and radio services###b###take rate: 4.22])                        |\n",
      "|([jewelry, watch, clock, and silverware shops###b###take rate: 4.40])                                          |\n",
      "|([wAtch, clock, and jewelry repair shops###b###take rate: 3.29])                                               |\n",
      "|([music shops - musical instruments, pianos, and sheet music###a###take rate: 6.33])                           |\n",
      "+---------------------------------------------------------------------------------------------------------------+\n",
      "only showing top 5 rows\n",
      "\n"
     ]
    }
   ],
   "source": [
    "# check if correctly replaced\n",
    "merchants.select(\"tags\").show(5, False)"
   ]
  },
  {
   "cell_type": "code",
   "execution_count": 4,
   "id": "liberal-professor",
   "metadata": {},
   "outputs": [],
   "source": [
    "# split tags data to three columns, denoted as business_area, revenue_level and take_rate\n",
    "split_merchants = merchants.withColumn(\"business_area\", F.split(F.col(\"tags\"), \"###\").getItem(0))\\\n",
    "                           .withColumn(\"revenue_level\", F.split(F.col(\"tags\"), \"###\").getItem(1))\\\n",
    "                           .withColumn(\"take_rate\", F.split(F.col(\"tags\"), \"###\").getItem(2))"
   ]
  },
  {
   "cell_type": "code",
   "execution_count": 6,
   "id": "continuous-yemen",
   "metadata": {},
   "outputs": [
    {
     "data": {
      "text/html": [
       "<table border='1'>\n",
       "<tr><th>name</th><th>tags</th><th>merchant_abn</th><th>business_area</th><th>revenue_level</th><th>take_rate</th></tr>\n",
       "<tr><td>Felis Limited</td><td>((furniture, home...</td><td>10023283211</td><td>((furniture, home...</td><td>e</td><td>take rate: 0.18))</td></tr>\n",
       "<tr><td>Arcu Ac Orci Corp...</td><td>([cable, satellit...</td><td>10142254217</td><td>([cable, satellit...</td><td>b</td><td>take rate: 4.22])</td></tr>\n",
       "<tr><td>Nunc Sed Company</td><td>([jewelry, watch,...</td><td>10165489824</td><td>([jewelry, watch,...</td><td>b</td><td>take rate: 4.40])</td></tr>\n",
       "<tr><td>Ultricies Digniss...</td><td>([wAtch, clock, a...</td><td>10187291046</td><td>([wAtch, clock, a...</td><td>b</td><td>take rate: 3.29])</td></tr>\n",
       "<tr><td>Enim Condimentum PC</td><td>([music shops - m...</td><td>10192359162</td><td>([music shops - m...</td><td>a</td><td>take rate: 6.33])</td></tr>\n",
       "</table>\n"
      ],
      "text/plain": [
       "+--------------------+--------------------+------------+--------------------+-------------+-----------------+\n",
       "|                name|                tags|merchant_abn|       business_area|revenue_level|        take_rate|\n",
       "+--------------------+--------------------+------------+--------------------+-------------+-----------------+\n",
       "|       Felis Limited|((furniture, home...| 10023283211|((furniture, home...|            e|take rate: 0.18))|\n",
       "|Arcu Ac Orci Corp...|([cable, satellit...| 10142254217|([cable, satellit...|            b|take rate: 4.22])|\n",
       "|    Nunc Sed Company|([jewelry, watch,...| 10165489824|([jewelry, watch,...|            b|take rate: 4.40])|\n",
       "|Ultricies Digniss...|([wAtch, clock, a...| 10187291046|([wAtch, clock, a...|            b|take rate: 3.29])|\n",
       "| Enim Condimentum PC|([music shops - m...| 10192359162|([music shops - m...|            a|take rate: 6.33])|\n",
       "+--------------------+--------------------+------------+--------------------+-------------+-----------------+"
      ]
     },
     "execution_count": 6,
     "metadata": {},
     "output_type": "execute_result"
    }
   ],
   "source": [
    "split_merchants.limit(5)"
   ]
  },
  {
   "cell_type": "code",
   "execution_count": 5,
   "id": "challenging-insurance",
   "metadata": {},
   "outputs": [],
   "source": [
    "# remove remaining ()[] punctuation in column business_area and take_rate\n",
    "\n",
    "# obtain take rate in numeric form from take_rate column, \n",
    "# in the form of take rate: d.dd, therefore item 1 is the numeric value\n",
    "\n",
    "# convert string in business_area to lower form\n",
    "\n",
    "# convert string in revenue_level to lower form, just in case if there's a typo\n",
    "\n",
    "curated_merchant = split_merchants\\\n",
    "            .withColumn(\"business_area\", F.regexp_replace(\"business_area\", \"[\\[\\]\\(\\)]\", \"\"))\\\n",
    "            .withColumn(\"take_rate\", F.regexp_replace(\"take_rate\", \"[\\[\\]\\(\\)]\", \"\"))\\\n",
    "            .withColumn(\"take_rate\", F.split(F.col(\"take_rate\"), \":\").getItem(1))\\\n",
    "            .withColumn(\"business_area\", F.lower(F.col('business_area')))\\\n",
    "            .withColumn(\"revenue_level\", F.lower(F.col('revenue_level')))\n",
    "\n",
    "\n",
    "final_merchant = curated_merchant.drop('tags')"
   ]
  },
  {
   "cell_type": "code",
   "execution_count": 8,
   "id": "micro-daisy",
   "metadata": {},
   "outputs": [
    {
     "data": {
      "text/html": [
       "<table border='1'>\n",
       "<tr><th>name</th><th>merchant_abn</th><th>business_area</th><th>revenue_level</th><th>take_rate</th></tr>\n",
       "<tr><td>Felis Limited</td><td>10023283211</td><td>furniture, home f...</td><td>e</td><td> 0.18</td></tr>\n",
       "<tr><td>Arcu Ac Orci Corp...</td><td>10142254217</td><td>cable, satellite,...</td><td>b</td><td> 4.22</td></tr>\n",
       "<tr><td>Nunc Sed Company</td><td>10165489824</td><td>jewelry, watch, c...</td><td>b</td><td> 4.40</td></tr>\n",
       "<tr><td>Ultricies Digniss...</td><td>10187291046</td><td>watch, clock, and...</td><td>b</td><td> 3.29</td></tr>\n",
       "<tr><td>Enim Condimentum PC</td><td>10192359162</td><td>music shops - mus...</td><td>a</td><td> 6.33</td></tr>\n",
       "</table>\n"
      ],
      "text/plain": [
       "+--------------------+------------+--------------------+-------------+---------+\n",
       "|                name|merchant_abn|       business_area|revenue_level|take_rate|\n",
       "+--------------------+------------+--------------------+-------------+---------+\n",
       "|       Felis Limited| 10023283211|furniture, home f...|            e|     0.18|\n",
       "|Arcu Ac Orci Corp...| 10142254217|cable, satellite,...|            b|     4.22|\n",
       "|    Nunc Sed Company| 10165489824|jewelry, watch, c...|            b|     4.40|\n",
       "|Ultricies Digniss...| 10187291046|watch, clock, and...|            b|     3.29|\n",
       "| Enim Condimentum PC| 10192359162|music shops - mus...|            a|     6.33|\n",
       "+--------------------+------------+--------------------+-------------+---------+"
      ]
     },
     "execution_count": 8,
     "metadata": {},
     "output_type": "execute_result"
    }
   ],
   "source": [
    "final_merchant.limit(5)"
   ]
  },
  {
   "cell_type": "code",
   "execution_count": 9,
   "id": "official-floor",
   "metadata": {},
   "outputs": [
    {
     "data": {
      "text/html": [
       "<table border='1'>\n",
       "<tr><th>revenue_level</th><th>count</th></tr>\n",
       "<tr><td>e</td><td>53</td></tr>\n",
       "<tr><td>d</td><td>98</td></tr>\n",
       "<tr><td>c</td><td>922</td></tr>\n",
       "<tr><td>b</td><td>1351</td></tr>\n",
       "<tr><td>a</td><td>1602</td></tr>\n",
       "</table>\n"
      ],
      "text/plain": [
       "+-------------+-----+\n",
       "|revenue_level|count|\n",
       "+-------------+-----+\n",
       "|            e|   53|\n",
       "|            d|   98|\n",
       "|            c|  922|\n",
       "|            b| 1351|\n",
       "|            a| 1602|\n",
       "+-------------+-----+"
      ]
     },
     "execution_count": 9,
     "metadata": {},
     "output_type": "execute_result"
    }
   ],
   "source": [
    "# check if revenue_level match levels (5 types) and count for the number of merchants in each level\n",
    "final_merchant.groupby('revenue_level').count()\n"
   ]
  },
  {
   "cell_type": "code",
   "execution_count": 10,
   "id": "suspected-separate",
   "metadata": {},
   "outputs": [
    {
     "data": {
      "text/html": [
       "<table border='1'>\n",
       "<tr><th>business_area</th><th>count</th></tr>\n",
       "<tr><td>antique shops -  ...</td><td>3</td></tr>\n",
       "<tr><td>antique shops - s...</td><td>2</td></tr>\n",
       "<tr><td>antique shops - s...</td><td>124</td></tr>\n",
       "<tr><td>art dealers and  ...</td><td>1</td></tr>\n",
       "<tr><td>art dealers and g...</td><td>111</td></tr>\n",
       "<tr><td>artist supply  an...</td><td>3</td></tr>\n",
       "<tr><td>artist supply and...</td><td>2</td></tr>\n",
       "<tr><td>artist supply and...</td><td>1</td></tr>\n",
       "<tr><td>artist supply and...</td><td>187</td></tr>\n",
       "<tr><td>bicycle  shops - ...</td><td>1</td></tr>\n",
       "<tr><td>bicycle shops  - ...</td><td>3</td></tr>\n",
       "<tr><td>bicycle shops -  ...</td><td>2</td></tr>\n",
       "<tr><td>bicycle shops - s...</td><td>1</td></tr>\n",
       "<tr><td>bicycle shops - s...</td><td>163</td></tr>\n",
       "<tr><td>books,  periodica...</td><td>3</td></tr>\n",
       "<tr><td>books, periodical...</td><td>5</td></tr>\n",
       "<tr><td>books, periodical...</td><td>5</td></tr>\n",
       "<tr><td>books, periodical...</td><td>151</td></tr>\n",
       "<tr><td>cable,  satellite...</td><td>3</td></tr>\n",
       "<tr><td>cable, satellite,...</td><td>2</td></tr>\n",
       "</table>\n",
       "only showing top 20 rows\n"
      ],
      "text/plain": [
       "+--------------------+-----+\n",
       "|       business_area|count|\n",
       "+--------------------+-----+\n",
       "|antique shops -  ...|    3|\n",
       "|antique shops - s...|    2|\n",
       "|antique shops - s...|  124|\n",
       "|art dealers and  ...|    1|\n",
       "|art dealers and g...|  111|\n",
       "|artist supply  an...|    3|\n",
       "|artist supply and...|    2|\n",
       "|artist supply and...|    1|\n",
       "|artist supply and...|  187|\n",
       "|bicycle  shops - ...|    1|\n",
       "|bicycle shops  - ...|    3|\n",
       "|bicycle shops -  ...|    2|\n",
       "|bicycle shops - s...|    1|\n",
       "|bicycle shops - s...|  163|\n",
       "|books,  periodica...|    3|\n",
       "|books, periodical...|    5|\n",
       "|books, periodical...|    5|\n",
       "|books, periodical...|  151|\n",
       "|cable,  satellite...|    3|\n",
       "|cable, satellite,...|    2|\n",
       "+--------------------+-----+\n",
       "only showing top 20 rows"
      ]
     },
     "execution_count": 10,
     "metadata": {},
     "output_type": "execute_result"
    }
   ],
   "source": [
    "# check for different business area count \n",
    "final_merchant.groupby('business_area').count().sort(\"business_area\")\n"
   ]
  },
  {
   "cell_type": "markdown",
   "id": "8dfc27d3",
   "metadata": {},
   "source": [
    "Noticed that there are several entries which have the same beginning of business area, to check if they are indeed the same, we convert the \"business_area\" as list and print them as follows"
   ]
  },
  {
   "cell_type": "code",
   "execution_count": 6,
   "id": "31497815",
   "metadata": {},
   "outputs": [
    {
     "data": {
      "text/plain": [
       "[Row(business_area='antique shops -  sales, repairs, and restoration services'),\n",
       " Row(business_area='antique shops - sales,  repairs, and restoration services'),\n",
       " Row(business_area='antique shops - sales, repairs, and restoration services'),\n",
       " Row(business_area='art dealers and  galleries'),\n",
       " Row(business_area='art dealers and galleries'),\n",
       " Row(business_area='artist supply  and craft shops'),\n",
       " Row(business_area='artist supply and  craft shops'),\n",
       " Row(business_area='artist supply and craft  shops'),\n",
       " Row(business_area='artist supply and craft shops'),\n",
       " Row(business_area='bicycle  shops - sales and service'),\n",
       " Row(business_area='bicycle shops  - sales and service'),\n",
       " Row(business_area='bicycle shops -  sales and service'),\n",
       " Row(business_area='bicycle shops - sales and  service'),\n",
       " Row(business_area='bicycle shops - sales and service'),\n",
       " Row(business_area='books,  periodicals, and newspapers'),\n",
       " Row(business_area='books, periodicals,  and newspapers'),\n",
       " Row(business_area='books, periodicals, and  newspapers'),\n",
       " Row(business_area='books, periodicals, and newspapers'),\n",
       " Row(business_area='cable,  satellite, and other pay television and radio services'),\n",
       " Row(business_area='cable, satellite, and  other pay television and radio services'),\n",
       " Row(business_area='cable, satellite, and other  pay television and radio services'),\n",
       " Row(business_area='cable, satellite, and other pay  television and radio services'),\n",
       " Row(business_area='cable, satellite, and other pay television and  radio services'),\n",
       " Row(business_area='cable, satellite, and other pay television and radio  services'),\n",
       " Row(business_area='cable, satellite, and other pay television and radio services'),\n",
       " Row(business_area='computer programming ,  data processing, and integrated systems design services'),\n",
       " Row(business_area='computer programming , data  processing, and integrated systems design services'),\n",
       " Row(business_area='computer programming , data processing,  and integrated systems design services'),\n",
       " Row(business_area='computer programming , data processing, and integrated  systems design services'),\n",
       " Row(business_area='computer programming , data processing, and integrated systems  design services'),\n",
       " Row(business_area='computer programming , data processing, and integrated systems design  services'),\n",
       " Row(business_area='computer programming , data processing, and integrated systems design services'),\n",
       " Row(business_area='computers,  computer peripheral equipment, and  software'),\n",
       " Row(business_area='computers,  computer peripheral equipment, and software'),\n",
       " Row(business_area='computers, computer  peripheral equipment, and software'),\n",
       " Row(business_area='computers, computer peripheral  equipment, and software'),\n",
       " Row(business_area='computers, computer peripheral equipment,  and software'),\n",
       " Row(business_area='computers, computer peripheral equipment, and  software'),\n",
       " Row(business_area='computers, computer peripheral equipment, and software'),\n",
       " Row(business_area='digital  goods: books, movies, music'),\n",
       " Row(business_area='digital goods:  books, movies, music'),\n",
       " Row(business_area='digital goods: books,  movies, music'),\n",
       " Row(business_area='digital goods: books, movies, music'),\n",
       " Row(business_area='equipment,  tool, furniture, and appliance rent al and leasing'),\n",
       " Row(business_area='equipment, tool, furniture,  and appliance rent al and leasing'),\n",
       " Row(business_area='equipment, tool, furniture, and appliance  rent al and leasing'),\n",
       " Row(business_area='equipment, tool, furniture, and appliance rent  al and leasing'),\n",
       " Row(business_area='equipment, tool, furniture, and appliance rent al  and leasing'),\n",
       " Row(business_area='equipment, tool, furniture, and appliance rent al and  leasing'),\n",
       " Row(business_area='equipment, tool, furniture, and appliance rent al and leasing'),\n",
       " Row(business_area='florists  supplies, nursery stock, and flowers'),\n",
       " Row(business_area='florists supplies,  nursery stock, and flowers'),\n",
       " Row(business_area='florists supplies, nursery  stock, and flowers'),\n",
       " Row(business_area='florists supplies, nursery stock,  and flowers'),\n",
       " Row(business_area='florists supplies, nursery stock, and  flowers'),\n",
       " Row(business_area='florists supplies, nursery stock, and flowers'),\n",
       " Row(business_area='furniture,  home furnishings and equipment shops, and manufacturers, except appliances'),\n",
       " Row(business_area='furniture, home furnishings  and equipment shops, and manufacturers, except appliances'),\n",
       " Row(business_area='furniture, home furnishings and  equipment shops,  and manufacturers, except appliances'),\n",
       " Row(business_area='furniture, home furnishings and  equipment shops, and manufacturers, except appliances'),\n",
       " Row(business_area='furniture, home furnishings and equipment  shops, and manufacturers, except appliances'),\n",
       " Row(business_area='furniture, home furnishings and equipment shops,  and manufacturers, except appliances'),\n",
       " Row(business_area='furniture, home furnishings and equipment shops, and  manufacturers, except appliances'),\n",
       " Row(business_area='furniture, home furnishings and equipment shops, and manufacturers,  except appliances'),\n",
       " Row(business_area='furniture, home furnishings and equipment shops, and manufacturers, except  appliances'),\n",
       " Row(business_area='furniture, home furnishings and equipment shops, and manufacturers, except appliances'),\n",
       " Row(business_area='gift, card,  novelty, and souvenir shops'),\n",
       " Row(business_area='gift, card, novelty,  and souvenir shops'),\n",
       " Row(business_area='gift, card, novelty, and  souvenir shops'),\n",
       " Row(business_area='gift, card, novelty, and souvenir shops'),\n",
       " Row(business_area='health  and beauty spas'),\n",
       " Row(business_area='health and beauty spas'),\n",
       " Row(business_area='hobby,  toy  and game shops'),\n",
       " Row(business_area='hobby,  toy and game shops'),\n",
       " Row(business_area='hobby, toy  and game shops'),\n",
       " Row(business_area='hobby, toy and  game shops'),\n",
       " Row(business_area='hobby, toy and game  shops'),\n",
       " Row(business_area='hobby, toy and game shops'),\n",
       " Row(business_area='jewelry, watch,  clock, and silverware shops'),\n",
       " Row(business_area='jewelry, watch, clock, and  silverware shops'),\n",
       " Row(business_area='jewelry, watch, clock, and silverware shops'),\n",
       " Row(business_area='lawn and  garden supply  outlets, including nurseries'),\n",
       " Row(business_area='lawn and  garden supply outlets, including nurseries'),\n",
       " Row(business_area='lawn and garden  supply outlets, including nurseries'),\n",
       " Row(business_area='lawn and garden supply  outlets, including nurseries'),\n",
       " Row(business_area='lawn and garden supply outlets,  including nurseries'),\n",
       " Row(business_area='lawn and garden supply outlets, including  nurseries'),\n",
       " Row(business_area='lawn and garden supply outlets, including nurseries'),\n",
       " Row(business_area='motor  vehicle supplies and new parts'),\n",
       " Row(business_area='motor vehicle  supplies and new parts'),\n",
       " Row(business_area='motor vehicle supplies  and new parts'),\n",
       " Row(business_area='motor vehicle supplies and  new parts'),\n",
       " Row(business_area='motor vehicle supplies and new parts'),\n",
       " Row(business_area='music  shops - musical instruments, pianos, and sheet music'),\n",
       " Row(business_area='music shops  - musical instruments, pianos, and sheet music'),\n",
       " Row(business_area='music shops -  musical instruments, pianos, and sheet music'),\n",
       " Row(business_area='music shops - musical  instruments, pianos, and sheet music'),\n",
       " Row(business_area='music shops - musical instruments,  pianos, and sheet music'),\n",
       " Row(business_area='music shops - musical instruments, pianos,  and sheet music'),\n",
       " Row(business_area='music shops - musical instruments, pianos, and sheet  music'),\n",
       " Row(business_area='music shops - musical instruments, pianos, and sheet music'),\n",
       " Row(business_area='opticians,  optical goods, and eyeglasses'),\n",
       " Row(business_area='opticians, optical  goods, and eyeglasses'),\n",
       " Row(business_area='opticians, optical goods,  and eyeglasses'),\n",
       " Row(business_area='opticians, optical goods, and  eyeglasses'),\n",
       " Row(business_area='opticians, optical goods, and eyeglasses'),\n",
       " Row(business_area='shoe  shops'),\n",
       " Row(business_area='shoe shops'),\n",
       " Row(business_area='stationery,  office supplies and printing and writing paper'),\n",
       " Row(business_area='stationery, office  supplies and printing and writing paper'),\n",
       " Row(business_area='stationery, office supplies  and printing and writing paper'),\n",
       " Row(business_area='stationery, office supplies and  printing and writing paper'),\n",
       " Row(business_area='stationery, office supplies and printing  and writing paper'),\n",
       " Row(business_area='stationery, office supplies and printing and  writing paper'),\n",
       " Row(business_area='stationery, office supplies and printing and writing paper'),\n",
       " Row(business_area='telecom'),\n",
       " Row(business_area='tent  and awning shops'),\n",
       " Row(business_area='tent and  awning shops'),\n",
       " Row(business_area='tent and awning  shops'),\n",
       " Row(business_area='tent and awning shops'),\n",
       " Row(business_area='watch,  clock, and jewelry repair shops'),\n",
       " Row(business_area='watch, clock,  and jewelry repair shops'),\n",
       " Row(business_area='watch, clock, and  jewelry repair shops'),\n",
       " Row(business_area='watch, clock, and jewelry  repair shops'),\n",
       " Row(business_area='watch, clock, and jewelry repair  shops'),\n",
       " Row(business_area='watch, clock, and jewelry repair shops')]"
      ]
     },
     "execution_count": 6,
     "metadata": {},
     "output_type": "execute_result"
    }
   ],
   "source": [
    "final_merchant.groupby('business_area').count().sort(\"business_area\").select(\"business_area\").collect()"
   ]
  },
  {
   "cell_type": "code",
   "execution_count": 7,
   "id": "99bee4bd",
   "metadata": {},
   "outputs": [],
   "source": [
    "# The concepts are indeed the same but with some extra spaces. so remove extra spaces in \"business_area\"\n",
    "final_merchant = final_merchant.withColumn(\"business_area\", F.regexp_replace(\"business_area\", \"\\s+\", \" \"))"
   ]
  },
  {
   "cell_type": "code",
   "execution_count": 13,
   "id": "49ed2ff2",
   "metadata": {},
   "outputs": [
    {
     "data": {
      "text/html": [
       "<table border='1'>\n",
       "<tr><th>business_area</th><th>count</th></tr>\n",
       "<tr><td>antique shops - s...</td><td>129</td></tr>\n",
       "<tr><td>art dealers and g...</td><td>112</td></tr>\n",
       "<tr><td>artist supply and...</td><td>193</td></tr>\n",
       "<tr><td>bicycle shops - s...</td><td>170</td></tr>\n",
       "<tr><td>books, periodical...</td><td>164</td></tr>\n",
       "<tr><td>cable, satellite,...</td><td>175</td></tr>\n",
       "<tr><td>computer programm...</td><td>191</td></tr>\n",
       "<tr><td>computers, comput...</td><td>181</td></tr>\n",
       "<tr><td>digital goods: bo...</td><td>195</td></tr>\n",
       "<tr><td>equipment, tool, ...</td><td>134</td></tr>\n",
       "<tr><td>florists supplies...</td><td>180</td></tr>\n",
       "<tr><td>furniture, home f...</td><td>182</td></tr>\n",
       "<tr><td>gift, card, novel...</td><td>182</td></tr>\n",
       "<tr><td>health and beauty...</td><td>164</td></tr>\n",
       "<tr><td>hobby, toy and ga...</td><td>142</td></tr>\n",
       "<tr><td>jewelry, watch, c...</td><td>91</td></tr>\n",
       "<tr><td>lawn and garden s...</td><td>153</td></tr>\n",
       "<tr><td>motor vehicle sup...</td><td>151</td></tr>\n",
       "<tr><td>music shops - mus...</td><td>167</td></tr>\n",
       "<tr><td>opticians, optica...</td><td>151</td></tr>\n",
       "</table>\n",
       "only showing top 20 rows\n"
      ],
      "text/plain": [
       "+--------------------+-----+\n",
       "|       business_area|count|\n",
       "+--------------------+-----+\n",
       "|antique shops - s...|  129|\n",
       "|art dealers and g...|  112|\n",
       "|artist supply and...|  193|\n",
       "|bicycle shops - s...|  170|\n",
       "|books, periodical...|  164|\n",
       "|cable, satellite,...|  175|\n",
       "|computer programm...|  191|\n",
       "|computers, comput...|  181|\n",
       "|digital goods: bo...|  195|\n",
       "|equipment, tool, ...|  134|\n",
       "|florists supplies...|  180|\n",
       "|furniture, home f...|  182|\n",
       "|gift, card, novel...|  182|\n",
       "|health and beauty...|  164|\n",
       "|hobby, toy and ga...|  142|\n",
       "|jewelry, watch, c...|   91|\n",
       "|lawn and garden s...|  153|\n",
       "|motor vehicle sup...|  151|\n",
       "|music shops - mus...|  167|\n",
       "|opticians, optica...|  151|\n",
       "+--------------------+-----+\n",
       "only showing top 20 rows"
      ]
     },
     "execution_count": 13,
     "metadata": {},
     "output_type": "execute_result"
    }
   ],
   "source": [
    "# check for different business area count again\n",
    "final_merchant.groupby('business_area').count().sort(\"business_area\")"
   ]
  },
  {
   "cell_type": "code",
   "execution_count": 8,
   "id": "trying-developer",
   "metadata": {},
   "outputs": [
    {
     "data": {
      "text/plain": [
       "[Row(business_area='opticians, optical goods, and eyeglasses'),\n",
       " Row(business_area='watch, clock, and jewelry repair shops'),\n",
       " Row(business_area='computer programming , data processing, and integrated systems design services'),\n",
       " Row(business_area='digital goods: books, movies, music'),\n",
       " Row(business_area='books, periodicals, and newspapers'),\n",
       " Row(business_area='florists supplies, nursery stock, and flowers'),\n",
       " Row(business_area='art dealers and galleries'),\n",
       " Row(business_area='antique shops - sales, repairs, and restoration services'),\n",
       " Row(business_area='gift, card, novelty, and souvenir shops'),\n",
       " Row(business_area='equipment, tool, furniture, and appliance rent al and leasing'),\n",
       " Row(business_area='cable, satellite, and other pay television and radio services'),\n",
       " Row(business_area='tent and awning shops'),\n",
       " Row(business_area='artist supply and craft shops'),\n",
       " Row(business_area='stationery, office supplies and printing and writing paper'),\n",
       " Row(business_area='furniture, home furnishings and equipment shops, and manufacturers, except appliances'),\n",
       " Row(business_area='telecom'),\n",
       " Row(business_area='jewelry, watch, clock, and silverware shops'),\n",
       " Row(business_area='shoe shops'),\n",
       " Row(business_area='hobby, toy and game shops'),\n",
       " Row(business_area='computers, computer peripheral equipment, and software'),\n",
       " Row(business_area='music shops - musical instruments, pianos, and sheet music'),\n",
       " Row(business_area='health and beauty spas'),\n",
       " Row(business_area='lawn and garden supply outlets, including nurseries'),\n",
       " Row(business_area='motor vehicle supplies and new parts'),\n",
       " Row(business_area='bicycle shops - sales and service')]"
      ]
     },
     "execution_count": 8,
     "metadata": {},
     "output_type": "execute_result"
    }
   ],
   "source": [
    "# collect all merchant business area\n",
    "final_merchant.groupby('business_area').count().select(\"business_area\").collect()"
   ]
  },
  {
   "cell_type": "markdown",
   "id": "129db4f0",
   "metadata": {},
   "source": [
    "#### Consumer Dataset:"
   ]
  },
  {
   "cell_type": "code",
   "execution_count": 9,
   "id": "automotive-familiar",
   "metadata": {},
   "outputs": [
    {
     "data": {
      "text/html": [
       "<table border='1'>\n",
       "<tr><th>user_id</th><th>consumer_id</th></tr>\n",
       "<tr><td>1</td><td>1195503</td></tr>\n",
       "<tr><td>2</td><td>179208</td></tr>\n",
       "<tr><td>3</td><td>1194530</td></tr>\n",
       "<tr><td>4</td><td>154128</td></tr>\n",
       "<tr><td>5</td><td>712975</td></tr>\n",
       "<tr><td>6</td><td>407340</td></tr>\n",
       "<tr><td>7</td><td>511685</td></tr>\n",
       "<tr><td>8</td><td>448088</td></tr>\n",
       "<tr><td>9</td><td>650435</td></tr>\n",
       "<tr><td>10</td><td>1058499</td></tr>\n",
       "</table>\n"
      ],
      "text/plain": [
       "+-------+-----------+\n",
       "|user_id|consumer_id|\n",
       "+-------+-----------+\n",
       "|      1|    1195503|\n",
       "|      2|     179208|\n",
       "|      3|    1194530|\n",
       "|      4|     154128|\n",
       "|      5|     712975|\n",
       "|      6|     407340|\n",
       "|      7|     511685|\n",
       "|      8|     448088|\n",
       "|      9|     650435|\n",
       "|     10|    1058499|\n",
       "+-------+-----------+"
      ]
     },
     "execution_count": 9,
     "metadata": {},
     "output_type": "execute_result"
    }
   ],
   "source": [
    "consumer = spark.read.parquet('../data/tables/consumer_user_details.parquet')\n",
    "consumer.limit(10)"
   ]
  },
  {
   "cell_type": "code",
   "execution_count": 16,
   "id": "political-condition",
   "metadata": {},
   "outputs": [
    {
     "data": {
      "text/plain": [
       "499999"
      ]
     },
     "execution_count": 16,
     "metadata": {},
     "output_type": "execute_result"
    }
   ],
   "source": [
    "# count the number of consumer\n",
    "consumer.count()"
   ]
  },
  {
   "cell_type": "code",
   "execution_count": 10,
   "id": "gross-daily",
   "metadata": {},
   "outputs": [
    {
     "data": {
      "text/html": [
       "<table border='1'>\n",
       "<tr><th>name</th><th>address</th><th>state</th><th>postcode</th><th>gender</th><th>consumer_id</th></tr>\n",
       "<tr><td>Yolanda Williams</td><td>413 Haney Gardens...</td><td>WA</td><td>6935</td><td>Female</td><td>1195503</td></tr>\n",
       "<tr><td>Mary Smith</td><td>3764 Amber Oval</td><td>NSW</td><td>2782</td><td>Female</td><td>179208</td></tr>\n",
       "<tr><td>Jill Jones MD</td><td>40693 Henry Greens</td><td>NT</td><td>862</td><td>Female</td><td>1194530</td></tr>\n",
       "<tr><td>Lindsay Jimenez</td><td>00653 Davenport C...</td><td>NSW</td><td>2780</td><td>Female</td><td>154128</td></tr>\n",
       "<tr><td>Rebecca Blanchard</td><td>9271 Michael Mano...</td><td>WA</td><td>6355</td><td>Female</td><td>712975</td></tr>\n",
       "<tr><td>Karen Chapman</td><td>2706 Stewart Oval...</td><td>NSW</td><td>2033</td><td>Female</td><td>407340</td></tr>\n",
       "<tr><td>Andrea Jones</td><td>122 Brandon Cliff</td><td>QLD</td><td>4606</td><td>Female</td><td>511685</td></tr>\n",
       "<tr><td>Stephen Williams</td><td>6804 Wright Crest...</td><td>WA</td><td>6056</td><td>Male</td><td>448088</td></tr>\n",
       "<tr><td>Stephanie Reyes</td><td>5813 Denise Land ...</td><td>NSW</td><td>2482</td><td>Female</td><td>650435</td></tr>\n",
       "<tr><td>Jillian Gonzales</td><td>461 Ryan Common S...</td><td>VIC</td><td>3220</td><td>Female</td><td>1058499</td></tr>\n",
       "</table>\n"
      ],
      "text/plain": [
       "+-----------------+--------------------+-----+--------+------+-----------+\n",
       "|             name|             address|state|postcode|gender|consumer_id|\n",
       "+-----------------+--------------------+-----+--------+------+-----------+\n",
       "| Yolanda Williams|413 Haney Gardens...|   WA|    6935|Female|    1195503|\n",
       "|       Mary Smith|     3764 Amber Oval|  NSW|    2782|Female|     179208|\n",
       "|    Jill Jones MD|  40693 Henry Greens|   NT|     862|Female|    1194530|\n",
       "|  Lindsay Jimenez|00653 Davenport C...|  NSW|    2780|Female|     154128|\n",
       "|Rebecca Blanchard|9271 Michael Mano...|   WA|    6355|Female|     712975|\n",
       "|    Karen Chapman|2706 Stewart Oval...|  NSW|    2033|Female|     407340|\n",
       "|     Andrea Jones|   122 Brandon Cliff|  QLD|    4606|Female|     511685|\n",
       "| Stephen Williams|6804 Wright Crest...|   WA|    6056|  Male|     448088|\n",
       "|  Stephanie Reyes|5813 Denise Land ...|  NSW|    2482|Female|     650435|\n",
       "| Jillian Gonzales|461 Ryan Common S...|  VIC|    3220|Female|    1058499|\n",
       "+-----------------+--------------------+-----+--------+------+-----------+"
      ]
     },
     "execution_count": 10,
     "metadata": {},
     "output_type": "execute_result"
    }
   ],
   "source": [
    "consumer_detail = spark.read.option('sep', \"|\").csv('../data/tables/tbl_consumer.csv', \n",
    "                                                    header = True)\n",
    "consumer_detail.limit(10)"
   ]
  },
  {
   "cell_type": "code",
   "execution_count": 11,
   "id": "74a233f3",
   "metadata": {},
   "outputs": [],
   "source": [
    "# add the consumer details onto consumer dataframe\n",
    "consumer = consumer.join(consumer_detail,on=\"consumer_id\")"
   ]
  },
  {
   "cell_type": "code",
   "execution_count": 19,
   "id": "856366e5",
   "metadata": {},
   "outputs": [
    {
     "name": "stdout",
     "output_type": "stream",
     "text": [
      "+-----------+-------+-----------------+--------------------+-----+--------+------+\n",
      "|consumer_id|user_id|             name|             address|state|postcode|gender|\n",
      "+-----------+-------+-----------------+--------------------+-----+--------+------+\n",
      "|    1195503|      1| Yolanda Williams|413 Haney Gardens...|   WA|    6935|Female|\n",
      "|     179208|      2|       Mary Smith|     3764 Amber Oval|  NSW|    2782|Female|\n",
      "|    1194530|      3|    Jill Jones MD|  40693 Henry Greens|   NT|     862|Female|\n",
      "|     154128|      4|  Lindsay Jimenez|00653 Davenport C...|  NSW|    2780|Female|\n",
      "|     712975|      5|Rebecca Blanchard|9271 Michael Mano...|   WA|    6355|Female|\n",
      "|     407340|      6|    Karen Chapman|2706 Stewart Oval...|  NSW|    2033|Female|\n",
      "|     511685|      7|     Andrea Jones|   122 Brandon Cliff|  QLD|    4606|Female|\n",
      "|     448088|      8| Stephen Williams|6804 Wright Crest...|   WA|    6056|  Male|\n",
      "|     650435|      9|  Stephanie Reyes|5813 Denise Land ...|  NSW|    2482|Female|\n",
      "|    1058499|     10| Jillian Gonzales|461 Ryan Common S...|  VIC|    3220|Female|\n",
      "+-----------+-------+-----------------+--------------------+-----+--------+------+\n",
      "only showing top 10 rows\n",
      "\n"
     ]
    }
   ],
   "source": [
    "consumer.show(10)"
   ]
  },
  {
   "cell_type": "markdown",
   "id": "military-large",
   "metadata": {},
   "source": [
    "#### Transaction dataset:"
   ]
  },
  {
   "cell_type": "code",
   "execution_count": 12,
   "id": "fundamental-company",
   "metadata": {},
   "outputs": [
    {
     "name": "stderr",
     "output_type": "stream",
     "text": [
      "                                                                                \r"
     ]
    }
   ],
   "source": [
    "# read transaction data\n",
    "transaction_210228 = spark.read.parquet(\"../data/tables/transactions_20210228_20210827_snapshot\")\n",
    "transaction_210828 = spark.read.parquet(\"../data/tables/transactions_20210828_20220227_snapshot\")\n",
    "transaction_220228 = spark.read.parquet(\"../data/tables/transactions_20220228_20220828_snapshot\")\n",
    "transaction = transaction_210228.union(transaction_210828)\n",
    "transaction = transaction.union(transaction_220228)"
   ]
  },
  {
   "cell_type": "code",
   "execution_count": 21,
   "id": "dated-startup",
   "metadata": {},
   "outputs": [
    {
     "data": {
      "text/plain": [
       "14195505"
      ]
     },
     "execution_count": 21,
     "metadata": {},
     "output_type": "execute_result"
    }
   ],
   "source": [
    "# count total number of transactions\n",
    "transaction.count()"
   ]
  },
  {
   "cell_type": "code",
   "execution_count": 22,
   "id": "spiritual-dallas",
   "metadata": {},
   "outputs": [
    {
     "data": {
      "text/html": [
       "<table border='1'>\n",
       "<tr><th>user_id</th><th>merchant_abn</th><th>dollar_value</th><th>order_id</th><th>order_datetime</th></tr>\n",
       "<tr><td>11139</td><td>96152467973</td><td>16.213590228273233</td><td>785b0080-9e4b-471...</td><td>2022-08-20</td></tr>\n",
       "<tr><td>1</td><td>98973094975</td><td>86.97955945703498</td><td>2560f7b0-ee5d-4b3...</td><td>2022-08-20</td></tr>\n",
       "<tr><td>11139</td><td>56762458844</td><td>31.513502323509194</td><td>0311717b-8b5b-410...</td><td>2022-08-20</td></tr>\n",
       "<tr><td>1</td><td>89502033586</td><td>124.18468694868491</td><td>f8891626-f098-45b...</td><td>2022-08-20</td></tr>\n",
       "<tr><td>11139</td><td>96161808980</td><td>61.620445567668966</td><td>d90a421f-f1da-4bf...</td><td>2022-08-20</td></tr>\n",
       "<tr><td>2</td><td>72472909171</td><td>32.26524985312485</td><td>523e0403-b677-450...</td><td>2022-08-20</td></tr>\n",
       "<tr><td>11139</td><td>91923722701</td><td>11.331586767322225</td><td>f45a842b-0366-41d...</td><td>2022-08-20</td></tr>\n",
       "<tr><td>3</td><td>46380096952</td><td>119.80011239189334</td><td>58d0f423-037c-43f...</td><td>2022-08-20</td></tr>\n",
       "<tr><td>11140</td><td>79283124876</td><td>198.13027742225435</td><td>60b12d41-41d6-4c1...</td><td>2022-08-20</td></tr>\n",
       "<tr><td>4</td><td>67202032418</td><td>206.20865323560022</td><td>64a05a23-a078-481...</td><td>2022-08-20</td></tr>\n",
       "</table>\n"
      ],
      "text/plain": [
       "+-------+------------+------------------+--------------------+--------------+\n",
       "|user_id|merchant_abn|      dollar_value|            order_id|order_datetime|\n",
       "+-------+------------+------------------+--------------------+--------------+\n",
       "|  11139| 96152467973|16.213590228273233|785b0080-9e4b-471...|    2022-08-20|\n",
       "|      1| 98973094975| 86.97955945703498|2560f7b0-ee5d-4b3...|    2022-08-20|\n",
       "|  11139| 56762458844|31.513502323509194|0311717b-8b5b-410...|    2022-08-20|\n",
       "|      1| 89502033586|124.18468694868491|f8891626-f098-45b...|    2022-08-20|\n",
       "|  11139| 96161808980|61.620445567668966|d90a421f-f1da-4bf...|    2022-08-20|\n",
       "|      2| 72472909171| 32.26524985312485|523e0403-b677-450...|    2022-08-20|\n",
       "|  11139| 91923722701|11.331586767322225|f45a842b-0366-41d...|    2022-08-20|\n",
       "|      3| 46380096952|119.80011239189334|58d0f423-037c-43f...|    2022-08-20|\n",
       "|  11140| 79283124876|198.13027742225435|60b12d41-41d6-4c1...|    2022-08-20|\n",
       "|      4| 67202032418|206.20865323560022|64a05a23-a078-481...|    2022-08-20|\n",
       "+-------+------------+------------------+--------------------+--------------+"
      ]
     },
     "execution_count": 22,
     "metadata": {},
     "output_type": "execute_result"
    }
   ],
   "source": [
    "transaction_220228.limit(10)"
   ]
  },
  {
   "cell_type": "code",
   "execution_count": 13,
   "id": "aerial-processor",
   "metadata": {},
   "outputs": [
    {
     "data": {
      "text/html": [
       "<table border='1'>\n",
       "<tr><th>user_id</th><th>merchant_abn</th><th>dollar_value</th><th>order_id</th><th>order_datetime</th></tr>\n",
       "</table>\n"
      ],
      "text/plain": [
       "+-------+------------+------------+--------+--------------+\n",
       "|user_id|merchant_abn|dollar_value|order_id|order_datetime|\n",
       "+-------+------------+------------+--------+--------------+\n",
       "+-------+------------+------------+--------+--------------+"
      ]
     },
     "execution_count": 13,
     "metadata": {},
     "output_type": "execute_result"
    }
   ],
   "source": [
    "# check if there are any null values in the dataframe\n",
    "transaction.filter(F.col(\"order_datetime\").isNull())"
   ]
  },
  {
   "cell_type": "code",
   "execution_count": 14,
   "id": "super-joining",
   "metadata": {},
   "outputs": [],
   "source": [
    "# merge all three dataset\n",
    "\n",
    "consumer_transaction = consumer.join(transaction,['user_id'],how='inner')\n",
    "full_transaction_dataset = consumer_transaction.join(final_merchant,['merchant_abn'],how='left')"
   ]
  },
  {
   "cell_type": "code",
   "execution_count": 25,
   "id": "christian-aberdeen",
   "metadata": {},
   "outputs": [
    {
     "data": {
      "text/plain": [
       "14195505"
      ]
     },
     "execution_count": 25,
     "metadata": {},
     "output_type": "execute_result"
    }
   ],
   "source": [
    "full_transaction_dataset.count()"
   ]
  },
  {
   "cell_type": "code",
   "execution_count": 15,
   "id": "earned-correlation",
   "metadata": {},
   "outputs": [],
   "source": [
    "# count the total transactions for each merchant\n",
    "merchant_count = transaction.groupBy(F.col('merchant_abn')).count()"
   ]
  },
  {
   "cell_type": "code",
   "execution_count": 16,
   "id": "velvet-match",
   "metadata": {},
   "outputs": [
    {
     "name": "stderr",
     "output_type": "stream",
     "text": [
      "                                                                                \r"
     ]
    },
    {
     "data": {
      "text/html": [
       "<table border='1'>\n",
       "<tr><th>merchant_abn</th><th>count</th></tr>\n",
       "<tr><td>62688594508</td><td>1</td></tr>\n",
       "<tr><td>10404542215</td><td>1</td></tr>\n",
       "<tr><td>86868464441</td><td>1</td></tr>\n",
       "<tr><td>39150153670</td><td>1</td></tr>\n",
       "<tr><td>80664157260</td><td>1</td></tr>\n",
       "<tr><td>37145789569</td><td>1</td></tr>\n",
       "<tr><td>93267734067</td><td>1</td></tr>\n",
       "<tr><td>47047735645</td><td>1</td></tr>\n",
       "<tr><td>99989036621</td><td>1</td></tr>\n",
       "<tr><td>67264251405</td><td>1</td></tr>\n",
       "<tr><td>50154587122</td><td>1</td></tr>\n",
       "<tr><td>46244515644</td><td>1</td></tr>\n",
       "<tr><td>29068447069</td><td>1</td></tr>\n",
       "<tr><td>50794104497</td><td>1</td></tr>\n",
       "<tr><td>67213521157</td><td>2</td></tr>\n",
       "<tr><td>99801770627</td><td>2</td></tr>\n",
       "<tr><td>86791380020</td><td>2</td></tr>\n",
       "<tr><td>72900319608</td><td>2</td></tr>\n",
       "<tr><td>12959561070</td><td>2</td></tr>\n",
       "<tr><td>24212300522</td><td>2</td></tr>\n",
       "</table>\n",
       "only showing top 20 rows\n"
      ],
      "text/plain": [
       "+------------+-----+\n",
       "|merchant_abn|count|\n",
       "+------------+-----+\n",
       "| 62688594508|    1|\n",
       "| 10404542215|    1|\n",
       "| 86868464441|    1|\n",
       "| 39150153670|    1|\n",
       "| 80664157260|    1|\n",
       "| 37145789569|    1|\n",
       "| 93267734067|    1|\n",
       "| 47047735645|    1|\n",
       "| 99989036621|    1|\n",
       "| 67264251405|    1|\n",
       "| 50154587122|    1|\n",
       "| 46244515644|    1|\n",
       "| 29068447069|    1|\n",
       "| 50794104497|    1|\n",
       "| 67213521157|    2|\n",
       "| 99801770627|    2|\n",
       "| 86791380020|    2|\n",
       "| 72900319608|    2|\n",
       "| 12959561070|    2|\n",
       "| 24212300522|    2|\n",
       "+------------+-----+\n",
       "only showing top 20 rows"
      ]
     },
     "execution_count": 16,
     "metadata": {},
     "output_type": "execute_result"
    }
   ],
   "source": [
    "merchant_count.orderBy(F.col('count').asc())"
   ]
  },
  {
   "cell_type": "code",
   "execution_count": 28,
   "id": "advisory-antibody",
   "metadata": {},
   "outputs": [
    {
     "data": {
      "text/plain": [
       "[Row(name='Lobortis Nisi Associates', merchant_abn=62688594508, business_area='jewelry, watch, clock, and silverware shops', revenue_level='d', take_rate=' 0.88')]"
      ]
     },
     "execution_count": 28,
     "metadata": {},
     "output_type": "execute_result"
    }
   ],
   "source": [
    "# check with mechant 62688594508 as it has only 1 transaction record\n",
    "final_merchant[final_merchant.merchant_abn=='62688594508'].collect()"
   ]
  },
  {
   "cell_type": "code",
   "execution_count": 17,
   "id": "enclosed-baptist",
   "metadata": {},
   "outputs": [
    {
     "name": "stderr",
     "output_type": "stream",
     "text": [
      "                                                                                \r"
     ]
    },
    {
     "data": {
      "text/plain": [
       "[Row(user_id=17098, merchant_abn=62688594508, dollar_value=21112.567917387372, order_id='82f1625f-00f4-4516-b7cc-155badc6431f', order_datetime=datetime.date(2021, 3, 20))]"
      ]
     },
     "execution_count": 17,
     "metadata": {},
     "output_type": "execute_result"
    }
   ],
   "source": [
    "transaction[transaction.merchant_abn=='62688594508'].collect()"
   ]
  },
  {
   "cell_type": "markdown",
   "id": "beb994ea",
   "metadata": {},
   "source": [
    "#### Census:"
   ]
  },
  {
   "cell_type": "code",
   "execution_count": 54,
   "id": "advised-petroleum",
   "metadata": {},
   "outputs": [
    {
     "data": {
      "text/html": [
       "<table border='1'>\n",
       "<tr><th>POA_CODE_2021</th><th>Median_age_persons</th><th>Median_mortgage_repay_monthly</th><th>Median_tot_prsnl_inc_weekly</th><th>Median_rent_weekly</th><th>Median_tot_fam_inc_weekly</th><th>Average_num_psns_per_bedroom</th><th>Median_tot_hhd_inc_weekly</th><th>Average_household_size</th></tr>\n",
       "<tr><td>POA2000</td><td>32</td><td>2800</td><td>941</td><td>625</td><td>2367</td><td>1.3</td><td>2225</td><td>2.1</td></tr>\n",
       "<tr><td>POA2007</td><td>30</td><td>2500</td><td>772</td><td>500</td><td>2197</td><td>1.2</td><td>1805</td><td>2.1</td></tr>\n",
       "<tr><td>POA2008</td><td>28</td><td>2600</td><td>860</td><td>525</td><td>2453</td><td>1.2</td><td>1746</td><td>1.9</td></tr>\n",
       "<tr><td>POA2009</td><td>37</td><td>2800</td><td>1297</td><td>580</td><td>3035</td><td>1.1</td><td>2422</td><td>2.1</td></tr>\n",
       "<tr><td>POA2010</td><td>36</td><td>2900</td><td>1479</td><td>550</td><td>3709</td><td>1.1</td><td>2297</td><td>1.7</td></tr>\n",
       "</table>\n"
      ],
      "text/plain": [
       "+-------------+------------------+-----------------------------+---------------------------+------------------+-------------------------+----------------------------+-------------------------+----------------------+\n",
       "|POA_CODE_2021|Median_age_persons|Median_mortgage_repay_monthly|Median_tot_prsnl_inc_weekly|Median_rent_weekly|Median_tot_fam_inc_weekly|Average_num_psns_per_bedroom|Median_tot_hhd_inc_weekly|Average_household_size|\n",
       "+-------------+------------------+-----------------------------+---------------------------+------------------+-------------------------+----------------------------+-------------------------+----------------------+\n",
       "|      POA2000|                32|                         2800|                        941|               625|                     2367|                         1.3|                     2225|                   2.1|\n",
       "|      POA2007|                30|                         2500|                        772|               500|                     2197|                         1.2|                     1805|                   2.1|\n",
       "|      POA2008|                28|                         2600|                        860|               525|                     2453|                         1.2|                     1746|                   1.9|\n",
       "|      POA2009|                37|                         2800|                       1297|               580|                     3035|                         1.1|                     2422|                   2.1|\n",
       "|      POA2010|                36|                         2900|                       1479|               550|                     3709|                         1.1|                     2297|                   1.7|\n",
       "+-------------+------------------+-----------------------------+---------------------------+------------------+-------------------------+----------------------------+-------------------------+----------------------+"
      ]
     },
     "execution_count": 54,
     "metadata": {},
     "output_type": "execute_result"
    }
   ],
   "source": [
    "# read census dataset\n",
    "census = spark.read.csv('../data/tables/censusData/2021 Census GCP Postal Areas for AUS/2021Census_G02_AUST_POA.csv', header = True)\n",
    "census.limit(5)"
   ]
  },
  {
   "cell_type": "code",
   "execution_count": 60,
   "id": "02e7a207",
   "metadata": {},
   "outputs": [
    {
     "data": {
      "text/html": [
       "<table border='1'>\n",
       "<tr><th>STE_CODE_2021</th><th>Median_age_persons</th><th>Median_mortgage_repay_monthly</th><th>Median_tot_prsnl_inc_weekly</th><th>Median_rent_weekly</th><th>Median_tot_fam_inc_weekly</th><th>Average_num_psns_per_bedroom</th><th>Median_tot_hhd_inc_weekly</th><th>Average_household_size</th></tr>\n",
       "<tr><td>1</td><td>39</td><td>2167</td><td>813</td><td>420</td><td>2185</td><td>0.9</td><td>1829</td><td>2.6</td></tr>\n",
       "<tr><td>2</td><td>38</td><td>1859</td><td>803</td><td>370</td><td>2136</td><td>0.8</td><td>1759</td><td>2.5</td></tr>\n",
       "<tr><td>3</td><td>38</td><td>1733</td><td>787</td><td>365</td><td>2024</td><td>0.8</td><td>1675</td><td>2.5</td></tr>\n",
       "<tr><td>4</td><td>41</td><td>1500</td><td>734</td><td>300</td><td>1889</td><td>0.8</td><td>1455</td><td>2.4</td></tr>\n",
       "<tr><td>5</td><td>38</td><td>1842</td><td>848</td><td>340</td><td>2214</td><td>0.8</td><td>1815</td><td>2.5</td></tr>\n",
       "<tr><td>6</td><td>42</td><td>1313</td><td>701</td><td>290</td><td>1720</td><td>0.8</td><td>1358</td><td>2.4</td></tr>\n",
       "<tr><td>7</td><td>33</td><td>2000</td><td>936</td><td>325</td><td>2213</td><td>1</td><td>2061</td><td>2.8</td></tr>\n",
       "<tr><td>8</td><td>35</td><td>2080</td><td>1203</td><td>450</td><td>2872</td><td>0.8</td><td>2373</td><td>2.5</td></tr>\n",
       "<tr><td>9</td><td>43</td><td>1300</td><td>829</td><td>200</td><td>1890</td><td>0.9</td><td>1497</td><td>2.4</td></tr>\n",
       "</table>\n"
      ],
      "text/plain": [
       "+-------------+------------------+-----------------------------+---------------------------+------------------+-------------------------+----------------------------+-------------------------+----------------------+\n",
       "|STE_CODE_2021|Median_age_persons|Median_mortgage_repay_monthly|Median_tot_prsnl_inc_weekly|Median_rent_weekly|Median_tot_fam_inc_weekly|Average_num_psns_per_bedroom|Median_tot_hhd_inc_weekly|Average_household_size|\n",
       "+-------------+------------------+-----------------------------+---------------------------+------------------+-------------------------+----------------------------+-------------------------+----------------------+\n",
       "|            1|                39|                         2167|                        813|               420|                     2185|                         0.9|                     1829|                   2.6|\n",
       "|            2|                38|                         1859|                        803|               370|                     2136|                         0.8|                     1759|                   2.5|\n",
       "|            3|                38|                         1733|                        787|               365|                     2024|                         0.8|                     1675|                   2.5|\n",
       "|            4|                41|                         1500|                        734|               300|                     1889|                         0.8|                     1455|                   2.4|\n",
       "|            5|                38|                         1842|                        848|               340|                     2214|                         0.8|                     1815|                   2.5|\n",
       "|            6|                42|                         1313|                        701|               290|                     1720|                         0.8|                     1358|                   2.4|\n",
       "|            7|                33|                         2000|                        936|               325|                     2213|                           1|                     2061|                   2.8|\n",
       "|            8|                35|                         2080|                       1203|               450|                     2872|                         0.8|                     2373|                   2.5|\n",
       "|            9|                43|                         1300|                        829|               200|                     1890|                         0.9|                     1497|                   2.4|\n",
       "+-------------+------------------+-----------------------------+---------------------------+------------------+-------------------------+----------------------------+-------------------------+----------------------+"
      ]
     },
     "execution_count": 60,
     "metadata": {},
     "output_type": "execute_result"
    }
   ],
   "source": [
    "census_state = spark.read.csv('../data/tables/censusData/2021 Census GCP States and Territories for AUS/2021Census_G02_AUST_STE.csv', header = True)\n",
    "census_state.limit(10)"
   ]
  },
  {
   "cell_type": "code",
   "execution_count": 19,
   "id": "manual-cosmetic",
   "metadata": {},
   "outputs": [
    {
     "data": {
      "text/html": [
       "<table border='1'>\n",
       "<tr><th>POA_CODE_2021</th><th>Median_age_persons</th><th>Median_mortgage_repay_monthly</th><th>Median_tot_prsnl_inc_weekly</th><th>Median_rent_weekly</th><th>Median_tot_fam_inc_weekly</th><th>Average_num_psns_per_bedroom</th><th>Median_tot_hhd_inc_weekly</th><th>Average_household_size</th><th>postcode</th></tr>\n",
       "<tr><td>POA2000</td><td>32</td><td>2800</td><td>941</td><td>625</td><td>2367</td><td>1.3</td><td>2225</td><td>2.1</td><td>2000</td></tr>\n",
       "<tr><td>POA2007</td><td>30</td><td>2500</td><td>772</td><td>500</td><td>2197</td><td>1.2</td><td>1805</td><td>2.1</td><td>2007</td></tr>\n",
       "<tr><td>POA2008</td><td>28</td><td>2600</td><td>860</td><td>525</td><td>2453</td><td>1.2</td><td>1746</td><td>1.9</td><td>2008</td></tr>\n",
       "<tr><td>POA2009</td><td>37</td><td>2800</td><td>1297</td><td>580</td><td>3035</td><td>1.1</td><td>2422</td><td>2.1</td><td>2009</td></tr>\n",
       "<tr><td>POA2010</td><td>36</td><td>2900</td><td>1479</td><td>550</td><td>3709</td><td>1.1</td><td>2297</td><td>1.7</td><td>2010</td></tr>\n",
       "</table>\n"
      ],
      "text/plain": [
       "+-------------+------------------+-----------------------------+---------------------------+------------------+-------------------------+----------------------------+-------------------------+----------------------+--------+\n",
       "|POA_CODE_2021|Median_age_persons|Median_mortgage_repay_monthly|Median_tot_prsnl_inc_weekly|Median_rent_weekly|Median_tot_fam_inc_weekly|Average_num_psns_per_bedroom|Median_tot_hhd_inc_weekly|Average_household_size|postcode|\n",
       "+-------------+------------------+-----------------------------+---------------------------+------------------+-------------------------+----------------------------+-------------------------+----------------------+--------+\n",
       "|      POA2000|                32|                         2800|                        941|               625|                     2367|                         1.3|                     2225|                   2.1|    2000|\n",
       "|      POA2007|                30|                         2500|                        772|               500|                     2197|                         1.2|                     1805|                   2.1|    2007|\n",
       "|      POA2008|                28|                         2600|                        860|               525|                     2453|                         1.2|                     1746|                   1.9|    2008|\n",
       "|      POA2009|                37|                         2800|                       1297|               580|                     3035|                         1.1|                     2422|                   2.1|    2009|\n",
       "|      POA2010|                36|                         2900|                       1479|               550|                     3709|                         1.1|                     2297|                   1.7|    2010|\n",
       "+-------------+------------------+-----------------------------+---------------------------+------------------+-------------------------+----------------------------+-------------------------+----------------------+--------+"
      ]
     },
     "execution_count": 19,
     "metadata": {},
     "output_type": "execute_result"
    }
   ],
   "source": [
    "census = census.withColumn(\"postcode\", F.regexp_replace(\"POA_CODE_2021\", \"POA\", \"\"))\n",
    "census.limit(5)"
   ]
  },
  {
   "cell_type": "markdown",
   "id": "genetic-marketplace",
   "metadata": {},
   "source": [
    "#### Fraud probability dataset:"
   ]
  },
  {
   "cell_type": "markdown",
   "id": "excellent-nomination",
   "metadata": {},
   "source": [
    "Probability of fraud transactions are provided for both merchant and customers with given merchant abn and consumer user id, with specific date of transaction. "
   ]
  },
  {
   "cell_type": "code",
   "execution_count": 20,
   "id": "pediatric-outline",
   "metadata": {},
   "outputs": [
    {
     "data": {
      "text/html": [
       "<table border='1'>\n",
       "<tr><th>merchant_abn</th><th>order_datetime</th><th>fraud_prob_merch</th></tr>\n",
       "<tr><td>19492220327</td><td>2021-11-28</td><td>44.403658647495355</td></tr>\n",
       "<tr><td>31334588839</td><td>2021-10-02</td><td>42.75530083865367</td></tr>\n",
       "<tr><td>19492220327</td><td>2021-12-22</td><td>38.867790051131095</td></tr>\n",
       "<tr><td>82999039227</td><td>2021-12-19</td><td>94.1347004808891</td></tr>\n",
       "<tr><td>90918180829</td><td>2021-09-02</td><td>43.32551731714902</td></tr>\n",
       "</table>\n"
      ],
      "text/plain": [
       "+------------+--------------+------------------+\n",
       "|merchant_abn|order_datetime|  fraud_prob_merch|\n",
       "+------------+--------------+------------------+\n",
       "| 19492220327|    2021-11-28|44.403658647495355|\n",
       "| 31334588839|    2021-10-02| 42.75530083865367|\n",
       "| 19492220327|    2021-12-22|38.867790051131095|\n",
       "| 82999039227|    2021-12-19|  94.1347004808891|\n",
       "| 90918180829|    2021-09-02| 43.32551731714902|\n",
       "+------------+--------------+------------------+"
      ]
     },
     "execution_count": 20,
     "metadata": {},
     "output_type": "execute_result"
    }
   ],
   "source": [
    "merchant_fraud = spark.read.csv('../data/tables/merchant_fraud_probability.csv', \n",
    "                                                    header = True)\n",
    "\n",
    "# rename fraud_probability so it's distinct from consumer's\n",
    "merchant_fraud = merchant_fraud.withColumnRenamed(\"fraud_probability\",\"fraud_prob_merch\")\n",
    "merchant_fraud.limit(5)"
   ]
  },
  {
   "cell_type": "code",
   "execution_count": 21,
   "id": "covered-border",
   "metadata": {},
   "outputs": [
    {
     "data": {
      "text/html": [
       "<table border='1'>\n",
       "<tr><th>user_id</th><th>order_datetime</th><th>fraud_prob_cons</th></tr>\n",
       "<tr><td>6228</td><td>2021-12-19</td><td>97.6298077657765</td></tr>\n",
       "<tr><td>21419</td><td>2021-12-10</td><td>99.24738020302328</td></tr>\n",
       "<tr><td>5606</td><td>2021-10-17</td><td>84.05825045251777</td></tr>\n",
       "<tr><td>3101</td><td>2021-04-17</td><td>91.42192091901347</td></tr>\n",
       "<tr><td>22239</td><td>2021-10-19</td><td>94.70342477508035</td></tr>\n",
       "</table>\n"
      ],
      "text/plain": [
       "+-------+--------------+-----------------+\n",
       "|user_id|order_datetime|  fraud_prob_cons|\n",
       "+-------+--------------+-----------------+\n",
       "|   6228|    2021-12-19| 97.6298077657765|\n",
       "|  21419|    2021-12-10|99.24738020302328|\n",
       "|   5606|    2021-10-17|84.05825045251777|\n",
       "|   3101|    2021-04-17|91.42192091901347|\n",
       "|  22239|    2021-10-19|94.70342477508035|\n",
       "+-------+--------------+-----------------+"
      ]
     },
     "execution_count": 21,
     "metadata": {},
     "output_type": "execute_result"
    }
   ],
   "source": [
    "consumer_fraud = spark.read.csv('../data/tables/consumer_fraud_probability.csv', \n",
    "                                                    header = True)\n",
    "\n",
    "consumer_fraud = consumer_fraud.withColumnRenamed(\"fraud_probability\",\"fraud_prob_cons\")\n",
    "consumer_fraud.limit(5)"
   ]
  },
  {
   "cell_type": "code",
   "execution_count": 22,
   "id": "sensitive-retailer",
   "metadata": {},
   "outputs": [
    {
     "data": {
      "text/html": [
       "<table border='1'>\n",
       "<tr><th>user_id</th><th>order_datetime</th><th>fraud_prob_cons</th></tr>\n",
       "<tr><td>21419</td><td>2021-12-10</td><td>99.24738020302328</td></tr>\n",
       "<tr><td>21419</td><td>2021-12-10</td><td>99.24738020302328</td></tr>\n",
       "<tr><td>6228</td><td>2021-12-19</td><td>97.6298077657765</td></tr>\n",
       "<tr><td>6228</td><td>2021-12-19</td><td>97.6298077657765</td></tr>\n",
       "<tr><td>22239</td><td>2021-10-19</td><td>94.70342477508035</td></tr>\n",
       "<tr><td>22239</td><td>2021-10-19</td><td>94.70342477508035</td></tr>\n",
       "<tr><td>8347</td><td>2021-10-06</td><td>92.99138306039121</td></tr>\n",
       "<tr><td>8347</td><td>2021-10-06</td><td>92.99138306039121</td></tr>\n",
       "<tr><td>17900</td><td>2022-02-25</td><td>92.73262811161372</td></tr>\n",
       "<tr><td>17900</td><td>2022-02-25</td><td>92.73262811161372</td></tr>\n",
       "<tr><td>3101</td><td>2021-04-17</td><td>91.42192091901347</td></tr>\n",
       "<tr><td>4425</td><td>2021-11-16</td><td>9.999973353985707</td></tr>\n",
       "<tr><td>17778</td><td>2021-10-31</td><td>9.999864306119923</td></tr>\n",
       "<tr><td>1226</td><td>2021-09-25</td><td>9.99974779442365</td></tr>\n",
       "<tr><td>9130</td><td>2021-10-13</td><td>9.999729179552238</td></tr>\n",
       "<tr><td>6869</td><td>2021-12-10</td><td>9.999689481669238</td></tr>\n",
       "<tr><td>22259</td><td>2022-01-15</td><td>9.999480105745507</td></tr>\n",
       "<tr><td>15358</td><td>2021-09-07</td><td>9.999432707070493</td></tr>\n",
       "<tr><td>10153</td><td>2021-11-26</td><td>9.99928417233684</td></tr>\n",
       "<tr><td>19099</td><td>2021-11-08</td><td>9.999195700323902</td></tr>\n",
       "</table>\n",
       "only showing top 20 rows\n"
      ],
      "text/plain": [
       "+-------+--------------+-----------------+\n",
       "|user_id|order_datetime|  fraud_prob_cons|\n",
       "+-------+--------------+-----------------+\n",
       "|  21419|    2021-12-10|99.24738020302328|\n",
       "|  21419|    2021-12-10|99.24738020302328|\n",
       "|   6228|    2021-12-19| 97.6298077657765|\n",
       "|   6228|    2021-12-19| 97.6298077657765|\n",
       "|  22239|    2021-10-19|94.70342477508035|\n",
       "|  22239|    2021-10-19|94.70342477508035|\n",
       "|   8347|    2021-10-06|92.99138306039121|\n",
       "|   8347|    2021-10-06|92.99138306039121|\n",
       "|  17900|    2022-02-25|92.73262811161372|\n",
       "|  17900|    2022-02-25|92.73262811161372|\n",
       "|   3101|    2021-04-17|91.42192091901347|\n",
       "|   4425|    2021-11-16|9.999973353985707|\n",
       "|  17778|    2021-10-31|9.999864306119923|\n",
       "|   1226|    2021-09-25| 9.99974779442365|\n",
       "|   9130|    2021-10-13|9.999729179552238|\n",
       "|   6869|    2021-12-10|9.999689481669238|\n",
       "|  22259|    2022-01-15|9.999480105745507|\n",
       "|  15358|    2021-09-07|9.999432707070493|\n",
       "|  10153|    2021-11-26| 9.99928417233684|\n",
       "|  19099|    2021-11-08|9.999195700323902|\n",
       "+-------+--------------+-----------------+\n",
       "only showing top 20 rows"
      ]
     },
     "execution_count": 22,
     "metadata": {},
     "output_type": "execute_result"
    }
   ],
   "source": [
    "consumer_fraud.orderBy(F.col('fraud_prob_cons').desc())"
   ]
  },
  {
   "cell_type": "markdown",
   "id": "dental-narrow",
   "metadata": {},
   "source": [
    "We can see that there are some duplicate rows in fraud dataframe, remove duplicated rows"
   ]
  },
  {
   "cell_type": "code",
   "execution_count": 23,
   "id": "united-violation",
   "metadata": {},
   "outputs": [],
   "source": [
    "consumer_fraud = consumer_fraud.distinct()"
   ]
  },
  {
   "cell_type": "markdown",
   "id": "annual-median",
   "metadata": {},
   "source": [
    "### Merge all dataframe"
   ]
  },
  {
   "cell_type": "code",
   "execution_count": 24,
   "id": "super-yukon",
   "metadata": {},
   "outputs": [
    {
     "name": "stderr",
     "output_type": "stream",
     "text": [
      "                                                                                \r"
     ]
    },
    {
     "data": {
      "text/plain": [
       "4422"
      ]
     },
     "execution_count": 24,
     "metadata": {},
     "output_type": "execute_result"
    }
   ],
   "source": [
    "transaction.groupby('merchant_abn').count().count()"
   ]
  },
  {
   "cell_type": "code",
   "execution_count": 37,
   "id": "supreme-treat",
   "metadata": {},
   "outputs": [
    {
     "data": {
      "text/plain": [
       "4026"
      ]
     },
     "execution_count": 37,
     "metadata": {},
     "output_type": "execute_result"
    }
   ],
   "source": [
    "final_merchant.count()"
   ]
  },
  {
   "cell_type": "markdown",
   "id": "breeding-milan",
   "metadata": {},
   "source": [
    "It is found that there are transactions in the dataset that is not done in the merchants in provided merchant dataset, we need to merge transactions with merchant to remove merchants that are not included"
   ]
  },
  {
   "cell_type": "code",
   "execution_count": 25,
   "id": "suitable-journey",
   "metadata": {},
   "outputs": [],
   "source": [
    "trans_merch = transaction.join(final_merchant, on = 'merchant_abn')"
   ]
  },
  {
   "cell_type": "code",
   "execution_count": 39,
   "id": "comic-forwarding",
   "metadata": {},
   "outputs": [
    {
     "data": {
      "text/plain": [
       "13614675"
      ]
     },
     "execution_count": 39,
     "metadata": {},
     "output_type": "execute_result"
    }
   ],
   "source": [
    "trans_merch.count()"
   ]
  },
  {
   "cell_type": "code",
   "execution_count": 40,
   "id": "numeric-printer",
   "metadata": {},
   "outputs": [
    {
     "data": {
      "text/plain": [
       "4026"
      ]
     },
     "execution_count": 40,
     "metadata": {},
     "output_type": "execute_result"
    }
   ],
   "source": [
    "# check if number of disinct merchants match merchant data\n",
    "trans_merch.groupby('merchant_abn').count().count()"
   ]
  },
  {
   "cell_type": "markdown",
   "id": "hollywood-uniform",
   "metadata": {},
   "source": [
    "Merchants that are not included are successfully removed from transaction dataset. \n",
    "\n",
    "Then merge the dataset with consumer data. We don't need consumer's name and address as they the address is fake and name does not provide general information.  "
   ]
  },
  {
   "cell_type": "code",
   "execution_count": 26,
   "id": "hawaiian-seeking",
   "metadata": {},
   "outputs": [],
   "source": [
    "consumer = consumer.drop(\"name\",\"address\")"
   ]
  },
  {
   "cell_type": "code",
   "execution_count": 27,
   "id": "historic-pulse",
   "metadata": {},
   "outputs": [],
   "source": [
    "trans_merch_cons = trans_merch.join(consumer, on = 'user_id')"
   ]
  },
  {
   "cell_type": "code",
   "execution_count": 43,
   "id": "spare-astronomy",
   "metadata": {},
   "outputs": [
    {
     "data": {
      "text/html": [
       "<table border='1'>\n",
       "<tr><th>user_id</th><th>merchant_abn</th><th>dollar_value</th><th>order_id</th><th>order_datetime</th><th>name</th><th>business_area</th><th>revenue_level</th><th>take_rate</th><th>consumer_id</th><th>state</th><th>postcode</th><th>gender</th></tr>\n",
       "<tr><td>19</td><td>94493496784</td><td>121.62828258168003</td><td>ff949237-bd02-40b...</td><td>2021-08-21</td><td>Dictum Phasellus ...</td><td>gift, card, novel...</td><td>a</td><td> 5.65</td><td>1226530</td><td>TAS</td><td>7276</td><td>Female</td></tr>\n",
       "<tr><td>19</td><td>79479365013</td><td>398.60394093957234</td><td>d38ba70d-0b27-48e...</td><td>2021-08-19</td><td>Facilisis Non Inc.</td><td>florists supplies...</td><td>a</td><td> 6.67</td><td>1226530</td><td>TAS</td><td>7276</td><td>Female</td></tr>\n",
       "<tr><td>19</td><td>63105795563</td><td>423.2372162036774</td><td>a4d755ef-5368-40c...</td><td>2021-08-19</td><td>Aliquet Consulting</td><td>artist supply and...</td><td>a</td><td> 5.94</td><td>1226530</td><td>TAS</td><td>7276</td><td>Female</td></tr>\n",
       "<tr><td>19</td><td>57900494384</td><td>13.411325379072077</td><td>52c06ef4-29df-4b7...</td><td>2021-08-22</td><td>Porttitor Tellus ...</td><td>tent and awning s...</td><td>a</td><td> 6.39</td><td>1226530</td><td>TAS</td><td>7276</td><td>Female</td></tr>\n",
       "<tr><td>19</td><td>80682333501</td><td>1.8745367326734035</td><td>af78a3a5-cf65-4f3...</td><td>2021-08-22</td><td>Orci Corp.</td><td>florists supplies...</td><td>b</td><td> 4.88</td><td>1226530</td><td>TAS</td><td>7276</td><td>Female</td></tr>\n",
       "</table>\n"
      ],
      "text/plain": [
       "+-------+------------+------------------+--------------------+--------------+--------------------+--------------------+-------------+---------+-----------+-----+--------+------+\n",
       "|user_id|merchant_abn|      dollar_value|            order_id|order_datetime|                name|       business_area|revenue_level|take_rate|consumer_id|state|postcode|gender|\n",
       "+-------+------------+------------------+--------------------+--------------+--------------------+--------------------+-------------+---------+-----------+-----+--------+------+\n",
       "|     19| 94493496784|121.62828258168003|ff949237-bd02-40b...|    2021-08-21|Dictum Phasellus ...|gift, card, novel...|            a|     5.65|    1226530|  TAS|    7276|Female|\n",
       "|     19| 79479365013|398.60394093957234|d38ba70d-0b27-48e...|    2021-08-19|  Facilisis Non Inc.|florists supplies...|            a|     6.67|    1226530|  TAS|    7276|Female|\n",
       "|     19| 63105795563| 423.2372162036774|a4d755ef-5368-40c...|    2021-08-19|  Aliquet Consulting|artist supply and...|            a|     5.94|    1226530|  TAS|    7276|Female|\n",
       "|     19| 57900494384|13.411325379072077|52c06ef4-29df-4b7...|    2021-08-22|Porttitor Tellus ...|tent and awning s...|            a|     6.39|    1226530|  TAS|    7276|Female|\n",
       "|     19| 80682333501|1.8745367326734035|af78a3a5-cf65-4f3...|    2021-08-22|          Orci Corp.|florists supplies...|            b|     4.88|    1226530|  TAS|    7276|Female|\n",
       "+-------+------------+------------------+--------------------+--------------+--------------------+--------------------+-------------+---------+-----------+-----+--------+------+"
      ]
     },
     "execution_count": 43,
     "metadata": {},
     "output_type": "execute_result"
    }
   ],
   "source": [
    "trans_merch_cons.limit(5)"
   ]
  },
  {
   "cell_type": "code",
   "execution_count": 44,
   "id": "south-beverage",
   "metadata": {},
   "outputs": [
    {
     "data": {
      "text/plain": [
       "13614675"
      ]
     },
     "execution_count": 44,
     "metadata": {},
     "output_type": "execute_result"
    }
   ],
   "source": [
    "trans_merch_cons.count()"
   ]
  },
  {
   "cell_type": "markdown",
   "id": "stuck-testimony",
   "metadata": {},
   "source": [
    "Now join transaction dataframe with fraud probability data"
   ]
  },
  {
   "cell_type": "code",
   "execution_count": 28,
   "id": "touched-carolina",
   "metadata": {},
   "outputs": [],
   "source": [
    "# join postcode with the full dataset\n",
    "data_with_fraud = trans_merch_cons.join(consumer_fraud, on = [\"user_id\",\"order_datetime\"], how = \"left\")"
   ]
  },
  {
   "cell_type": "code",
   "execution_count": 29,
   "id": "wooden-skating",
   "metadata": {
    "scrolled": true
   },
   "outputs": [
    {
     "name": "stderr",
     "output_type": "stream",
     "text": [
      "                                                                                \r"
     ]
    },
    {
     "data": {
      "text/html": [
       "<table border='1'>\n",
       "<tr><th>user_id</th><th>order_datetime</th><th>merchant_abn</th><th>dollar_value</th><th>order_id</th><th>name</th><th>business_area</th><th>revenue_level</th><th>take_rate</th><th>consumer_id</th><th>state</th><th>postcode</th><th>gender</th><th>fraud_prob_cons</th></tr>\n",
       "<tr><td>19</td><td>2021-08-21</td><td>94493496784</td><td>121.62828258168003</td><td>ff949237-bd02-40b...</td><td>Dictum Phasellus ...</td><td>gift, card, novel...</td><td>a</td><td> 5.65</td><td>1226530</td><td>TAS</td><td>7276</td><td>Female</td><td>null</td></tr>\n",
       "<tr><td>19</td><td>2021-08-19</td><td>79479365013</td><td>398.60394093957234</td><td>d38ba70d-0b27-48e...</td><td>Facilisis Non Inc.</td><td>florists supplies...</td><td>a</td><td> 6.67</td><td>1226530</td><td>TAS</td><td>7276</td><td>Female</td><td>null</td></tr>\n",
       "<tr><td>19</td><td>2021-08-19</td><td>63105795563</td><td>423.2372162036774</td><td>a4d755ef-5368-40c...</td><td>Aliquet Consulting</td><td>artist supply and...</td><td>a</td><td> 5.94</td><td>1226530</td><td>TAS</td><td>7276</td><td>Female</td><td>null</td></tr>\n",
       "<tr><td>19</td><td>2021-08-22</td><td>57900494384</td><td>13.411325379072077</td><td>52c06ef4-29df-4b7...</td><td>Porttitor Tellus ...</td><td>tent and awning s...</td><td>a</td><td> 6.39</td><td>1226530</td><td>TAS</td><td>7276</td><td>Female</td><td>null</td></tr>\n",
       "<tr><td>19</td><td>2021-08-22</td><td>80682333501</td><td>1.8745367326734035</td><td>af78a3a5-cf65-4f3...</td><td>Orci Corp.</td><td>florists supplies...</td><td>b</td><td> 4.88</td><td>1226530</td><td>TAS</td><td>7276</td><td>Female</td><td>null</td></tr>\n",
       "<tr><td>19</td><td>2021-08-14</td><td>46622394552</td><td>918.8573491448071</td><td>66f7946b-ab33-476...</td><td>Laoreet Libero Et...</td><td>stationery, offic...</td><td>a</td><td> 6.76</td><td>1226530</td><td>TAS</td><td>7276</td><td>Female</td><td>null</td></tr>\n",
       "<tr><td>19</td><td>2021-07-15</td><td>86578477987</td><td>21.251020797421425</td><td>2b074c63-33f9-444...</td><td>Leo In Consulting</td><td>watch, clock, and...</td><td>a</td><td> 6.43</td><td>1226530</td><td>TAS</td><td>7276</td><td>Female</td><td>null</td></tr>\n",
       "<tr><td>19</td><td>2021-08-16</td><td>29625244690</td><td>234.9066053905527</td><td>26d28826-acab-47e...</td><td>Id Enim Inc.</td><td>books, periodical...</td><td>a</td><td> 6.01</td><td>1226530</td><td>TAS</td><td>7276</td><td>Female</td><td>null</td></tr>\n",
       "<tr><td>19</td><td>2021-07-23</td><td>32361057556</td><td>83.96113155010558</td><td>2b0769e4-af43-4ae...</td><td>Orci In Consequat...</td><td>gift, card, novel...</td><td>a</td><td> 6.61</td><td>1226530</td><td>TAS</td><td>7276</td><td>Female</td><td>null</td></tr>\n",
       "<tr><td>19</td><td>2021-05-21</td><td>61997656782</td><td>315.7344805490105</td><td>8a42dafb-f515-4e5...</td><td>Mauris Erat Ltd</td><td>motor vehicle sup...</td><td>b</td><td> 4.40</td><td>1226530</td><td>TAS</td><td>7276</td><td>Female</td><td>null</td></tr>\n",
       "<tr><td>19</td><td>2021-05-21</td><td>30385986557</td><td>29.809352826260117</td><td>e822e2e8-e022-442...</td><td>Nulla Eu Neque Li...</td><td>digital goods: bo...</td><td>c</td><td> 1.82</td><td>1226530</td><td>TAS</td><td>7276</td><td>Female</td><td>null</td></tr>\n",
       "<tr><td>19</td><td>2021-05-21</td><td>94493496784</td><td>82.34091053686852</td><td>c75fa72c-7dea-497...</td><td>Dictum Phasellus ...</td><td>gift, card, novel...</td><td>a</td><td> 5.65</td><td>1226530</td><td>TAS</td><td>7276</td><td>Female</td><td>null</td></tr>\n",
       "<tr><td>19</td><td>2021-07-30</td><td>92343252737</td><td>121.20636789997202</td><td>f83d2845-1636-494...</td><td>Ornare Libero At ...</td><td>digital goods: bo...</td><td>a</td><td> 6.77</td><td>1226530</td><td>TAS</td><td>7276</td><td>Female</td><td>null</td></tr>\n",
       "<tr><td>19</td><td>2021-05-28</td><td>49891706470</td><td>31.812189226071403</td><td>88e92ed4-e133-45c...</td><td>Non Vestibulum In...</td><td>tent and awning s...</td><td>a</td><td> 5.80</td><td>1226530</td><td>TAS</td><td>7276</td><td>Female</td><td>null</td></tr>\n",
       "<tr><td>19</td><td>2021-05-20</td><td>66370248931</td><td>0.5456955376457929</td><td>af15f085-21dc-45e...</td><td>Morbi Non PC</td><td>cable, satellite,...</td><td>b</td><td> 3.15</td><td>1226530</td><td>TAS</td><td>7276</td><td>Female</td><td>null</td></tr>\n",
       "<tr><td>19</td><td>2021-05-20</td><td>49318926537</td><td>59.26782169566214</td><td>4588ec22-8553-407...</td><td>Ut Nisi Associates</td><td>bicycle shops - s...</td><td>c</td><td> 1.89</td><td>1226530</td><td>TAS</td><td>7276</td><td>Female</td><td>null</td></tr>\n",
       "<tr><td>19</td><td>2021-08-26</td><td>57961198956</td><td>367.68469621585814</td><td>6a4cefa5-2bbf-418...</td><td>Cursus Institute</td><td>shoe shops</td><td>a</td><td> 5.71</td><td>1226530</td><td>TAS</td><td>7276</td><td>Female</td><td>null</td></tr>\n",
       "<tr><td>19</td><td>2021-08-26</td><td>37687523474</td><td>10.013170477425616</td><td>b61cabc6-5306-440...</td><td>Nunc In Industries</td><td>digital goods: bo...</td><td>b</td><td> 3.44</td><td>1226530</td><td>TAS</td><td>7276</td><td>Female</td><td>null</td></tr>\n",
       "<tr><td>19</td><td>2021-06-25</td><td>40555823280</td><td>27.753873568413084</td><td>7c418767-dfe6-4c1...</td><td>Nibh Donec Incorp...</td><td>gift, card, novel...</td><td>a</td><td> 6.04</td><td>1226530</td><td>TAS</td><td>7276</td><td>Female</td><td>null</td></tr>\n",
       "<tr><td>19</td><td>2021-07-29</td><td>80518954462</td><td>218.1884309927213</td><td>2f2488dd-459f-4ec...</td><td>Neque Sed Dictum ...</td><td>computers, comput...</td><td>b</td><td> 3.49</td><td>1226530</td><td>TAS</td><td>7276</td><td>Female</td><td>null</td></tr>\n",
       "</table>\n"
      ],
      "text/plain": [
       "+-------+--------------+------------+------------------+--------------------+--------------------+--------------------+-------------+---------+-----------+-----+--------+------+---------------+\n",
       "|user_id|order_datetime|merchant_abn|      dollar_value|            order_id|                name|       business_area|revenue_level|take_rate|consumer_id|state|postcode|gender|fraud_prob_cons|\n",
       "+-------+--------------+------------+------------------+--------------------+--------------------+--------------------+-------------+---------+-----------+-----+--------+------+---------------+\n",
       "|     19|    2021-08-21| 94493496784|121.62828258168003|ff949237-bd02-40b...|Dictum Phasellus ...|gift, card, novel...|            a|     5.65|    1226530|  TAS|    7276|Female|           null|\n",
       "|     19|    2021-08-19| 79479365013|398.60394093957234|d38ba70d-0b27-48e...|  Facilisis Non Inc.|florists supplies...|            a|     6.67|    1226530|  TAS|    7276|Female|           null|\n",
       "|     19|    2021-08-19| 63105795563| 423.2372162036774|a4d755ef-5368-40c...|  Aliquet Consulting|artist supply and...|            a|     5.94|    1226530|  TAS|    7276|Female|           null|\n",
       "|     19|    2021-08-22| 57900494384|13.411325379072077|52c06ef4-29df-4b7...|Porttitor Tellus ...|tent and awning s...|            a|     6.39|    1226530|  TAS|    7276|Female|           null|\n",
       "|     19|    2021-08-22| 80682333501|1.8745367326734035|af78a3a5-cf65-4f3...|          Orci Corp.|florists supplies...|            b|     4.88|    1226530|  TAS|    7276|Female|           null|\n",
       "|     19|    2021-08-14| 46622394552| 918.8573491448071|66f7946b-ab33-476...|Laoreet Libero Et...|stationery, offic...|            a|     6.76|    1226530|  TAS|    7276|Female|           null|\n",
       "|     19|    2021-07-15| 86578477987|21.251020797421425|2b074c63-33f9-444...|   Leo In Consulting|watch, clock, and...|            a|     6.43|    1226530|  TAS|    7276|Female|           null|\n",
       "|     19|    2021-08-16| 29625244690| 234.9066053905527|26d28826-acab-47e...|        Id Enim Inc.|books, periodical...|            a|     6.01|    1226530|  TAS|    7276|Female|           null|\n",
       "|     19|    2021-07-23| 32361057556| 83.96113155010558|2b0769e4-af43-4ae...|Orci In Consequat...|gift, card, novel...|            a|     6.61|    1226530|  TAS|    7276|Female|           null|\n",
       "|     19|    2021-05-21| 61997656782| 315.7344805490105|8a42dafb-f515-4e5...|     Mauris Erat Ltd|motor vehicle sup...|            b|     4.40|    1226530|  TAS|    7276|Female|           null|\n",
       "|     19|    2021-05-21| 30385986557|29.809352826260117|e822e2e8-e022-442...|Nulla Eu Neque Li...|digital goods: bo...|            c|     1.82|    1226530|  TAS|    7276|Female|           null|\n",
       "|     19|    2021-05-21| 94493496784| 82.34091053686852|c75fa72c-7dea-497...|Dictum Phasellus ...|gift, card, novel...|            a|     5.65|    1226530|  TAS|    7276|Female|           null|\n",
       "|     19|    2021-07-30| 92343252737|121.20636789997202|f83d2845-1636-494...|Ornare Libero At ...|digital goods: bo...|            a|     6.77|    1226530|  TAS|    7276|Female|           null|\n",
       "|     19|    2021-05-28| 49891706470|31.812189226071403|88e92ed4-e133-45c...|Non Vestibulum In...|tent and awning s...|            a|     5.80|    1226530|  TAS|    7276|Female|           null|\n",
       "|     19|    2021-05-20| 66370248931|0.5456955376457929|af15f085-21dc-45e...|        Morbi Non PC|cable, satellite,...|            b|     3.15|    1226530|  TAS|    7276|Female|           null|\n",
       "|     19|    2021-05-20| 49318926537| 59.26782169566214|4588ec22-8553-407...|  Ut Nisi Associates|bicycle shops - s...|            c|     1.89|    1226530|  TAS|    7276|Female|           null|\n",
       "|     19|    2021-08-26| 57961198956|367.68469621585814|6a4cefa5-2bbf-418...|    Cursus Institute|          shoe shops|            a|     5.71|    1226530|  TAS|    7276|Female|           null|\n",
       "|     19|    2021-08-26| 37687523474|10.013170477425616|b61cabc6-5306-440...|  Nunc In Industries|digital goods: bo...|            b|     3.44|    1226530|  TAS|    7276|Female|           null|\n",
       "|     19|    2021-06-25| 40555823280|27.753873568413084|7c418767-dfe6-4c1...|Nibh Donec Incorp...|gift, card, novel...|            a|     6.04|    1226530|  TAS|    7276|Female|           null|\n",
       "|     19|    2021-07-29| 80518954462| 218.1884309927213|2f2488dd-459f-4ec...|Neque Sed Dictum ...|computers, comput...|            b|     3.49|    1226530|  TAS|    7276|Female|           null|\n",
       "+-------+--------------+------------+------------------+--------------------+--------------------+--------------------+-------------+---------+-----------+-----+--------+------+---------------+"
      ]
     },
     "execution_count": 29,
     "metadata": {},
     "output_type": "execute_result"
    }
   ],
   "source": [
    "data_with_fraud.limit(20)"
   ]
  },
  {
   "cell_type": "markdown",
   "id": "sensitive-bearing",
   "metadata": {},
   "source": [
    "This will result in null values for fraud_prob_cons if consumer ID and datatime are not in fraud probability dataframe, fill the null values by 0. Spark dataframe cannot fill null values in a column with float variables, hence we need to convert float to integer for spark to fill in null values"
   ]
  },
  {
   "cell_type": "code",
   "execution_count": 30,
   "id": "enormous-subcommittee",
   "metadata": {},
   "outputs": [],
   "source": [
    "full_dataset_filna = data_with_fraud.withColumn(\"fraud_prob_cons\", F.col(\"fraud_prob_cons\").cast(\"int\")).fillna(0)\n"
   ]
  },
  {
   "cell_type": "code",
   "execution_count": 48,
   "id": "global-relief",
   "metadata": {},
   "outputs": [
    {
     "data": {
      "text/html": [
       "<table border='1'>\n",
       "<tr><th>user_id</th><th>order_datetime</th><th>merchant_abn</th><th>dollar_value</th><th>order_id</th><th>name</th><th>business_area</th><th>revenue_level</th><th>take_rate</th><th>consumer_id</th><th>state</th><th>postcode</th><th>gender</th><th>fraud_prob_cons</th></tr>\n",
       "<tr><td>19</td><td>2021-08-21</td><td>94493496784</td><td>121.62828258168003</td><td>ff949237-bd02-40b...</td><td>Dictum Phasellus ...</td><td>gift, card, novel...</td><td>a</td><td> 5.65</td><td>1226530</td><td>TAS</td><td>7276</td><td>Female</td><td>0</td></tr>\n",
       "<tr><td>19</td><td>2021-08-19</td><td>79479365013</td><td>398.60394093957234</td><td>d38ba70d-0b27-48e...</td><td>Facilisis Non Inc.</td><td>florists supplies...</td><td>a</td><td> 6.67</td><td>1226530</td><td>TAS</td><td>7276</td><td>Female</td><td>0</td></tr>\n",
       "<tr><td>19</td><td>2021-08-19</td><td>63105795563</td><td>423.2372162036774</td><td>a4d755ef-5368-40c...</td><td>Aliquet Consulting</td><td>artist supply and...</td><td>a</td><td> 5.94</td><td>1226530</td><td>TAS</td><td>7276</td><td>Female</td><td>0</td></tr>\n",
       "<tr><td>19</td><td>2021-08-22</td><td>57900494384</td><td>13.411325379072077</td><td>52c06ef4-29df-4b7...</td><td>Porttitor Tellus ...</td><td>tent and awning s...</td><td>a</td><td> 6.39</td><td>1226530</td><td>TAS</td><td>7276</td><td>Female</td><td>0</td></tr>\n",
       "<tr><td>19</td><td>2021-08-22</td><td>80682333501</td><td>1.8745367326734035</td><td>af78a3a5-cf65-4f3...</td><td>Orci Corp.</td><td>florists supplies...</td><td>b</td><td> 4.88</td><td>1226530</td><td>TAS</td><td>7276</td><td>Female</td><td>0</td></tr>\n",
       "</table>\n"
      ],
      "text/plain": [
       "+-------+--------------+------------+------------------+--------------------+--------------------+--------------------+-------------+---------+-----------+-----+--------+------+---------------+\n",
       "|user_id|order_datetime|merchant_abn|      dollar_value|            order_id|                name|       business_area|revenue_level|take_rate|consumer_id|state|postcode|gender|fraud_prob_cons|\n",
       "+-------+--------------+------------+------------------+--------------------+--------------------+--------------------+-------------+---------+-----------+-----+--------+------+---------------+\n",
       "|     19|    2021-08-21| 94493496784|121.62828258168003|ff949237-bd02-40b...|Dictum Phasellus ...|gift, card, novel...|            a|     5.65|    1226530|  TAS|    7276|Female|              0|\n",
       "|     19|    2021-08-19| 79479365013|398.60394093957234|d38ba70d-0b27-48e...|  Facilisis Non Inc.|florists supplies...|            a|     6.67|    1226530|  TAS|    7276|Female|              0|\n",
       "|     19|    2021-08-19| 63105795563| 423.2372162036774|a4d755ef-5368-40c...|  Aliquet Consulting|artist supply and...|            a|     5.94|    1226530|  TAS|    7276|Female|              0|\n",
       "|     19|    2021-08-22| 57900494384|13.411325379072077|52c06ef4-29df-4b7...|Porttitor Tellus ...|tent and awning s...|            a|     6.39|    1226530|  TAS|    7276|Female|              0|\n",
       "|     19|    2021-08-22| 80682333501|1.8745367326734035|af78a3a5-cf65-4f3...|          Orci Corp.|florists supplies...|            b|     4.88|    1226530|  TAS|    7276|Female|              0|\n",
       "+-------+--------------+------------+------------------+--------------------+--------------------+--------------------+-------------+---------+-----------+-----+--------+------+---------------+"
      ]
     },
     "execution_count": 48,
     "metadata": {},
     "output_type": "execute_result"
    }
   ],
   "source": [
    "full_dataset_filna.limit(5)"
   ]
  },
  {
   "cell_type": "code",
   "execution_count": 31,
   "id": "greater-somerset",
   "metadata": {},
   "outputs": [],
   "source": [
    "# select transactions with fraud probability of less than 50 to be valid transactions\n",
    "data_remove_fraud = full_dataset_filna.filter(full_dataset_filna.fraud_prob_cons<50)"
   ]
  },
  {
   "cell_type": "code",
   "execution_count": 50,
   "id": "consecutive-stranger",
   "metadata": {},
   "outputs": [
    {
     "data": {
      "text/plain": [
       "-1063"
      ]
     },
     "execution_count": 50,
     "metadata": {},
     "output_type": "execute_result"
    }
   ],
   "source": [
    "data_remove_fraud.count() - full_dataset_filna.count()"
   ]
  },
  {
   "cell_type": "code",
   "execution_count": 36,
   "id": "f4827975",
   "metadata": {},
   "outputs": [],
   "source": [
    "# adding lead zeros for post code\n",
    "from pyspark.sql.functions import lpad\n",
    "data_remove_fraud = data_remove_fraud.withColumn('postcode',lpad(data_remove_fraud['postcode'],4,'0'))"
   ]
  },
  {
   "cell_type": "markdown",
   "id": "automatic-ordinary",
   "metadata": {},
   "source": [
    "Removed 1063 fraud transactions with fraud probability over 50%"
   ]
  },
  {
   "cell_type": "markdown",
   "id": "dying-context",
   "metadata": {},
   "source": [
    "Then we should merge the dataset with census data"
   ]
  },
  {
   "cell_type": "code",
   "execution_count": 37,
   "id": "forbidden-enhancement",
   "metadata": {},
   "outputs": [],
   "source": [
    "full_dataset = data_remove_fraud.join(census, on = [\"postcode\"], how = \"left\")"
   ]
  },
  {
   "cell_type": "code",
   "execution_count": 35,
   "id": "ec14555c",
   "metadata": {},
   "outputs": [],
   "source": [
    "from pyspark.sql.functions import lpad\n",
    "full_dataset =  full_dataset.withColumn('postcode',lpad(full_dataset['postcode'],4,'0'))"
   ]
  },
  {
   "cell_type": "code",
   "execution_count": 46,
   "id": "victorian-irrigation",
   "metadata": {},
   "outputs": [
    {
     "name": "stderr",
     "output_type": "stream",
     "text": [
      "                                                                                \r"
     ]
    },
    {
     "data": {
      "text/html": [
       "<table border='1'>\n",
       "<tr><th>postcode</th><th>user_id</th><th>order_datetime</th><th>merchant_abn</th><th>dollar_value</th><th>order_id</th><th>name</th><th>business_area</th><th>revenue_level</th><th>take_rate</th><th>consumer_id</th><th>state</th><th>gender</th><th>fraud_prob_cons</th><th>POA_CODE_2021</th><th>Median_age_persons</th><th>Median_mortgage_repay_monthly</th><th>Median_tot_prsnl_inc_weekly</th><th>Median_rent_weekly</th><th>Median_tot_fam_inc_weekly</th><th>Average_num_psns_per_bedroom</th><th>Median_tot_hhd_inc_weekly</th><th>Average_household_size</th></tr>\n",
       "<tr><td>7276</td><td>19</td><td>2021-08-21</td><td>94493496784</td><td>121.62828258168003</td><td>ff949237-bd02-40b...</td><td>Dictum Phasellus ...</td><td>gift, card, novel...</td><td>a</td><td> 5.65</td><td>1226530</td><td>TAS</td><td>Female</td><td>0</td><td>POA7276</td><td>46</td><td>1221</td><td>689</td><td>235</td><td>1738</td><td>0.8</td><td>1380</td><td>2.3</td></tr>\n",
       "<tr><td>7276</td><td>19</td><td>2021-08-19</td><td>79479365013</td><td>398.60394093957234</td><td>d38ba70d-0b27-48e...</td><td>Facilisis Non Inc.</td><td>florists supplies...</td><td>a</td><td> 6.67</td><td>1226530</td><td>TAS</td><td>Female</td><td>0</td><td>POA7276</td><td>46</td><td>1221</td><td>689</td><td>235</td><td>1738</td><td>0.8</td><td>1380</td><td>2.3</td></tr>\n",
       "<tr><td>7276</td><td>19</td><td>2021-08-19</td><td>63105795563</td><td>423.2372162036774</td><td>a4d755ef-5368-40c...</td><td>Aliquet Consulting</td><td>artist supply and...</td><td>a</td><td> 5.94</td><td>1226530</td><td>TAS</td><td>Female</td><td>0</td><td>POA7276</td><td>46</td><td>1221</td><td>689</td><td>235</td><td>1738</td><td>0.8</td><td>1380</td><td>2.3</td></tr>\n",
       "<tr><td>7276</td><td>19</td><td>2021-08-22</td><td>57900494384</td><td>13.411325379072077</td><td>52c06ef4-29df-4b7...</td><td>Porttitor Tellus ...</td><td>tent and awning s...</td><td>a</td><td> 6.39</td><td>1226530</td><td>TAS</td><td>Female</td><td>0</td><td>POA7276</td><td>46</td><td>1221</td><td>689</td><td>235</td><td>1738</td><td>0.8</td><td>1380</td><td>2.3</td></tr>\n",
       "<tr><td>7276</td><td>19</td><td>2021-08-22</td><td>80682333501</td><td>1.8745367326734035</td><td>af78a3a5-cf65-4f3...</td><td>Orci Corp.</td><td>florists supplies...</td><td>b</td><td> 4.88</td><td>1226530</td><td>TAS</td><td>Female</td><td>0</td><td>POA7276</td><td>46</td><td>1221</td><td>689</td><td>235</td><td>1738</td><td>0.8</td><td>1380</td><td>2.3</td></tr>\n",
       "</table>\n"
      ],
      "text/plain": [
       "+--------+-------+--------------+------------+------------------+--------------------+--------------------+--------------------+-------------+---------+-----------+-----+------+---------------+-------------+------------------+-----------------------------+---------------------------+------------------+-------------------------+----------------------------+-------------------------+----------------------+\n",
       "|postcode|user_id|order_datetime|merchant_abn|      dollar_value|            order_id|                name|       business_area|revenue_level|take_rate|consumer_id|state|gender|fraud_prob_cons|POA_CODE_2021|Median_age_persons|Median_mortgage_repay_monthly|Median_tot_prsnl_inc_weekly|Median_rent_weekly|Median_tot_fam_inc_weekly|Average_num_psns_per_bedroom|Median_tot_hhd_inc_weekly|Average_household_size|\n",
       "+--------+-------+--------------+------------+------------------+--------------------+--------------------+--------------------+-------------+---------+-----------+-----+------+---------------+-------------+------------------+-----------------------------+---------------------------+------------------+-------------------------+----------------------------+-------------------------+----------------------+\n",
       "|    7276|     19|    2021-08-21| 94493496784|121.62828258168003|ff949237-bd02-40b...|Dictum Phasellus ...|gift, card, novel...|            a|     5.65|    1226530|  TAS|Female|              0|      POA7276|                46|                         1221|                        689|               235|                     1738|                         0.8|                     1380|                   2.3|\n",
       "|    7276|     19|    2021-08-19| 79479365013|398.60394093957234|d38ba70d-0b27-48e...|  Facilisis Non Inc.|florists supplies...|            a|     6.67|    1226530|  TAS|Female|              0|      POA7276|                46|                         1221|                        689|               235|                     1738|                         0.8|                     1380|                   2.3|\n",
       "|    7276|     19|    2021-08-19| 63105795563| 423.2372162036774|a4d755ef-5368-40c...|  Aliquet Consulting|artist supply and...|            a|     5.94|    1226530|  TAS|Female|              0|      POA7276|                46|                         1221|                        689|               235|                     1738|                         0.8|                     1380|                   2.3|\n",
       "|    7276|     19|    2021-08-22| 57900494384|13.411325379072077|52c06ef4-29df-4b7...|Porttitor Tellus ...|tent and awning s...|            a|     6.39|    1226530|  TAS|Female|              0|      POA7276|                46|                         1221|                        689|               235|                     1738|                         0.8|                     1380|                   2.3|\n",
       "|    7276|     19|    2021-08-22| 80682333501|1.8745367326734035|af78a3a5-cf65-4f3...|          Orci Corp.|florists supplies...|            b|     4.88|    1226530|  TAS|Female|              0|      POA7276|                46|                         1221|                        689|               235|                     1738|                         0.8|                     1380|                   2.3|\n",
       "+--------+-------+--------------+------------+------------------+--------------------+--------------------+--------------------+-------------+---------+-----------+-----+------+---------------+-------------+------------------+-----------------------------+---------------------------+------------------+-------------------------+----------------------------+-------------------------+----------------------+"
      ]
     },
     "execution_count": 46,
     "metadata": {},
     "output_type": "execute_result"
    }
   ],
   "source": [
    "full_dataset.limit(5)"
   ]
  },
  {
   "cell_type": "code",
   "execution_count": 56,
   "id": "south-skill",
   "metadata": {},
   "outputs": [
    {
     "data": {
      "text/plain": [
       "2643"
      ]
     },
     "execution_count": 56,
     "metadata": {},
     "output_type": "execute_result"
    }
   ],
   "source": [
    "census.count()"
   ]
  },
  {
   "cell_type": "code",
   "execution_count": 73,
   "id": "e71494a0",
   "metadata": {},
   "outputs": [],
   "source": [
    "full_dataset = full_dataset.drop(\"POA_CODE_2021\")"
   ]
  },
  {
   "cell_type": "code",
   "execution_count": 80,
   "id": "f290c322",
   "metadata": {},
   "outputs": [],
   "source": [
    "dataset_with_null = full_dataset.filter(F.col('Median_tot_prsnl_inc_weekly').isNull()).groupby(\"postcode\").count()"
   ]
  },
  {
   "cell_type": "code",
   "execution_count": 69,
   "id": "f55dc2c9",
   "metadata": {},
   "outputs": [],
   "source": [
    "full_dataset = full_dataset.filter(F.col('Median_tot_prsnl_inc_weekly').isNotNull())"
   ]
  },
  {
   "cell_type": "code",
   "execution_count": 81,
   "id": "a7493354",
   "metadata": {},
   "outputs": [],
   "source": [
    "dataset_with_null = dataset_with_null.withColumn(\n",
    "    'STE_CODE_2021',\n",
    "    F.when(((F.col(\"postcode\") >= 1000) & (F.col(\"postcode\") <= 2599 )) | ((F.col(\"postcode\") >= 2619) & (F.col(\"postcode\") <= 2898 )) | ((F.col(\"postcode\") >= 2921) & (F.col(\"postcode\") <= 2999 )), 1)\\\n",
    "\n",
    "    .when(((F.col(\"postcode\") >= '0200') & (F.col(\"postcode\") <= '0299' )) | ((F.col(\"postcode\") >= 2600) & (F.col(\"postcode\") <= 2618 )) | ((F.col(\"postcode\") >= 2900) & (F.col(\"postcode\") <= 2920 )), 8)\\\n",
    "\n",
    "    .when(((F.col(\"postcode\") >= 3000) & (F.col(\"postcode\") <= 3999 )) | ((F.col(\"postcode\") >= 8000) & (F.col(\"postcode\") <= 8999 )),2)\\\n",
    "\n",
    "    .when(((F.col(\"postcode\") >= 4000) & (F.col(\"postcode\") <= 4999 )) | ((F.col(\"postcode\") >= 9000) & (F.col(\"postcode\") <= 9999 )),3)\\\n",
    "\n",
    "    .when(((F.col(\"postcode\") >= 5000) & (F.col(\"postcode\") <= 5999  )),4)\\\n",
    "\n",
    "    .when(((F.col(\"postcode\") >= 6000) & (F.col(\"postcode\") <= 6797 )) | ((F.col(\"postcode\") >= 6800) & (F.col(\"postcode\") <= 6999 )),5)\\\n",
    "\n",
    "    .when(((F.col(\"postcode\") >= 7000) & (F.col(\"postcode\") <= 8000 )), 6)\\\n",
    "\n",
    "    .otherwise(7)\n",
    ")"
   ]
  },
  {
   "cell_type": "code",
   "execution_count": 82,
   "id": "83cec297",
   "metadata": {},
   "outputs": [],
   "source": [
    "dataset_with_null = dataset_with_null.join(census_state, ['STE_CODE_2021']).drop(\"STE_CODE_2021\",'count')"
   ]
  },
  {
   "cell_type": "code",
   "execution_count": 83,
   "id": "4d3f2fa6",
   "metadata": {},
   "outputs": [],
   "source": [
    "dataset_with_null = data_remove_fraud.join(dataset_with_null, on = [\"postcode\"], how = \"right\")"
   ]
  },
  {
   "cell_type": "code",
   "execution_count": 79,
   "id": "0ecbbde8",
   "metadata": {},
   "outputs": [
    {
     "name": "stderr",
     "output_type": "stream",
     "text": [
      "                                                                                \r"
     ]
    },
    {
     "data": {
      "text/html": [
       "<table border='1'>\n",
       "<tr><th>postcode</th><th>user_id</th><th>order_datetime</th><th>merchant_abn</th><th>dollar_value</th><th>order_id</th><th>name</th><th>business_area</th><th>revenue_level</th><th>take_rate</th><th>consumer_id</th><th>state</th><th>gender</th><th>fraud_prob_cons</th><th>count</th><th>Median_age_persons</th><th>Median_mortgage_repay_monthly</th><th>Median_tot_prsnl_inc_weekly</th><th>Median_rent_weekly</th><th>Median_tot_fam_inc_weekly</th><th>Average_num_psns_per_bedroom</th><th>Median_tot_hhd_inc_weekly</th><th>Average_household_size</th></tr>\n",
       "<tr><td>0862</td><td>3</td><td>2021-08-20</td><td>60956456424</td><td>136.6785200286976</td><td>0f09c5a5-784e-447...</td><td>Ultricies Digniss...</td><td>gift, card, novel...</td><td>b</td><td> 4.69</td><td>1194530</td><td>NT</td><td>Female</td><td>0</td><td>null</td><td>null</td><td>null</td><td>null</td><td>null</td><td>null</td><td>null</td><td>null</td><td>null</td></tr>\n",
       "</table>\n"
      ],
      "text/plain": [
       "+--------+-------+--------------+------------+-----------------+--------------------+--------------------+--------------------+-------------+---------+-----------+-----+------+---------------+-----+------------------+-----------------------------+---------------------------+------------------+-------------------------+----------------------------+-------------------------+----------------------+\n",
       "|postcode|user_id|order_datetime|merchant_abn|     dollar_value|            order_id|                name|       business_area|revenue_level|take_rate|consumer_id|state|gender|fraud_prob_cons|count|Median_age_persons|Median_mortgage_repay_monthly|Median_tot_prsnl_inc_weekly|Median_rent_weekly|Median_tot_fam_inc_weekly|Average_num_psns_per_bedroom|Median_tot_hhd_inc_weekly|Average_household_size|\n",
       "+--------+-------+--------------+------------+-----------------+--------------------+--------------------+--------------------+-------------+---------+-----------+-----+------+---------------+-----+------------------+-----------------------------+---------------------------+------------------+-------------------------+----------------------------+-------------------------+----------------------+\n",
       "|    0862|      3|    2021-08-20| 60956456424|136.6785200286976|0f09c5a5-784e-447...|Ultricies Digniss...|gift, card, novel...|            b|     4.69|    1194530|   NT|Female|              0| null|              null|                         null|                       null|              null|                     null|                        null|                     null|                  null|\n",
       "+--------+-------+--------------+------------+-----------------+--------------------+--------------------+--------------------+-------------+---------+-----------+-----+------+---------------+-----+------------------+-----------------------------+---------------------------+------------------+-------------------------+----------------------------+-------------------------+----------------------+"
      ]
     },
     "execution_count": 79,
     "metadata": {},
     "output_type": "execute_result"
    }
   ],
   "source": [
    "dataset_with_null.limit(1)"
   ]
  },
  {
   "cell_type": "code",
   "execution_count": 84,
   "id": "f7a03cb5",
   "metadata": {},
   "outputs": [
    {
     "data": {
      "text/plain": [
       "[('postcode', 'string'),\n",
       " ('user_id', 'bigint'),\n",
       " ('order_datetime', 'date'),\n",
       " ('merchant_abn', 'bigint'),\n",
       " ('dollar_value', 'double'),\n",
       " ('order_id', 'string'),\n",
       " ('name', 'string'),\n",
       " ('business_area', 'string'),\n",
       " ('revenue_level', 'string'),\n",
       " ('take_rate', 'string'),\n",
       " ('consumer_id', 'bigint'),\n",
       " ('state', 'string'),\n",
       " ('gender', 'string'),\n",
       " ('fraud_prob_cons', 'int'),\n",
       " ('Median_age_persons', 'string'),\n",
       " ('Median_mortgage_repay_monthly', 'string'),\n",
       " ('Median_tot_prsnl_inc_weekly', 'string'),\n",
       " ('Median_rent_weekly', 'string'),\n",
       " ('Median_tot_fam_inc_weekly', 'string'),\n",
       " ('Average_num_psns_per_bedroom', 'string'),\n",
       " ('Median_tot_hhd_inc_weekly', 'string'),\n",
       " ('Average_household_size', 'string')]"
      ]
     },
     "execution_count": 84,
     "metadata": {},
     "output_type": "execute_result"
    }
   ],
   "source": [
    "dataset_with_null.dtypes"
   ]
  },
  {
   "cell_type": "code",
   "execution_count": 86,
   "id": "403cef99",
   "metadata": {},
   "outputs": [],
   "source": [
    "full_dataset = full_dataset.union(dataset_with_null)"
   ]
  },
  {
   "cell_type": "code",
   "execution_count": 87,
   "id": "authentic-reputation",
   "metadata": {},
   "outputs": [
    {
     "data": {
      "text/plain": [
       "0"
      ]
     },
     "execution_count": 87,
     "metadata": {},
     "output_type": "execute_result"
    }
   ],
   "source": [
    "full_dataset.filter(F.col('Median_tot_prsnl_inc_weekly').isNull()).groupby(\"postcode\").count().count()"
   ]
  },
  {
   "cell_type": "code",
   "execution_count": 60,
   "id": "documentary-serve",
   "metadata": {},
   "outputs": [],
   "source": [
    "full_dataset = full_dataset.drop(\"POA_CODE_2021\", \"order_id\")"
   ]
  },
  {
   "cell_type": "code",
   "execution_count": 63,
   "id": "expensive-jones",
   "metadata": {},
   "outputs": [
    {
     "data": {
      "text/plain": [
       "13613612"
      ]
     },
     "execution_count": 63,
     "metadata": {},
     "output_type": "execute_result"
    }
   ],
   "source": [
    "full_dataset.count()"
   ]
  },
  {
   "cell_type": "code",
   "execution_count": 61,
   "id": "bulgarian-somalia",
   "metadata": {},
   "outputs": [
    {
     "data": {
      "text/html": [
       "<table border='1'>\n",
       "<tr><th>postcode</th><th>user_id</th><th>order_datetime</th><th>merchant_abn</th><th>dollar_value</th><th>name</th><th>business_area</th><th>revenue_level</th><th>take_rate</th><th>consumer_id</th><th>state</th><th>gender</th><th>fraud_prob_cons</th><th>Median_age_persons</th><th>Median_mortgage_repay_monthly</th><th>Median_tot_prsnl_inc_weekly</th><th>Median_rent_weekly</th><th>Median_tot_fam_inc_weekly</th><th>Average_num_psns_per_bedroom</th><th>Median_tot_hhd_inc_weekly</th><th>Average_household_size</th></tr>\n",
       "<tr><td>4606</td><td>7</td><td>2021-08-20</td><td>33064796871</td><td>373.0873675184212</td><td>Curabitur Massa C...</td><td>computer programm...</td><td>b</td><td> 3.75</td><td>511685</td><td>QLD</td><td>Female</td><td>0</td><td>52</td><td>1073</td><td>536</td><td>220</td><td>1343</td><td>0.7</td><td>1003</td><td>2.2</td></tr>\n",
       "<tr><td>4606</td><td>7</td><td>2021-08-20</td><td>68435002949</td><td>232.5364986739752</td><td>Aliquam Eu Inc.</td><td>artist supply and...</td><td>a</td><td> 6.65</td><td>511685</td><td>QLD</td><td>Female</td><td>0</td><td>52</td><td>1073</td><td>536</td><td>220</td><td>1343</td><td>0.7</td><td>1003</td><td>2.2</td></tr>\n",
       "<tr><td>4606</td><td>7</td><td>2021-08-20</td><td>41944909975</td><td>30.910755230234322</td><td>Et Nunc Consulting</td><td>books, periodical...</td><td>e</td><td> 0.16</td><td>511685</td><td>QLD</td><td>Female</td><td>0</td><td>52</td><td>1073</td><td>536</td><td>220</td><td>1343</td><td>0.7</td><td>1003</td><td>2.2</td></tr>\n",
       "<tr><td>4606</td><td>7</td><td>2021-08-21</td><td>21439773999</td><td>91.18655746114226</td><td>Mauris Non Institute</td><td>cable, satellite,...</td><td>a</td><td> 6.10</td><td>511685</td><td>QLD</td><td>Female</td><td>0</td><td>52</td><td>1073</td><td>536</td><td>220</td><td>1343</td><td>0.7</td><td>1003</td><td>2.2</td></tr>\n",
       "<tr><td>4606</td><td>7</td><td>2021-08-19</td><td>86662713230</td><td>38.8137172956379</td><td>Vestibulum Accums...</td><td>watch, clock, and...</td><td>a</td><td> 6.41</td><td>511685</td><td>QLD</td><td>Female</td><td>0</td><td>52</td><td>1073</td><td>536</td><td>220</td><td>1343</td><td>0.7</td><td>1003</td><td>2.2</td></tr>\n",
       "</table>\n"
      ],
      "text/plain": [
       "+--------+-------+--------------+------------+------------------+--------------------+--------------------+-------------+---------+-----------+-----+------+---------------+------------------+-----------------------------+---------------------------+------------------+-------------------------+----------------------------+-------------------------+----------------------+\n",
       "|postcode|user_id|order_datetime|merchant_abn|      dollar_value|                name|       business_area|revenue_level|take_rate|consumer_id|state|gender|fraud_prob_cons|Median_age_persons|Median_mortgage_repay_monthly|Median_tot_prsnl_inc_weekly|Median_rent_weekly|Median_tot_fam_inc_weekly|Average_num_psns_per_bedroom|Median_tot_hhd_inc_weekly|Average_household_size|\n",
       "+--------+-------+--------------+------------+------------------+--------------------+--------------------+-------------+---------+-----------+-----+------+---------------+------------------+-----------------------------+---------------------------+------------------+-------------------------+----------------------------+-------------------------+----------------------+\n",
       "|    4606|      7|    2021-08-20| 33064796871| 373.0873675184212|Curabitur Massa C...|computer programm...|            b|     3.75|     511685|  QLD|Female|              0|                52|                         1073|                        536|               220|                     1343|                         0.7|                     1003|                   2.2|\n",
       "|    4606|      7|    2021-08-20| 68435002949| 232.5364986739752|     Aliquam Eu Inc.|artist supply and...|            a|     6.65|     511685|  QLD|Female|              0|                52|                         1073|                        536|               220|                     1343|                         0.7|                     1003|                   2.2|\n",
       "|    4606|      7|    2021-08-20| 41944909975|30.910755230234322|  Et Nunc Consulting|books, periodical...|            e|     0.16|     511685|  QLD|Female|              0|                52|                         1073|                        536|               220|                     1343|                         0.7|                     1003|                   2.2|\n",
       "|    4606|      7|    2021-08-21| 21439773999| 91.18655746114226|Mauris Non Institute|cable, satellite,...|            a|     6.10|     511685|  QLD|Female|              0|                52|                         1073|                        536|               220|                     1343|                         0.7|                     1003|                   2.2|\n",
       "|    4606|      7|    2021-08-19| 86662713230|  38.8137172956379|Vestibulum Accums...|watch, clock, and...|            a|     6.41|     511685|  QLD|Female|              0|                52|                         1073|                        536|               220|                     1343|                         0.7|                     1003|                   2.2|\n",
       "+--------+-------+--------------+------------+------------------+--------------------+--------------------+-------------+---------+-----------+-----+------+---------------+------------------+-----------------------------+---------------------------+------------------+-------------------------+----------------------------+-------------------------+----------------------+"
      ]
     },
     "execution_count": 61,
     "metadata": {},
     "output_type": "execute_result"
    }
   ],
   "source": [
    "full_dataset.limit(5)"
   ]
  },
  {
   "cell_type": "code",
   "execution_count": 64,
   "id": "56ecd266",
   "metadata": {},
   "outputs": [],
   "source": [
    "# save dataset\n",
    "full_dataset.write.mode('overwrite').parquet('../data/curated/full_dataset/')"
   ]
  }
 ],
 "metadata": {
  "kernelspec": {
   "display_name": "Python 3",
   "language": "python",
   "name": "python3"
  },
  "language_info": {
   "codemirror_mode": {
    "name": "ipython",
    "version": 3
   },
   "file_extension": ".py",
   "mimetype": "text/x-python",
   "name": "python",
   "nbconvert_exporter": "python",
   "pygments_lexer": "ipython3",
   "version": "3.9.2"
  },
  "vscode": {
   "interpreter": {
    "hash": "916dbcbb3f70747c44a77c7bcd40155683ae19c65e1c03b4aa3499c5328201f1"
   }
  }
 },
 "nbformat": 4,
 "nbformat_minor": 5
}
