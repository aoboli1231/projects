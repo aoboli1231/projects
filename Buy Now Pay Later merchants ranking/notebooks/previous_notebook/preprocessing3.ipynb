{
 "cells": [
  {
   "cell_type": "markdown",
   "metadata": {},
   "source": [
    "## Buy Now, Pay Later Project\n",
    "### MAST30034: Applied Data Science \n",
    "#### Notebook 2: Preprocessing Data 2: Data Aggregation"
   ]
  },
  {
   "cell_type": "code",
   "execution_count": 29,
   "metadata": {},
   "outputs": [],
   "source": [
    "# create modeling spark session\n",
    "from pyspark.sql import SparkSession\n",
    "import pandas as pd\n",
    "\n",
    "spark = (\n",
    "    SparkSession.builder.appName('Project 2 test')\n",
    "    .config('spark.sql.repl.eagerEval.enabled', True) \n",
    "    .config('spark.sql.parquet.cacheMetadata', 'true')\n",
    "    .config(\"spark.sql.session.timeZone\", \"Etc/UTC\")\n",
    "    .config(\"spark.executor.memory\", \"8g\")\n",
    "    .config(\"spark.driver.memory\", \"8g\")\n",
    "    .getOrCreate()\n",
    ")"
   ]
  },
  {
   "cell_type": "code",
   "execution_count": 30,
   "metadata": {},
   "outputs": [
    {
     "data": {
      "text/html": [
       "<table border='1'>\n",
       "<tr><th>postcode</th><th>user_id</th><th>merchant_abn</th><th>dollar_value</th><th>order_datetime</th><th>name</th><th>business_area</th><th>revenue_level</th><th>take_rate</th><th>consumer_id</th><th>state</th><th>gender</th><th>Median_age_persons</th><th>Median_mortgage_repay_monthly</th><th>Median_tot_prsnl_inc_weekly</th><th>Median_rent_weekly</th><th>Median_tot_fam_inc_weekly</th><th>Average_num_psns_per_bedroom</th><th>Median_tot_hhd_inc_weekly</th><th>Average_household_size</th><th>business_area_type</th><th>annual_turnover_percentage</th></tr>\n",
       "<tr><td>3332</td><td>14</td><td>68004106739</td><td>35.066583865041444</td><td>2021-08-08</td><td>Nec Ante Ltd</td><td>cable, satellite,...</td><td>a</td><td> 5.61</td><td>1343547</td><td>VIC</td><td>Male</td><td>38</td><td>1733</td><td>797</td><td>350</td><td>2096</td><td>0.8</td><td>1955</td><td>2.9</td><td>Retail trade</td><td>21.9</td></tr>\n",
       "<tr><td>3722</td><td>15147</td><td>47663262928</td><td>94.21710419172265</td><td>2021-04-29</td><td>Eget Lacus LLP</td><td>cable, satellite,...</td><td>a</td><td> 6.66</td><td>432764</td><td>VIC</td><td>Male</td><td>47</td><td>1600</td><td>756</td><td>331</td><td>1790</td><td>0.7</td><td>1360</td><td>2.3</td><td>Retail trade</td><td>21.9</td></tr>\n",
       "<tr><td>3332</td><td>14</td><td>70052129860</td><td>10.624562993647425</td><td>2021-07-25</td><td>Donec Tempus Lore...</td><td>cable, satellite,...</td><td>b</td><td> 3.37</td><td>1343547</td><td>VIC</td><td>Male</td><td>38</td><td>1733</td><td>797</td><td>350</td><td>2096</td><td>0.8</td><td>1955</td><td>2.9</td><td>Retail trade</td><td>21.9</td></tr>\n",
       "<tr><td>3722</td><td>15147</td><td>57021295485</td><td>221.6034024277662</td><td>2021-04-22</td><td>Enim Etiam Imperd...</td><td>cable, satellite,...</td><td>a</td><td> 5.75</td><td>432764</td><td>VIC</td><td>Male</td><td>47</td><td>1600</td><td>756</td><td>331</td><td>1790</td><td>0.7</td><td>1360</td><td>2.3</td><td>Retail trade</td><td>21.9</td></tr>\n",
       "<tr><td>3332</td><td>14</td><td>79645157255</td><td>21.838580731119894</td><td>2021-04-16</td><td>Consectetuer Maur...</td><td>cable, satellite,...</td><td>a</td><td> 6.46</td><td>1343547</td><td>VIC</td><td>Male</td><td>38</td><td>1733</td><td>797</td><td>350</td><td>2096</td><td>0.8</td><td>1955</td><td>2.9</td><td>Retail trade</td><td>21.9</td></tr>\n",
       "<tr><td>3722</td><td>15147</td><td>21439773999</td><td>48.687348438799425</td><td>2021-04-26</td><td>Mauris Non Institute</td><td>cable, satellite,...</td><td>a</td><td> 6.10</td><td>432764</td><td>VIC</td><td>Male</td><td>47</td><td>1600</td><td>756</td><td>331</td><td>1790</td><td>0.7</td><td>1360</td><td>2.3</td><td>Retail trade</td><td>21.9</td></tr>\n",
       "<tr><td>3332</td><td>14</td><td>21439773999</td><td>57.50723650600155</td><td>2021-06-01</td><td>Mauris Non Institute</td><td>cable, satellite,...</td><td>a</td><td> 6.10</td><td>1343547</td><td>VIC</td><td>Male</td><td>38</td><td>1733</td><td>797</td><td>350</td><td>2096</td><td>0.8</td><td>1955</td><td>2.9</td><td>Retail trade</td><td>21.9</td></tr>\n",
       "<tr><td>3722</td><td>15147</td><td>94472466107</td><td>21.050051462382854</td><td>2021-12-26</td><td>Eu Dolor Egestas PC</td><td>cable, satellite,...</td><td>a</td><td> 6.23</td><td>432764</td><td>VIC</td><td>Male</td><td>47</td><td>1600</td><td>756</td><td>331</td><td>1790</td><td>0.7</td><td>1360</td><td>2.3</td><td>Retail trade</td><td>21.9</td></tr>\n",
       "<tr><td>3332</td><td>14</td><td>66370248931</td><td>24.001048123394057</td><td>2021-05-04</td><td>Morbi Non PC</td><td>cable, satellite,...</td><td>b</td><td> 3.15</td><td>1343547</td><td>VIC</td><td>Male</td><td>38</td><td>1733</td><td>797</td><td>350</td><td>2096</td><td>0.8</td><td>1955</td><td>2.9</td><td>Retail trade</td><td>21.9</td></tr>\n",
       "<tr><td>3722</td><td>15147</td><td>21439773999</td><td>141.83408413991097</td><td>2021-12-09</td><td>Mauris Non Institute</td><td>cable, satellite,...</td><td>a</td><td> 6.10</td><td>432764</td><td>VIC</td><td>Male</td><td>47</td><td>1600</td><td>756</td><td>331</td><td>1790</td><td>0.7</td><td>1360</td><td>2.3</td><td>Retail trade</td><td>21.9</td></tr>\n",
       "<tr><td>3332</td><td>14</td><td>40590483301</td><td>14.93929154059108</td><td>2021-04-01</td><td>Donec Tempus Corp...</td><td>cable, satellite,...</td><td>c</td><td> 3.10</td><td>1343547</td><td>VIC</td><td>Male</td><td>38</td><td>1733</td><td>797</td><td>350</td><td>2096</td><td>0.8</td><td>1955</td><td>2.9</td><td>Retail trade</td><td>21.9</td></tr>\n",
       "<tr><td>3722</td><td>15147</td><td>41974958954</td><td>66.59603636334134</td><td>2021-12-23</td><td>Sed Libero Proin ...</td><td>cable, satellite,...</td><td>a</td><td> 5.51</td><td>432764</td><td>VIC</td><td>Male</td><td>47</td><td>1600</td><td>756</td><td>331</td><td>1790</td><td>0.7</td><td>1360</td><td>2.3</td><td>Retail trade</td><td>21.9</td></tr>\n",
       "<tr><td>3332</td><td>14</td><td>85071946566</td><td>129.3921791743538</td><td>2021-03-27</td><td>Est Mauris Associ...</td><td>cable, satellite,...</td><td>b</td><td> 3.19</td><td>1343547</td><td>VIC</td><td>Male</td><td>38</td><td>1733</td><td>797</td><td>350</td><td>2096</td><td>0.8</td><td>1955</td><td>2.9</td><td>Retail trade</td><td>21.9</td></tr>\n",
       "<tr><td>3722</td><td>15147</td><td>17739089622</td><td>33.727380351089934</td><td>2021-11-17</td><td>Auctor Quis Corp.</td><td>cable, satellite,...</td><td>b</td><td> 5.01</td><td>432764</td><td>VIC</td><td>Male</td><td>47</td><td>1600</td><td>756</td><td>331</td><td>1790</td><td>0.7</td><td>1360</td><td>2.3</td><td>Retail trade</td><td>21.9</td></tr>\n",
       "<tr><td>3332</td><td>14</td><td>69703285964</td><td>28.33157420502937</td><td>2021-12-13</td><td>Suspendisse Incor...</td><td>cable, satellite,...</td><td>a</td><td> 5.77</td><td>1343547</td><td>VIC</td><td>Male</td><td>38</td><td>1733</td><td>797</td><td>350</td><td>2096</td><td>0.8</td><td>1955</td><td>2.9</td><td>Retail trade</td><td>21.9</td></tr>\n",
       "<tr><td>3722</td><td>15147</td><td>94472466107</td><td>69.47143608497407</td><td>2021-12-30</td><td>Eu Dolor Egestas PC</td><td>cable, satellite,...</td><td>a</td><td> 6.23</td><td>432764</td><td>VIC</td><td>Male</td><td>47</td><td>1600</td><td>756</td><td>331</td><td>1790</td><td>0.7</td><td>1360</td><td>2.3</td><td>Retail trade</td><td>21.9</td></tr>\n",
       "<tr><td>3332</td><td>14</td><td>98545158925</td><td>27.119818754515343</td><td>2021-12-28</td><td>Dictum Eleifend I...</td><td>cable, satellite,...</td><td>c</td><td> 2.13</td><td>1343547</td><td>VIC</td><td>Male</td><td>38</td><td>1733</td><td>797</td><td>350</td><td>2096</td><td>0.8</td><td>1955</td><td>2.9</td><td>Retail trade</td><td>21.9</td></tr>\n",
       "<tr><td>3722</td><td>15147</td><td>29521780474</td><td>20.89053942711761</td><td>2021-11-04</td><td>At Sem Corp.</td><td>cable, satellite,...</td><td>a</td><td> 5.93</td><td>432764</td><td>VIC</td><td>Male</td><td>47</td><td>1600</td><td>756</td><td>331</td><td>1790</td><td>0.7</td><td>1360</td><td>2.3</td><td>Retail trade</td><td>21.9</td></tr>\n",
       "<tr><td>3332</td><td>14</td><td>50885695263</td><td>16.546336274375896</td><td>2021-09-16</td><td>Euismod Institute</td><td>cable, satellite,...</td><td>c</td><td> 2.84</td><td>1343547</td><td>VIC</td><td>Male</td><td>38</td><td>1733</td><td>797</td><td>350</td><td>2096</td><td>0.8</td><td>1955</td><td>2.9</td><td>Retail trade</td><td>21.9</td></tr>\n",
       "<tr><td>3722</td><td>15147</td><td>41974958954</td><td>33.00547012103819</td><td>2021-11-04</td><td>Sed Libero Proin ...</td><td>cable, satellite,...</td><td>a</td><td> 5.51</td><td>432764</td><td>VIC</td><td>Male</td><td>47</td><td>1600</td><td>756</td><td>331</td><td>1790</td><td>0.7</td><td>1360</td><td>2.3</td><td>Retail trade</td><td>21.9</td></tr>\n",
       "</table>\n",
       "only showing top 20 rows\n"
      ],
      "text/plain": [
       "+--------+-------+------------+------------------+--------------+--------------------+--------------------+-------------+---------+-----------+-----+------+------------------+-----------------------------+---------------------------+------------------+-------------------------+----------------------------+-------------------------+----------------------+------------------+--------------------------+\n",
       "|postcode|user_id|merchant_abn|      dollar_value|order_datetime|                name|       business_area|revenue_level|take_rate|consumer_id|state|gender|Median_age_persons|Median_mortgage_repay_monthly|Median_tot_prsnl_inc_weekly|Median_rent_weekly|Median_tot_fam_inc_weekly|Average_num_psns_per_bedroom|Median_tot_hhd_inc_weekly|Average_household_size|business_area_type|annual_turnover_percentage|\n",
       "+--------+-------+------------+------------------+--------------+--------------------+--------------------+-------------+---------+-----------+-----+------+------------------+-----------------------------+---------------------------+------------------+-------------------------+----------------------------+-------------------------+----------------------+------------------+--------------------------+\n",
       "|    3332|     14| 68004106739|35.066583865041444|    2021-08-08|        Nec Ante Ltd|cable, satellite,...|            a|     5.61|    1343547|  VIC|  Male|                38|                         1733|                        797|               350|                     2096|                         0.8|                     1955|                   2.9|      Retail trade|                      21.9|\n",
       "|    3722|  15147| 47663262928| 94.21710419172265|    2021-04-29|      Eget Lacus LLP|cable, satellite,...|            a|     6.66|     432764|  VIC|  Male|                47|                         1600|                        756|               331|                     1790|                         0.7|                     1360|                   2.3|      Retail trade|                      21.9|\n",
       "|    3332|     14| 70052129860|10.624562993647425|    2021-07-25|Donec Tempus Lore...|cable, satellite,...|            b|     3.37|    1343547|  VIC|  Male|                38|                         1733|                        797|               350|                     2096|                         0.8|                     1955|                   2.9|      Retail trade|                      21.9|\n",
       "|    3722|  15147| 57021295485| 221.6034024277662|    2021-04-22|Enim Etiam Imperd...|cable, satellite,...|            a|     5.75|     432764|  VIC|  Male|                47|                         1600|                        756|               331|                     1790|                         0.7|                     1360|                   2.3|      Retail trade|                      21.9|\n",
       "|    3332|     14| 79645157255|21.838580731119894|    2021-04-16|Consectetuer Maur...|cable, satellite,...|            a|     6.46|    1343547|  VIC|  Male|                38|                         1733|                        797|               350|                     2096|                         0.8|                     1955|                   2.9|      Retail trade|                      21.9|\n",
       "|    3722|  15147| 21439773999|48.687348438799425|    2021-04-26|Mauris Non Institute|cable, satellite,...|            a|     6.10|     432764|  VIC|  Male|                47|                         1600|                        756|               331|                     1790|                         0.7|                     1360|                   2.3|      Retail trade|                      21.9|\n",
       "|    3332|     14| 21439773999| 57.50723650600155|    2021-06-01|Mauris Non Institute|cable, satellite,...|            a|     6.10|    1343547|  VIC|  Male|                38|                         1733|                        797|               350|                     2096|                         0.8|                     1955|                   2.9|      Retail trade|                      21.9|\n",
       "|    3722|  15147| 94472466107|21.050051462382854|    2021-12-26| Eu Dolor Egestas PC|cable, satellite,...|            a|     6.23|     432764|  VIC|  Male|                47|                         1600|                        756|               331|                     1790|                         0.7|                     1360|                   2.3|      Retail trade|                      21.9|\n",
       "|    3332|     14| 66370248931|24.001048123394057|    2021-05-04|        Morbi Non PC|cable, satellite,...|            b|     3.15|    1343547|  VIC|  Male|                38|                         1733|                        797|               350|                     2096|                         0.8|                     1955|                   2.9|      Retail trade|                      21.9|\n",
       "|    3722|  15147| 21439773999|141.83408413991097|    2021-12-09|Mauris Non Institute|cable, satellite,...|            a|     6.10|     432764|  VIC|  Male|                47|                         1600|                        756|               331|                     1790|                         0.7|                     1360|                   2.3|      Retail trade|                      21.9|\n",
       "|    3332|     14| 40590483301| 14.93929154059108|    2021-04-01|Donec Tempus Corp...|cable, satellite,...|            c|     3.10|    1343547|  VIC|  Male|                38|                         1733|                        797|               350|                     2096|                         0.8|                     1955|                   2.9|      Retail trade|                      21.9|\n",
       "|    3722|  15147| 41974958954| 66.59603636334134|    2021-12-23|Sed Libero Proin ...|cable, satellite,...|            a|     5.51|     432764|  VIC|  Male|                47|                         1600|                        756|               331|                     1790|                         0.7|                     1360|                   2.3|      Retail trade|                      21.9|\n",
       "|    3332|     14| 85071946566| 129.3921791743538|    2021-03-27|Est Mauris Associ...|cable, satellite,...|            b|     3.19|    1343547|  VIC|  Male|                38|                         1733|                        797|               350|                     2096|                         0.8|                     1955|                   2.9|      Retail trade|                      21.9|\n",
       "|    3722|  15147| 17739089622|33.727380351089934|    2021-11-17|   Auctor Quis Corp.|cable, satellite,...|            b|     5.01|     432764|  VIC|  Male|                47|                         1600|                        756|               331|                     1790|                         0.7|                     1360|                   2.3|      Retail trade|                      21.9|\n",
       "|    3332|     14| 69703285964| 28.33157420502937|    2021-12-13|Suspendisse Incor...|cable, satellite,...|            a|     5.77|    1343547|  VIC|  Male|                38|                         1733|                        797|               350|                     2096|                         0.8|                     1955|                   2.9|      Retail trade|                      21.9|\n",
       "|    3722|  15147| 94472466107| 69.47143608497407|    2021-12-30| Eu Dolor Egestas PC|cable, satellite,...|            a|     6.23|     432764|  VIC|  Male|                47|                         1600|                        756|               331|                     1790|                         0.7|                     1360|                   2.3|      Retail trade|                      21.9|\n",
       "|    3332|     14| 98545158925|27.119818754515343|    2021-12-28|Dictum Eleifend I...|cable, satellite,...|            c|     2.13|    1343547|  VIC|  Male|                38|                         1733|                        797|               350|                     2096|                         0.8|                     1955|                   2.9|      Retail trade|                      21.9|\n",
       "|    3722|  15147| 29521780474| 20.89053942711761|    2021-11-04|        At Sem Corp.|cable, satellite,...|            a|     5.93|     432764|  VIC|  Male|                47|                         1600|                        756|               331|                     1790|                         0.7|                     1360|                   2.3|      Retail trade|                      21.9|\n",
       "|    3332|     14| 50885695263|16.546336274375896|    2021-09-16|   Euismod Institute|cable, satellite,...|            c|     2.84|    1343547|  VIC|  Male|                38|                         1733|                        797|               350|                     2096|                         0.8|                     1955|                   2.9|      Retail trade|                      21.9|\n",
       "|    3722|  15147| 41974958954| 33.00547012103819|    2021-11-04|Sed Libero Proin ...|cable, satellite,...|            a|     5.51|     432764|  VIC|  Male|                47|                         1600|                        756|               331|                     1790|                         0.7|                     1360|                   2.3|      Retail trade|                      21.9|\n",
       "+--------+-------+------------+------------------+--------------+--------------------+--------------------+-------------+---------+-----------+-----+------+------------------+-----------------------------+---------------------------+------------------+-------------------------+----------------------------+-------------------------+----------------------+------------------+--------------------------+\n",
       "only showing top 20 rows"
      ]
     },
     "execution_count": 30,
     "metadata": {},
     "output_type": "execute_result"
    }
   ],
   "source": [
    "full = spark.read.parquet('../data/curated/clean_full_dataset/')\n",
    "full"
   ]
  },
  {
   "cell_type": "markdown",
   "metadata": {},
   "source": [
    "### Calculating the Gender Percentage for Consumers\n",
    "\n",
    "Noting that the \"male_percentage\"/\"female_percentage\"/\"undisclosed_percentage\" here refer to the amount of transactions made by male/female/undisclosed consumers divided by the total amount of transactions. Multiple transaction records made by the same consumers are included in this calculation algorithm."
   ]
  },
  {
   "cell_type": "code",
   "execution_count": 31,
   "metadata": {},
   "outputs": [
    {
     "name": "stderr",
     "output_type": "stream",
     "text": [
      "                                                                                \r"
     ]
    },
    {
     "data": {
      "text/html": [
       "<table border='1'>\n",
       "<tr><th>merchant_abn</th><th>gender</th><th>count</th></tr>\n",
       "<tr><td>10023283211</td><td>Undisclosed</td><td>272</td></tr>\n",
       "<tr><td>10023283211</td><td>Male</td><td>1189</td></tr>\n",
       "<tr><td>10023283211</td><td>Female</td><td>1215</td></tr>\n",
       "<tr><td>10142254217</td><td>Undisclosed</td><td>253</td></tr>\n",
       "<tr><td>10142254217</td><td>Male</td><td>1183</td></tr>\n",
       "<tr><td>10142254217</td><td>Female</td><td>1070</td></tr>\n",
       "<tr><td>10187291046</td><td>Female</td><td>128</td></tr>\n",
       "<tr><td>10187291046</td><td>Undisclosed</td><td>33</td></tr>\n",
       "<tr><td>10187291046</td><td>Male</td><td>129</td></tr>\n",
       "<tr><td>10192359162</td><td>Female</td><td>146</td></tr>\n",
       "<tr><td>10192359162</td><td>Undisclosed</td><td>27</td></tr>\n",
       "<tr><td>10192359162</td><td>Male</td><td>147</td></tr>\n",
       "<tr><td>10206519221</td><td>Male</td><td>3648</td></tr>\n",
       "<tr><td>10206519221</td><td>Female</td><td>3605</td></tr>\n",
       "<tr><td>10206519221</td><td>Undisclosed</td><td>790</td></tr>\n",
       "<tr><td>10255988167</td><td>Undisclosed</td><td>65</td></tr>\n",
       "<tr><td>10255988167</td><td>Female</td><td>311</td></tr>\n",
       "<tr><td>10255988167</td><td>Male</td><td>306</td></tr>\n",
       "<tr><td>10264435225</td><td>Female</td><td>1878</td></tr>\n",
       "<tr><td>10264435225</td><td>Male</td><td>1849</td></tr>\n",
       "</table>\n",
       "only showing top 20 rows\n"
      ],
      "text/plain": [
       "+------------+-----------+-----+\n",
       "|merchant_abn|     gender|count|\n",
       "+------------+-----------+-----+\n",
       "| 10023283211|Undisclosed|  272|\n",
       "| 10023283211|       Male| 1189|\n",
       "| 10023283211|     Female| 1215|\n",
       "| 10142254217|Undisclosed|  253|\n",
       "| 10142254217|       Male| 1183|\n",
       "| 10142254217|     Female| 1070|\n",
       "| 10187291046|     Female|  128|\n",
       "| 10187291046|Undisclosed|   33|\n",
       "| 10187291046|       Male|  129|\n",
       "| 10192359162|     Female|  146|\n",
       "| 10192359162|Undisclosed|   27|\n",
       "| 10192359162|       Male|  147|\n",
       "| 10206519221|       Male| 3648|\n",
       "| 10206519221|     Female| 3605|\n",
       "| 10206519221|Undisclosed|  790|\n",
       "| 10255988167|Undisclosed|   65|\n",
       "| 10255988167|     Female|  311|\n",
       "| 10255988167|       Male|  306|\n",
       "| 10264435225|     Female| 1878|\n",
       "| 10264435225|       Male| 1849|\n",
       "+------------+-----------+-----+\n",
       "only showing top 20 rows"
      ]
     },
     "execution_count": 31,
     "metadata": {},
     "output_type": "execute_result"
    }
   ],
   "source": [
    "# count the number of comsumers by gender and merchant\n",
    "gender_count_sdf = full.groupBy([\"merchant_abn\", \"gender\"]).count().sort(\"merchant_abn\")\n",
    "gender_count_sdf"
   ]
  },
  {
   "cell_type": "code",
   "execution_count": 32,
   "metadata": {},
   "outputs": [
    {
     "data": {
      "text/html": [
       "<table border='1'>\n",
       "<tr><th>merchant_abn</th><th>sum(count)</th></tr>\n",
       "<tr><td>10023283211</td><td>2676</td></tr>\n",
       "<tr><td>10142254217</td><td>2506</td></tr>\n",
       "<tr><td>10187291046</td><td>290</td></tr>\n",
       "<tr><td>10192359162</td><td>320</td></tr>\n",
       "<tr><td>10206519221</td><td>8043</td></tr>\n",
       "<tr><td>10255988167</td><td>682</td></tr>\n",
       "<tr><td>10264435225</td><td>4147</td></tr>\n",
       "<tr><td>10279061213</td><td>456</td></tr>\n",
       "<tr><td>10323485998</td><td>8559</td></tr>\n",
       "<tr><td>10342410215</td><td>708</td></tr>\n",
       "<tr><td>10364012396</td><td>34</td></tr>\n",
       "<tr><td>10385011947</td><td>21</td></tr>\n",
       "<tr><td>10385163239</td><td>63</td></tr>\n",
       "<tr><td>10385250025</td><td>555</td></tr>\n",
       "<tr><td>10430380319</td><td>135</td></tr>\n",
       "<tr><td>10462560289</td><td>1350</td></tr>\n",
       "<tr><td>10463252268</td><td>61</td></tr>\n",
       "<tr><td>10487253336</td><td>2079</td></tr>\n",
       "<tr><td>10530696903</td><td>554</td></tr>\n",
       "<tr><td>10545955006</td><td>360</td></tr>\n",
       "</table>\n",
       "only showing top 20 rows\n"
      ],
      "text/plain": [
       "+------------+----------+\n",
       "|merchant_abn|sum(count)|\n",
       "+------------+----------+\n",
       "| 10023283211|      2676|\n",
       "| 10142254217|      2506|\n",
       "| 10187291046|       290|\n",
       "| 10192359162|       320|\n",
       "| 10206519221|      8043|\n",
       "| 10255988167|       682|\n",
       "| 10264435225|      4147|\n",
       "| 10279061213|       456|\n",
       "| 10323485998|      8559|\n",
       "| 10342410215|       708|\n",
       "| 10364012396|        34|\n",
       "| 10385011947|        21|\n",
       "| 10385163239|        63|\n",
       "| 10385250025|       555|\n",
       "| 10430380319|       135|\n",
       "| 10462560289|      1350|\n",
       "| 10463252268|        61|\n",
       "| 10487253336|      2079|\n",
       "| 10530696903|       554|\n",
       "| 10545955006|       360|\n",
       "+------------+----------+\n",
       "only showing top 20 rows"
      ]
     },
     "execution_count": 32,
     "metadata": {},
     "output_type": "execute_result"
    }
   ],
   "source": [
    "# count the total number of consumers\n",
    "total_count = gender_count_sdf.groupBy('merchant_abn').sum('count').sort(\"merchant_abn\")\n",
    "total_count"
   ]
  },
  {
   "cell_type": "code",
   "execution_count": 33,
   "metadata": {},
   "outputs": [
    {
     "name": "stderr",
     "output_type": "stream",
     "text": [
      "                                                                                \r"
     ]
    },
    {
     "data": {
      "text/html": [
       "<table border='1'>\n",
       "<tr><th>merchant_abn</th><th>gender</th><th>count</th><th>total_transactions_count</th></tr>\n",
       "<tr><td>10023283211</td><td>Undisclosed</td><td>272</td><td>2676</td></tr>\n",
       "<tr><td>10023283211</td><td>Male</td><td>1189</td><td>2676</td></tr>\n",
       "<tr><td>10023283211</td><td>Female</td><td>1215</td><td>2676</td></tr>\n",
       "<tr><td>10142254217</td><td>Undisclosed</td><td>253</td><td>2506</td></tr>\n",
       "<tr><td>10142254217</td><td>Male</td><td>1183</td><td>2506</td></tr>\n",
       "<tr><td>10142254217</td><td>Female</td><td>1070</td><td>2506</td></tr>\n",
       "<tr><td>10187291046</td><td>Female</td><td>128</td><td>290</td></tr>\n",
       "<tr><td>10187291046</td><td>Undisclosed</td><td>33</td><td>290</td></tr>\n",
       "<tr><td>10187291046</td><td>Male</td><td>129</td><td>290</td></tr>\n",
       "<tr><td>10192359162</td><td>Female</td><td>146</td><td>320</td></tr>\n",
       "<tr><td>10192359162</td><td>Undisclosed</td><td>27</td><td>320</td></tr>\n",
       "<tr><td>10192359162</td><td>Male</td><td>147</td><td>320</td></tr>\n",
       "<tr><td>10206519221</td><td>Male</td><td>3648</td><td>8043</td></tr>\n",
       "<tr><td>10206519221</td><td>Female</td><td>3605</td><td>8043</td></tr>\n",
       "<tr><td>10206519221</td><td>Undisclosed</td><td>790</td><td>8043</td></tr>\n",
       "<tr><td>10255988167</td><td>Undisclosed</td><td>65</td><td>682</td></tr>\n",
       "<tr><td>10255988167</td><td>Female</td><td>311</td><td>682</td></tr>\n",
       "<tr><td>10255988167</td><td>Male</td><td>306</td><td>682</td></tr>\n",
       "<tr><td>10264435225</td><td>Female</td><td>1878</td><td>4147</td></tr>\n",
       "<tr><td>10264435225</td><td>Male</td><td>1849</td><td>4147</td></tr>\n",
       "</table>\n",
       "only showing top 20 rows\n"
      ],
      "text/plain": [
       "+------------+-----------+-----+------------------------+\n",
       "|merchant_abn|     gender|count|total_transactions_count|\n",
       "+------------+-----------+-----+------------------------+\n",
       "| 10023283211|Undisclosed|  272|                    2676|\n",
       "| 10023283211|       Male| 1189|                    2676|\n",
       "| 10023283211|     Female| 1215|                    2676|\n",
       "| 10142254217|Undisclosed|  253|                    2506|\n",
       "| 10142254217|       Male| 1183|                    2506|\n",
       "| 10142254217|     Female| 1070|                    2506|\n",
       "| 10187291046|     Female|  128|                     290|\n",
       "| 10187291046|Undisclosed|   33|                     290|\n",
       "| 10187291046|       Male|  129|                     290|\n",
       "| 10192359162|     Female|  146|                     320|\n",
       "| 10192359162|Undisclosed|   27|                     320|\n",
       "| 10192359162|       Male|  147|                     320|\n",
       "| 10206519221|       Male| 3648|                    8043|\n",
       "| 10206519221|     Female| 3605|                    8043|\n",
       "| 10206519221|Undisclosed|  790|                    8043|\n",
       "| 10255988167|Undisclosed|   65|                     682|\n",
       "| 10255988167|     Female|  311|                     682|\n",
       "| 10255988167|       Male|  306|                     682|\n",
       "| 10264435225|     Female| 1878|                    4147|\n",
       "| 10264435225|       Male| 1849|                    4147|\n",
       "+------------+-----------+-----+------------------------+\n",
       "only showing top 20 rows"
      ]
     },
     "execution_count": 33,
     "metadata": {},
     "output_type": "execute_result"
    }
   ],
   "source": [
    "gender_count_sdf = gender_count_sdf.join(total_count, on='merchant_abn').sort(\"merchant_abn\")\n",
    "gender_count_sdf = gender_count_sdf.withColumnRenamed(\"sum(count)\",\"total_transactions_count\")\n",
    "gender_count_sdf\n"
   ]
  },
  {
   "cell_type": "code",
   "execution_count": 34,
   "metadata": {},
   "outputs": [
    {
     "data": {
      "text/html": [
       "<table border='1'>\n",
       "<tr><th>merchant_abn</th><th>gender</th><th>count</th><th>total_transactions_count</th><th>gender_percentage</th></tr>\n",
       "<tr><td>10023283211</td><td>Undisclosed</td><td>272</td><td>2676</td><td>0.10164424514200299</td></tr>\n",
       "<tr><td>10023283211</td><td>Male</td><td>1189</td><td>2676</td><td>0.44431988041853515</td></tr>\n",
       "<tr><td>10023283211</td><td>Female</td><td>1215</td><td>2676</td><td>0.45403587443946186</td></tr>\n",
       "<tr><td>10142254217</td><td>Undisclosed</td><td>253</td><td>2506</td><td>0.10095770151636073</td></tr>\n",
       "<tr><td>10142254217</td><td>Male</td><td>1183</td><td>2506</td><td>0.4720670391061452</td></tr>\n",
       "<tr><td>10142254217</td><td>Female</td><td>1070</td><td>2506</td><td>0.42697525937749403</td></tr>\n",
       "<tr><td>10187291046</td><td>Female</td><td>128</td><td>290</td><td>0.4413793103448276</td></tr>\n",
       "<tr><td>10187291046</td><td>Undisclosed</td><td>33</td><td>290</td><td>0.11379310344827587</td></tr>\n",
       "<tr><td>10187291046</td><td>Male</td><td>129</td><td>290</td><td>0.44482758620689655</td></tr>\n",
       "<tr><td>10192359162</td><td>Female</td><td>146</td><td>320</td><td>0.45625</td></tr>\n",
       "<tr><td>10192359162</td><td>Undisclosed</td><td>27</td><td>320</td><td>0.084375</td></tr>\n",
       "<tr><td>10192359162</td><td>Male</td><td>147</td><td>320</td><td>0.459375</td></tr>\n",
       "<tr><td>10206519221</td><td>Male</td><td>3648</td><td>8043</td><td>0.453562103692652</td></tr>\n",
       "<tr><td>10206519221</td><td>Female</td><td>3605</td><td>8043</td><td>0.4482158398607485</td></tr>\n",
       "<tr><td>10206519221</td><td>Undisclosed</td><td>790</td><td>8043</td><td>0.09822205644659952</td></tr>\n",
       "<tr><td>10255988167</td><td>Undisclosed</td><td>65</td><td>682</td><td>0.09530791788856305</td></tr>\n",
       "<tr><td>10255988167</td><td>Female</td><td>311</td><td>682</td><td>0.4560117302052786</td></tr>\n",
       "<tr><td>10255988167</td><td>Male</td><td>306</td><td>682</td><td>0.44868035190615835</td></tr>\n",
       "<tr><td>10264435225</td><td>Female</td><td>1878</td><td>4147</td><td>0.45285748734024595</td></tr>\n",
       "<tr><td>10264435225</td><td>Male</td><td>1849</td><td>4147</td><td>0.44586448034723897</td></tr>\n",
       "</table>\n",
       "only showing top 20 rows\n"
      ],
      "text/plain": [
       "+------------+-----------+-----+------------------------+-------------------+\n",
       "|merchant_abn|     gender|count|total_transactions_count|  gender_percentage|\n",
       "+------------+-----------+-----+------------------------+-------------------+\n",
       "| 10023283211|Undisclosed|  272|                    2676|0.10164424514200299|\n",
       "| 10023283211|       Male| 1189|                    2676|0.44431988041853515|\n",
       "| 10023283211|     Female| 1215|                    2676|0.45403587443946186|\n",
       "| 10142254217|Undisclosed|  253|                    2506|0.10095770151636073|\n",
       "| 10142254217|       Male| 1183|                    2506| 0.4720670391061452|\n",
       "| 10142254217|     Female| 1070|                    2506|0.42697525937749403|\n",
       "| 10187291046|     Female|  128|                     290| 0.4413793103448276|\n",
       "| 10187291046|Undisclosed|   33|                     290|0.11379310344827587|\n",
       "| 10187291046|       Male|  129|                     290|0.44482758620689655|\n",
       "| 10192359162|     Female|  146|                     320|            0.45625|\n",
       "| 10192359162|Undisclosed|   27|                     320|           0.084375|\n",
       "| 10192359162|       Male|  147|                     320|           0.459375|\n",
       "| 10206519221|       Male| 3648|                    8043|  0.453562103692652|\n",
       "| 10206519221|     Female| 3605|                    8043| 0.4482158398607485|\n",
       "| 10206519221|Undisclosed|  790|                    8043|0.09822205644659952|\n",
       "| 10255988167|Undisclosed|   65|                     682|0.09530791788856305|\n",
       "| 10255988167|     Female|  311|                     682| 0.4560117302052786|\n",
       "| 10255988167|       Male|  306|                     682|0.44868035190615835|\n",
       "| 10264435225|     Female| 1878|                    4147|0.45285748734024595|\n",
       "| 10264435225|       Male| 1849|                    4147|0.44586448034723897|\n",
       "+------------+-----------+-----+------------------------+-------------------+\n",
       "only showing top 20 rows"
      ]
     },
     "execution_count": 34,
     "metadata": {},
     "output_type": "execute_result"
    }
   ],
   "source": [
    "# calculate the consumer gender percentage for each gender and for each merchants, save the percentage as \"gender_percentage\"\n",
    "from pyspark.sql import functions as F\n",
    "gender_count_sdf = gender_count_sdf.withColumn(\"gender_percentage\", F.col(\"count\")/F.col(\"total_transactions_count\"))\n",
    "gender_count_sdf"
   ]
  },
  {
   "cell_type": "code",
   "execution_count": 35,
   "metadata": {},
   "outputs": [],
   "source": [
    "# separate gender percentage by male, female and undisclosed\n",
    "male_percentage = gender_count_sdf.filter(\"gender == 'Male'\").select(F.col(\"merchant_abn\"),F.col(\"gender_percentage\")).withColumnRenamed(\"gender_percentage\",\"male_consumer_percentage\")\n",
    "female_percentage = gender_count_sdf.filter(\"gender == 'Female'\").select(F.col(\"merchant_abn\"),F.col(\"gender_percentage\")).withColumnRenamed(\"gender_percentage\",\"female_consumer_percentage\")\n",
    "undisclosed_percentage = gender_count_sdf.filter(\"gender == 'Undisclosed'\").select(F.col(\"merchant_abn\"),F.col(\"gender_percentage\")).withColumnRenamed(\"gender_percentage\",\"undisclosed_consumer_percentage\")"
   ]
  },
  {
   "cell_type": "code",
   "execution_count": 36,
   "metadata": {},
   "outputs": [
    {
     "name": "stderr",
     "output_type": "stream",
     "text": [
      "                                                                                \r"
     ]
    },
    {
     "data": {
      "text/html": [
       "<table border='1'>\n",
       "<tr><th>merchant_abn</th><th>male_consumer_percentage</th></tr>\n",
       "<tr><td>10023283211</td><td>0.44431988041853515</td></tr>\n",
       "<tr><td>10142254217</td><td>0.4720670391061452</td></tr>\n",
       "<tr><td>10187291046</td><td>0.44482758620689655</td></tr>\n",
       "<tr><td>10192359162</td><td>0.459375</td></tr>\n",
       "<tr><td>10206519221</td><td>0.453562103692652</td></tr>\n",
       "<tr><td>10255988167</td><td>0.44868035190615835</td></tr>\n",
       "<tr><td>10264435225</td><td>0.44586448034723897</td></tr>\n",
       "<tr><td>10279061213</td><td>0.4342105263157895</td></tr>\n",
       "<tr><td>10323485998</td><td>0.46325505316041593</td></tr>\n",
       "<tr><td>10342410215</td><td>0.4477401129943503</td></tr>\n",
       "<tr><td>10364012396</td><td>0.6176470588235294</td></tr>\n",
       "<tr><td>10385011947</td><td>0.5714285714285714</td></tr>\n",
       "<tr><td>10385163239</td><td>0.4603174603174603</td></tr>\n",
       "<tr><td>10385250025</td><td>0.45225225225225224</td></tr>\n",
       "<tr><td>10430380319</td><td>0.4740740740740741</td></tr>\n",
       "<tr><td>10462560289</td><td>0.45481481481481484</td></tr>\n",
       "<tr><td>10463252268</td><td>0.4098360655737705</td></tr>\n",
       "<tr><td>10487253336</td><td>0.44203944203944207</td></tr>\n",
       "<tr><td>10530696903</td><td>0.44765342960288806</td></tr>\n",
       "<tr><td>10545955006</td><td>0.4666666666666667</td></tr>\n",
       "</table>\n",
       "only showing top 20 rows\n"
      ],
      "text/plain": [
       "+------------+------------------------+\n",
       "|merchant_abn|male_consumer_percentage|\n",
       "+------------+------------------------+\n",
       "| 10023283211|     0.44431988041853515|\n",
       "| 10142254217|      0.4720670391061452|\n",
       "| 10187291046|     0.44482758620689655|\n",
       "| 10192359162|                0.459375|\n",
       "| 10206519221|       0.453562103692652|\n",
       "| 10255988167|     0.44868035190615835|\n",
       "| 10264435225|     0.44586448034723897|\n",
       "| 10279061213|      0.4342105263157895|\n",
       "| 10323485998|     0.46325505316041593|\n",
       "| 10342410215|      0.4477401129943503|\n",
       "| 10364012396|      0.6176470588235294|\n",
       "| 10385011947|      0.5714285714285714|\n",
       "| 10385163239|      0.4603174603174603|\n",
       "| 10385250025|     0.45225225225225224|\n",
       "| 10430380319|      0.4740740740740741|\n",
       "| 10462560289|     0.45481481481481484|\n",
       "| 10463252268|      0.4098360655737705|\n",
       "| 10487253336|     0.44203944203944207|\n",
       "| 10530696903|     0.44765342960288806|\n",
       "| 10545955006|      0.4666666666666667|\n",
       "+------------+------------------------+\n",
       "only showing top 20 rows"
      ]
     },
     "execution_count": 36,
     "metadata": {},
     "output_type": "execute_result"
    }
   ],
   "source": [
    "# observe one of the outcome dataframe\n",
    "male_percentage"
   ]
  },
  {
   "cell_type": "code",
   "execution_count": 37,
   "metadata": {},
   "outputs": [
    {
     "name": "stderr",
     "output_type": "stream",
     "text": [
      "                                                                                \r"
     ]
    },
    {
     "data": {
      "text/html": [
       "<table border='1'>\n",
       "<tr><th>merchant_abn</th><th>male_consumer_percentage</th><th>female_consumer_percentage</th><th>undisclosed_consumer_percentage</th><th>total_transactions_count</th></tr>\n",
       "<tr><td>10023283211</td><td>0.44431988041853515</td><td>0.45403587443946186</td><td>0.10164424514200299</td><td>2676</td></tr>\n",
       "<tr><td>10142254217</td><td>0.4720670391061452</td><td>0.42697525937749403</td><td>0.10095770151636073</td><td>2506</td></tr>\n",
       "<tr><td>10187291046</td><td>0.44482758620689655</td><td>0.4413793103448276</td><td>0.11379310344827587</td><td>290</td></tr>\n",
       "<tr><td>10192359162</td><td>0.459375</td><td>0.45625</td><td>0.084375</td><td>320</td></tr>\n",
       "<tr><td>10206519221</td><td>0.453562103692652</td><td>0.4482158398607485</td><td>0.09822205644659952</td><td>8043</td></tr>\n",
       "<tr><td>10255988167</td><td>0.44868035190615835</td><td>0.4560117302052786</td><td>0.09530791788856305</td><td>682</td></tr>\n",
       "<tr><td>10264435225</td><td>0.44586448034723897</td><td>0.45285748734024595</td><td>0.10127803231251507</td><td>4147</td></tr>\n",
       "<tr><td>10279061213</td><td>0.4342105263157895</td><td>0.47368421052631576</td><td>0.09210526315789473</td><td>456</td></tr>\n",
       "<tr><td>10323485998</td><td>0.46325505316041593</td><td>0.4303072788877205</td><td>0.10643766795186353</td><td>8559</td></tr>\n",
       "<tr><td>10342410215</td><td>0.4477401129943503</td><td>0.4519774011299435</td><td>0.10028248587570622</td><td>708</td></tr>\n",
       "<tr><td>10364012396</td><td>0.6176470588235294</td><td>0.29411764705882354</td><td>0.08823529411764706</td><td>34</td></tr>\n",
       "<tr><td>10385011947</td><td>0.5714285714285714</td><td>0.38095238095238093</td><td>0.047619047619047616</td><td>21</td></tr>\n",
       "<tr><td>10385163239</td><td>0.4603174603174603</td><td>0.4444444444444444</td><td>0.09523809523809523</td><td>63</td></tr>\n",
       "<tr><td>10385250025</td><td>0.45225225225225224</td><td>0.45045045045045046</td><td>0.0972972972972973</td><td>555</td></tr>\n",
       "<tr><td>10430380319</td><td>0.4740740740740741</td><td>0.4074074074074074</td><td>0.11851851851851852</td><td>135</td></tr>\n",
       "<tr><td>10462560289</td><td>0.45481481481481484</td><td>0.45481481481481484</td><td>0.09037037037037036</td><td>1350</td></tr>\n",
       "<tr><td>10463252268</td><td>0.4098360655737705</td><td>0.3770491803278688</td><td>0.21311475409836064</td><td>61</td></tr>\n",
       "<tr><td>10487253336</td><td>0.44203944203944207</td><td>0.43722943722943725</td><td>0.12073112073112073</td><td>2079</td></tr>\n",
       "<tr><td>10530696903</td><td>0.44765342960288806</td><td>0.4566787003610108</td><td>0.09566787003610108</td><td>554</td></tr>\n",
       "<tr><td>10545955006</td><td>0.4666666666666667</td><td>0.44166666666666665</td><td>0.09166666666666666</td><td>360</td></tr>\n",
       "</table>\n",
       "only showing top 20 rows\n"
      ],
      "text/plain": [
       "+------------+------------------------+--------------------------+-------------------------------+------------------------+\n",
       "|merchant_abn|male_consumer_percentage|female_consumer_percentage|undisclosed_consumer_percentage|total_transactions_count|\n",
       "+------------+------------------------+--------------------------+-------------------------------+------------------------+\n",
       "| 10023283211|     0.44431988041853515|       0.45403587443946186|            0.10164424514200299|                    2676|\n",
       "| 10142254217|      0.4720670391061452|       0.42697525937749403|            0.10095770151636073|                    2506|\n",
       "| 10187291046|     0.44482758620689655|        0.4413793103448276|            0.11379310344827587|                     290|\n",
       "| 10192359162|                0.459375|                   0.45625|                       0.084375|                     320|\n",
       "| 10206519221|       0.453562103692652|        0.4482158398607485|            0.09822205644659952|                    8043|\n",
       "| 10255988167|     0.44868035190615835|        0.4560117302052786|            0.09530791788856305|                     682|\n",
       "| 10264435225|     0.44586448034723897|       0.45285748734024595|            0.10127803231251507|                    4147|\n",
       "| 10279061213|      0.4342105263157895|       0.47368421052631576|            0.09210526315789473|                     456|\n",
       "| 10323485998|     0.46325505316041593|        0.4303072788877205|            0.10643766795186353|                    8559|\n",
       "| 10342410215|      0.4477401129943503|        0.4519774011299435|            0.10028248587570622|                     708|\n",
       "| 10364012396|      0.6176470588235294|       0.29411764705882354|            0.08823529411764706|                      34|\n",
       "| 10385011947|      0.5714285714285714|       0.38095238095238093|           0.047619047619047616|                      21|\n",
       "| 10385163239|      0.4603174603174603|        0.4444444444444444|            0.09523809523809523|                      63|\n",
       "| 10385250025|     0.45225225225225224|       0.45045045045045046|             0.0972972972972973|                     555|\n",
       "| 10430380319|      0.4740740740740741|        0.4074074074074074|            0.11851851851851852|                     135|\n",
       "| 10462560289|     0.45481481481481484|       0.45481481481481484|            0.09037037037037036|                    1350|\n",
       "| 10463252268|      0.4098360655737705|        0.3770491803278688|            0.21311475409836064|                      61|\n",
       "| 10487253336|     0.44203944203944207|       0.43722943722943725|            0.12073112073112073|                    2079|\n",
       "| 10530696903|     0.44765342960288806|        0.4566787003610108|            0.09566787003610108|                     554|\n",
       "| 10545955006|      0.4666666666666667|       0.44166666666666665|            0.09166666666666666|                     360|\n",
       "+------------+------------------------+--------------------------+-------------------------------+------------------------+\n",
       "only showing top 20 rows"
      ]
     },
     "execution_count": 37,
     "metadata": {},
     "output_type": "execute_result"
    }
   ],
   "source": [
    "# combine the 3 gender percentages together into 1 dataframe\n",
    "agg_df = male_percentage.join(female_percentage, on=\"merchant_abn\")\n",
    "agg_df = agg_df.join(undisclosed_percentage, on=\"merchant_abn\")\n",
    "# add the total transaction count into aggregated dataframe and rename the column name\n",
    "agg_df = agg_df.join(total_count, on=\"merchant_abn\")\n",
    "agg_df = agg_df.withColumnRenamed(\"sum(count)\",\"total_transactions_count\")\n",
    "agg_df"
   ]
  },
  {
   "cell_type": "code",
   "execution_count": 38,
   "metadata": {},
   "outputs": [],
   "source": [
    "# calculate the average \n",
    "temp = full.groupBy(\"merchant_abn\") \\\n",
    "    .agg(F.mean(\"Median_age_persons\").alias(\"avg_comsumer_age\"), \\\n",
    "         F.mean(\"Median_tot_prsnl_inc_weekly\").alias(\"avg_consumer_weekly_income\"), \\\n",
    "         F.mean(\"Median_rent_weekly\").alias(\"avg_comsumer_weekly_rent\"), \\\n",
    "         F.mean(\"dollar_value\").alias(\"avg_total_value\"),\\\n",
    "     )"
   ]
  },
  {
   "cell_type": "code",
   "execution_count": 39,
   "metadata": {},
   "outputs": [
    {
     "name": "stderr",
     "output_type": "stream",
     "text": [
      "                                                                                \r"
     ]
    },
    {
     "data": {
      "text/html": [
       "<table border='1'>\n",
       "<tr><th>merchant_abn</th><th>avg_comsumer_age</th><th>avg_consumer_weekly_income</th><th>avg_comsumer_weekly_rent</th><th>avg_total_value</th></tr>\n",
       "<tr><td>19839532017</td><td>43.40066225165563</td><td>942.0645695364238</td><td>307.20364238410593</td><td>157.0</td></tr>\n",
       "<tr><td>38700038932</td><td>43.489169367218146</td><td>824.3348115299335</td><td>301.4045710387174</td><td>1344.882392211653</td></tr>\n",
       "<tr><td>57798993346</td><td>45.11764705882353</td><td>941.1764705882352</td><td>335.11764705882354</td><td>968.0714002697254</td></tr>\n",
       "<tr><td>45339304653</td><td>43.78842105263158</td><td>797.061052631579</td><td>294.70526315789476</td><td>80.71460424560924</td></tr>\n",
       "<tr><td>51561881468</td><td>43.61951219512195</td><td>784.0390243902439</td><td>294.2829268292683</td><td>44.42169968085328</td></tr>\n",
       "<tr><td>66610548417</td><td>44.0</td><td>768.1141304347826</td><td>307.3097826086956</td><td>921.2551840167838</td></tr>\n",
       "<tr><td>98545158925</td><td>43.553484036355165</td><td>812.2920065252855</td><td>302.18433931484503</td><td>38.807090252005764</td></tr>\n",
       "<tr><td>46331355995</td><td>43.15366289458011</td><td>857.8147706968433</td><td>303.5092316855271</td><td>446.21271572667604</td></tr>\n",
       "<tr><td>90568944804</td><td>43.461451631109604</td><td>815.516198216503</td><td>301.28027994130264</td><td>897.483749240815</td></tr>\n",
       "<tr><td>43719937438</td><td>43.21381847914963</td><td>797.8556827473426</td><td>300.1749795584628</td><td>99.17411864759902</td></tr>\n",
       "<tr><td>87919999302</td><td>43.194244604316545</td><td>789.9856115107914</td><td>310.93884892086334</td><td>100.77441922422376</td></tr>\n",
       "<tr><td>49418428210</td><td>43.45397489539749</td><td>785.0732217573221</td><td>297.64853556485355</td><td>1098.7114983792521</td></tr>\n",
       "<tr><td>55417076134</td><td>43.549220010758475</td><td>815.6994351802044</td><td>300.6001882732652</td><td>118.40764993772112</td></tr>\n",
       "<tr><td>37629693091</td><td>44.34770889487871</td><td>790.4097035040431</td><td>297.94609164420484</td><td>95.19215882969166</td></tr>\n",
       "<tr><td>43698901053</td><td>43.14014598540146</td><td>933.9094890510949</td><td>313.35328467153283</td><td>436.1314450956402</td></tr>\n",
       "<tr><td>95279812400</td><td>43.408338960162055</td><td>821.5776502363268</td><td>303.3865631330182</td><td>34.597001957807464</td></tr>\n",
       "<tr><td>21532935983</td><td>43.724949172233515</td><td>813.3404008132443</td><td>298.38541969212895</td><td>38.66947142585576</td></tr>\n",
       "<tr><td>41383736952</td><td>43.37402190923318</td><td>834.3742305685968</td><td>300.9470005216484</td><td>98.69094333838547</td></tr>\n",
       "<tr><td>99053443481</td><td>43.51214953271028</td><td>889.4046728971963</td><td>306.45046728971965</td><td>912.8365884445025</td></tr>\n",
       "<tr><td>68656010159</td><td>42.0</td><td>810.8333333333334</td><td>283.3888888888889</td><td>940.9155267268522</td></tr>\n",
       "</table>\n",
       "only showing top 20 rows\n"
      ],
      "text/plain": [
       "+------------+------------------+--------------------------+------------------------+------------------+\n",
       "|merchant_abn|  avg_comsumer_age|avg_consumer_weekly_income|avg_comsumer_weekly_rent|   avg_total_value|\n",
       "+------------+------------------+--------------------------+------------------------+------------------+\n",
       "| 19839532017| 43.40066225165563|         942.0645695364238|      307.20364238410593|             157.0|\n",
       "| 38700038932|43.489169367218146|         824.3348115299335|       301.4045710387174| 1344.882392211653|\n",
       "| 57798993346| 45.11764705882353|         941.1764705882352|      335.11764705882354| 968.0714002697254|\n",
       "| 45339304653| 43.78842105263158|          797.061052631579|      294.70526315789476| 80.71460424560924|\n",
       "| 51561881468| 43.61951219512195|         784.0390243902439|       294.2829268292683| 44.42169968085328|\n",
       "| 66610548417|              44.0|         768.1141304347826|       307.3097826086956| 921.2551840167838|\n",
       "| 98545158925|43.553484036355165|         812.2920065252855|      302.18433931484503|38.807090252005764|\n",
       "| 46331355995| 43.15366289458011|         857.8147706968433|       303.5092316855271|446.21271572667604|\n",
       "| 90568944804|43.461451631109604|          815.516198216503|      301.28027994130264|  897.483749240815|\n",
       "| 43719937438| 43.21381847914963|         797.8556827473426|       300.1749795584628| 99.17411864759902|\n",
       "| 87919999302|43.194244604316545|         789.9856115107914|      310.93884892086334|100.77441922422376|\n",
       "| 49418428210| 43.45397489539749|         785.0732217573221|      297.64853556485355|1098.7114983792521|\n",
       "| 55417076134|43.549220010758475|         815.6994351802044|       300.6001882732652|118.40764993772112|\n",
       "| 37629693091| 44.34770889487871|         790.4097035040431|      297.94609164420484| 95.19215882969166|\n",
       "| 43698901053| 43.14014598540146|         933.9094890510949|      313.35328467153283| 436.1314450956402|\n",
       "| 95279812400|43.408338960162055|         821.5776502363268|       303.3865631330182|34.597001957807464|\n",
       "| 21532935983|43.724949172233515|         813.3404008132443|      298.38541969212895| 38.66947142585576|\n",
       "| 41383736952| 43.37402190923318|         834.3742305685968|       300.9470005216484| 98.69094333838547|\n",
       "| 99053443481| 43.51214953271028|         889.4046728971963|      306.45046728971965| 912.8365884445025|\n",
       "| 68656010159|              42.0|         810.8333333333334|       283.3888888888889| 940.9155267268522|\n",
       "+------------+------------------+--------------------------+------------------------+------------------+\n",
       "only showing top 20 rows"
      ]
     },
     "execution_count": 39,
     "metadata": {},
     "output_type": "execute_result"
    }
   ],
   "source": [
    "temp"
   ]
  },
  {
   "cell_type": "code",
   "execution_count": 40,
   "metadata": {},
   "outputs": [],
   "source": [
    "agg_df = agg_df.join(temp, on=\"merchant_abn\")"
   ]
  },
  {
   "cell_type": "code",
   "execution_count": 41,
   "metadata": {},
   "outputs": [
    {
     "data": {
      "text/html": [
       "<table border='1'>\n",
       "<tr><th>merchant_abn</th><th>name</th><th>business_area</th><th>revenue_level</th><th>take_rate</th><th>annual_turnover_percentage</th></tr>\n",
       "<tr><td>68004106739</td><td>Nec Ante Ltd</td><td>cable, satellite,...</td><td>a</td><td> 5.61</td><td>21.9</td></tr>\n",
       "<tr><td>47663262928</td><td>Eget Lacus LLP</td><td>cable, satellite,...</td><td>a</td><td> 6.66</td><td>21.9</td></tr>\n",
       "<tr><td>70052129860</td><td>Donec Tempus Lore...</td><td>cable, satellite,...</td><td>b</td><td> 3.37</td><td>21.9</td></tr>\n",
       "<tr><td>57021295485</td><td>Enim Etiam Imperd...</td><td>cable, satellite,...</td><td>a</td><td> 5.75</td><td>21.9</td></tr>\n",
       "<tr><td>79645157255</td><td>Consectetuer Maur...</td><td>cable, satellite,...</td><td>a</td><td> 6.46</td><td>21.9</td></tr>\n",
       "<tr><td>21439773999</td><td>Mauris Non Institute</td><td>cable, satellite,...</td><td>a</td><td> 6.10</td><td>21.9</td></tr>\n",
       "<tr><td>21439773999</td><td>Mauris Non Institute</td><td>cable, satellite,...</td><td>a</td><td> 6.10</td><td>21.9</td></tr>\n",
       "<tr><td>94472466107</td><td>Eu Dolor Egestas PC</td><td>cable, satellite,...</td><td>a</td><td> 6.23</td><td>21.9</td></tr>\n",
       "<tr><td>66370248931</td><td>Morbi Non PC</td><td>cable, satellite,...</td><td>b</td><td> 3.15</td><td>21.9</td></tr>\n",
       "<tr><td>21439773999</td><td>Mauris Non Institute</td><td>cable, satellite,...</td><td>a</td><td> 6.10</td><td>21.9</td></tr>\n",
       "<tr><td>40590483301</td><td>Donec Tempus Corp...</td><td>cable, satellite,...</td><td>c</td><td> 3.10</td><td>21.9</td></tr>\n",
       "<tr><td>41974958954</td><td>Sed Libero Proin ...</td><td>cable, satellite,...</td><td>a</td><td> 5.51</td><td>21.9</td></tr>\n",
       "<tr><td>85071946566</td><td>Est Mauris Associ...</td><td>cable, satellite,...</td><td>b</td><td> 3.19</td><td>21.9</td></tr>\n",
       "<tr><td>17739089622</td><td>Auctor Quis Corp.</td><td>cable, satellite,...</td><td>b</td><td> 5.01</td><td>21.9</td></tr>\n",
       "<tr><td>69703285964</td><td>Suspendisse Incor...</td><td>cable, satellite,...</td><td>a</td><td> 5.77</td><td>21.9</td></tr>\n",
       "<tr><td>94472466107</td><td>Eu Dolor Egestas PC</td><td>cable, satellite,...</td><td>a</td><td> 6.23</td><td>21.9</td></tr>\n",
       "<tr><td>98545158925</td><td>Dictum Eleifend I...</td><td>cable, satellite,...</td><td>c</td><td> 2.13</td><td>21.9</td></tr>\n",
       "<tr><td>29521780474</td><td>At Sem Corp.</td><td>cable, satellite,...</td><td>a</td><td> 5.93</td><td>21.9</td></tr>\n",
       "<tr><td>50885695263</td><td>Euismod Institute</td><td>cable, satellite,...</td><td>c</td><td> 2.84</td><td>21.9</td></tr>\n",
       "<tr><td>41974958954</td><td>Sed Libero Proin ...</td><td>cable, satellite,...</td><td>a</td><td> 5.51</td><td>21.9</td></tr>\n",
       "</table>\n",
       "only showing top 20 rows\n"
      ],
      "text/plain": [
       "+------------+--------------------+--------------------+-------------+---------+--------------------------+\n",
       "|merchant_abn|                name|       business_area|revenue_level|take_rate|annual_turnover_percentage|\n",
       "+------------+--------------------+--------------------+-------------+---------+--------------------------+\n",
       "| 68004106739|        Nec Ante Ltd|cable, satellite,...|            a|     5.61|                      21.9|\n",
       "| 47663262928|      Eget Lacus LLP|cable, satellite,...|            a|     6.66|                      21.9|\n",
       "| 70052129860|Donec Tempus Lore...|cable, satellite,...|            b|     3.37|                      21.9|\n",
       "| 57021295485|Enim Etiam Imperd...|cable, satellite,...|            a|     5.75|                      21.9|\n",
       "| 79645157255|Consectetuer Maur...|cable, satellite,...|            a|     6.46|                      21.9|\n",
       "| 21439773999|Mauris Non Institute|cable, satellite,...|            a|     6.10|                      21.9|\n",
       "| 21439773999|Mauris Non Institute|cable, satellite,...|            a|     6.10|                      21.9|\n",
       "| 94472466107| Eu Dolor Egestas PC|cable, satellite,...|            a|     6.23|                      21.9|\n",
       "| 66370248931|        Morbi Non PC|cable, satellite,...|            b|     3.15|                      21.9|\n",
       "| 21439773999|Mauris Non Institute|cable, satellite,...|            a|     6.10|                      21.9|\n",
       "| 40590483301|Donec Tempus Corp...|cable, satellite,...|            c|     3.10|                      21.9|\n",
       "| 41974958954|Sed Libero Proin ...|cable, satellite,...|            a|     5.51|                      21.9|\n",
       "| 85071946566|Est Mauris Associ...|cable, satellite,...|            b|     3.19|                      21.9|\n",
       "| 17739089622|   Auctor Quis Corp.|cable, satellite,...|            b|     5.01|                      21.9|\n",
       "| 69703285964|Suspendisse Incor...|cable, satellite,...|            a|     5.77|                      21.9|\n",
       "| 94472466107| Eu Dolor Egestas PC|cable, satellite,...|            a|     6.23|                      21.9|\n",
       "| 98545158925|Dictum Eleifend I...|cable, satellite,...|            c|     2.13|                      21.9|\n",
       "| 29521780474|        At Sem Corp.|cable, satellite,...|            a|     5.93|                      21.9|\n",
       "| 50885695263|   Euismod Institute|cable, satellite,...|            c|     2.84|                      21.9|\n",
       "| 41974958954|Sed Libero Proin ...|cable, satellite,...|            a|     5.51|                      21.9|\n",
       "+------------+--------------------+--------------------+-------------+---------+--------------------------+\n",
       "only showing top 20 rows"
      ]
     },
     "execution_count": 41,
     "metadata": {},
     "output_type": "execute_result"
    }
   ],
   "source": [
    "temp2 = full.select(\"merchant_abn\",\"name\", \"business_area\", \"revenue_level\", \"take_rate\", \"annual_turnover_percentage\")\n",
    "temp2"
   ]
  },
  {
   "cell_type": "code",
   "execution_count": 42,
   "metadata": {},
   "outputs": [],
   "source": [
    "agg_df = agg_df.join(temp2, on=\"merchant_abn\")\n"
   ]
  },
  {
   "cell_type": "code",
   "execution_count": 43,
   "metadata": {},
   "outputs": [
    {
     "name": "stderr",
     "output_type": "stream",
     "text": [
      "                                                                                \r"
     ]
    },
    {
     "data": {
      "text/html": [
       "<table border='1'>\n",
       "<tr><th>merchant_abn</th><th>male_consumer_percentage</th><th>female_consumer_percentage</th><th>undisclosed_consumer_percentage</th><th>total_transactions_count</th><th>avg_comsumer_age</th><th>avg_consumer_weekly_income</th><th>avg_comsumer_weekly_rent</th><th>avg_total_value</th><th>name</th><th>business_area</th><th>revenue_level</th><th>take_rate</th><th>annual_turnover_percentage</th></tr>\n",
       "<tr><td>10023283211</td><td>0.44431988041853515</td><td>0.45403587443946186</td><td>0.10164424514200299</td><td>2676</td><td>43.45104633781764</td><td>788.5007473841555</td><td>298.20216741405085</td><td>216.00966289621502</td><td>Felis Limited</td><td>furniture, home f...</td><td>e</td><td> 0.18</td><td>17.0</td></tr>\n",
       "<tr><td>10342410215</td><td>0.4477401129943503</td><td>0.4519774011299435</td><td>0.10028248587570622</td><td>708</td><td>43.590395480225986</td><td>783.3333333333334</td><td>305.15677966101697</td><td>380.33362732557805</td><td>Facilisis Facilis...</td><td>computers, comput...</td><td>a</td><td> 6.34</td><td>21.9</td></tr>\n",
       "<tr><td>10385163239</td><td>0.4603174603174603</td><td>0.4444444444444444</td><td>0.09523809523809523</td><td>63</td><td>41.96825396825397</td><td>805.4761904761905</td><td>321.58730158730157</td><td>350.60472561042235</td><td>Sed Et Company</td><td>florists supplies...</td><td>a</td><td> 6.61</td><td>21.9</td></tr>\n",
       "<tr><td>10648956813</td><td>0.4522796352583587</td><td>0.4437137330754352</td><td>0.10400663166620613</td><td>18095</td><td>43.596684166896935</td><td>852.708040895275</td><td>300.661619231832</td><td>64.57669527052369</td><td>Proin Nisl Institute</td><td>computers, comput...</td><td>a</td><td> 6.66</td><td>21.9</td></tr>\n",
       "<tr><td>10714068705</td><td>0.462478184991274</td><td>0.4317626527050611</td><td>0.10575916230366492</td><td>2865</td><td>43.59581151832461</td><td>790.0024432809773</td><td>302.73228621291446</td><td>125.69312268344446</td><td>Sollicitudin Comm...</td><td>furniture, home f...</td><td>c</td><td> 2.51</td><td>17.0</td></tr>\n",
       "<tr><td>11024352823</td><td>0.4441489361702128</td><td>0.4441489361702128</td><td>0.11170212765957446</td><td>376</td><td>43.56117021276596</td><td>776.75</td><td>304.156914893617</td><td>214.44147093989704</td><td>Aliquet Metus Urn...</td><td>antique shops - s...</td><td>c</td><td> 2.62</td><td>21.9</td></tr>\n",
       "<tr><td>11076688542</td><td>0.45454545454545453</td><td>0.29545454545454547</td><td>0.25</td><td>44</td><td>43.04545454545455</td><td>794.0909090909091</td><td>313.72727272727275</td><td>698.1462248423107</td><td>Amet Diam Industries</td><td>stationery, offic...</td><td>c</td><td> 2.52</td><td>21.9</td></tr>\n",
       "<tr><td>11243046390</td><td>0.45595854922279794</td><td>0.43523316062176165</td><td>0.10880829015544041</td><td>386</td><td>43.248704663212436</td><td>780.6709844559585</td><td>291.0854922279793</td><td>245.76489261479708</td><td>Ornare Placerat F...</td><td>books, periodical...</td><td>c</td><td> 1.94</td><td>21.9</td></tr>\n",
       "<tr><td>11633090957</td><td>0.45964912280701753</td><td>0.4421052631578947</td><td>0.09824561403508772</td><td>285</td><td>44.02105263157895</td><td>780.2385964912281</td><td>308.5543859649123</td><td>149.43110458918156</td><td>Cum Sociis Incorp...</td><td>lawn and garden s...</td><td>b</td><td> 4.00</td><td>21.9</td></tr>\n",
       "<tr><td>11788487195</td><td>0.437125748502994</td><td>0.49101796407185627</td><td>0.0718562874251497</td><td>167</td><td>43.952095808383234</td><td>805.1736526946107</td><td>285.5149700598802</td><td>1105.417010503279</td><td>Id Magna LLP</td><td>music shops - mus...</td><td>b</td><td> 3.51</td><td>21.9</td></tr>\n",
       "<tr><td>11848576000</td><td>0.4880952380952381</td><td>0.4642857142857143</td><td>0.047619047619047616</td><td>84</td><td>44.0</td><td>806.2738095238095</td><td>302.4761904761905</td><td>2090.8347481528626</td><td>Aenean Eget Corpo...</td><td>hobby, toy and ga...</td><td>c</td><td> 1.57</td><td>21.9</td></tr>\n",
       "<tr><td>11944993446</td><td>0.4425021987686895</td><td>0.4510773966578716</td><td>0.10642040457343888</td><td>9096</td><td>43.441402814423924</td><td>808.622471416007</td><td>298.2969437115215</td><td>73.37719507713975</td><td>Tincidunt Dui Corp.</td><td>gift, card, novel...</td><td>a</td><td> 6.60</td><td>21.9</td></tr>\n",
       "<tr><td>12219088747</td><td>0.4332129963898917</td><td>0.48736462093862815</td><td>0.07942238267148015</td><td>277</td><td>44.48375451263538</td><td>1113.4909747292418</td><td>287.84115523465704</td><td>108.01678221645608</td><td>Velit Corp.</td><td>gift, card, novel...</td><td>b</td><td> 3.22</td><td>21.9</td></tr>\n",
       "<tr><td>12476477880</td><td>0.5652173913043478</td><td>0.3333333333333333</td><td>0.10144927536231885</td><td>69</td><td>43.666666666666664</td><td>734.7536231884058</td><td>299.81159420289856</td><td>258.9515485490068</td><td>Egestas A Sceleri...</td><td>books, periodical...</td><td>b</td><td> 3.73</td><td>21.9</td></tr>\n",
       "<tr><td>12516851436</td><td>0.44886363636363635</td><td>0.4431818181818182</td><td>0.10795454545454546</td><td>176</td><td>43.45454545454545</td><td>810.875</td><td>310.3636363636364</td><td>156.10366235660015</td><td>Mollis Corp.</td><td>watch, clock, and...</td><td>a</td><td> 6.71</td><td>2.4</td></tr>\n",
       "<tr><td>12771097467</td><td>0.4368663594470046</td><td>0.4663594470046083</td><td>0.0967741935483871</td><td>1085</td><td>43.48571428571429</td><td>793.5170506912442</td><td>296.0267281105991</td><td>3664.5991724344017</td><td>At Pretium Corp.</td><td>motor vehicle sup...</td><td>a</td><td> 6.95</td><td>21.9</td></tr>\n",
       "<tr><td>13066244467</td><td>0.5714285714285714</td><td>0.3333333333333333</td><td>0.09523809523809523</td><td>42</td><td>42.42857142857143</td><td>852.6428571428571</td><td>305.07142857142856</td><td>791.8573949441134</td><td>Ac Orci Industries</td><td>stationery, offic...</td><td>a</td><td> 5.69</td><td>21.9</td></tr>\n",
       "<tr><td>13067850740</td><td>0.5</td><td>0.36363636363636365</td><td>0.13636363636363635</td><td>22</td><td>42.13636363636363</td><td>855.4090909090909</td><td>309.54545454545456</td><td>1625.632596983524</td><td>Felis Eget Indust...</td><td>lawn and garden s...</td><td>a</td><td> 5.52</td><td>21.9</td></tr>\n",
       "<tr><td>13120157976</td><td>0.4300202839756592</td><td>0.4746450304259635</td><td>0.09533468559837728</td><td>493</td><td>43.15821501014199</td><td>989.1379310344828</td><td>309.26774847870183</td><td>210.0103360821173</td><td>Sem Egestas Bland...</td><td>antique shops - s...</td><td>a</td><td> 6.83</td><td>21.9</td></tr>\n",
       "<tr><td>13159730941</td><td>0.34579439252336447</td><td>0.5420560747663551</td><td>0.11214953271028037</td><td>107</td><td>42.09345794392523</td><td>804.5233644859813</td><td>324.3644859813084</td><td>270.2446927579653</td><td>Metus LLC</td><td>artist supply and...</td><td>a</td><td> 5.88</td><td>21.9</td></tr>\n",
       "</table>\n",
       "only showing top 20 rows\n"
      ],
      "text/plain": [
       "+------------+------------------------+--------------------------+-------------------------------+------------------------+------------------+--------------------------+------------------------+------------------+--------------------+--------------------+-------------+---------+--------------------------+\n",
       "|merchant_abn|male_consumer_percentage|female_consumer_percentage|undisclosed_consumer_percentage|total_transactions_count|  avg_comsumer_age|avg_consumer_weekly_income|avg_comsumer_weekly_rent|   avg_total_value|                name|       business_area|revenue_level|take_rate|annual_turnover_percentage|\n",
       "+------------+------------------------+--------------------------+-------------------------------+------------------------+------------------+--------------------------+------------------------+------------------+--------------------+--------------------+-------------+---------+--------------------------+\n",
       "| 10023283211|     0.44431988041853515|       0.45403587443946186|            0.10164424514200299|                    2676| 43.45104633781764|         788.5007473841555|      298.20216741405085|216.00966289621502|       Felis Limited|furniture, home f...|            e|     0.18|                      17.0|\n",
       "| 10342410215|      0.4477401129943503|        0.4519774011299435|            0.10028248587570622|                     708|43.590395480225986|         783.3333333333334|      305.15677966101697|380.33362732557805|Facilisis Facilis...|computers, comput...|            a|     6.34|                      21.9|\n",
       "| 10385163239|      0.4603174603174603|        0.4444444444444444|            0.09523809523809523|                      63| 41.96825396825397|         805.4761904761905|      321.58730158730157|350.60472561042235|      Sed Et Company|florists supplies...|            a|     6.61|                      21.9|\n",
       "| 10648956813|      0.4522796352583587|        0.4437137330754352|            0.10400663166620613|                   18095|43.596684166896935|          852.708040895275|        300.661619231832| 64.57669527052369|Proin Nisl Institute|computers, comput...|            a|     6.66|                      21.9|\n",
       "| 10714068705|       0.462478184991274|        0.4317626527050611|            0.10575916230366492|                    2865| 43.59581151832461|         790.0024432809773|      302.73228621291446|125.69312268344446|Sollicitudin Comm...|furniture, home f...|            c|     2.51|                      17.0|\n",
       "| 11024352823|      0.4441489361702128|        0.4441489361702128|            0.11170212765957446|                     376| 43.56117021276596|                    776.75|        304.156914893617|214.44147093989704|Aliquet Metus Urn...|antique shops - s...|            c|     2.62|                      21.9|\n",
       "| 11076688542|     0.45454545454545453|       0.29545454545454547|                           0.25|                      44| 43.04545454545455|         794.0909090909091|      313.72727272727275| 698.1462248423107|Amet Diam Industries|stationery, offic...|            c|     2.52|                      21.9|\n",
       "| 11243046390|     0.45595854922279794|       0.43523316062176165|            0.10880829015544041|                     386|43.248704663212436|         780.6709844559585|       291.0854922279793|245.76489261479708|Ornare Placerat F...|books, periodical...|            c|     1.94|                      21.9|\n",
       "| 11633090957|     0.45964912280701753|        0.4421052631578947|            0.09824561403508772|                     285| 44.02105263157895|         780.2385964912281|       308.5543859649123|149.43110458918156|Cum Sociis Incorp...|lawn and garden s...|            b|     4.00|                      21.9|\n",
       "| 11788487195|       0.437125748502994|       0.49101796407185627|             0.0718562874251497|                     167|43.952095808383234|         805.1736526946107|       285.5149700598802| 1105.417010503279|        Id Magna LLP|music shops - mus...|            b|     3.51|                      21.9|\n",
       "| 11848576000|      0.4880952380952381|        0.4642857142857143|           0.047619047619047616|                      84|              44.0|         806.2738095238095|       302.4761904761905|2090.8347481528626|Aenean Eget Corpo...|hobby, toy and ga...|            c|     1.57|                      21.9|\n",
       "| 11944993446|      0.4425021987686895|        0.4510773966578716|            0.10642040457343888|                    9096|43.441402814423924|          808.622471416007|       298.2969437115215| 73.37719507713975| Tincidunt Dui Corp.|gift, card, novel...|            a|     6.60|                      21.9|\n",
       "| 12219088747|      0.4332129963898917|       0.48736462093862815|            0.07942238267148015|                     277| 44.48375451263538|        1113.4909747292418|      287.84115523465704|108.01678221645608|         Velit Corp.|gift, card, novel...|            b|     3.22|                      21.9|\n",
       "| 12476477880|      0.5652173913043478|        0.3333333333333333|            0.10144927536231885|                      69|43.666666666666664|         734.7536231884058|      299.81159420289856| 258.9515485490068|Egestas A Sceleri...|books, periodical...|            b|     3.73|                      21.9|\n",
       "| 12516851436|     0.44886363636363635|        0.4431818181818182|            0.10795454545454546|                     176| 43.45454545454545|                   810.875|       310.3636363636364|156.10366235660015|        Mollis Corp.|watch, clock, and...|            a|     6.71|                       2.4|\n",
       "| 12771097467|      0.4368663594470046|        0.4663594470046083|             0.0967741935483871|                    1085| 43.48571428571429|         793.5170506912442|       296.0267281105991|3664.5991724344017|    At Pretium Corp.|motor vehicle sup...|            a|     6.95|                      21.9|\n",
       "| 13066244467|      0.5714285714285714|        0.3333333333333333|            0.09523809523809523|                      42| 42.42857142857143|         852.6428571428571|      305.07142857142856| 791.8573949441134|  Ac Orci Industries|stationery, offic...|            a|     5.69|                      21.9|\n",
       "| 13067850740|                     0.5|       0.36363636363636365|            0.13636363636363635|                      22| 42.13636363636363|         855.4090909090909|      309.54545454545456| 1625.632596983524|Felis Eget Indust...|lawn and garden s...|            a|     5.52|                      21.9|\n",
       "| 13120157976|      0.4300202839756592|        0.4746450304259635|            0.09533468559837728|                     493| 43.15821501014199|         989.1379310344828|      309.26774847870183| 210.0103360821173|Sem Egestas Bland...|antique shops - s...|            a|     6.83|                      21.9|\n",
       "| 13159730941|     0.34579439252336447|        0.5420560747663551|            0.11214953271028037|                     107| 42.09345794392523|         804.5233644859813|       324.3644859813084| 270.2446927579653|           Metus LLC|artist supply and...|            a|     5.88|                      21.9|\n",
       "+------------+------------------------+--------------------------+-------------------------------+------------------------+------------------+--------------------------+------------------------+------------------+--------------------+--------------------+-------------+---------+--------------------------+\n",
       "only showing top 20 rows"
      ]
     },
     "execution_count": 43,
     "metadata": {},
     "output_type": "execute_result"
    }
   ],
   "source": [
    "agg_df = agg_df.distinct()\n",
    "agg_df "
   ]
  },
  {
   "cell_type": "markdown",
   "metadata": {},
   "source": [
    "### Calculate AP_rate "
   ]
  },
  {
   "cell_type": "markdown",
   "metadata": {},
   "source": [
    "AP_rate of a merchant is the percentage of existing customers of this merchant who will potentially uses BNPL(Afterpay) service, indicating the amount of potential consumers that this merchant can bring after cooperation. \n",
    "This feature will be calculated based on the consumer gender, the consumer age and the consumer income/rent."
   ]
  },
  {
   "cell_type": "markdown",
   "metadata": {},
   "source": [
    "It is observed that the average age is about the same for all merchants so we decide to remove the age feature. "
   ]
  },
  {
   "cell_type": "code",
   "execution_count": 44,
   "metadata": {},
   "outputs": [],
   "source": [
    "agg_df = agg_df.drop(\"avg_comsumer_age\")"
   ]
  },
  {
   "cell_type": "code",
   "execution_count": 45,
   "metadata": {},
   "outputs": [
    {
     "name": "stderr",
     "output_type": "stream",
     "text": [
      "                                                                                \r"
     ]
    },
    {
     "data": {
      "text/html": [
       "<table border='1'>\n",
       "<tr><th>merchant_abn</th><th>male_consumer_percentage</th><th>female_consumer_percentage</th><th>undisclosed_consumer_percentage</th><th>total_transactions_count</th><th>avg_consumer_weekly_income</th><th>avg_comsumer_weekly_rent</th><th>avg_total_value</th><th>name</th><th>business_area</th><th>revenue_level</th><th>take_rate</th><th>annual_turnover_percentage</th></tr>\n",
       "<tr><td>10023283211</td><td>0.44431988041853515</td><td>0.45403587443946186</td><td>0.10164424514200299</td><td>2676</td><td>788.5007473841555</td><td>298.20216741405085</td><td>216.00966289621502</td><td>Felis Limited</td><td>furniture, home f...</td><td>e</td><td> 0.18</td><td>17.0</td></tr>\n",
       "<tr><td>10342410215</td><td>0.4477401129943503</td><td>0.4519774011299435</td><td>0.10028248587570622</td><td>708</td><td>783.3333333333334</td><td>305.15677966101697</td><td>380.33362732557805</td><td>Facilisis Facilis...</td><td>computers, comput...</td><td>a</td><td> 6.34</td><td>21.9</td></tr>\n",
       "<tr><td>10385163239</td><td>0.4603174603174603</td><td>0.4444444444444444</td><td>0.09523809523809523</td><td>63</td><td>805.4761904761905</td><td>321.58730158730157</td><td>350.60472561042235</td><td>Sed Et Company</td><td>florists supplies...</td><td>a</td><td> 6.61</td><td>21.9</td></tr>\n",
       "<tr><td>10648956813</td><td>0.4522796352583587</td><td>0.4437137330754352</td><td>0.10400663166620613</td><td>18095</td><td>852.708040895275</td><td>300.661619231832</td><td>64.57669527052369</td><td>Proin Nisl Institute</td><td>computers, comput...</td><td>a</td><td> 6.66</td><td>21.9</td></tr>\n",
       "<tr><td>10714068705</td><td>0.462478184991274</td><td>0.4317626527050611</td><td>0.10575916230366492</td><td>2865</td><td>790.0024432809773</td><td>302.73228621291446</td><td>125.69312268344446</td><td>Sollicitudin Comm...</td><td>furniture, home f...</td><td>c</td><td> 2.51</td><td>17.0</td></tr>\n",
       "<tr><td>11024352823</td><td>0.4441489361702128</td><td>0.4441489361702128</td><td>0.11170212765957446</td><td>376</td><td>776.75</td><td>304.156914893617</td><td>214.44147093989704</td><td>Aliquet Metus Urn...</td><td>antique shops - s...</td><td>c</td><td> 2.62</td><td>21.9</td></tr>\n",
       "<tr><td>11076688542</td><td>0.45454545454545453</td><td>0.29545454545454547</td><td>0.25</td><td>44</td><td>794.0909090909091</td><td>313.72727272727275</td><td>698.1462248423107</td><td>Amet Diam Industries</td><td>stationery, offic...</td><td>c</td><td> 2.52</td><td>21.9</td></tr>\n",
       "<tr><td>11243046390</td><td>0.45595854922279794</td><td>0.43523316062176165</td><td>0.10880829015544041</td><td>386</td><td>780.6709844559585</td><td>291.0854922279793</td><td>245.76489261479708</td><td>Ornare Placerat F...</td><td>books, periodical...</td><td>c</td><td> 1.94</td><td>21.9</td></tr>\n",
       "<tr><td>11633090957</td><td>0.45964912280701753</td><td>0.4421052631578947</td><td>0.09824561403508772</td><td>285</td><td>780.2385964912281</td><td>308.5543859649123</td><td>149.43110458918156</td><td>Cum Sociis Incorp...</td><td>lawn and garden s...</td><td>b</td><td> 4.00</td><td>21.9</td></tr>\n",
       "<tr><td>11788487195</td><td>0.437125748502994</td><td>0.49101796407185627</td><td>0.0718562874251497</td><td>167</td><td>805.1736526946107</td><td>285.5149700598802</td><td>1105.417010503279</td><td>Id Magna LLP</td><td>music shops - mus...</td><td>b</td><td> 3.51</td><td>21.9</td></tr>\n",
       "<tr><td>11848576000</td><td>0.4880952380952381</td><td>0.4642857142857143</td><td>0.047619047619047616</td><td>84</td><td>806.2738095238095</td><td>302.4761904761905</td><td>2090.8347481528626</td><td>Aenean Eget Corpo...</td><td>hobby, toy and ga...</td><td>c</td><td> 1.57</td><td>21.9</td></tr>\n",
       "<tr><td>11944993446</td><td>0.4425021987686895</td><td>0.4510773966578716</td><td>0.10642040457343888</td><td>9096</td><td>808.622471416007</td><td>298.2969437115215</td><td>73.37719507713975</td><td>Tincidunt Dui Corp.</td><td>gift, card, novel...</td><td>a</td><td> 6.60</td><td>21.9</td></tr>\n",
       "<tr><td>12219088747</td><td>0.4332129963898917</td><td>0.48736462093862815</td><td>0.07942238267148015</td><td>277</td><td>1113.4909747292418</td><td>287.84115523465704</td><td>108.01678221645608</td><td>Velit Corp.</td><td>gift, card, novel...</td><td>b</td><td> 3.22</td><td>21.9</td></tr>\n",
       "<tr><td>12476477880</td><td>0.5652173913043478</td><td>0.3333333333333333</td><td>0.10144927536231885</td><td>69</td><td>734.7536231884058</td><td>299.81159420289856</td><td>258.9515485490068</td><td>Egestas A Sceleri...</td><td>books, periodical...</td><td>b</td><td> 3.73</td><td>21.9</td></tr>\n",
       "<tr><td>12516851436</td><td>0.44886363636363635</td><td>0.4431818181818182</td><td>0.10795454545454546</td><td>176</td><td>810.875</td><td>310.3636363636364</td><td>156.10366235660015</td><td>Mollis Corp.</td><td>watch, clock, and...</td><td>a</td><td> 6.71</td><td>2.4</td></tr>\n",
       "<tr><td>12771097467</td><td>0.4368663594470046</td><td>0.4663594470046083</td><td>0.0967741935483871</td><td>1085</td><td>793.5170506912442</td><td>296.0267281105991</td><td>3664.5991724344017</td><td>At Pretium Corp.</td><td>motor vehicle sup...</td><td>a</td><td> 6.95</td><td>21.9</td></tr>\n",
       "<tr><td>13066244467</td><td>0.5714285714285714</td><td>0.3333333333333333</td><td>0.09523809523809523</td><td>42</td><td>852.6428571428571</td><td>305.07142857142856</td><td>791.8573949441134</td><td>Ac Orci Industries</td><td>stationery, offic...</td><td>a</td><td> 5.69</td><td>21.9</td></tr>\n",
       "<tr><td>13067850740</td><td>0.5</td><td>0.36363636363636365</td><td>0.13636363636363635</td><td>22</td><td>855.4090909090909</td><td>309.54545454545456</td><td>1625.632596983524</td><td>Felis Eget Indust...</td><td>lawn and garden s...</td><td>a</td><td> 5.52</td><td>21.9</td></tr>\n",
       "<tr><td>13120157976</td><td>0.4300202839756592</td><td>0.4746450304259635</td><td>0.09533468559837728</td><td>493</td><td>989.1379310344828</td><td>309.26774847870183</td><td>210.0103360821173</td><td>Sem Egestas Bland...</td><td>antique shops - s...</td><td>a</td><td> 6.83</td><td>21.9</td></tr>\n",
       "<tr><td>13159730941</td><td>0.34579439252336447</td><td>0.5420560747663551</td><td>0.11214953271028037</td><td>107</td><td>804.5233644859813</td><td>324.3644859813084</td><td>270.2446927579653</td><td>Metus LLC</td><td>artist supply and...</td><td>a</td><td> 5.88</td><td>21.9</td></tr>\n",
       "</table>\n",
       "only showing top 20 rows\n"
      ],
      "text/plain": [
       "+------------+------------------------+--------------------------+-------------------------------+------------------------+--------------------------+------------------------+------------------+--------------------+--------------------+-------------+---------+--------------------------+\n",
       "|merchant_abn|male_consumer_percentage|female_consumer_percentage|undisclosed_consumer_percentage|total_transactions_count|avg_consumer_weekly_income|avg_comsumer_weekly_rent|   avg_total_value|                name|       business_area|revenue_level|take_rate|annual_turnover_percentage|\n",
       "+------------+------------------------+--------------------------+-------------------------------+------------------------+--------------------------+------------------------+------------------+--------------------+--------------------+-------------+---------+--------------------------+\n",
       "| 10023283211|     0.44431988041853515|       0.45403587443946186|            0.10164424514200299|                    2676|         788.5007473841555|      298.20216741405085|216.00966289621502|       Felis Limited|furniture, home f...|            e|     0.18|                      17.0|\n",
       "| 10342410215|      0.4477401129943503|        0.4519774011299435|            0.10028248587570622|                     708|         783.3333333333334|      305.15677966101697|380.33362732557805|Facilisis Facilis...|computers, comput...|            a|     6.34|                      21.9|\n",
       "| 10385163239|      0.4603174603174603|        0.4444444444444444|            0.09523809523809523|                      63|         805.4761904761905|      321.58730158730157|350.60472561042235|      Sed Et Company|florists supplies...|            a|     6.61|                      21.9|\n",
       "| 10648956813|      0.4522796352583587|        0.4437137330754352|            0.10400663166620613|                   18095|          852.708040895275|        300.661619231832| 64.57669527052369|Proin Nisl Institute|computers, comput...|            a|     6.66|                      21.9|\n",
       "| 10714068705|       0.462478184991274|        0.4317626527050611|            0.10575916230366492|                    2865|         790.0024432809773|      302.73228621291446|125.69312268344446|Sollicitudin Comm...|furniture, home f...|            c|     2.51|                      17.0|\n",
       "| 11024352823|      0.4441489361702128|        0.4441489361702128|            0.11170212765957446|                     376|                    776.75|        304.156914893617|214.44147093989704|Aliquet Metus Urn...|antique shops - s...|            c|     2.62|                      21.9|\n",
       "| 11076688542|     0.45454545454545453|       0.29545454545454547|                           0.25|                      44|         794.0909090909091|      313.72727272727275| 698.1462248423107|Amet Diam Industries|stationery, offic...|            c|     2.52|                      21.9|\n",
       "| 11243046390|     0.45595854922279794|       0.43523316062176165|            0.10880829015544041|                     386|         780.6709844559585|       291.0854922279793|245.76489261479708|Ornare Placerat F...|books, periodical...|            c|     1.94|                      21.9|\n",
       "| 11633090957|     0.45964912280701753|        0.4421052631578947|            0.09824561403508772|                     285|         780.2385964912281|       308.5543859649123|149.43110458918156|Cum Sociis Incorp...|lawn and garden s...|            b|     4.00|                      21.9|\n",
       "| 11788487195|       0.437125748502994|       0.49101796407185627|             0.0718562874251497|                     167|         805.1736526946107|       285.5149700598802| 1105.417010503279|        Id Magna LLP|music shops - mus...|            b|     3.51|                      21.9|\n",
       "| 11848576000|      0.4880952380952381|        0.4642857142857143|           0.047619047619047616|                      84|         806.2738095238095|       302.4761904761905|2090.8347481528626|Aenean Eget Corpo...|hobby, toy and ga...|            c|     1.57|                      21.9|\n",
       "| 11944993446|      0.4425021987686895|        0.4510773966578716|            0.10642040457343888|                    9096|          808.622471416007|       298.2969437115215| 73.37719507713975| Tincidunt Dui Corp.|gift, card, novel...|            a|     6.60|                      21.9|\n",
       "| 12219088747|      0.4332129963898917|       0.48736462093862815|            0.07942238267148015|                     277|        1113.4909747292418|      287.84115523465704|108.01678221645608|         Velit Corp.|gift, card, novel...|            b|     3.22|                      21.9|\n",
       "| 12476477880|      0.5652173913043478|        0.3333333333333333|            0.10144927536231885|                      69|         734.7536231884058|      299.81159420289856| 258.9515485490068|Egestas A Sceleri...|books, periodical...|            b|     3.73|                      21.9|\n",
       "| 12516851436|     0.44886363636363635|        0.4431818181818182|            0.10795454545454546|                     176|                   810.875|       310.3636363636364|156.10366235660015|        Mollis Corp.|watch, clock, and...|            a|     6.71|                       2.4|\n",
       "| 12771097467|      0.4368663594470046|        0.4663594470046083|             0.0967741935483871|                    1085|         793.5170506912442|       296.0267281105991|3664.5991724344017|    At Pretium Corp.|motor vehicle sup...|            a|     6.95|                      21.9|\n",
       "| 13066244467|      0.5714285714285714|        0.3333333333333333|            0.09523809523809523|                      42|         852.6428571428571|      305.07142857142856| 791.8573949441134|  Ac Orci Industries|stationery, offic...|            a|     5.69|                      21.9|\n",
       "| 13067850740|                     0.5|       0.36363636363636365|            0.13636363636363635|                      22|         855.4090909090909|      309.54545454545456| 1625.632596983524|Felis Eget Indust...|lawn and garden s...|            a|     5.52|                      21.9|\n",
       "| 13120157976|      0.4300202839756592|        0.4746450304259635|            0.09533468559837728|                     493|         989.1379310344828|      309.26774847870183| 210.0103360821173|Sem Egestas Bland...|antique shops - s...|            a|     6.83|                      21.9|\n",
       "| 13159730941|     0.34579439252336447|        0.5420560747663551|            0.11214953271028037|                     107|         804.5233644859813|       324.3644859813084| 270.2446927579653|           Metus LLC|artist supply and...|            a|     5.88|                      21.9|\n",
       "+------------+------------------------+--------------------------+-------------------------------+------------------------+--------------------------+------------------------+------------------+--------------------+--------------------+-------------+---------+--------------------------+\n",
       "only showing top 20 rows"
      ]
     },
     "execution_count": 45,
     "metadata": {},
     "output_type": "execute_result"
    }
   ],
   "source": [
    "agg_df"
   ]
  },
  {
   "cell_type": "markdown",
   "metadata": {},
   "source": [
    "##### AP_rate: income/rent"
   ]
  },
  {
   "cell_type": "markdown",
   "metadata": {},
   "source": [
    "We suggests that the probablity of a consumer uses BNPL or not might depend on the spare money he/she owns. If a person has less spare money, then she/he is more likely to use BNPL service. We compute the 'spare_money' by \"weekly_income\"-\"weekly_rent\" as an approximation."
   ]
  },
  {
   "cell_type": "code",
   "execution_count": 46,
   "metadata": {},
   "outputs": [],
   "source": [
    "agg_df = agg_df.withColumn('avg_consumer_weekly_spare_money', F.col('avg_consumer_weekly_income') - F.col('avg_comsumer_weekly_rent'))\n",
    "# remove income and rent\n",
    "agg_df = agg_df.drop('avg_consumer_weekly_income')\n",
    "agg_df = agg_df.drop('avg_comsumer_weekly_rent')"
   ]
  },
  {
   "cell_type": "code",
   "execution_count": 47,
   "metadata": {},
   "outputs": [
    {
     "name": "stderr",
     "output_type": "stream",
     "text": [
      "                                                                                \r"
     ]
    },
    {
     "data": {
      "text/html": [
       "<table border='1'>\n",
       "<tr><th>merchant_abn</th><th>male_consumer_percentage</th><th>female_consumer_percentage</th><th>undisclosed_consumer_percentage</th><th>total_transactions_count</th><th>avg_total_value</th><th>name</th><th>business_area</th><th>revenue_level</th><th>take_rate</th><th>annual_turnover_percentage</th><th>avg_consumer_weekly_spare_money</th></tr>\n",
       "<tr><td>10023283211</td><td>0.44431988041853515</td><td>0.45403587443946186</td><td>0.10164424514200299</td><td>2676</td><td>216.00966289621502</td><td>Felis Limited</td><td>furniture, home f...</td><td>e</td><td> 0.18</td><td>17.0</td><td>490.29857997010464</td></tr>\n",
       "<tr><td>10342410215</td><td>0.4477401129943503</td><td>0.4519774011299435</td><td>0.10028248587570622</td><td>708</td><td>380.33362732557805</td><td>Facilisis Facilis...</td><td>computers, comput...</td><td>a</td><td> 6.34</td><td>21.9</td><td>478.1765536723164</td></tr>\n",
       "<tr><td>10385163239</td><td>0.4603174603174603</td><td>0.4444444444444444</td><td>0.09523809523809523</td><td>63</td><td>350.60472561042235</td><td>Sed Et Company</td><td>florists supplies...</td><td>a</td><td> 6.61</td><td>21.9</td><td>483.8888888888889</td></tr>\n",
       "<tr><td>10648956813</td><td>0.4522796352583587</td><td>0.4437137330754352</td><td>0.10400663166620613</td><td>18095</td><td>64.57669527052369</td><td>Proin Nisl Institute</td><td>computers, comput...</td><td>a</td><td> 6.66</td><td>21.9</td><td>552.046421663443</td></tr>\n",
       "<tr><td>10714068705</td><td>0.462478184991274</td><td>0.4317626527050611</td><td>0.10575916230366492</td><td>2865</td><td>125.69312268344446</td><td>Sollicitudin Comm...</td><td>furniture, home f...</td><td>c</td><td> 2.51</td><td>17.0</td><td>487.2701570680629</td></tr>\n",
       "<tr><td>11024352823</td><td>0.4441489361702128</td><td>0.4441489361702128</td><td>0.11170212765957446</td><td>376</td><td>214.44147093989704</td><td>Aliquet Metus Urn...</td><td>antique shops - s...</td><td>c</td><td> 2.62</td><td>21.9</td><td>472.593085106383</td></tr>\n",
       "<tr><td>11076688542</td><td>0.45454545454545453</td><td>0.29545454545454547</td><td>0.25</td><td>44</td><td>698.1462248423107</td><td>Amet Diam Industries</td><td>stationery, offic...</td><td>c</td><td> 2.52</td><td>21.9</td><td>480.3636363636364</td></tr>\n",
       "<tr><td>11243046390</td><td>0.45595854922279794</td><td>0.43523316062176165</td><td>0.10880829015544041</td><td>386</td><td>245.76489261479708</td><td>Ornare Placerat F...</td><td>books, periodical...</td><td>c</td><td> 1.94</td><td>21.9</td><td>489.5854922279793</td></tr>\n",
       "<tr><td>11633090957</td><td>0.45964912280701753</td><td>0.4421052631578947</td><td>0.09824561403508772</td><td>285</td><td>149.43110458918156</td><td>Cum Sociis Incorp...</td><td>lawn and garden s...</td><td>b</td><td> 4.00</td><td>21.9</td><td>471.68421052631584</td></tr>\n",
       "<tr><td>11788487195</td><td>0.437125748502994</td><td>0.49101796407185627</td><td>0.0718562874251497</td><td>167</td><td>1105.417010503279</td><td>Id Magna LLP</td><td>music shops - mus...</td><td>b</td><td> 3.51</td><td>21.9</td><td>519.6586826347304</td></tr>\n",
       "<tr><td>11848576000</td><td>0.4880952380952381</td><td>0.4642857142857143</td><td>0.047619047619047616</td><td>84</td><td>2090.8347481528626</td><td>Aenean Eget Corpo...</td><td>hobby, toy and ga...</td><td>c</td><td> 1.57</td><td>21.9</td><td>503.79761904761904</td></tr>\n",
       "<tr><td>11944993446</td><td>0.4425021987686895</td><td>0.4510773966578716</td><td>0.10642040457343888</td><td>9096</td><td>73.37719507713975</td><td>Tincidunt Dui Corp.</td><td>gift, card, novel...</td><td>a</td><td> 6.60</td><td>21.9</td><td>510.32552770448547</td></tr>\n",
       "<tr><td>12219088747</td><td>0.4332129963898917</td><td>0.48736462093862815</td><td>0.07942238267148015</td><td>277</td><td>108.01678221645608</td><td>Velit Corp.</td><td>gift, card, novel...</td><td>b</td><td> 3.22</td><td>21.9</td><td>825.6498194945848</td></tr>\n",
       "<tr><td>12476477880</td><td>0.5652173913043478</td><td>0.3333333333333333</td><td>0.10144927536231885</td><td>69</td><td>258.9515485490068</td><td>Egestas A Sceleri...</td><td>books, periodical...</td><td>b</td><td> 3.73</td><td>21.9</td><td>434.9420289855072</td></tr>\n",
       "<tr><td>12516851436</td><td>0.44886363636363635</td><td>0.4431818181818182</td><td>0.10795454545454546</td><td>176</td><td>156.10366235660015</td><td>Mollis Corp.</td><td>watch, clock, and...</td><td>a</td><td> 6.71</td><td>2.4</td><td>500.5113636363636</td></tr>\n",
       "<tr><td>12771097467</td><td>0.4368663594470046</td><td>0.4663594470046083</td><td>0.0967741935483871</td><td>1085</td><td>3664.5991724344017</td><td>At Pretium Corp.</td><td>motor vehicle sup...</td><td>a</td><td> 6.95</td><td>21.9</td><td>497.4903225806451</td></tr>\n",
       "<tr><td>13066244467</td><td>0.5714285714285714</td><td>0.3333333333333333</td><td>0.09523809523809523</td><td>42</td><td>791.8573949441134</td><td>Ac Orci Industries</td><td>stationery, offic...</td><td>a</td><td> 5.69</td><td>21.9</td><td>547.5714285714286</td></tr>\n",
       "<tr><td>13067850740</td><td>0.5</td><td>0.36363636363636365</td><td>0.13636363636363635</td><td>22</td><td>1625.632596983524</td><td>Felis Eget Indust...</td><td>lawn and garden s...</td><td>a</td><td> 5.52</td><td>21.9</td><td>545.8636363636363</td></tr>\n",
       "<tr><td>13120157976</td><td>0.4300202839756592</td><td>0.4746450304259635</td><td>0.09533468559837728</td><td>493</td><td>210.0103360821173</td><td>Sem Egestas Bland...</td><td>antique shops - s...</td><td>a</td><td> 6.83</td><td>21.9</td><td>679.870182555781</td></tr>\n",
       "<tr><td>13159730941</td><td>0.34579439252336447</td><td>0.5420560747663551</td><td>0.11214953271028037</td><td>107</td><td>270.2446927579653</td><td>Metus LLC</td><td>artist supply and...</td><td>a</td><td> 5.88</td><td>21.9</td><td>480.15887850467294</td></tr>\n",
       "</table>\n",
       "only showing top 20 rows\n"
      ],
      "text/plain": [
       "+------------+------------------------+--------------------------+-------------------------------+------------------------+------------------+--------------------+--------------------+-------------+---------+--------------------------+-------------------------------+\n",
       "|merchant_abn|male_consumer_percentage|female_consumer_percentage|undisclosed_consumer_percentage|total_transactions_count|   avg_total_value|                name|       business_area|revenue_level|take_rate|annual_turnover_percentage|avg_consumer_weekly_spare_money|\n",
       "+------------+------------------------+--------------------------+-------------------------------+------------------------+------------------+--------------------+--------------------+-------------+---------+--------------------------+-------------------------------+\n",
       "| 10023283211|     0.44431988041853515|       0.45403587443946186|            0.10164424514200299|                    2676|216.00966289621502|       Felis Limited|furniture, home f...|            e|     0.18|                      17.0|             490.29857997010464|\n",
       "| 10342410215|      0.4477401129943503|        0.4519774011299435|            0.10028248587570622|                     708|380.33362732557805|Facilisis Facilis...|computers, comput...|            a|     6.34|                      21.9|              478.1765536723164|\n",
       "| 10385163239|      0.4603174603174603|        0.4444444444444444|            0.09523809523809523|                      63|350.60472561042235|      Sed Et Company|florists supplies...|            a|     6.61|                      21.9|              483.8888888888889|\n",
       "| 10648956813|      0.4522796352583587|        0.4437137330754352|            0.10400663166620613|                   18095| 64.57669527052369|Proin Nisl Institute|computers, comput...|            a|     6.66|                      21.9|               552.046421663443|\n",
       "| 10714068705|       0.462478184991274|        0.4317626527050611|            0.10575916230366492|                    2865|125.69312268344446|Sollicitudin Comm...|furniture, home f...|            c|     2.51|                      17.0|              487.2701570680629|\n",
       "| 11024352823|      0.4441489361702128|        0.4441489361702128|            0.11170212765957446|                     376|214.44147093989704|Aliquet Metus Urn...|antique shops - s...|            c|     2.62|                      21.9|               472.593085106383|\n",
       "| 11076688542|     0.45454545454545453|       0.29545454545454547|                           0.25|                      44| 698.1462248423107|Amet Diam Industries|stationery, offic...|            c|     2.52|                      21.9|              480.3636363636364|\n",
       "| 11243046390|     0.45595854922279794|       0.43523316062176165|            0.10880829015544041|                     386|245.76489261479708|Ornare Placerat F...|books, periodical...|            c|     1.94|                      21.9|              489.5854922279793|\n",
       "| 11633090957|     0.45964912280701753|        0.4421052631578947|            0.09824561403508772|                     285|149.43110458918156|Cum Sociis Incorp...|lawn and garden s...|            b|     4.00|                      21.9|             471.68421052631584|\n",
       "| 11788487195|       0.437125748502994|       0.49101796407185627|             0.0718562874251497|                     167| 1105.417010503279|        Id Magna LLP|music shops - mus...|            b|     3.51|                      21.9|              519.6586826347304|\n",
       "| 11848576000|      0.4880952380952381|        0.4642857142857143|           0.047619047619047616|                      84|2090.8347481528626|Aenean Eget Corpo...|hobby, toy and ga...|            c|     1.57|                      21.9|             503.79761904761904|\n",
       "| 11944993446|      0.4425021987686895|        0.4510773966578716|            0.10642040457343888|                    9096| 73.37719507713975| Tincidunt Dui Corp.|gift, card, novel...|            a|     6.60|                      21.9|             510.32552770448547|\n",
       "| 12219088747|      0.4332129963898917|       0.48736462093862815|            0.07942238267148015|                     277|108.01678221645608|         Velit Corp.|gift, card, novel...|            b|     3.22|                      21.9|              825.6498194945848|\n",
       "| 12476477880|      0.5652173913043478|        0.3333333333333333|            0.10144927536231885|                      69| 258.9515485490068|Egestas A Sceleri...|books, periodical...|            b|     3.73|                      21.9|              434.9420289855072|\n",
       "| 12516851436|     0.44886363636363635|        0.4431818181818182|            0.10795454545454546|                     176|156.10366235660015|        Mollis Corp.|watch, clock, and...|            a|     6.71|                       2.4|              500.5113636363636|\n",
       "| 12771097467|      0.4368663594470046|        0.4663594470046083|             0.0967741935483871|                    1085|3664.5991724344017|    At Pretium Corp.|motor vehicle sup...|            a|     6.95|                      21.9|              497.4903225806451|\n",
       "| 13066244467|      0.5714285714285714|        0.3333333333333333|            0.09523809523809523|                      42| 791.8573949441134|  Ac Orci Industries|stationery, offic...|            a|     5.69|                      21.9|              547.5714285714286|\n",
       "| 13067850740|                     0.5|       0.36363636363636365|            0.13636363636363635|                      22| 1625.632596983524|Felis Eget Indust...|lawn and garden s...|            a|     5.52|                      21.9|              545.8636363636363|\n",
       "| 13120157976|      0.4300202839756592|        0.4746450304259635|            0.09533468559837728|                     493| 210.0103360821173|Sem Egestas Bland...|antique shops - s...|            a|     6.83|                      21.9|               679.870182555781|\n",
       "| 13159730941|     0.34579439252336447|        0.5420560747663551|            0.11214953271028037|                     107| 270.2446927579653|           Metus LLC|artist supply and...|            a|     5.88|                      21.9|             480.15887850467294|\n",
       "+------------+------------------------+--------------------------+-------------------------------+------------------------+------------------+--------------------+--------------------+-------------+---------+--------------------------+-------------------------------+\n",
       "only showing top 20 rows"
      ]
     },
     "execution_count": 47,
     "metadata": {},
     "output_type": "execute_result"
    }
   ],
   "source": [
    "agg_df"
   ]
  },
  {
   "cell_type": "markdown",
   "metadata": {},
   "source": [
    "Now we need to standardise the weekly spare money with mean 0. We uses mean=0 because after standardisation, we need to invert the sign as the poor people is more likely to use BNPL so they should have a higher AP_rate, whereas the richers should have a lower rate."
   ]
  },
  {
   "cell_type": "code",
   "execution_count": 48,
   "metadata": {},
   "outputs": [
    {
     "name": "stderr",
     "output_type": "stream",
     "text": [
      "                                                                                \r"
     ]
    }
   ],
   "source": [
    "spare_money_list = agg_df.select('avg_consumer_weekly_spare_money').rdd.flatMap(lambda x: x).collect()"
   ]
  },
  {
   "cell_type": "code",
   "execution_count": 49,
   "metadata": {},
   "outputs": [
    {
     "name": "stderr",
     "output_type": "stream",
     "text": [
      "                                                                                \r"
     ]
    }
   ],
   "source": [
    "from sklearn import preprocessing\n",
    "# normal standardise the spare money and reverse the signs\n",
    "scaled = preprocessing.scale(spare_money_list) * -1\n",
    "scaled = scaled.tolist()\n",
    "# convert to pandas and append list as new column\n",
    "agg_df_pandas = agg_df.toPandas()\n",
    "agg_df_pandas['consumer_scaled_spare_money'] = scaled"
   ]
  },
  {
   "cell_type": "code",
   "execution_count": 50,
   "metadata": {},
   "outputs": [],
   "source": [
    "# convert back to pyspark\n",
    "agg_df = spark.createDataFrame(agg_df_pandas) \n",
    "agg_df = agg_df.drop(\"avg_consumer_weekly_spare_money\")"
   ]
  },
  {
   "cell_type": "code",
   "execution_count": 51,
   "metadata": {},
   "outputs": [
    {
     "data": {
      "text/html": [
       "<table border='1'>\n",
       "<tr><th>merchant_abn</th><th>male_consumer_percentage</th><th>female_consumer_percentage</th><th>undisclosed_consumer_percentage</th><th>total_transactions_count</th><th>avg_total_value</th><th>name</th><th>business_area</th><th>revenue_level</th><th>take_rate</th><th>annual_turnover_percentage</th><th>consumer_scaled_spare_money</th></tr>\n",
       "<tr><td>10023283211</td><td>0.44431988041853515</td><td>0.45403587443946186</td><td>0.10164424514200299</td><td>2676</td><td>216.00966289621502</td><td>Felis Limited</td><td>furniture, home f...</td><td>e</td><td> 0.18</td><td>17.0</td><td>0.1933527945132402</td></tr>\n",
       "<tr><td>10342410215</td><td>0.4477401129943503</td><td>0.4519774011299435</td><td>0.10028248587570622</td><td>708</td><td>380.33362732557805</td><td>Facilisis Facilis...</td><td>computers, comput...</td><td>a</td><td> 6.34</td><td>21.9</td><td>0.27941998039967986</td></tr>\n",
       "<tr><td>10385163239</td><td>0.4603174603174603</td><td>0.4444444444444444</td><td>0.09523809523809523</td><td>63</td><td>350.60472561042235</td><td>Sed Et Company</td><td>florists supplies...</td><td>a</td><td> 6.61</td><td>21.9</td><td>0.23886202376332882</td></tr>\n",
       "<tr><td>10648956813</td><td>0.4522796352583587</td><td>0.4437137330754352</td><td>0.10400663166620613</td><td>18095</td><td>64.57669527052369</td><td>Proin Nisl Institute</td><td>computers, comput...</td><td>a</td><td> 6.66</td><td>21.9</td><td>-0.24506095237630954</td></tr>\n",
       "<tr><td>10714068705</td><td>0.462478184991274</td><td>0.4317626527050611</td><td>0.10575916230366492</td><td>2865</td><td>125.69312268344446</td><td>Sollicitudin Comm...</td><td>furniture, home f...</td><td>c</td><td> 2.51</td><td>17.0</td><td>0.2148547967734017</td></tr>\n",
       "<tr><td>11024352823</td><td>0.4441489361702128</td><td>0.4441489361702128</td><td>0.11170212765957446</td><td>376</td><td>214.44147093989704</td><td>Aliquet Metus Urn...</td><td>antique shops - s...</td><td>c</td><td> 2.62</td><td>21.9</td><td>0.31906297532066624</td></tr>\n",
       "<tr><td>11076688542</td><td>0.45454545454545453</td><td>0.29545454545454547</td><td>0.25</td><td>44</td><td>698.1462248423107</td><td>Amet Diam Industries</td><td>stationery, offic...</td><td>c</td><td> 2.52</td><td>21.9</td><td>0.2638915491029093</td></tr>\n",
       "<tr><td>11243046390</td><td>0.45595854922279794</td><td>0.43523316062176165</td><td>0.10880829015544041</td><td>386</td><td>245.76489261479708</td><td>Ornare Placerat F...</td><td>books, periodical...</td><td>c</td><td> 1.94</td><td>21.9</td><td>0.1984157644942609</td></tr>\n",
       "<tr><td>11633090957</td><td>0.45964912280701753</td><td>0.4421052631578947</td><td>0.09824561403508772</td><td>285</td><td>149.43110458918156</td><td>Cum Sociis Incorp...</td><td>lawn and garden s...</td><td>b</td><td> 4.00</td><td>21.9</td><td>0.3255160447587661</td></tr>\n",
       "<tr><td>11788487195</td><td>0.437125748502994</td><td>0.49101796407185627</td><td>0.0718562874251497</td><td>167</td><td>1105.417010503279</td><td>Id Magna LLP</td><td>music shops - mus...</td><td>b</td><td> 3.51</td><td>21.9</td><td>-0.01510587003712...</td></tr>\n",
       "<tr><td>11848576000</td><td>0.4880952380952381</td><td>0.4642857142857143</td><td>0.047619047619047616</td><td>84</td><td>2090.8347481528626</td><td>Aenean Eget Corpo...</td><td>hobby, toy and ga...</td><td>c</td><td> 1.57</td><td>21.9</td><td>0.09750872710804667</td></tr>\n",
       "<tr><td>11944993446</td><td>0.4425021987686895</td><td>0.4510773966578716</td><td>0.10642040457343888</td><td>9096</td><td>73.37719507713975</td><td>Tincidunt Dui Corp.</td><td>gift, card, novel...</td><td>a</td><td> 6.60</td><td>21.9</td><td>0.051160145277075596</td></tr>\n",
       "<tr><td>12219088747</td><td>0.4332129963898917</td><td>0.48736462093862815</td><td>0.07942238267148015</td><td>277</td><td>108.01678221645608</td><td>Velit Corp.</td><td>gift, card, novel...</td><td>b</td><td> 3.22</td><td>21.9</td><td>-2.1876631149034567</td></tr>\n",
       "<tr><td>12476477880</td><td>0.5652173913043478</td><td>0.3333333333333333</td><td>0.10144927536231885</td><td>69</td><td>258.9515485490068</td><td>Egestas A Sceleri...</td><td>books, periodical...</td><td>b</td><td> 3.73</td><td>21.9</td><td>0.5863879560103591</td></tr>\n",
       "<tr><td>12516851436</td><td>0.44886363636363635</td><td>0.4431818181818182</td><td>0.10795454545454546</td><td>176</td><td>156.10366235660015</td><td>Mollis Corp.</td><td>watch, clock, and...</td><td>a</td><td> 6.71</td><td>2.4</td><td>0.12084135718181939</td></tr>\n",
       "<tr><td>12771097467</td><td>0.4368663594470046</td><td>0.4663594470046083</td><td>0.0967741935483871</td><td>1085</td><td>3664.5991724344017</td><td>At Pretium Corp.</td><td>motor vehicle sup...</td><td>a</td><td> 6.95</td><td>21.9</td><td>0.14229094784642077</td></tr>\n",
       "<tr><td>13066244467</td><td>0.5714285714285714</td><td>0.3333333333333333</td><td>0.09523809523809523</td><td>42</td><td>791.8573949441134</td><td>Ac Orci Industries</td><td>stationery, offic...</td><td>a</td><td> 5.69</td><td>21.9</td><td>-0.2132882063989137</td></tr>\n",
       "<tr><td>13067850740</td><td>0.5</td><td>0.36363636363636365</td><td>0.13636363636363635</td><td>22</td><td>1625.632596983524</td><td>Felis Eget Indust...</td><td>lawn and garden s...</td><td>a</td><td> 5.52</td><td>21.9</td><td>-0.20116276913350442</td></tr>\n",
       "<tr><td>13120157976</td><td>0.4300202839756592</td><td>0.4746450304259635</td><td>0.09533468559837728</td><td>493</td><td>210.0103360821173</td><td>Sem Egestas Bland...</td><td>antique shops - s...</td><td>a</td><td> 6.83</td><td>21.9</td><td>-1.152618081783954</td></tr>\n",
       "<tr><td>13159730941</td><td>0.34579439252336447</td><td>0.5420560747663551</td><td>0.11214953271028037</td><td>107</td><td>270.2446927579653</td><td>Metus LLC</td><td>artist supply and...</td><td>a</td><td> 5.88</td><td>21.9</td><td>0.265345343400677</td></tr>\n",
       "</table>\n",
       "only showing top 20 rows\n"
      ],
      "text/plain": [
       "+------------+------------------------+--------------------------+-------------------------------+------------------------+------------------+--------------------+--------------------+-------------+---------+--------------------------+---------------------------+\n",
       "|merchant_abn|male_consumer_percentage|female_consumer_percentage|undisclosed_consumer_percentage|total_transactions_count|   avg_total_value|                name|       business_area|revenue_level|take_rate|annual_turnover_percentage|consumer_scaled_spare_money|\n",
       "+------------+------------------------+--------------------------+-------------------------------+------------------------+------------------+--------------------+--------------------+-------------+---------+--------------------------+---------------------------+\n",
       "| 10023283211|     0.44431988041853515|       0.45403587443946186|            0.10164424514200299|                    2676|216.00966289621502|       Felis Limited|furniture, home f...|            e|     0.18|                      17.0|         0.1933527945132402|\n",
       "| 10342410215|      0.4477401129943503|        0.4519774011299435|            0.10028248587570622|                     708|380.33362732557805|Facilisis Facilis...|computers, comput...|            a|     6.34|                      21.9|        0.27941998039967986|\n",
       "| 10385163239|      0.4603174603174603|        0.4444444444444444|            0.09523809523809523|                      63|350.60472561042235|      Sed Et Company|florists supplies...|            a|     6.61|                      21.9|        0.23886202376332882|\n",
       "| 10648956813|      0.4522796352583587|        0.4437137330754352|            0.10400663166620613|                   18095| 64.57669527052369|Proin Nisl Institute|computers, comput...|            a|     6.66|                      21.9|       -0.24506095237630954|\n",
       "| 10714068705|       0.462478184991274|        0.4317626527050611|            0.10575916230366492|                    2865|125.69312268344446|Sollicitudin Comm...|furniture, home f...|            c|     2.51|                      17.0|         0.2148547967734017|\n",
       "| 11024352823|      0.4441489361702128|        0.4441489361702128|            0.11170212765957446|                     376|214.44147093989704|Aliquet Metus Urn...|antique shops - s...|            c|     2.62|                      21.9|        0.31906297532066624|\n",
       "| 11076688542|     0.45454545454545453|       0.29545454545454547|                           0.25|                      44| 698.1462248423107|Amet Diam Industries|stationery, offic...|            c|     2.52|                      21.9|         0.2638915491029093|\n",
       "| 11243046390|     0.45595854922279794|       0.43523316062176165|            0.10880829015544041|                     386|245.76489261479708|Ornare Placerat F...|books, periodical...|            c|     1.94|                      21.9|         0.1984157644942609|\n",
       "| 11633090957|     0.45964912280701753|        0.4421052631578947|            0.09824561403508772|                     285|149.43110458918156|Cum Sociis Incorp...|lawn and garden s...|            b|     4.00|                      21.9|         0.3255160447587661|\n",
       "| 11788487195|       0.437125748502994|       0.49101796407185627|             0.0718562874251497|                     167| 1105.417010503279|        Id Magna LLP|music shops - mus...|            b|     3.51|                      21.9|       -0.01510587003712...|\n",
       "| 11848576000|      0.4880952380952381|        0.4642857142857143|           0.047619047619047616|                      84|2090.8347481528626|Aenean Eget Corpo...|hobby, toy and ga...|            c|     1.57|                      21.9|        0.09750872710804667|\n",
       "| 11944993446|      0.4425021987686895|        0.4510773966578716|            0.10642040457343888|                    9096| 73.37719507713975| Tincidunt Dui Corp.|gift, card, novel...|            a|     6.60|                      21.9|       0.051160145277075596|\n",
       "| 12219088747|      0.4332129963898917|       0.48736462093862815|            0.07942238267148015|                     277|108.01678221645608|         Velit Corp.|gift, card, novel...|            b|     3.22|                      21.9|        -2.1876631149034567|\n",
       "| 12476477880|      0.5652173913043478|        0.3333333333333333|            0.10144927536231885|                      69| 258.9515485490068|Egestas A Sceleri...|books, periodical...|            b|     3.73|                      21.9|         0.5863879560103591|\n",
       "| 12516851436|     0.44886363636363635|        0.4431818181818182|            0.10795454545454546|                     176|156.10366235660015|        Mollis Corp.|watch, clock, and...|            a|     6.71|                       2.4|        0.12084135718181939|\n",
       "| 12771097467|      0.4368663594470046|        0.4663594470046083|             0.0967741935483871|                    1085|3664.5991724344017|    At Pretium Corp.|motor vehicle sup...|            a|     6.95|                      21.9|        0.14229094784642077|\n",
       "| 13066244467|      0.5714285714285714|        0.3333333333333333|            0.09523809523809523|                      42| 791.8573949441134|  Ac Orci Industries|stationery, offic...|            a|     5.69|                      21.9|        -0.2132882063989137|\n",
       "| 13067850740|                     0.5|       0.36363636363636365|            0.13636363636363635|                      22| 1625.632596983524|Felis Eget Indust...|lawn and garden s...|            a|     5.52|                      21.9|       -0.20116276913350442|\n",
       "| 13120157976|      0.4300202839756592|        0.4746450304259635|            0.09533468559837728|                     493| 210.0103360821173|Sem Egestas Bland...|antique shops - s...|            a|     6.83|                      21.9|         -1.152618081783954|\n",
       "| 13159730941|     0.34579439252336447|        0.5420560747663551|            0.11214953271028037|                     107| 270.2446927579653|           Metus LLC|artist supply and...|            a|     5.88|                      21.9|          0.265345343400677|\n",
       "+------------+------------------------+--------------------------+-------------------------------+------------------------+------------------+--------------------+--------------------+-------------+---------+--------------------------+---------------------------+\n",
       "only showing top 20 rows"
      ]
     },
     "execution_count": 51,
     "metadata": {},
     "output_type": "execute_result"
    }
   ],
   "source": [
    "agg_df"
   ]
  },
  {
   "cell_type": "markdown",
   "metadata": {},
   "source": [
    "##### AP_rate: gender\n",
    "\n",
    "Now we have \"male_consumer_percentage\", \"female_consumer_percentage\" and \"undisclosed_consumer_percentage\" amongst all the existing consumers for each merchants. \n",
    "\n",
    "According to a research from Roy Morgan, women are significantly more likely to use buy-now-pay-later payment services, over one-in-ten women (11.6%) report using a buy-now-pay-later service in the last year compared to only 5.5% of men. (https://www.roymorgan.com/findings/women-more-likely-to-use-buy-now-pay-later-services). Therefore, it is reasonable that we believe that the AP_rate also depends on gender. \n",
    "\n",
    "Now we have \n",
    "1. \"male_consumer_percentage\", \"female_consumer_percentage\" and \"undisclosed_consumer_percentage\" amongst all the existing consumers for each merchants\n",
    "2. \"male_ap_percentage\"= 5.5 %, \"female_ap_percentage\" = 11.6%\n",
    "3. the mean of female and male afterpay percentage would be used as the percentage for undisclosed gender, so \"undisclosed_ap_percentage\" = (5.5+11.6)/2 = 8.55%\n",
    "\n",
    "We calculate the percentage of existing consumers using BNPL for each merchant using the following formula: \n",
    "ap_percentage_by_gender = male_consumer_percentage * male_ap_percentage + female_consumer_percentage * female_ap_percentage + disclosed_consumer_percentage * disclosed_ap_percentage."
   ]
  },
  {
   "cell_type": "code",
   "execution_count": 52,
   "metadata": {},
   "outputs": [],
   "source": [
    "import numpy as np\n",
    "male_ap_percentage = 0.055\n",
    "female_ap_percentage = 0.116\n",
    "undisclosed_ap_percentage = np.mean([male_ap_percentage, female_ap_percentage])"
   ]
  },
  {
   "cell_type": "code",
   "execution_count": 53,
   "metadata": {},
   "outputs": [],
   "source": [
    "gender = agg_df.select(\"male_consumer_percentage\", \"female_consumer_percentage\",\"undisclosed_consumer_percentage\")\n",
    "gender = gender.withColumn(\"ap_percentage_by_gender\", F.col(\"male_consumer_percentage\")*male_ap_percentage + F.col(\"female_consumer_percentage\")*female_ap_percentage + F.col(\"undisclosed_consumer_percentage\")*undisclosed_ap_percentage)"
   ]
  },
  {
   "cell_type": "code",
   "execution_count": 54,
   "metadata": {},
   "outputs": [
    {
     "name": "stderr",
     "output_type": "stream",
     "text": [
      "                                                                                \r"
     ]
    },
    {
     "data": {
      "text/html": [
       "<table border='1'>\n",
       "<tr><th>merchant_abn</th><th>total_transactions_count</th><th>avg_total_value</th><th>name</th><th>business_area</th><th>revenue_level</th><th>take_rate</th><th>annual_turnover_percentage</th><th>consumer_scaled_spare_money</th><th>ap_percentage_by_gender</th></tr>\n",
       "<tr><td>21532935983</td><td>3443</td><td>38.66947142585576</td><td>Eleifend Nec Inco...</td><td>cable, satellite,...</td><td>a</td><td> 5.58</td><td>21.9</td><td>0.018290720811761932</td><td>0.08490647690967182</td></tr>\n",
       "<tr><td>55501929396</td><td>6314</td><td>187.68267696817622</td><td>Mauris Sagittis C...</td><td>health and beauty...</td><td>b</td><td> 3.50</td><td>2.4</td><td>0.09967244427440664</td><td>0.08535025340513146</td></tr>\n",
       "<tr><td>37621714049</td><td>891</td><td>681.8839848218494</td><td>Ut Sem Company</td><td>hobby, toy and ga...</td><td>a</td><td> 5.90</td><td>21.9</td><td>-0.5407985266186767</td><td>0.08450729517396184</td></tr>\n",
       "<tr><td>93110588804</td><td>17</td><td>11965.797133836164</td><td>Aenean Sed Pede C...</td><td>jewelry, watch, c...</td><td>b</td><td> 3.86</td><td>21.9</td><td>0.33789170146791464</td><td>0.08908823529411765</td></tr>\n",
       "<tr><td>78916025936</td><td>51</td><td>336.2989263016063</td><td>Urna Nec Corporation</td><td>florists supplies...</td><td>e</td><td> 0.37</td><td>21.9</td><td>0.09119921473990228</td><td>0.08908823529411765</td></tr>\n",
       "<tr><td>25078409316</td><td>3045</td><td>146.79002731620812</td><td>Vel LLP</td><td>florists supplies...</td><td>a</td><td> 6.60</td><td>21.9</td><td>0.11391407648335539</td><td>0.08427799671592776</td></tr>\n",
       "<tr><td>32897338221</td><td>160</td><td>77.14942422013578</td><td>Vel Nisl Incorpor...</td><td>gift, card, novel...</td><td>a</td><td> 6.20</td><td>21.9</td><td>0.3423553458560171</td><td>0.08855</td></tr>\n",
       "<tr><td>46017523620</td><td>256</td><td>501.3433974296067</td><td>Lorem Donec Eleme...</td><td>health and beauty...</td><td>c</td><td> 2.79</td><td>2.4</td><td>0.14890628397034253</td><td>0.08692968749999999</td></tr>\n",
       "<tr><td>69655310165</td><td>107</td><td>1054.232169868249</td><td>Elit Pharetra Cor...</td><td>hobby, toy and ga...</td><td>b</td><td> 3.21</td><td>21.9</td><td>0.05904529697176777</td><td>0.07837383177570093</td></tr>\n",
       "<tr><td>27093785141</td><td>21319</td><td>376.5372786372577</td><td>Placerat Orci Ins...</td><td>stationery, offic...</td><td>c</td><td> 2.73</td><td>21.9</td><td>-0.05478602500701702</td><td>0.08507223603358506</td></tr>\n",
       "<tr><td>41333655501</td><td>53</td><td>206.2743949646182</td><td>Leo Elementum LLP</td><td>books, periodical...</td><td>c</td><td> 1.70</td><td>21.9</td><td>0.1673403952925757</td><td>0.09125471698113206</td></tr>\n",
       "<tr><td>45151159881</td><td>2529</td><td>239.6059093203533</td><td>Ac Urna PC</td><td>books, periodical...</td><td>c</td><td> 1.58</td><td>21.9</td><td>0.1953548186724006</td><td>0.08576532226176355</td></tr>\n",
       "<tr><td>69135584329</td><td>293</td><td>404.3075776883416</td><td>Sed Eu LLC</td><td>computers, comput...</td><td>c</td><td> 1.42</td><td>21.9</td><td>0.05020005200600814</td><td>0.08726962457337885</td></tr>\n",
       "<tr><td>75239540583</td><td>132</td><td>87.01659521300991</td><td>Eget Volutpat Orn...</td><td>gift, card, novel...</td><td>a</td><td> 6.11</td><td>21.9</td><td>0.5517669494269078</td><td>0.0852689393939394</td></tr>\n",
       "<tr><td>18306927906</td><td>310</td><td>248.3706408922491</td><td>Sed Tortor Limited</td><td>stationery, offic...</td><td>b</td><td> 3.69</td><td>21.9</td><td>0.20145052942754108</td><td>0.08668064516129033</td></tr>\n",
       "<tr><td>32610248934</td><td>234</td><td>85.60838767093922</td><td>Mauris Non Dui PC</td><td>digital goods: bo...</td><td>c</td><td> 2.91</td><td>21.9</td><td>0.33756507701726396</td><td>0.08093803418803419</td></tr>\n",
       "<tr><td>42270780873</td><td>211</td><td>125.62823165546436</td><td>Quisque Nonummy C...</td><td>motor vehicle sup...</td><td>a</td><td> 5.55</td><td>21.9</td><td>0.21956584669610518</td><td>0.0820308056872038</td></tr>\n",
       "<tr><td>48214071373</td><td>450</td><td>303.8724782425013</td><td>Ridiculus LLC</td><td>motor vehicle sup...</td><td>b</td><td> 4.02</td><td>21.9</td><td>0.08999730815482748</td><td>0.08678777777777778</td></tr>\n",
       "<tr><td>68289707002</td><td>1950</td><td>152.00759577138837</td><td>Ac Metus Industries</td><td>shoe shops</td><td>c</td><td> 2.70</td><td>21.9</td><td>-0.5146576567631</td><td>0.08498384615384616</td></tr>\n",
       "<tr><td>68977708301</td><td>156</td><td>108.39436790494565</td><td>Amet Nulla Incorp...</td><td>gift, card, novel...</td><td>c</td><td> 2.43</td><td>21.9</td><td>0.49758963983965915</td><td>0.0872596153846154</td></tr>\n",
       "</table>\n",
       "only showing top 20 rows\n"
      ],
      "text/plain": [
       "+------------+------------------------+------------------+--------------------+--------------------+-------------+---------+--------------------------+---------------------------+-----------------------+\n",
       "|merchant_abn|total_transactions_count|   avg_total_value|                name|       business_area|revenue_level|take_rate|annual_turnover_percentage|consumer_scaled_spare_money|ap_percentage_by_gender|\n",
       "+------------+------------------------+------------------+--------------------+--------------------+-------------+---------+--------------------------+---------------------------+-----------------------+\n",
       "| 21532935983|                    3443| 38.66947142585576|Eleifend Nec Inco...|cable, satellite,...|            a|     5.58|                      21.9|       0.018290720811761932|    0.08490647690967182|\n",
       "| 55501929396|                    6314|187.68267696817622|Mauris Sagittis C...|health and beauty...|            b|     3.50|                       2.4|        0.09967244427440664|    0.08535025340513146|\n",
       "| 37621714049|                     891| 681.8839848218494|      Ut Sem Company|hobby, toy and ga...|            a|     5.90|                      21.9|        -0.5407985266186767|    0.08450729517396184|\n",
       "| 93110588804|                      17|11965.797133836164|Aenean Sed Pede C...|jewelry, watch, c...|            b|     3.86|                      21.9|        0.33789170146791464|    0.08908823529411765|\n",
       "| 78916025936|                      51| 336.2989263016063|Urna Nec Corporation|florists supplies...|            e|     0.37|                      21.9|        0.09119921473990228|    0.08908823529411765|\n",
       "| 25078409316|                    3045|146.79002731620812|             Vel LLP|florists supplies...|            a|     6.60|                      21.9|        0.11391407648335539|    0.08427799671592776|\n",
       "| 32897338221|                     160| 77.14942422013578|Vel Nisl Incorpor...|gift, card, novel...|            a|     6.20|                      21.9|         0.3423553458560171|                0.08855|\n",
       "| 46017523620|                     256| 501.3433974296067|Lorem Donec Eleme...|health and beauty...|            c|     2.79|                       2.4|        0.14890628397034253|    0.08692968749999999|\n",
       "| 69655310165|                     107| 1054.232169868249|Elit Pharetra Cor...|hobby, toy and ga...|            b|     3.21|                      21.9|        0.05904529697176777|    0.07837383177570093|\n",
       "| 27093785141|                   21319| 376.5372786372577|Placerat Orci Ins...|stationery, offic...|            c|     2.73|                      21.9|       -0.05478602500701702|    0.08507223603358506|\n",
       "| 41333655501|                      53| 206.2743949646182|   Leo Elementum LLP|books, periodical...|            c|     1.70|                      21.9|         0.1673403952925757|    0.09125471698113206|\n",
       "| 45151159881|                    2529| 239.6059093203533|          Ac Urna PC|books, periodical...|            c|     1.58|                      21.9|         0.1953548186724006|    0.08576532226176355|\n",
       "| 69135584329|                     293| 404.3075776883416|          Sed Eu LLC|computers, comput...|            c|     1.42|                      21.9|        0.05020005200600814|    0.08726962457337885|\n",
       "| 75239540583|                     132| 87.01659521300991|Eget Volutpat Orn...|gift, card, novel...|            a|     6.11|                      21.9|         0.5517669494269078|     0.0852689393939394|\n",
       "| 18306927906|                     310| 248.3706408922491|  Sed Tortor Limited|stationery, offic...|            b|     3.69|                      21.9|        0.20145052942754108|    0.08668064516129033|\n",
       "| 32610248934|                     234| 85.60838767093922|   Mauris Non Dui PC|digital goods: bo...|            c|     2.91|                      21.9|        0.33756507701726396|    0.08093803418803419|\n",
       "| 42270780873|                     211|125.62823165546436|Quisque Nonummy C...|motor vehicle sup...|            a|     5.55|                      21.9|        0.21956584669610518|     0.0820308056872038|\n",
       "| 48214071373|                     450| 303.8724782425013|       Ridiculus LLC|motor vehicle sup...|            b|     4.02|                      21.9|        0.08999730815482748|    0.08678777777777778|\n",
       "| 68289707002|                    1950|152.00759577138837| Ac Metus Industries|          shoe shops|            c|     2.70|                      21.9|           -0.5146576567631|    0.08498384615384616|\n",
       "| 68977708301|                     156|108.39436790494565|Amet Nulla Incorp...|gift, card, novel...|            c|     2.43|                      21.9|        0.49758963983965915|     0.0872596153846154|\n",
       "+------------+------------------------+------------------+--------------------+--------------------+-------------+---------+--------------------------+---------------------------+-----------------------+\n",
       "only showing top 20 rows"
      ]
     },
     "execution_count": 54,
     "metadata": {},
     "output_type": "execute_result"
    }
   ],
   "source": [
    "agg_df.join(gender, on=[\"male_consumer_percentage\", \"female_consumer_percentage\",\"undisclosed_consumer_percentage\"]).drop(\"male_consumer_percentage\", \"female_consumer_percentage\", \"undisclosed_consumer_percentage\")"
   ]
  },
  {
   "cell_type": "code",
   "execution_count": 55,
   "metadata": {},
   "outputs": [
    {
     "data": {
      "text/plain": [
       "3782"
      ]
     },
     "execution_count": 55,
     "metadata": {},
     "output_type": "execute_result"
    }
   ],
   "source": [
    "agg_df.count()"
   ]
  },
  {
   "cell_type": "markdown",
   "metadata": {},
   "source": [
    "#### AP_rate: combining \"gender\" and \"scaled spare money\""
   ]
  }
 ],
 "metadata": {
  "kernelspec": {
   "display_name": "Python 3",
   "language": "python",
   "name": "python3"
  },
  "language_info": {
   "codemirror_mode": {
    "name": "ipython",
    "version": 3
   },
   "file_extension": ".py",
   "mimetype": "text/x-python",
   "name": "python",
   "nbconvert_exporter": "python",
   "pygments_lexer": "ipython3",
   "version": "3.9.2"
  },
  "vscode": {
   "interpreter": {
    "hash": "8b547a52226fc5fe22fa6147a895ab8492f18b840e638a9d35222f35938a0abf"
   }
  }
 },
 "nbformat": 4,
 "nbformat_minor": 2
}
