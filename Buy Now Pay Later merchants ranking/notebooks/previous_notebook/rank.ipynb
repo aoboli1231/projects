{
 "cells": [
  {
   "cell_type": "code",
   "execution_count": 1,
   "metadata": {},
   "outputs": [],
   "source": [
    "import pandas as pd\n",
    "import numpy as np\n",
    "import re\n",
    "import matplotlib.pyplot as plt\n",
    "import os"
   ]
  },
  {
   "cell_type": "code",
   "execution_count": 2,
   "metadata": {},
   "outputs": [],
   "source": [
    "tbl_merchants = pd.read_parquet(\"../data/tables/tbl_merchants.parquet\")"
   ]
  },
  {
   "cell_type": "code",
   "execution_count": 3,
   "metadata": {},
   "outputs": [],
   "source": [
    "trans_df = pd.concat([\n",
    "    pd.read_parquet(\"../data/tables/transactions_20210228_20210827_snapshot/20210228_20210827.parquet\"),\n",
    "    pd.read_parquet(\"../data/tables/transactions_20210828_20220227_snapshot/20210828_20220227.parquet\")])"
   ]
  },
  {
   "cell_type": "code",
   "execution_count": 14,
   "metadata": {},
   "outputs": [],
   "source": [
    "trans_df['date'] = pd.to_datetime(trans_df['date'])"
   ]
  },
  {
   "cell_type": "code",
   "execution_count": 28,
   "metadata": {},
   "outputs": [],
   "source": [
    "count_df = trans_df.groupby(\n",
    "    [\"merchant_abn\",\"date\"]\n",
    ")['dollar_value'].count().reset_index().rename(\n",
    "    columns={\"dollar_value\":\"daily_order\"}\n",
    ")"
   ]
  },
  {
   "cell_type": "code",
   "execution_count": 32,
   "metadata": {},
   "outputs": [],
   "source": [
    "df = count_df.groupby(\"merchant_abn\")['daily_order'].mean().reset_index().rename(\n",
    "    columns={\"daily_order\":\"mean_daily_order\"})"
   ]
  },
  {
   "cell_type": "code",
   "execution_count": 37,
   "metadata": {},
   "outputs": [],
   "source": [
    "df = pd.merge(df, count_df.groupby(\"merchant_abn\")['daily_order'].count().reset_index().rename(\n",
    "    columns={\"daily_order\":\"count_days\"}),on=[\"merchant_abn\"],how=\"inner\")"
   ]
  },
  {
   "cell_type": "code",
   "execution_count": 40,
   "metadata": {},
   "outputs": [
    {
     "data": {
      "text/html": [
       "<div>\n",
       "<style scoped>\n",
       "    .dataframe tbody tr th:only-of-type {\n",
       "        vertical-align: middle;\n",
       "    }\n",
       "\n",
       "    .dataframe tbody tr th {\n",
       "        vertical-align: top;\n",
       "    }\n",
       "\n",
       "    .dataframe thead th {\n",
       "        text-align: right;\n",
       "    }\n",
       "</style>\n",
       "<table border=\"1\" class=\"dataframe\">\n",
       "  <thead>\n",
       "    <tr style=\"text-align: right;\">\n",
       "      <th></th>\n",
       "      <th>merchant_abn</th>\n",
       "      <th>mean_daily_order</th>\n",
       "      <th>count_days</th>\n",
       "    </tr>\n",
       "  </thead>\n",
       "  <tbody>\n",
       "    <tr>\n",
       "      <th>741</th>\n",
       "      <td>24852446429</td>\n",
       "      <td>455.701370</td>\n",
       "      <td>365</td>\n",
       "    </tr>\n",
       "    <tr>\n",
       "      <th>3765</th>\n",
       "      <td>86578477987</td>\n",
       "      <td>428.789041</td>\n",
       "      <td>365</td>\n",
       "    </tr>\n",
       "    <tr>\n",
       "      <th>2665</th>\n",
       "      <td>64203420245</td>\n",
       "      <td>410.002740</td>\n",
       "      <td>365</td>\n",
       "    </tr>\n",
       "    <tr>\n",
       "      <th>1985</th>\n",
       "      <td>49891706470</td>\n",
       "      <td>388.191781</td>\n",
       "      <td>365</td>\n",
       "    </tr>\n",
       "    <tr>\n",
       "      <th>1836</th>\n",
       "      <td>46804135891</td>\n",
       "      <td>368.898630</td>\n",
       "      <td>365</td>\n",
       "    </tr>\n",
       "    <tr>\n",
       "      <th>...</th>\n",
       "      <td>...</td>\n",
       "      <td>...</td>\n",
       "      <td>...</td>\n",
       "    </tr>\n",
       "    <tr>\n",
       "      <th>3749</th>\n",
       "      <td>86201937910</td>\n",
       "      <td>1.000000</td>\n",
       "      <td>1</td>\n",
       "    </tr>\n",
       "    <tr>\n",
       "      <th>3768</th>\n",
       "      <td>86621434137</td>\n",
       "      <td>1.000000</td>\n",
       "      <td>1</td>\n",
       "    </tr>\n",
       "    <tr>\n",
       "      <th>3779</th>\n",
       "      <td>86868464441</td>\n",
       "      <td>1.000000</td>\n",
       "      <td>1</td>\n",
       "    </tr>\n",
       "    <tr>\n",
       "      <th>4324</th>\n",
       "      <td>98082781436</td>\n",
       "      <td>1.000000</td>\n",
       "      <td>1</td>\n",
       "    </tr>\n",
       "    <tr>\n",
       "      <th>4412</th>\n",
       "      <td>99989036621</td>\n",
       "      <td>1.000000</td>\n",
       "      <td>1</td>\n",
       "    </tr>\n",
       "  </tbody>\n",
       "</table>\n",
       "<p>4414 rows × 3 columns</p>\n",
       "</div>"
      ],
      "text/plain": [
       "      merchant_abn  mean_daily_order  count_days\n",
       "741    24852446429        455.701370         365\n",
       "3765   86578477987        428.789041         365\n",
       "2665   64203420245        410.002740         365\n",
       "1985   49891706470        388.191781         365\n",
       "1836   46804135891        368.898630         365\n",
       "...            ...               ...         ...\n",
       "3749   86201937910          1.000000           1\n",
       "3768   86621434137          1.000000           1\n",
       "3779   86868464441          1.000000           1\n",
       "4324   98082781436          1.000000           1\n",
       "4412   99989036621          1.000000           1\n",
       "\n",
       "[4414 rows x 3 columns]"
      ]
     },
     "execution_count": 40,
     "metadata": {},
     "output_type": "execute_result"
    }
   ],
   "source": [
    "df.sort_values([\"count_days\",\"mean_daily_order\"],ascending=False)"
   ]
  },
  {
   "cell_type": "code",
   "execution_count": 42,
   "metadata": {},
   "outputs": [],
   "source": [
    "value_df = trans_df.groupby(\n",
    "    [\"merchant_abn\",\"date\"]\n",
    ")['dollar_value'].mean().reset_index().rename(\n",
    "    columns={\"dollar_value\":\"daily_value\"}\n",
    ")"
   ]
  },
  {
   "cell_type": "code",
   "execution_count": 45,
   "metadata": {},
   "outputs": [],
   "source": [
    "df2 = value_df.groupby(\"merchant_abn\")[\"daily_value\"].mean().reset_index()"
   ]
  },
  {
   "cell_type": "code",
   "execution_count": 46,
   "metadata": {},
   "outputs": [
    {
     "data": {
      "text/html": [
       "<div>\n",
       "<style scoped>\n",
       "    .dataframe tbody tr th:only-of-type {\n",
       "        vertical-align: middle;\n",
       "    }\n",
       "\n",
       "    .dataframe tbody tr th {\n",
       "        vertical-align: top;\n",
       "    }\n",
       "\n",
       "    .dataframe thead th {\n",
       "        text-align: right;\n",
       "    }\n",
       "</style>\n",
       "<table border=\"1\" class=\"dataframe\">\n",
       "  <thead>\n",
       "    <tr style=\"text-align: right;\">\n",
       "      <th></th>\n",
       "      <th>merchant_abn</th>\n",
       "      <th>mean_daily_order</th>\n",
       "      <th>count_days</th>\n",
       "      <th>daily_value</th>\n",
       "    </tr>\n",
       "  </thead>\n",
       "  <tbody>\n",
       "    <tr>\n",
       "      <th>0</th>\n",
       "      <td>10023283211</td>\n",
       "      <td>5.104396</td>\n",
       "      <td>364</td>\n",
       "      <td>211.890526</td>\n",
       "    </tr>\n",
       "    <tr>\n",
       "      <th>1</th>\n",
       "      <td>10142254217</td>\n",
       "      <td>4.792717</td>\n",
       "      <td>357</td>\n",
       "      <td>38.709905</td>\n",
       "    </tr>\n",
       "    <tr>\n",
       "      <th>2</th>\n",
       "      <td>10165489824</td>\n",
       "      <td>1.000000</td>\n",
       "      <td>2</td>\n",
       "      <td>15786.793362</td>\n",
       "    </tr>\n",
       "    <tr>\n",
       "      <th>3</th>\n",
       "      <td>10187291046</td>\n",
       "      <td>1.349315</td>\n",
       "      <td>146</td>\n",
       "      <td>118.495731</td>\n",
       "    </tr>\n",
       "    <tr>\n",
       "      <th>4</th>\n",
       "      <td>10192359162</td>\n",
       "      <td>1.329268</td>\n",
       "      <td>164</td>\n",
       "      <td>468.631061</td>\n",
       "    </tr>\n",
       "    <tr>\n",
       "      <th>...</th>\n",
       "      <td>...</td>\n",
       "      <td>...</td>\n",
       "      <td>...</td>\n",
       "      <td>...</td>\n",
       "    </tr>\n",
       "    <tr>\n",
       "      <th>4409</th>\n",
       "      <td>99974311662</td>\n",
       "      <td>1.085714</td>\n",
       "      <td>70</td>\n",
       "      <td>285.468132</td>\n",
       "    </tr>\n",
       "    <tr>\n",
       "      <th>4410</th>\n",
       "      <td>99976658299</td>\n",
       "      <td>36.676712</td>\n",
       "      <td>365</td>\n",
       "      <td>149.437813</td>\n",
       "    </tr>\n",
       "    <tr>\n",
       "      <th>4411</th>\n",
       "      <td>99987905597</td>\n",
       "      <td>1.123457</td>\n",
       "      <td>81</td>\n",
       "      <td>349.662002</td>\n",
       "    </tr>\n",
       "    <tr>\n",
       "      <th>4412</th>\n",
       "      <td>99989036621</td>\n",
       "      <td>1.000000</td>\n",
       "      <td>1</td>\n",
       "      <td>56552.394443</td>\n",
       "    </tr>\n",
       "    <tr>\n",
       "      <th>4413</th>\n",
       "      <td>99990536339</td>\n",
       "      <td>1.058824</td>\n",
       "      <td>17</td>\n",
       "      <td>1799.601204</td>\n",
       "    </tr>\n",
       "  </tbody>\n",
       "</table>\n",
       "<p>4414 rows × 4 columns</p>\n",
       "</div>"
      ],
      "text/plain": [
       "      merchant_abn  mean_daily_order  count_days   daily_value\n",
       "0      10023283211          5.104396         364    211.890526\n",
       "1      10142254217          4.792717         357     38.709905\n",
       "2      10165489824          1.000000           2  15786.793362\n",
       "3      10187291046          1.349315         146    118.495731\n",
       "4      10192359162          1.329268         164    468.631061\n",
       "...            ...               ...         ...           ...\n",
       "4409   99974311662          1.085714          70    285.468132\n",
       "4410   99976658299         36.676712         365    149.437813\n",
       "4411   99987905597          1.123457          81    349.662002\n",
       "4412   99989036621          1.000000           1  56552.394443\n",
       "4413   99990536339          1.058824          17   1799.601204\n",
       "\n",
       "[4414 rows x 4 columns]"
      ]
     },
     "execution_count": 46,
     "metadata": {},
     "output_type": "execute_result"
    }
   ],
   "source": [
    "pd.merge(df,df2,on=\"merchant_abn\",how=\"inner\").sort_values([\"count_days\",\"mean_daily_order\"],ascending=False)"
   ]
  },
  {
   "cell_type": "code",
   "execution_count": null,
   "metadata": {},
   "outputs": [],
   "source": []
  }
 ],
 "metadata": {
  "kernelspec": {
   "display_name": "Python 3 (ipykernel)",
   "language": "python",
   "name": "python3"
  },
  "language_info": {
   "codemirror_mode": {
    "name": "ipython",
    "version": 3
   },
   "file_extension": ".py",
   "mimetype": "text/x-python",
   "name": "python",
   "nbconvert_exporter": "python",
   "pygments_lexer": "ipython3",
   "version": "3.8.5"
  }
 },
 "nbformat": 4,
 "nbformat_minor": 4
}
