{
 "cells": [
  {
   "cell_type": "markdown",
   "metadata": {},
   "source": [
    "## Buy Now, Pay Later Project\n",
    "### MAST30034: Applied Data Science \n",
    "#### Notebook 2: Preprocessing Data 2: Missing Value and Outliers Detection"
   ]
  },
  {
   "cell_type": "code",
   "execution_count": 1,
   "metadata": {},
   "outputs": [
    {
     "name": "stderr",
     "output_type": "stream",
     "text": [
      "Setting default log level to \"WARN\".\n",
      "To adjust logging level use sc.setLogLevel(newLevel). For SparkR, use setLogLevel(newLevel).\n"
     ]
    },
    {
     "name": "stdout",
     "output_type": "stream",
     "text": [
      "22/09/21 16:20:01 WARN NativeCodeLoader: Unable to load native-hadoop library for your platform... using builtin-java classes where applicable\n",
      "22/09/21 16:20:02 WARN Utils: Service 'SparkUI' could not bind on port 4040. Attempting port 4041.\n"
     ]
    }
   ],
   "source": [
    "# create modeling spark session\n",
    "from pyspark.sql import SparkSession\n",
    "import pandas as pd\n",
    "\n",
    "spark = (\n",
    "    SparkSession.builder.appName('Project 2 test')\n",
    "    .config('spark.sql.repl.eagerEval.enabled', True) \n",
    "    .config('spark.sql.parquet.cacheMetadata', 'true')\n",
    "    .config(\"spark.sql.session.timeZone\", \"Etc/UTC\")\n",
    "    .config(\"spark.executor.memory\", \"8g\")\n",
    "    .config(\"spark.driver.memory\", \"8g\")\n",
    "    .getOrCreate()\n",
    ")"
   ]
  },
  {
   "cell_type": "code",
   "execution_count": 2,
   "metadata": {},
   "outputs": [
    {
     "name": "stderr",
     "output_type": "stream",
     "text": [
      "                                                                                \r"
     ]
    },
    {
     "data": {
      "text/html": [
       "<table border='1'>\n",
       "<tr><th>postcode</th><th>user_id</th><th>merchant_abn</th><th>dollar_value</th><th>order_datetime</th><th>name</th><th>business_area</th><th>revenue_level</th><th>take_rate</th><th>consumer_id</th><th>state</th><th>gender</th><th>Median_age_persons</th><th>Median_mortgage_repay_monthly</th><th>Median_tot_prsnl_inc_weekly</th><th>Median_rent_weekly</th><th>Median_tot_fam_inc_weekly</th><th>Average_num_psns_per_bedroom</th><th>Median_tot_hhd_inc_weekly</th><th>Average_household_size</th></tr>\n",
       "<tr><td>3332</td><td>14</td><td>96161947306</td><td>112.67012437787673</td><td>2021-08-20</td><td>Imperdiet Dictum ...</td><td>shoe shops</td><td>b</td><td> 4.52</td><td>1343547</td><td>VIC</td><td>Male</td><td>38</td><td>1733</td><td>797</td><td>350</td><td>2096</td><td>0.8</td><td>1955</td><td>2.9</td></tr>\n",
       "<tr><td>3332</td><td>14</td><td>75900778714</td><td>546.6848295784864</td><td>2021-08-20</td><td>Laoreet Posuere F...</td><td>florists supplies...</td><td>c</td><td> 2.61</td><td>1343547</td><td>VIC</td><td>Male</td><td>38</td><td>1733</td><td>797</td><td>350</td><td>2096</td><td>0.8</td><td>1955</td><td>2.9</td></tr>\n",
       "<tr><td>3332</td><td>14</td><td>68216911708</td><td>32.90127154333186</td><td>2021-08-20</td><td>Placerat Eget Ven...</td><td>computers, comput...</td><td>c</td><td> 3.05</td><td>1343547</td><td>VIC</td><td>Male</td><td>38</td><td>1733</td><td>797</td><td>350</td><td>2096</td><td>0.8</td><td>1955</td><td>2.9</td></tr>\n",
       "<tr><td>3332</td><td>14</td><td>20985347699</td><td>0.27083188402634917</td><td>2021-08-21</td><td>Semper Tellus PC</td><td>tent and awning s...</td><td>a</td><td> 6.10</td><td>1343547</td><td>VIC</td><td>Male</td><td>38</td><td>1733</td><td>797</td><td>350</td><td>2096</td><td>0.8</td><td>1955</td><td>2.9</td></tr>\n",
       "<tr><td>3332</td><td>14</td><td>45629217853</td><td>8.204284579030558</td><td>2021-08-14</td><td>Lacus Consulting</td><td>gift, card, novel...</td><td>a</td><td> 6.98</td><td>1343547</td><td>VIC</td><td>Male</td><td>38</td><td>1733</td><td>797</td><td>350</td><td>2096</td><td>0.8</td><td>1955</td><td>2.9</td></tr>\n",
       "<tr><td>3332</td><td>14</td><td>92308095254</td><td>102.3328793223507</td><td>2021-07-15</td><td>Non Lorem LLC</td><td>gift, card, novel...</td><td>a</td><td> 6.53</td><td>1343547</td><td>VIC</td><td>Male</td><td>38</td><td>1733</td><td>797</td><td>350</td><td>2096</td><td>0.8</td><td>1955</td><td>2.9</td></tr>\n",
       "<tr><td>3332</td><td>14</td><td>17678252870</td><td>36.297748446791886</td><td>2021-08-16</td><td>Faucibus Morbi Fo...</td><td>watch, clock, and...</td><td>c</td><td> 2.07</td><td>1343547</td><td>VIC</td><td>Male</td><td>38</td><td>1733</td><td>797</td><td>350</td><td>2096</td><td>0.8</td><td>1955</td><td>2.9</td></tr>\n",
       "<tr><td>3332</td><td>14</td><td>64203420245</td><td>53.08523476846913</td><td>2021-08-16</td><td>Pede Nonummy Corp.</td><td>tent and awning s...</td><td>c</td><td> 2.86</td><td>1343547</td><td>VIC</td><td>Male</td><td>38</td><td>1733</td><td>797</td><td>350</td><td>2096</td><td>0.8</td><td>1955</td><td>2.9</td></tr>\n",
       "<tr><td>3332</td><td>14</td><td>16570599421</td><td>12.142216147150515</td><td>2021-08-16</td><td>Non Magna Nam PC</td><td>digital goods: bo...</td><td>a</td><td> 6.74</td><td>1343547</td><td>VIC</td><td>Male</td><td>38</td><td>1733</td><td>797</td><td>350</td><td>2096</td><td>0.8</td><td>1955</td><td>2.9</td></tr>\n",
       "<tr><td>3332</td><td>14</td><td>50644203172</td><td>1501.5614321919952</td><td>2021-08-27</td><td>Ut LLC</td><td>hobby, toy and ga...</td><td>b</td><td> 4.64</td><td>1343547</td><td>VIC</td><td>Male</td><td>38</td><td>1733</td><td>797</td><td>350</td><td>2096</td><td>0.8</td><td>1955</td><td>2.9</td></tr>\n",
       "<tr><td>3332</td><td>14</td><td>55294337974</td><td>260.7756369638948</td><td>2021-08-13</td><td>Tristique Senectu...</td><td>furniture, home f...</td><td>c</td><td> 2.46</td><td>1343547</td><td>VIC</td><td>Male</td><td>38</td><td>1733</td><td>797</td><td>350</td><td>2096</td><td>0.8</td><td>1955</td><td>2.9</td></tr>\n",
       "<tr><td>3332</td><td>14</td><td>11588046517</td><td>635.8467846079702</td><td>2021-07-16</td><td>Dolor Industries</td><td>health and beauty...</td><td>b</td><td> 3.94</td><td>1343547</td><td>VIC</td><td>Male</td><td>38</td><td>1733</td><td>797</td><td>350</td><td>2096</td><td>0.8</td><td>1955</td><td>2.9</td></tr>\n",
       "<tr><td>3332</td><td>14</td><td>80682333501</td><td>16.393685753872166</td><td>2021-07-23</td><td>Orci Corp.</td><td>florists supplies...</td><td>b</td><td> 4.88</td><td>1343547</td><td>VIC</td><td>Male</td><td>38</td><td>1733</td><td>797</td><td>350</td><td>2096</td><td>0.8</td><td>1955</td><td>2.9</td></tr>\n",
       "<tr><td>3332</td><td>14</td><td>95274025676</td><td>76.69349885082966</td><td>2021-07-23</td><td>Ipsum Cursus Vest...</td><td>digital goods: bo...</td><td>b</td><td> 3.39</td><td>1343547</td><td>VIC</td><td>Male</td><td>38</td><td>1733</td><td>797</td><td>350</td><td>2096</td><td>0.8</td><td>1955</td><td>2.9</td></tr>\n",
       "<tr><td>3332</td><td>14</td><td>34726792617</td><td>139.21165155571208</td><td>2021-05-21</td><td>Purus Mauris Asso...</td><td>gift, card, novel...</td><td>a</td><td> 5.94</td><td>1343547</td><td>VIC</td><td>Male</td><td>38</td><td>1733</td><td>797</td><td>350</td><td>2096</td><td>0.8</td><td>1955</td><td>2.9</td></tr>\n",
       "<tr><td>3332</td><td>14</td><td>63290521567</td><td>4.845198213342123</td><td>2021-05-21</td><td>Vehicula Pellente...</td><td>artist supply and...</td><td>a</td><td> 6.48</td><td>1343547</td><td>VIC</td><td>Male</td><td>38</td><td>1733</td><td>797</td><td>350</td><td>2096</td><td>0.8</td><td>1955</td><td>2.9</td></tr>\n",
       "<tr><td>3332</td><td>14</td><td>71528203369</td><td>10.066089501008111</td><td>2021-07-30</td><td>Ipsum Primis Asso...</td><td>watch, clock, and...</td><td>a</td><td> 6.94</td><td>1343547</td><td>VIC</td><td>Male</td><td>38</td><td>1733</td><td>797</td><td>350</td><td>2096</td><td>0.8</td><td>1955</td><td>2.9</td></tr>\n",
       "<tr><td>3332</td><td>14</td><td>46804135891</td><td>2.9252535204435226</td><td>2021-06-30</td><td>Suspendisse Dui C...</td><td>opticians, optica...</td><td>c</td><td> 2.93</td><td>1343547</td><td>VIC</td><td>Male</td><td>38</td><td>1733</td><td>797</td><td>350</td><td>2096</td><td>0.8</td><td>1955</td><td>2.9</td></tr>\n",
       "<tr><td>3332</td><td>14</td><td>43186523025</td><td>65.10083796485065</td><td>2021-05-28</td><td>Lorem Ipsum Sodal...</td><td>florists supplies...</td><td>b</td><td> 4.47</td><td>1343547</td><td>VIC</td><td>Male</td><td>38</td><td>1733</td><td>797</td><td>350</td><td>2096</td><td>0.8</td><td>1955</td><td>2.9</td></tr>\n",
       "<tr><td>3332</td><td>14</td><td>86578477987</td><td>15.1521520148131</td><td>2021-05-28</td><td>Leo In Consulting</td><td>watch, clock, and...</td><td>a</td><td> 6.43</td><td>1343547</td><td>VIC</td><td>Male</td><td>38</td><td>1733</td><td>797</td><td>350</td><td>2096</td><td>0.8</td><td>1955</td><td>2.9</td></tr>\n",
       "</table>\n",
       "only showing top 20 rows\n"
      ],
      "text/plain": [
       "+--------+-------+------------+-------------------+--------------+--------------------+--------------------+-------------+---------+-----------+-----+------+------------------+-----------------------------+---------------------------+------------------+-------------------------+----------------------------+-------------------------+----------------------+\n",
       "|postcode|user_id|merchant_abn|       dollar_value|order_datetime|                name|       business_area|revenue_level|take_rate|consumer_id|state|gender|Median_age_persons|Median_mortgage_repay_monthly|Median_tot_prsnl_inc_weekly|Median_rent_weekly|Median_tot_fam_inc_weekly|Average_num_psns_per_bedroom|Median_tot_hhd_inc_weekly|Average_household_size|\n",
       "+--------+-------+------------+-------------------+--------------+--------------------+--------------------+-------------+---------+-----------+-----+------+------------------+-----------------------------+---------------------------+------------------+-------------------------+----------------------------+-------------------------+----------------------+\n",
       "|    3332|     14| 96161947306| 112.67012437787673|    2021-08-20|Imperdiet Dictum ...|          shoe shops|            b|     4.52|    1343547|  VIC|  Male|                38|                         1733|                        797|               350|                     2096|                         0.8|                     1955|                   2.9|\n",
       "|    3332|     14| 75900778714|  546.6848295784864|    2021-08-20|Laoreet Posuere F...|florists supplies...|            c|     2.61|    1343547|  VIC|  Male|                38|                         1733|                        797|               350|                     2096|                         0.8|                     1955|                   2.9|\n",
       "|    3332|     14| 68216911708|  32.90127154333186|    2021-08-20|Placerat Eget Ven...|computers, comput...|            c|     3.05|    1343547|  VIC|  Male|                38|                         1733|                        797|               350|                     2096|                         0.8|                     1955|                   2.9|\n",
       "|    3332|     14| 20985347699|0.27083188402634917|    2021-08-21|    Semper Tellus PC|tent and awning s...|            a|     6.10|    1343547|  VIC|  Male|                38|                         1733|                        797|               350|                     2096|                         0.8|                     1955|                   2.9|\n",
       "|    3332|     14| 45629217853|  8.204284579030558|    2021-08-14|    Lacus Consulting|gift, card, novel...|            a|     6.98|    1343547|  VIC|  Male|                38|                         1733|                        797|               350|                     2096|                         0.8|                     1955|                   2.9|\n",
       "|    3332|     14| 92308095254|  102.3328793223507|    2021-07-15|       Non Lorem LLC|gift, card, novel...|            a|     6.53|    1343547|  VIC|  Male|                38|                         1733|                        797|               350|                     2096|                         0.8|                     1955|                   2.9|\n",
       "|    3332|     14| 17678252870| 36.297748446791886|    2021-08-16|Faucibus Morbi Fo...|watch, clock, and...|            c|     2.07|    1343547|  VIC|  Male|                38|                         1733|                        797|               350|                     2096|                         0.8|                     1955|                   2.9|\n",
       "|    3332|     14| 64203420245|  53.08523476846913|    2021-08-16|  Pede Nonummy Corp.|tent and awning s...|            c|     2.86|    1343547|  VIC|  Male|                38|                         1733|                        797|               350|                     2096|                         0.8|                     1955|                   2.9|\n",
       "|    3332|     14| 16570599421| 12.142216147150515|    2021-08-16|    Non Magna Nam PC|digital goods: bo...|            a|     6.74|    1343547|  VIC|  Male|                38|                         1733|                        797|               350|                     2096|                         0.8|                     1955|                   2.9|\n",
       "|    3332|     14| 50644203172| 1501.5614321919952|    2021-08-27|              Ut LLC|hobby, toy and ga...|            b|     4.64|    1343547|  VIC|  Male|                38|                         1733|                        797|               350|                     2096|                         0.8|                     1955|                   2.9|\n",
       "|    3332|     14| 55294337974|  260.7756369638948|    2021-08-13|Tristique Senectu...|furniture, home f...|            c|     2.46|    1343547|  VIC|  Male|                38|                         1733|                        797|               350|                     2096|                         0.8|                     1955|                   2.9|\n",
       "|    3332|     14| 11588046517|  635.8467846079702|    2021-07-16|    Dolor Industries|health and beauty...|            b|     3.94|    1343547|  VIC|  Male|                38|                         1733|                        797|               350|                     2096|                         0.8|                     1955|                   2.9|\n",
       "|    3332|     14| 80682333501| 16.393685753872166|    2021-07-23|          Orci Corp.|florists supplies...|            b|     4.88|    1343547|  VIC|  Male|                38|                         1733|                        797|               350|                     2096|                         0.8|                     1955|                   2.9|\n",
       "|    3332|     14| 95274025676|  76.69349885082966|    2021-07-23|Ipsum Cursus Vest...|digital goods: bo...|            b|     3.39|    1343547|  VIC|  Male|                38|                         1733|                        797|               350|                     2096|                         0.8|                     1955|                   2.9|\n",
       "|    3332|     14| 34726792617| 139.21165155571208|    2021-05-21|Purus Mauris Asso...|gift, card, novel...|            a|     5.94|    1343547|  VIC|  Male|                38|                         1733|                        797|               350|                     2096|                         0.8|                     1955|                   2.9|\n",
       "|    3332|     14| 63290521567|  4.845198213342123|    2021-05-21|Vehicula Pellente...|artist supply and...|            a|     6.48|    1343547|  VIC|  Male|                38|                         1733|                        797|               350|                     2096|                         0.8|                     1955|                   2.9|\n",
       "|    3332|     14| 71528203369| 10.066089501008111|    2021-07-30|Ipsum Primis Asso...|watch, clock, and...|            a|     6.94|    1343547|  VIC|  Male|                38|                         1733|                        797|               350|                     2096|                         0.8|                     1955|                   2.9|\n",
       "|    3332|     14| 46804135891| 2.9252535204435226|    2021-06-30|Suspendisse Dui C...|opticians, optica...|            c|     2.93|    1343547|  VIC|  Male|                38|                         1733|                        797|               350|                     2096|                         0.8|                     1955|                   2.9|\n",
       "|    3332|     14| 43186523025|  65.10083796485065|    2021-05-28|Lorem Ipsum Sodal...|florists supplies...|            b|     4.47|    1343547|  VIC|  Male|                38|                         1733|                        797|               350|                     2096|                         0.8|                     1955|                   2.9|\n",
       "|    3332|     14| 86578477987|   15.1521520148131|    2021-05-28|   Leo In Consulting|watch, clock, and...|            a|     6.43|    1343547|  VIC|  Male|                38|                         1733|                        797|               350|                     2096|                         0.8|                     1955|                   2.9|\n",
       "+--------+-------+------------+-------------------+--------------+--------------------+--------------------+-------------+---------+-----------+-----+------+------------------+-----------------------------+---------------------------+------------------+-------------------------+----------------------------+-------------------------+----------------------+\n",
       "only showing top 20 rows"
      ]
     },
     "execution_count": 2,
     "metadata": {},
     "output_type": "execute_result"
    }
   ],
   "source": [
    "full = spark.read.parquet('../data/curated/full_dataset/')\n",
    "full\n"
   ]
  },
  {
   "cell_type": "code",
   "execution_count": 3,
   "metadata": {},
   "outputs": [
    {
     "name": "stderr",
     "output_type": "stream",
     "text": [
      "                                                                                \r"
     ]
    },
    {
     "name": "stdout",
     "output_type": "stream",
     "text": [
      "0\n",
      "0\n",
      "0\n",
      "0\n",
      "0\n",
      "0\n",
      "0\n",
      "0\n",
      "0\n",
      "0\n",
      "0\n",
      "0\n",
      "0\n",
      "0\n",
      "0\n",
      "0\n",
      "0\n",
      "0\n",
      "0\n",
      "0\n",
      "\n",
      " 0\n"
     ]
    }
   ],
   "source": [
    "# check if missing value exists in all columns\n",
    "# census do not contain all postcodes, there are \n",
    "null_count = 0\n",
    "for col in full.columns:\n",
    "    null_count += full.filter(full[col].isNull()).count()\n",
    "    print(full.filter(full[col].isNull()).count())\n",
    "print(\"\\n\", null_count)"
   ]
  },
  {
   "cell_type": "markdown",
   "metadata": {},
   "source": [
    "There is no missing value in the curated full dataset.\n",
    "\n",
    "there are 2378048 transactions with their postcode not exist in census data"
   ]
  },
  {
   "cell_type": "markdown",
   "metadata": {},
   "source": [
    "### Outlier Detection"
   ]
  },
  {
   "cell_type": "code",
   "execution_count": 4,
   "metadata": {},
   "outputs": [
    {
     "name": "stderr",
     "output_type": "stream",
     "text": [
      "                                                                                \r"
     ]
    },
    {
     "data": {
      "text/html": [
       "<table border='1'>\n",
       "<tr><th>merchant_abn</th><th>count</th></tr>\n",
       "<tr><td>24212300522</td><td>1</td></tr>\n",
       "<tr><td>39150153670</td><td>1</td></tr>\n",
       "<tr><td>51425051982</td><td>1</td></tr>\n",
       "<tr><td>28311306642</td><td>1</td></tr>\n",
       "<tr><td>42461534060</td><td>1</td></tr>\n",
       "<tr><td>10404542215</td><td>1</td></tr>\n",
       "<tr><td>29068447069</td><td>1</td></tr>\n",
       "<tr><td>93267734067</td><td>1</td></tr>\n",
       "<tr><td>62688594508</td><td>1</td></tr>\n",
       "<tr><td>47047735645</td><td>1</td></tr>\n",
       "<tr><td>46537010521</td><td>1</td></tr>\n",
       "<tr><td>52524795452</td><td>1</td></tr>\n",
       "<tr><td>67264251405</td><td>1</td></tr>\n",
       "<tr><td>50532670634</td><td>2</td></tr>\n",
       "<tr><td>18261886835</td><td>2</td></tr>\n",
       "<tr><td>93263170091</td><td>2</td></tr>\n",
       "<tr><td>55403018592</td><td>2</td></tr>\n",
       "<tr><td>93915598279</td><td>2</td></tr>\n",
       "<tr><td>99801770627</td><td>2</td></tr>\n",
       "<tr><td>22503967537</td><td>2</td></tr>\n",
       "</table>\n",
       "only showing top 20 rows\n"
      ],
      "text/plain": [
       "+------------+-----+\n",
       "|merchant_abn|count|\n",
       "+------------+-----+\n",
       "| 24212300522|    1|\n",
       "| 39150153670|    1|\n",
       "| 51425051982|    1|\n",
       "| 28311306642|    1|\n",
       "| 42461534060|    1|\n",
       "| 10404542215|    1|\n",
       "| 29068447069|    1|\n",
       "| 93267734067|    1|\n",
       "| 62688594508|    1|\n",
       "| 47047735645|    1|\n",
       "| 46537010521|    1|\n",
       "| 52524795452|    1|\n",
       "| 67264251405|    1|\n",
       "| 50532670634|    2|\n",
       "| 18261886835|    2|\n",
       "| 93263170091|    2|\n",
       "| 55403018592|    2|\n",
       "| 93915598279|    2|\n",
       "| 99801770627|    2|\n",
       "| 22503967537|    2|\n",
       "+------------+-----+\n",
       "only showing top 20 rows"
      ]
     },
     "execution_count": 4,
     "metadata": {},
     "output_type": "execute_result"
    }
   ],
   "source": [
    "from pyspark.sql import functions as F\n",
    "full.groupBy(F.col('merchant_abn')).count().orderBy(F.col('count').asc())"
   ]
  },
  {
   "cell_type": "markdown",
   "metadata": {},
   "source": [
    "It is noticed that there exists a range of merchants which only has a single transaction. Such small count of transaction could not provide enough information. So draw boxplot to see the distribution of number of transactions based on merchant."
   ]
  },
  {
   "cell_type": "code",
   "execution_count": 5,
   "metadata": {},
   "outputs": [
    {
     "name": "stderr",
     "output_type": "stream",
     "text": [
      "                                                                                \r"
     ]
    }
   ],
   "source": [
    "count_sdf = full.groupBy(F.col('merchant_abn')).count()\n",
    "# convert to df to draw boxplot\n",
    "count_df = count_sdf.toPandas()"
   ]
  },
  {
   "cell_type": "code",
   "execution_count": 6,
   "metadata": {},
   "outputs": [
    {
     "data": {
      "text/plain": [
       "0       11777\n",
       "1        4312\n",
       "2        5863\n",
       "3         243\n",
       "4         604\n",
       "        ...  \n",
       "4021        1\n",
       "4022        1\n",
       "4023        2\n",
       "4024        1\n",
       "4025        1\n",
       "Name: count, Length: 4026, dtype: int64"
      ]
     },
     "execution_count": 6,
     "metadata": {},
     "output_type": "execute_result"
    }
   ],
   "source": [
    "count = count_df['count']\n",
    "count"
   ]
  },
  {
   "cell_type": "code",
   "execution_count": 7,
   "metadata": {},
   "outputs": [
    {
     "data": {
      "text/plain": [
       "<AxesSubplot:>"
      ]
     },
     "execution_count": 7,
     "metadata": {},
     "output_type": "execute_result"
    },
    {
     "data": {
      "image/png": "[encoded data removed]",
      "text/plain": [
       "<Figure size 432x288 with 1 Axes>"
      ]
     },
     "metadata": {
      "needs_background": "light"
     },
     "output_type": "display_data"
    }
   ],
   "source": [
    "count_df.boxplot(column='count', return_type='axes')"
   ]
  },
  {
   "cell_type": "code",
   "execution_count": 8,
   "metadata": {},
   "outputs": [
    {
     "name": "stdout",
     "output_type": "stream",
     "text": [
      "mean:  2790.9709388971683\n",
      "78.0 1697.0\n",
      "4125.5 -2350.5\n"
     ]
    }
   ],
   "source": [
    "# using IQR to examine the distribution\n",
    "import numpy as np\n",
    "sorted(count)\n",
    "q1, q3= np.percentile(count,[25,75])\n",
    "iqr = q3 - q1\n",
    "lower_bound = q1 -(1.5 * iqr) \n",
    "upper_bound = q3 +(1.5 * iqr) \n",
    "print(\"mean: \", np.mean(count))\n",
    "print(q1, q3)\n",
    "print(upper_bound, lower_bound)"
   ]
  },
  {
   "cell_type": "markdown",
   "metadata": {},
   "source": [
    "We can see that the distribution of count of transactions is highly left distributed. There are 25% of merchants which has less or equal to 45.0 transactions.   \n",
    "\n",
    "However, merchants with a very low number of transactions would not be ideal buisness partner with our BNPL company for the following 2 reasons. First, little turnover will result in little total revenue. Secondly, even if the total revenue is high (jewelry company onlys sell one order but brings considerable profit), the BNPL company still has to take the risk of no transaction at all after cooperation. \n",
    "\n",
    "Most importantly, such small amount of transactions for merchants could not provide enough information for our model to determine whether these merchants are worth cooperated. \n",
    "\n",
    "Therefore, merchants with less than 10 transactions would be selected. And these merchants will then be compared to the merchants which has least total amount..."
   ]
  },
  {
   "cell_type": "code",
   "execution_count": 9,
   "metadata": {},
   "outputs": [],
   "source": [
    "least_freq_merchants = count_df[count_df['count'] < 10]"
   ]
  },
  {
   "cell_type": "code",
   "execution_count": 10,
   "metadata": {},
   "outputs": [
    {
     "data": {
      "text/html": [
       "<div>\n",
       "<style scoped>\n",
       "    .dataframe tbody tr th:only-of-type {\n",
       "        vertical-align: middle;\n",
       "    }\n",
       "\n",
       "    .dataframe tbody tr th {\n",
       "        vertical-align: top;\n",
       "    }\n",
       "\n",
       "    .dataframe thead th {\n",
       "        text-align: right;\n",
       "    }\n",
       "</style>\n",
       "<table border=\"1\" class=\"dataframe\">\n",
       "  <thead>\n",
       "    <tr style=\"text-align: right;\">\n",
       "      <th></th>\n",
       "      <th>merchant_abn</th>\n",
       "      <th>count</th>\n",
       "    </tr>\n",
       "  </thead>\n",
       "  <tbody>\n",
       "    <tr>\n",
       "      <th>86</th>\n",
       "      <td>69431337574</td>\n",
       "      <td>7</td>\n",
       "    </tr>\n",
       "    <tr>\n",
       "      <th>288</th>\n",
       "      <td>39150153670</td>\n",
       "      <td>1</td>\n",
       "    </tr>\n",
       "    <tr>\n",
       "      <th>310</th>\n",
       "      <td>13747603419</td>\n",
       "      <td>7</td>\n",
       "    </tr>\n",
       "    <tr>\n",
       "      <th>410</th>\n",
       "      <td>29166700531</td>\n",
       "      <td>7</td>\n",
       "    </tr>\n",
       "    <tr>\n",
       "      <th>507</th>\n",
       "      <td>27518736748</td>\n",
       "      <td>5</td>\n",
       "    </tr>\n",
       "    <tr>\n",
       "      <th>...</th>\n",
       "      <td>...</td>\n",
       "      <td>...</td>\n",
       "    </tr>\n",
       "    <tr>\n",
       "      <th>4021</th>\n",
       "      <td>52524795452</td>\n",
       "      <td>1</td>\n",
       "    </tr>\n",
       "    <tr>\n",
       "      <th>4022</th>\n",
       "      <td>28311306642</td>\n",
       "      <td>1</td>\n",
       "    </tr>\n",
       "    <tr>\n",
       "      <th>4023</th>\n",
       "      <td>24174334793</td>\n",
       "      <td>2</td>\n",
       "    </tr>\n",
       "    <tr>\n",
       "      <th>4024</th>\n",
       "      <td>42461534060</td>\n",
       "      <td>1</td>\n",
       "    </tr>\n",
       "    <tr>\n",
       "      <th>4025</th>\n",
       "      <td>10404542215</td>\n",
       "      <td>1</td>\n",
       "    </tr>\n",
       "  </tbody>\n",
       "</table>\n",
       "<p>191 rows × 2 columns</p>\n",
       "</div>"
      ],
      "text/plain": [
       "      merchant_abn  count\n",
       "86     69431337574      7\n",
       "288    39150153670      1\n",
       "310    13747603419      7\n",
       "410    29166700531      7\n",
       "507    27518736748      5\n",
       "...            ...    ...\n",
       "4021   52524795452      1\n",
       "4022   28311306642      1\n",
       "4023   24174334793      2\n",
       "4024   42461534060      1\n",
       "4025   10404542215      1\n",
       "\n",
       "[191 rows x 2 columns]"
      ]
     },
     "execution_count": 10,
     "metadata": {},
     "output_type": "execute_result"
    }
   ],
   "source": [
    "least_freq_merchants"
   ]
  },
  {
   "cell_type": "code",
   "execution_count": 11,
   "metadata": {},
   "outputs": [
    {
     "name": "stderr",
     "output_type": "stream",
     "text": [
      "                                                                                \r"
     ]
    },
    {
     "data": {
      "text/html": [
       "<div>\n",
       "<style scoped>\n",
       "    .dataframe tbody tr th:only-of-type {\n",
       "        vertical-align: middle;\n",
       "    }\n",
       "\n",
       "    .dataframe tbody tr th {\n",
       "        vertical-align: top;\n",
       "    }\n",
       "\n",
       "    .dataframe thead th {\n",
       "        text-align: right;\n",
       "    }\n",
       "</style>\n",
       "<table border=\"1\" class=\"dataframe\">\n",
       "  <thead>\n",
       "    <tr style=\"text-align: right;\">\n",
       "      <th></th>\n",
       "      <th>merchant_abn</th>\n",
       "      <th>sum(dollar_value)</th>\n",
       "    </tr>\n",
       "  </thead>\n",
       "  <tbody>\n",
       "    <tr>\n",
       "      <th>0</th>\n",
       "      <td>83412691377</td>\n",
       "      <td>4.119111e+05</td>\n",
       "    </tr>\n",
       "    <tr>\n",
       "      <th>1</th>\n",
       "      <td>73256306726</td>\n",
       "      <td>1.223133e+06</td>\n",
       "    </tr>\n",
       "    <tr>\n",
       "      <th>2</th>\n",
       "      <td>38700038932</td>\n",
       "      <td>7.885045e+06</td>\n",
       "    </tr>\n",
       "    <tr>\n",
       "      <th>3</th>\n",
       "      <td>41956465747</td>\n",
       "      <td>5.485230e+04</td>\n",
       "    </tr>\n",
       "    <tr>\n",
       "      <th>4</th>\n",
       "      <td>19839532017</td>\n",
       "      <td>9.482800e+04</td>\n",
       "    </tr>\n",
       "    <tr>\n",
       "      <th>...</th>\n",
       "      <td>...</td>\n",
       "      <td>...</td>\n",
       "    </tr>\n",
       "    <tr>\n",
       "      <th>4021</th>\n",
       "      <td>52524795452</td>\n",
       "      <td>1.286445e+04</td>\n",
       "    </tr>\n",
       "    <tr>\n",
       "      <th>4022</th>\n",
       "      <td>28311306642</td>\n",
       "      <td>2.115933e+04</td>\n",
       "    </tr>\n",
       "    <tr>\n",
       "      <th>4023</th>\n",
       "      <td>24174334793</td>\n",
       "      <td>1.684496e+04</td>\n",
       "    </tr>\n",
       "    <tr>\n",
       "      <th>4024</th>\n",
       "      <td>42461534060</td>\n",
       "      <td>2.260011e+04</td>\n",
       "    </tr>\n",
       "    <tr>\n",
       "      <th>4025</th>\n",
       "      <td>10404542215</td>\n",
       "      <td>2.277398e+04</td>\n",
       "    </tr>\n",
       "  </tbody>\n",
       "</table>\n",
       "<p>4026 rows × 2 columns</p>\n",
       "</div>"
      ],
      "text/plain": [
       "      merchant_abn  sum(dollar_value)\n",
       "0      83412691377       4.119111e+05\n",
       "1      73256306726       1.223133e+06\n",
       "2      38700038932       7.885045e+06\n",
       "3      41956465747       5.485230e+04\n",
       "4      19839532017       9.482800e+04\n",
       "...            ...                ...\n",
       "4021   52524795452       1.286445e+04\n",
       "4022   28311306642       2.115933e+04\n",
       "4023   24174334793       1.684496e+04\n",
       "4024   42461534060       2.260011e+04\n",
       "4025   10404542215       2.277398e+04\n",
       "\n",
       "[4026 rows x 2 columns]"
      ]
     },
     "execution_count": 11,
     "metadata": {},
     "output_type": "execute_result"
    }
   ],
   "source": [
    "amount = full.groupBy(F.col('merchant_abn')).sum('dollar_value')\n",
    "amount_df = amount.toPandas()\n",
    "amount_df"
   ]
  },
  {
   "cell_type": "code",
   "execution_count": 12,
   "metadata": {},
   "outputs": [
    {
     "data": {
      "text/plain": [
       "<AxesSubplot:>"
      ]
     },
     "execution_count": 12,
     "metadata": {},
     "output_type": "execute_result"
    },
    {
     "data": {
      "image/png": "[encoded data removed]",
      "text/plain": [
       "<Figure size 432x288 with 1 Axes>"
      ]
     },
     "metadata": {
      "needs_background": "light"
     },
     "output_type": "display_data"
    }
   ],
   "source": [
    "amount_df.boxplot(column='sum(dollar_value)', return_type='axes')"
   ]
  },
  {
   "cell_type": "code",
   "execution_count": 13,
   "metadata": {},
   "outputs": [
    {
     "data": {
      "text/plain": [
       "array([[<AxesSubplot:title={'center':'sum(dollar_value)'}>]], dtype=object)"
      ]
     },
     "execution_count": 13,
     "metadata": {},
     "output_type": "execute_result"
    },
    {
     "data": {
      "image/png": "[encoded data removed]",
      "text/plain": [
       "<Figure size 432x288 with 1 Axes>"
      ]
     },
     "metadata": {
      "needs_background": "light"
     },
     "output_type": "display_data"
    }
   ],
   "source": [
    "amount_df.hist(column='sum(dollar_value)')"
   ]
  },
  {
   "cell_type": "markdown",
   "metadata": {},
   "source": [
    "Similiarly, the distribution of total amount of transactions are highly left-skewed."
   ]
  },
  {
   "cell_type": "code",
   "execution_count": 14,
   "metadata": {},
   "outputs": [],
   "source": [
    "total_amount = amount_df[\"sum(dollar_value)\"]"
   ]
  },
  {
   "cell_type": "code",
   "execution_count": 15,
   "metadata": {},
   "outputs": [
    {
     "name": "stdout",
     "output_type": "stream",
     "text": [
      "mean:  442218.54996027413\n",
      "30145.197214420205 518845.5494435874\n",
      "1251896.0777873383 -702905.3311293307\n"
     ]
    }
   ],
   "source": [
    "# using IQR to examine the distribution\n",
    "import numpy as np\n",
    "sorted(total_amount)\n",
    "q1, q3= np.percentile(total_amount,[25,75])\n",
    "iqr = q3 - q1\n",
    "lower_bound = q1 -(1.5 * iqr) \n",
    "upper_bound = q3 +(1.5 * iqr) \n",
    "print(\"mean: \", np.mean(total_amount))\n",
    "print(q1, q3)\n",
    "print(upper_bound, lower_bound)"
   ]
  },
  {
   "cell_type": "code",
   "execution_count": 16,
   "metadata": {},
   "outputs": [],
   "source": [
    "# consider merchants with total value < 10000 as least_amount_merchants\n",
    "least_amount_merchants = amount_df[amount_df['sum(dollar_value)'] < 50000]"
   ]
  },
  {
   "cell_type": "markdown",
   "metadata": {},
   "source": [
    "# 这里我改成5w了，之前1w只有两个merchant filter出去"
   ]
  },
  {
   "cell_type": "code",
   "execution_count": 17,
   "metadata": {},
   "outputs": [
    {
     "data": {
      "text/html": [
       "<div>\n",
       "<style scoped>\n",
       "    .dataframe tbody tr th:only-of-type {\n",
       "        vertical-align: middle;\n",
       "    }\n",
       "\n",
       "    .dataframe tbody tr th {\n",
       "        vertical-align: top;\n",
       "    }\n",
       "\n",
       "    .dataframe thead th {\n",
       "        text-align: right;\n",
       "    }\n",
       "</style>\n",
       "<table border=\"1\" class=\"dataframe\">\n",
       "  <thead>\n",
       "    <tr style=\"text-align: right;\">\n",
       "      <th></th>\n",
       "      <th>merchant_abn</th>\n",
       "      <th>sum(dollar_value)</th>\n",
       "    </tr>\n",
       "  </thead>\n",
       "  <tbody>\n",
       "    <tr>\n",
       "      <th>6</th>\n",
       "      <td>92202115241</td>\n",
       "      <td>31983.046434</td>\n",
       "    </tr>\n",
       "    <tr>\n",
       "      <th>9</th>\n",
       "      <td>12516851436</td>\n",
       "      <td>27474.244575</td>\n",
       "    </tr>\n",
       "    <tr>\n",
       "      <th>12</th>\n",
       "      <td>60654402457</td>\n",
       "      <td>13345.636704</td>\n",
       "    </tr>\n",
       "    <tr>\n",
       "      <th>13</th>\n",
       "      <td>34440496342</td>\n",
       "      <td>16365.406022</td>\n",
       "    </tr>\n",
       "    <tr>\n",
       "      <th>14</th>\n",
       "      <td>38986645707</td>\n",
       "      <td>35073.485729</td>\n",
       "    </tr>\n",
       "    <tr>\n",
       "      <th>...</th>\n",
       "      <td>...</td>\n",
       "      <td>...</td>\n",
       "    </tr>\n",
       "    <tr>\n",
       "      <th>4021</th>\n",
       "      <td>52524795452</td>\n",
       "      <td>12864.454745</td>\n",
       "    </tr>\n",
       "    <tr>\n",
       "      <th>4022</th>\n",
       "      <td>28311306642</td>\n",
       "      <td>21159.331218</td>\n",
       "    </tr>\n",
       "    <tr>\n",
       "      <th>4023</th>\n",
       "      <td>24174334793</td>\n",
       "      <td>16844.963426</td>\n",
       "    </tr>\n",
       "    <tr>\n",
       "      <th>4024</th>\n",
       "      <td>42461534060</td>\n",
       "      <td>22600.105673</td>\n",
       "    </tr>\n",
       "    <tr>\n",
       "      <th>4025</th>\n",
       "      <td>10404542215</td>\n",
       "      <td>22773.975280</td>\n",
       "    </tr>\n",
       "  </tbody>\n",
       "</table>\n",
       "<p>1571 rows × 2 columns</p>\n",
       "</div>"
      ],
      "text/plain": [
       "      merchant_abn  sum(dollar_value)\n",
       "6      92202115241       31983.046434\n",
       "9      12516851436       27474.244575\n",
       "12     60654402457       13345.636704\n",
       "13     34440496342       16365.406022\n",
       "14     38986645707       35073.485729\n",
       "...            ...                ...\n",
       "4021   52524795452       12864.454745\n",
       "4022   28311306642       21159.331218\n",
       "4023   24174334793       16844.963426\n",
       "4024   42461534060       22600.105673\n",
       "4025   10404542215       22773.975280\n",
       "\n",
       "[1571 rows x 2 columns]"
      ]
     },
     "execution_count": 17,
     "metadata": {},
     "output_type": "execute_result"
    }
   ],
   "source": [
    "least_amount_merchants"
   ]
  },
  {
   "cell_type": "code",
   "execution_count": 18,
   "metadata": {},
   "outputs": [
    {
     "data": {
      "text/html": [
       "<div>\n",
       "<style scoped>\n",
       "    .dataframe tbody tr th:only-of-type {\n",
       "        vertical-align: middle;\n",
       "    }\n",
       "\n",
       "    .dataframe tbody tr th {\n",
       "        vertical-align: top;\n",
       "    }\n",
       "\n",
       "    .dataframe thead th {\n",
       "        text-align: right;\n",
       "    }\n",
       "</style>\n",
       "<table border=\"1\" class=\"dataframe\">\n",
       "  <thead>\n",
       "    <tr style=\"text-align: right;\">\n",
       "      <th></th>\n",
       "      <th>merchant_abn</th>\n",
       "      <th>count</th>\n",
       "      <th>sum(dollar_value)</th>\n",
       "    </tr>\n",
       "  </thead>\n",
       "  <tbody>\n",
       "    <tr>\n",
       "      <th>0</th>\n",
       "      <td>69431337574</td>\n",
       "      <td>7</td>\n",
       "      <td>28781.573640</td>\n",
       "    </tr>\n",
       "    <tr>\n",
       "      <th>1</th>\n",
       "      <td>39150153670</td>\n",
       "      <td>1</td>\n",
       "      <td>38089.939272</td>\n",
       "    </tr>\n",
       "    <tr>\n",
       "      <th>2</th>\n",
       "      <td>13747603419</td>\n",
       "      <td>7</td>\n",
       "      <td>14705.968756</td>\n",
       "    </tr>\n",
       "    <tr>\n",
       "      <th>3</th>\n",
       "      <td>29166700531</td>\n",
       "      <td>7</td>\n",
       "      <td>11888.695901</td>\n",
       "    </tr>\n",
       "    <tr>\n",
       "      <th>4</th>\n",
       "      <td>27518736748</td>\n",
       "      <td>5</td>\n",
       "      <td>9896.230554</td>\n",
       "    </tr>\n",
       "    <tr>\n",
       "      <th>...</th>\n",
       "      <td>...</td>\n",
       "      <td>...</td>\n",
       "      <td>...</td>\n",
       "    </tr>\n",
       "    <tr>\n",
       "      <th>159</th>\n",
       "      <td>52524795452</td>\n",
       "      <td>1</td>\n",
       "      <td>12864.454745</td>\n",
       "    </tr>\n",
       "    <tr>\n",
       "      <th>160</th>\n",
       "      <td>28311306642</td>\n",
       "      <td>1</td>\n",
       "      <td>21159.331218</td>\n",
       "    </tr>\n",
       "    <tr>\n",
       "      <th>161</th>\n",
       "      <td>24174334793</td>\n",
       "      <td>2</td>\n",
       "      <td>16844.963426</td>\n",
       "    </tr>\n",
       "    <tr>\n",
       "      <th>162</th>\n",
       "      <td>42461534060</td>\n",
       "      <td>1</td>\n",
       "      <td>22600.105673</td>\n",
       "    </tr>\n",
       "    <tr>\n",
       "      <th>163</th>\n",
       "      <td>10404542215</td>\n",
       "      <td>1</td>\n",
       "      <td>22773.975280</td>\n",
       "    </tr>\n",
       "  </tbody>\n",
       "</table>\n",
       "<p>164 rows × 3 columns</p>\n",
       "</div>"
      ],
      "text/plain": [
       "     merchant_abn  count  sum(dollar_value)\n",
       "0     69431337574      7       28781.573640\n",
       "1     39150153670      1       38089.939272\n",
       "2     13747603419      7       14705.968756\n",
       "3     29166700531      7       11888.695901\n",
       "4     27518736748      5        9896.230554\n",
       "..            ...    ...                ...\n",
       "159   52524795452      1       12864.454745\n",
       "160   28311306642      1       21159.331218\n",
       "161   24174334793      2       16844.963426\n",
       "162   42461534060      1       22600.105673\n",
       "163   10404542215      1       22773.975280\n",
       "\n",
       "[164 rows x 3 columns]"
      ]
     },
     "execution_count": 18,
     "metadata": {},
     "output_type": "execute_result"
    }
   ],
   "source": [
    "# combine merchants with both least frequency and least amount\n",
    "least_merchants = pd.merge(least_freq_merchants, least_amount_merchants)\n",
    "least_merchants"
   ]
  },
  {
   "cell_type": "markdown",
   "metadata": {},
   "source": [
    "There are 123 merchants which have less than 10 number of transactions and their total transaction dollar value is less than 50000. Those merchants has too little frequency of transaction records which could not provide enough information for our model, and has the least potential to be identified as ideal companies. Therefore, they are considerred as outliers and will be removed from the dataset."
   ]
  },
  {
   "cell_type": "code",
   "execution_count": 19,
   "metadata": {},
   "outputs": [],
   "source": [
    "removed_merchants = least_merchants[\"merchant_abn\"].to_list()"
   ]
  },
  {
   "cell_type": "code",
   "execution_count": 20,
   "metadata": {},
   "outputs": [],
   "source": [
    "clean_full = full.filter(~full.merchant_abn.isin(removed_merchants))"
   ]
  },
  {
   "cell_type": "markdown",
   "metadata": {},
   "source": [
    "### Buisness Area Allocation"
   ]
  },
  {
   "cell_type": "markdown",
   "metadata": {},
   "source": [
    "In the turnovers dataset, buisness areas are classfied into 13 categories, including [\"Mining\", \"Manufacturing\", \"Electricity gas water waste service\", \"Construction\", \"Wholesale_trade\", \"Retail_trade\", \"Accommodation food services\", \"Transport postal warehousing\", \"Information media telecommunications\", \"Professional scientific technical services\", \"Administrative support services\", \"Arts recreation services\", \"Other_services\"]\n",
    "\n",
    "In order to map our full dataset with this turnover dataset, we manually classfies the \"business_area\" into these 13 categories as follows."
   ]
  },
  {
   "cell_type": "code",
   "execution_count": 21,
   "metadata": {},
   "outputs": [
    {
     "name": "stderr",
     "output_type": "stream",
     "text": [
      "                                                                                \r"
     ]
    },
    {
     "data": {
      "text/plain": [
       "['antique shops - sales, repairs, and restoration services',\n",
       " 'art dealers and galleries',\n",
       " 'artist supply and craft shops',\n",
       " 'bicycle shops - sales and service',\n",
       " 'books, periodicals, and newspapers',\n",
       " 'cable, satellite, and other pay television and radio services',\n",
       " 'computer programming , data processing, and integrated systems design services',\n",
       " 'computers, computer peripheral equipment, and software',\n",
       " 'digital goods: books, movies, music',\n",
       " 'equipment, tool, furniture, and appliance rent al and leasing',\n",
       " 'florists supplies, nursery stock, and flowers',\n",
       " 'furniture, home furnishings and equipment shops, and manufacturers, except appliances',\n",
       " 'gift, card, novelty, and souvenir shops',\n",
       " 'health and beauty spas',\n",
       " 'hobby, toy and game shops',\n",
       " 'jewelry, watch, clock, and silverware shops',\n",
       " 'lawn and garden supply outlets, including nurseries',\n",
       " 'motor vehicle supplies and new parts',\n",
       " 'music shops - musical instruments, pianos, and sheet music',\n",
       " 'opticians, optical goods, and eyeglasses',\n",
       " 'shoe shops',\n",
       " 'stationery, office supplies and printing and writing paper',\n",
       " 'telecom',\n",
       " 'tent and awning shops',\n",
       " 'watch, clock, and jewelry repair shops']"
      ]
     },
     "execution_count": 21,
     "metadata": {},
     "output_type": "execute_result"
    }
   ],
   "source": [
    "busi_area = clean_full.groupby('business_area').count().sort(\"business_area\").select(\"business_area\").toPandas()['business_area'].to_list()\n",
    "busi_area\n"
   ]
  },
  {
   "cell_type": "code",
   "execution_count": 22,
   "metadata": {},
   "outputs": [
    {
     "data": {
      "text/html": [
       "<div>\n",
       "<style scoped>\n",
       "    .dataframe tbody tr th:only-of-type {\n",
       "        vertical-align: middle;\n",
       "    }\n",
       "\n",
       "    .dataframe tbody tr th {\n",
       "        vertical-align: top;\n",
       "    }\n",
       "\n",
       "    .dataframe thead th {\n",
       "        text-align: right;\n",
       "    }\n",
       "</style>\n",
       "<table border=\"1\" class=\"dataframe\">\n",
       "  <thead>\n",
       "    <tr style=\"text-align: right;\">\n",
       "      <th></th>\n",
       "      <th>business_area</th>\n",
       "      <th>business_area_type</th>\n",
       "    </tr>\n",
       "  </thead>\n",
       "  <tbody>\n",
       "    <tr>\n",
       "      <th>0</th>\n",
       "      <td>antique shops - sales, repairs, and restoratio...</td>\n",
       "      <td>Retail trade</td>\n",
       "    </tr>\n",
       "    <tr>\n",
       "      <th>1</th>\n",
       "      <td>art dealers and galleries</td>\n",
       "      <td>Arts and recreation services</td>\n",
       "    </tr>\n",
       "    <tr>\n",
       "      <th>2</th>\n",
       "      <td>artist supply and craft shops</td>\n",
       "      <td>Retail trade</td>\n",
       "    </tr>\n",
       "    <tr>\n",
       "      <th>3</th>\n",
       "      <td>bicycle shops - sales and service</td>\n",
       "      <td>Retail trade</td>\n",
       "    </tr>\n",
       "    <tr>\n",
       "      <th>4</th>\n",
       "      <td>books, periodicals, and newspapers</td>\n",
       "      <td>Retail trade</td>\n",
       "    </tr>\n",
       "    <tr>\n",
       "      <th>5</th>\n",
       "      <td>cable, satellite, and other pay television and...</td>\n",
       "      <td>Retail trade</td>\n",
       "    </tr>\n",
       "    <tr>\n",
       "      <th>6</th>\n",
       "      <td>computer programming , data processing, and in...</td>\n",
       "      <td>Professional, scientific and technical services</td>\n",
       "    </tr>\n",
       "    <tr>\n",
       "      <th>7</th>\n",
       "      <td>computers, computer peripheral equipment, and ...</td>\n",
       "      <td>Retail trade</td>\n",
       "    </tr>\n",
       "    <tr>\n",
       "      <th>8</th>\n",
       "      <td>digital goods: books, movies, music</td>\n",
       "      <td>Retail trade</td>\n",
       "    </tr>\n",
       "    <tr>\n",
       "      <th>9</th>\n",
       "      <td>equipment, tool, furniture, and appliance rent...</td>\n",
       "      <td>Retail trade</td>\n",
       "    </tr>\n",
       "    <tr>\n",
       "      <th>10</th>\n",
       "      <td>florists supplies, nursery stock, and flowers</td>\n",
       "      <td>Retail trade</td>\n",
       "    </tr>\n",
       "    <tr>\n",
       "      <th>11</th>\n",
       "      <td>furniture, home furnishings and equipment shop...</td>\n",
       "      <td>Manufacturing</td>\n",
       "    </tr>\n",
       "    <tr>\n",
       "      <th>12</th>\n",
       "      <td>gift, card, novelty, and souvenir shops</td>\n",
       "      <td>Retail trade</td>\n",
       "    </tr>\n",
       "    <tr>\n",
       "      <th>13</th>\n",
       "      <td>health and beauty spas</td>\n",
       "      <td>Other services</td>\n",
       "    </tr>\n",
       "    <tr>\n",
       "      <th>14</th>\n",
       "      <td>hobby, toy and game shops</td>\n",
       "      <td>Retail trade</td>\n",
       "    </tr>\n",
       "    <tr>\n",
       "      <th>15</th>\n",
       "      <td>jewelry, watch, clock, and silverware shops</td>\n",
       "      <td>Retail trade</td>\n",
       "    </tr>\n",
       "    <tr>\n",
       "      <th>16</th>\n",
       "      <td>lawn and garden supply outlets, including nurs...</td>\n",
       "      <td>Retail trade</td>\n",
       "    </tr>\n",
       "    <tr>\n",
       "      <th>17</th>\n",
       "      <td>motor vehicle supplies and new parts</td>\n",
       "      <td>Retail trade</td>\n",
       "    </tr>\n",
       "    <tr>\n",
       "      <th>18</th>\n",
       "      <td>music shops - musical instruments, pianos, and...</td>\n",
       "      <td>Retail trade</td>\n",
       "    </tr>\n",
       "    <tr>\n",
       "      <th>19</th>\n",
       "      <td>opticians, optical goods, and eyeglasses</td>\n",
       "      <td>Manufacturing</td>\n",
       "    </tr>\n",
       "    <tr>\n",
       "      <th>20</th>\n",
       "      <td>shoe shops</td>\n",
       "      <td>Retail trade</td>\n",
       "    </tr>\n",
       "    <tr>\n",
       "      <th>21</th>\n",
       "      <td>stationery, office supplies and printing and w...</td>\n",
       "      <td>Retail trade</td>\n",
       "    </tr>\n",
       "    <tr>\n",
       "      <th>22</th>\n",
       "      <td>telecom</td>\n",
       "      <td>Information media and telecommunications</td>\n",
       "    </tr>\n",
       "    <tr>\n",
       "      <th>23</th>\n",
       "      <td>tent and awning shops</td>\n",
       "      <td>Retail trade</td>\n",
       "    </tr>\n",
       "    <tr>\n",
       "      <th>24</th>\n",
       "      <td>watch, clock, and jewelry repair shops</td>\n",
       "      <td>Other services</td>\n",
       "    </tr>\n",
       "  </tbody>\n",
       "</table>\n",
       "</div>"
      ],
      "text/plain": [
       "                                        business_area  \\\n",
       "0   antique shops - sales, repairs, and restoratio...   \n",
       "1                           art dealers and galleries   \n",
       "2                       artist supply and craft shops   \n",
       "3                   bicycle shops - sales and service   \n",
       "4                  books, periodicals, and newspapers   \n",
       "5   cable, satellite, and other pay television and...   \n",
       "6   computer programming , data processing, and in...   \n",
       "7   computers, computer peripheral equipment, and ...   \n",
       "8                 digital goods: books, movies, music   \n",
       "9   equipment, tool, furniture, and appliance rent...   \n",
       "10      florists supplies, nursery stock, and flowers   \n",
       "11  furniture, home furnishings and equipment shop...   \n",
       "12            gift, card, novelty, and souvenir shops   \n",
       "13                             health and beauty spas   \n",
       "14                          hobby, toy and game shops   \n",
       "15        jewelry, watch, clock, and silverware shops   \n",
       "16  lawn and garden supply outlets, including nurs...   \n",
       "17               motor vehicle supplies and new parts   \n",
       "18  music shops - musical instruments, pianos, and...   \n",
       "19           opticians, optical goods, and eyeglasses   \n",
       "20                                         shoe shops   \n",
       "21  stationery, office supplies and printing and w...   \n",
       "22                                            telecom   \n",
       "23                              tent and awning shops   \n",
       "24             watch, clock, and jewelry repair shops   \n",
       "\n",
       "                                 business_area_type  \n",
       "0                                      Retail trade  \n",
       "1                      Arts and recreation services  \n",
       "2                                      Retail trade  \n",
       "3                                      Retail trade  \n",
       "4                                      Retail trade  \n",
       "5                                      Retail trade  \n",
       "6   Professional, scientific and technical services  \n",
       "7                                      Retail trade  \n",
       "8                                      Retail trade  \n",
       "9                                      Retail trade  \n",
       "10                                     Retail trade  \n",
       "11                                    Manufacturing  \n",
       "12                                     Retail trade  \n",
       "13                                   Other services  \n",
       "14                                     Retail trade  \n",
       "15                                     Retail trade  \n",
       "16                                     Retail trade  \n",
       "17                                     Retail trade  \n",
       "18                                     Retail trade  \n",
       "19                                    Manufacturing  \n",
       "20                                     Retail trade  \n",
       "21                                     Retail trade  \n",
       "22         Information media and telecommunications  \n",
       "23                                     Retail trade  \n",
       "24                                   Other services  "
      ]
     },
     "execution_count": 22,
     "metadata": {},
     "output_type": "execute_result"
    }
   ],
   "source": [
    "# the mapping is based on common knowledge and references from industry information published by Australian Government.\n",
    "#  https://business.gov.au/planning/industry-information\n",
    "busi_area_type = [\"Retail trade\", \"Arts and recreation services\", \"Retail trade\", \"Retail trade\", \"Retail trade\", \"Retail trade\", \"Professional, scientific and technical services\", \"Retail trade\",\n",
    "\"Retail trade\", \"Retail trade\", \"Retail trade\", \"Manufacturing\", \"Retail trade\", \"Other services\", \"Retail trade\", \"Retail trade\", \"Retail trade\", \"Retail trade\", \n",
    "\"Retail trade\", \"Manufacturing\", \"Retail trade\", \"Retail trade\", \"Information media and telecommunications\", \"Retail trade\", \"Other services\"]\n",
    "\n",
    "allocation_df = pd.DataFrame(list(zip(busi_area, busi_area_type)),\n",
    "               columns =['business_area', 'business_area_type'])\n",
    "allocation_df"
   ]
  },
  {
   "cell_type": "code",
   "execution_count": 23,
   "metadata": {},
   "outputs": [
    {
     "data": {
      "text/html": [
       "<div>\n",
       "<style scoped>\n",
       "    .dataframe tbody tr th:only-of-type {\n",
       "        vertical-align: middle;\n",
       "    }\n",
       "\n",
       "    .dataframe tbody tr th {\n",
       "        vertical-align: top;\n",
       "    }\n",
       "\n",
       "    .dataframe thead th {\n",
       "        text-align: right;\n",
       "    }\n",
       "</style>\n",
       "<table border=\"1\" class=\"dataframe\">\n",
       "  <thead>\n",
       "    <tr style=\"text-align: right;\">\n",
       "      <th></th>\n",
       "      <th>business_area</th>\n",
       "      <th>business_area_type</th>\n",
       "      <th>annual_turnover_percentage</th>\n",
       "    </tr>\n",
       "  </thead>\n",
       "  <tbody>\n",
       "    <tr>\n",
       "      <th>0</th>\n",
       "      <td>antique shops - sales, repairs, and restoratio...</td>\n",
       "      <td>Retail trade</td>\n",
       "      <td>21.9</td>\n",
       "    </tr>\n",
       "    <tr>\n",
       "      <th>1</th>\n",
       "      <td>art dealers and galleries</td>\n",
       "      <td>Arts and recreation services</td>\n",
       "      <td>13.3</td>\n",
       "    </tr>\n",
       "    <tr>\n",
       "      <th>2</th>\n",
       "      <td>artist supply and craft shops</td>\n",
       "      <td>Retail trade</td>\n",
       "      <td>21.9</td>\n",
       "    </tr>\n",
       "    <tr>\n",
       "      <th>3</th>\n",
       "      <td>bicycle shops - sales and service</td>\n",
       "      <td>Retail trade</td>\n",
       "      <td>21.9</td>\n",
       "    </tr>\n",
       "    <tr>\n",
       "      <th>4</th>\n",
       "      <td>books, periodicals, and newspapers</td>\n",
       "      <td>Retail trade</td>\n",
       "      <td>21.9</td>\n",
       "    </tr>\n",
       "    <tr>\n",
       "      <th>5</th>\n",
       "      <td>cable, satellite, and other pay television and...</td>\n",
       "      <td>Retail trade</td>\n",
       "      <td>21.9</td>\n",
       "    </tr>\n",
       "    <tr>\n",
       "      <th>6</th>\n",
       "      <td>computer programming , data processing, and in...</td>\n",
       "      <td>Professional, scientific and technical services</td>\n",
       "      <td>11.3</td>\n",
       "    </tr>\n",
       "    <tr>\n",
       "      <th>7</th>\n",
       "      <td>computers, computer peripheral equipment, and ...</td>\n",
       "      <td>Retail trade</td>\n",
       "      <td>21.9</td>\n",
       "    </tr>\n",
       "    <tr>\n",
       "      <th>8</th>\n",
       "      <td>digital goods: books, movies, music</td>\n",
       "      <td>Retail trade</td>\n",
       "      <td>21.9</td>\n",
       "    </tr>\n",
       "    <tr>\n",
       "      <th>9</th>\n",
       "      <td>equipment, tool, furniture, and appliance rent...</td>\n",
       "      <td>Retail trade</td>\n",
       "      <td>21.9</td>\n",
       "    </tr>\n",
       "    <tr>\n",
       "      <th>10</th>\n",
       "      <td>florists supplies, nursery stock, and flowers</td>\n",
       "      <td>Retail trade</td>\n",
       "      <td>21.9</td>\n",
       "    </tr>\n",
       "    <tr>\n",
       "      <th>11</th>\n",
       "      <td>furniture, home furnishings and equipment shop...</td>\n",
       "      <td>Manufacturing</td>\n",
       "      <td>17.0</td>\n",
       "    </tr>\n",
       "    <tr>\n",
       "      <th>12</th>\n",
       "      <td>gift, card, novelty, and souvenir shops</td>\n",
       "      <td>Retail trade</td>\n",
       "      <td>21.9</td>\n",
       "    </tr>\n",
       "    <tr>\n",
       "      <th>13</th>\n",
       "      <td>health and beauty spas</td>\n",
       "      <td>Other services</td>\n",
       "      <td>2.4</td>\n",
       "    </tr>\n",
       "    <tr>\n",
       "      <th>14</th>\n",
       "      <td>hobby, toy and game shops</td>\n",
       "      <td>Retail trade</td>\n",
       "      <td>21.9</td>\n",
       "    </tr>\n",
       "    <tr>\n",
       "      <th>15</th>\n",
       "      <td>jewelry, watch, clock, and silverware shops</td>\n",
       "      <td>Retail trade</td>\n",
       "      <td>21.9</td>\n",
       "    </tr>\n",
       "    <tr>\n",
       "      <th>16</th>\n",
       "      <td>lawn and garden supply outlets, including nurs...</td>\n",
       "      <td>Retail trade</td>\n",
       "      <td>21.9</td>\n",
       "    </tr>\n",
       "    <tr>\n",
       "      <th>17</th>\n",
       "      <td>motor vehicle supplies and new parts</td>\n",
       "      <td>Retail trade</td>\n",
       "      <td>21.9</td>\n",
       "    </tr>\n",
       "    <tr>\n",
       "      <th>18</th>\n",
       "      <td>music shops - musical instruments, pianos, and...</td>\n",
       "      <td>Retail trade</td>\n",
       "      <td>21.9</td>\n",
       "    </tr>\n",
       "    <tr>\n",
       "      <th>19</th>\n",
       "      <td>opticians, optical goods, and eyeglasses</td>\n",
       "      <td>Manufacturing</td>\n",
       "      <td>17.0</td>\n",
       "    </tr>\n",
       "    <tr>\n",
       "      <th>20</th>\n",
       "      <td>shoe shops</td>\n",
       "      <td>Retail trade</td>\n",
       "      <td>21.9</td>\n",
       "    </tr>\n",
       "    <tr>\n",
       "      <th>21</th>\n",
       "      <td>stationery, office supplies and printing and w...</td>\n",
       "      <td>Retail trade</td>\n",
       "      <td>21.9</td>\n",
       "    </tr>\n",
       "    <tr>\n",
       "      <th>22</th>\n",
       "      <td>telecom</td>\n",
       "      <td>Information media and telecommunications</td>\n",
       "      <td>16.4</td>\n",
       "    </tr>\n",
       "    <tr>\n",
       "      <th>23</th>\n",
       "      <td>tent and awning shops</td>\n",
       "      <td>Retail trade</td>\n",
       "      <td>21.9</td>\n",
       "    </tr>\n",
       "    <tr>\n",
       "      <th>24</th>\n",
       "      <td>watch, clock, and jewelry repair shops</td>\n",
       "      <td>Other services</td>\n",
       "      <td>2.4</td>\n",
       "    </tr>\n",
       "  </tbody>\n",
       "</table>\n",
       "</div>"
      ],
      "text/plain": [
       "                                        business_area  \\\n",
       "0   antique shops - sales, repairs, and restoratio...   \n",
       "1                           art dealers and galleries   \n",
       "2                       artist supply and craft shops   \n",
       "3                   bicycle shops - sales and service   \n",
       "4                  books, periodicals, and newspapers   \n",
       "5   cable, satellite, and other pay television and...   \n",
       "6   computer programming , data processing, and in...   \n",
       "7   computers, computer peripheral equipment, and ...   \n",
       "8                 digital goods: books, movies, music   \n",
       "9   equipment, tool, furniture, and appliance rent...   \n",
       "10      florists supplies, nursery stock, and flowers   \n",
       "11  furniture, home furnishings and equipment shop...   \n",
       "12            gift, card, novelty, and souvenir shops   \n",
       "13                             health and beauty spas   \n",
       "14                          hobby, toy and game shops   \n",
       "15        jewelry, watch, clock, and silverware shops   \n",
       "16  lawn and garden supply outlets, including nurs...   \n",
       "17               motor vehicle supplies and new parts   \n",
       "18  music shops - musical instruments, pianos, and...   \n",
       "19           opticians, optical goods, and eyeglasses   \n",
       "20                                         shoe shops   \n",
       "21  stationery, office supplies and printing and w...   \n",
       "22                                            telecom   \n",
       "23                              tent and awning shops   \n",
       "24             watch, clock, and jewelry repair shops   \n",
       "\n",
       "                                 business_area_type  \\\n",
       "0                                      Retail trade   \n",
       "1                      Arts and recreation services   \n",
       "2                                      Retail trade   \n",
       "3                                      Retail trade   \n",
       "4                                      Retail trade   \n",
       "5                                      Retail trade   \n",
       "6   Professional, scientific and technical services   \n",
       "7                                      Retail trade   \n",
       "8                                      Retail trade   \n",
       "9                                      Retail trade   \n",
       "10                                     Retail trade   \n",
       "11                                    Manufacturing   \n",
       "12                                     Retail trade   \n",
       "13                                   Other services   \n",
       "14                                     Retail trade   \n",
       "15                                     Retail trade   \n",
       "16                                     Retail trade   \n",
       "17                                     Retail trade   \n",
       "18                                     Retail trade   \n",
       "19                                    Manufacturing   \n",
       "20                                     Retail trade   \n",
       "21                                     Retail trade   \n",
       "22         Information media and telecommunications   \n",
       "23                                     Retail trade   \n",
       "24                                   Other services   \n",
       "\n",
       "    annual_turnover_percentage  \n",
       "0                         21.9  \n",
       "1                         13.3  \n",
       "2                         21.9  \n",
       "3                         21.9  \n",
       "4                         21.9  \n",
       "5                         21.9  \n",
       "6                         11.3  \n",
       "7                         21.9  \n",
       "8                         21.9  \n",
       "9                         21.9  \n",
       "10                        21.9  \n",
       "11                        17.0  \n",
       "12                        21.9  \n",
       "13                         2.4  \n",
       "14                        21.9  \n",
       "15                        21.9  \n",
       "16                        21.9  \n",
       "17                        21.9  \n",
       "18                        21.9  \n",
       "19                        17.0  \n",
       "20                        21.9  \n",
       "21                        21.9  \n",
       "22                        16.4  \n",
       "23                        21.9  \n",
       "24                         2.4  "
      ]
     },
     "execution_count": 23,
     "metadata": {},
     "output_type": "execute_result"
    }
   ],
   "source": [
    "turnover = pd.read_csv('../data/tables/turnover/Business turnover indicator, change in turnover, seasonally adjusted.csv', header=1)\n",
    "turnover = turnover[[\"Unnamed: 0\",\"July 2021 to July 2022 (%)\"]]\n",
    "turnover = turnover.rename(columns={\"Unnamed: 0\": \"business_area_type\", \"July 2021 to July 2022 (%)\": \"annual_turnover_percentage\"})\n",
    "allocation_df = allocation_df.merge(turnover, on=\"business_area_type\", how=\"left\")\n",
    "allocation_df"
   ]
  },
  {
   "cell_type": "code",
   "execution_count": 24,
   "metadata": {},
   "outputs": [],
   "source": [
    "# convert pandas to pyspark dataframe to merge with clean full dataset\n",
    "allocation_sdf=spark.createDataFrame(allocation_df) "
   ]
  },
  {
   "cell_type": "code",
   "execution_count": 25,
   "metadata": {},
   "outputs": [
    {
     "name": "stderr",
     "output_type": "stream",
     "text": [
      "                                                                                \r"
     ]
    },
    {
     "data": {
      "text/html": [
       "<table border='1'>\n",
       "<tr><th>postcode</th><th>user_id</th><th>merchant_abn</th><th>dollar_value</th><th>order_datetime</th><th>name</th><th>business_area</th><th>revenue_level</th><th>take_rate</th><th>consumer_id</th><th>state</th><th>gender</th><th>Median_age_persons</th><th>Median_mortgage_repay_monthly</th><th>Median_tot_prsnl_inc_weekly</th><th>Median_rent_weekly</th><th>Median_tot_fam_inc_weekly</th><th>Average_num_psns_per_bedroom</th><th>Median_tot_hhd_inc_weekly</th><th>Average_household_size</th><th>business_area_type</th><th>annual_turnover_percentage</th></tr>\n",
       "<tr><td>3332</td><td>14</td><td>46804135891</td><td>2.9252535204435226</td><td>2021-06-30</td><td>Suspendisse Dui C...</td><td>opticians, optica...</td><td>c</td><td> 2.93</td><td>1343547</td><td>VIC</td><td>Male</td><td>38</td><td>1733</td><td>797</td><td>350</td><td>2096</td><td>0.8</td><td>1955</td><td>2.9</td><td>Manufacturing</td><td>17.0</td></tr>\n",
       "<tr><td>3332</td><td>14</td><td>48534649627</td><td>15.761621525250176</td><td>2021-06-17</td><td>Dignissim Maecena...</td><td>opticians, optica...</td><td>a</td><td> 6.64</td><td>1343547</td><td>VIC</td><td>Male</td><td>38</td><td>1733</td><td>797</td><td>350</td><td>2096</td><td>0.8</td><td>1955</td><td>2.9</td><td>Manufacturing</td><td>17.0</td></tr>\n",
       "<tr><td>3332</td><td>14</td><td>71674475255</td><td>30.557992256597558</td><td>2021-08-25</td><td>Lacinia Mattis LLC</td><td>opticians, optica...</td><td>b</td><td> 3.81</td><td>1343547</td><td>VIC</td><td>Male</td><td>38</td><td>1733</td><td>797</td><td>350</td><td>2096</td><td>0.8</td><td>1955</td><td>2.9</td><td>Manufacturing</td><td>17.0</td></tr>\n",
       "<tr><td>3332</td><td>14</td><td>60836029312</td><td>214.37223180032697</td><td>2021-07-14</td><td>Montes Nascetur I...</td><td>opticians, optica...</td><td>a</td><td> 6.27</td><td>1343547</td><td>VIC</td><td>Male</td><td>38</td><td>1733</td><td>797</td><td>350</td><td>2096</td><td>0.8</td><td>1955</td><td>2.9</td><td>Manufacturing</td><td>17.0</td></tr>\n",
       "<tr><td>3332</td><td>14</td><td>46804135891</td><td>2.036624571275257</td><td>2021-07-19</td><td>Suspendisse Dui C...</td><td>opticians, optica...</td><td>c</td><td> 2.93</td><td>1343547</td><td>VIC</td><td>Male</td><td>38</td><td>1733</td><td>797</td><td>350</td><td>2096</td><td>0.8</td><td>1955</td><td>2.9</td><td>Manufacturing</td><td>17.0</td></tr>\n",
       "<tr><td>3332</td><td>14</td><td>20240471832</td><td>445.90235109159835</td><td>2021-08-10</td><td>Eu Metus In LLP</td><td>opticians, optica...</td><td>a</td><td> 5.94</td><td>1343547</td><td>VIC</td><td>Male</td><td>38</td><td>1733</td><td>797</td><td>350</td><td>2096</td><td>0.8</td><td>1955</td><td>2.9</td><td>Manufacturing</td><td>17.0</td></tr>\n",
       "<tr><td>3332</td><td>14</td><td>88547577701</td><td>76.34892224617232</td><td>2021-05-09</td><td>Enim Etiam Indust...</td><td>opticians, optica...</td><td>b</td><td> 4.66</td><td>1343547</td><td>VIC</td><td>Male</td><td>38</td><td>1733</td><td>797</td><td>350</td><td>2096</td><td>0.8</td><td>1955</td><td>2.9</td><td>Manufacturing</td><td>17.0</td></tr>\n",
       "<tr><td>3332</td><td>14</td><td>27109170541</td><td>703.0521953965298</td><td>2021-04-26</td><td>Leo Vivamus Assoc...</td><td>opticians, optica...</td><td>b</td><td> 4.23</td><td>1343547</td><td>VIC</td><td>Male</td><td>38</td><td>1733</td><td>797</td><td>350</td><td>2096</td><td>0.8</td><td>1955</td><td>2.9</td><td>Manufacturing</td><td>17.0</td></tr>\n",
       "<tr><td>3332</td><td>14</td><td>46804135891</td><td>54.54952213240426</td><td>2021-12-13</td><td>Suspendisse Dui C...</td><td>opticians, optica...</td><td>c</td><td> 2.93</td><td>1343547</td><td>VIC</td><td>Male</td><td>38</td><td>1733</td><td>797</td><td>350</td><td>2096</td><td>0.8</td><td>1955</td><td>2.9</td><td>Manufacturing</td><td>17.0</td></tr>\n",
       "<tr><td>3332</td><td>14</td><td>79198689842</td><td>276.20226745304706</td><td>2021-12-01</td><td>Donec Luctus Indu...</td><td>opticians, optica...</td><td>d</td><td> 1.13</td><td>1343547</td><td>VIC</td><td>Male</td><td>38</td><td>1733</td><td>797</td><td>350</td><td>2096</td><td>0.8</td><td>1955</td><td>2.9</td><td>Manufacturing</td><td>17.0</td></tr>\n",
       "<tr><td>3332</td><td>14</td><td>30942453214</td><td>140.03657399250977</td><td>2021-12-20</td><td>Justo Nec Associates</td><td>opticians, optica...</td><td>a</td><td> 6.83</td><td>1343547</td><td>VIC</td><td>Male</td><td>38</td><td>1733</td><td>797</td><td>350</td><td>2096</td><td>0.8</td><td>1955</td><td>2.9</td><td>Manufacturing</td><td>17.0</td></tr>\n",
       "<tr><td>3332</td><td>14</td><td>46804135891</td><td>4.291773125428388</td><td>2021-12-29</td><td>Suspendisse Dui C...</td><td>opticians, optica...</td><td>c</td><td> 2.93</td><td>1343547</td><td>VIC</td><td>Male</td><td>38</td><td>1733</td><td>797</td><td>350</td><td>2096</td><td>0.8</td><td>1955</td><td>2.9</td><td>Manufacturing</td><td>17.0</td></tr>\n",
       "<tr><td>3332</td><td>14</td><td>46804135891</td><td>68.02374590287438</td><td>2021-09-17</td><td>Suspendisse Dui C...</td><td>opticians, optica...</td><td>c</td><td> 2.93</td><td>1343547</td><td>VIC</td><td>Male</td><td>38</td><td>1733</td><td>797</td><td>350</td><td>2096</td><td>0.8</td><td>1955</td><td>2.9</td><td>Manufacturing</td><td>17.0</td></tr>\n",
       "<tr><td>3332</td><td>14</td><td>11566786699</td><td>45.55293738199294</td><td>2021-09-25</td><td>Euismod Et Institute</td><td>opticians, optica...</td><td>c</td><td> 2.62</td><td>1343547</td><td>VIC</td><td>Male</td><td>38</td><td>1733</td><td>797</td><td>350</td><td>2096</td><td>0.8</td><td>1955</td><td>2.9</td><td>Manufacturing</td><td>17.0</td></tr>\n",
       "<tr><td>3332</td><td>14</td><td>99938978285</td><td>11.749506554373125</td><td>2021-09-19</td><td>Elit Dictum Eu Ltd</td><td>opticians, optica...</td><td>b</td><td> 4.50</td><td>1343547</td><td>VIC</td><td>Male</td><td>38</td><td>1733</td><td>797</td><td>350</td><td>2096</td><td>0.8</td><td>1955</td><td>2.9</td><td>Manufacturing</td><td>17.0</td></tr>\n",
       "<tr><td>3332</td><td>14</td><td>71674475255</td><td>94.52879610579734</td><td>2021-08-28</td><td>Lacinia Mattis LLC</td><td>opticians, optica...</td><td>b</td><td> 3.81</td><td>1343547</td><td>VIC</td><td>Male</td><td>38</td><td>1733</td><td>797</td><td>350</td><td>2096</td><td>0.8</td><td>1955</td><td>2.9</td><td>Manufacturing</td><td>17.0</td></tr>\n",
       "<tr><td>3332</td><td>14</td><td>41251795489</td><td>9.171567847068186</td><td>2021-12-31</td><td>Ultricies Sem Lim...</td><td>opticians, optica...</td><td>c</td><td> 2.91</td><td>1343547</td><td>VIC</td><td>Male</td><td>38</td><td>1733</td><td>797</td><td>350</td><td>2096</td><td>0.8</td><td>1955</td><td>2.9</td><td>Manufacturing</td><td>17.0</td></tr>\n",
       "<tr><td>3332</td><td>14</td><td>72177236569</td><td>383.250840827057</td><td>2022-02-21</td><td>Elit Pellentesque...</td><td>opticians, optica...</td><td>a</td><td> 5.53</td><td>1343547</td><td>VIC</td><td>Male</td><td>38</td><td>1733</td><td>797</td><td>350</td><td>2096</td><td>0.8</td><td>1955</td><td>2.9</td><td>Manufacturing</td><td>17.0</td></tr>\n",
       "<tr><td>3332</td><td>14</td><td>46804135891</td><td>1.5309088444580956</td><td>2022-02-20</td><td>Suspendisse Dui C...</td><td>opticians, optica...</td><td>c</td><td> 2.93</td><td>1343547</td><td>VIC</td><td>Male</td><td>38</td><td>1733</td><td>797</td><td>350</td><td>2096</td><td>0.8</td><td>1955</td><td>2.9</td><td>Manufacturing</td><td>17.0</td></tr>\n",
       "<tr><td>3332</td><td>14</td><td>48534649627</td><td>96.35028023916583</td><td>2022-01-22</td><td>Dignissim Maecena...</td><td>opticians, optica...</td><td>a</td><td> 6.64</td><td>1343547</td><td>VIC</td><td>Male</td><td>38</td><td>1733</td><td>797</td><td>350</td><td>2096</td><td>0.8</td><td>1955</td><td>2.9</td><td>Manufacturing</td><td>17.0</td></tr>\n",
       "</table>\n",
       "only showing top 20 rows\n"
      ],
      "text/plain": [
       "+--------+-------+------------+------------------+--------------+--------------------+--------------------+-------------+---------+-----------+-----+------+------------------+-----------------------------+---------------------------+------------------+-------------------------+----------------------------+-------------------------+----------------------+------------------+--------------------------+\n",
       "|postcode|user_id|merchant_abn|      dollar_value|order_datetime|                name|       business_area|revenue_level|take_rate|consumer_id|state|gender|Median_age_persons|Median_mortgage_repay_monthly|Median_tot_prsnl_inc_weekly|Median_rent_weekly|Median_tot_fam_inc_weekly|Average_num_psns_per_bedroom|Median_tot_hhd_inc_weekly|Average_household_size|business_area_type|annual_turnover_percentage|\n",
       "+--------+-------+------------+------------------+--------------+--------------------+--------------------+-------------+---------+-----------+-----+------+------------------+-----------------------------+---------------------------+------------------+-------------------------+----------------------------+-------------------------+----------------------+------------------+--------------------------+\n",
       "|    3332|     14| 46804135891|2.9252535204435226|    2021-06-30|Suspendisse Dui C...|opticians, optica...|            c|     2.93|    1343547|  VIC|  Male|                38|                         1733|                        797|               350|                     2096|                         0.8|                     1955|                   2.9|     Manufacturing|                      17.0|\n",
       "|    3332|     14| 48534649627|15.761621525250176|    2021-06-17|Dignissim Maecena...|opticians, optica...|            a|     6.64|    1343547|  VIC|  Male|                38|                         1733|                        797|               350|                     2096|                         0.8|                     1955|                   2.9|     Manufacturing|                      17.0|\n",
       "|    3332|     14| 71674475255|30.557992256597558|    2021-08-25|  Lacinia Mattis LLC|opticians, optica...|            b|     3.81|    1343547|  VIC|  Male|                38|                         1733|                        797|               350|                     2096|                         0.8|                     1955|                   2.9|     Manufacturing|                      17.0|\n",
       "|    3332|     14| 60836029312|214.37223180032697|    2021-07-14|Montes Nascetur I...|opticians, optica...|            a|     6.27|    1343547|  VIC|  Male|                38|                         1733|                        797|               350|                     2096|                         0.8|                     1955|                   2.9|     Manufacturing|                      17.0|\n",
       "|    3332|     14| 46804135891| 2.036624571275257|    2021-07-19|Suspendisse Dui C...|opticians, optica...|            c|     2.93|    1343547|  VIC|  Male|                38|                         1733|                        797|               350|                     2096|                         0.8|                     1955|                   2.9|     Manufacturing|                      17.0|\n",
       "|    3332|     14| 20240471832|445.90235109159835|    2021-08-10|     Eu Metus In LLP|opticians, optica...|            a|     5.94|    1343547|  VIC|  Male|                38|                         1733|                        797|               350|                     2096|                         0.8|                     1955|                   2.9|     Manufacturing|                      17.0|\n",
       "|    3332|     14| 88547577701| 76.34892224617232|    2021-05-09|Enim Etiam Indust...|opticians, optica...|            b|     4.66|    1343547|  VIC|  Male|                38|                         1733|                        797|               350|                     2096|                         0.8|                     1955|                   2.9|     Manufacturing|                      17.0|\n",
       "|    3332|     14| 27109170541| 703.0521953965298|    2021-04-26|Leo Vivamus Assoc...|opticians, optica...|            b|     4.23|    1343547|  VIC|  Male|                38|                         1733|                        797|               350|                     2096|                         0.8|                     1955|                   2.9|     Manufacturing|                      17.0|\n",
       "|    3332|     14| 46804135891| 54.54952213240426|    2021-12-13|Suspendisse Dui C...|opticians, optica...|            c|     2.93|    1343547|  VIC|  Male|                38|                         1733|                        797|               350|                     2096|                         0.8|                     1955|                   2.9|     Manufacturing|                      17.0|\n",
       "|    3332|     14| 79198689842|276.20226745304706|    2021-12-01|Donec Luctus Indu...|opticians, optica...|            d|     1.13|    1343547|  VIC|  Male|                38|                         1733|                        797|               350|                     2096|                         0.8|                     1955|                   2.9|     Manufacturing|                      17.0|\n",
       "|    3332|     14| 30942453214|140.03657399250977|    2021-12-20|Justo Nec Associates|opticians, optica...|            a|     6.83|    1343547|  VIC|  Male|                38|                         1733|                        797|               350|                     2096|                         0.8|                     1955|                   2.9|     Manufacturing|                      17.0|\n",
       "|    3332|     14| 46804135891| 4.291773125428388|    2021-12-29|Suspendisse Dui C...|opticians, optica...|            c|     2.93|    1343547|  VIC|  Male|                38|                         1733|                        797|               350|                     2096|                         0.8|                     1955|                   2.9|     Manufacturing|                      17.0|\n",
       "|    3332|     14| 46804135891| 68.02374590287438|    2021-09-17|Suspendisse Dui C...|opticians, optica...|            c|     2.93|    1343547|  VIC|  Male|                38|                         1733|                        797|               350|                     2096|                         0.8|                     1955|                   2.9|     Manufacturing|                      17.0|\n",
       "|    3332|     14| 11566786699| 45.55293738199294|    2021-09-25|Euismod Et Institute|opticians, optica...|            c|     2.62|    1343547|  VIC|  Male|                38|                         1733|                        797|               350|                     2096|                         0.8|                     1955|                   2.9|     Manufacturing|                      17.0|\n",
       "|    3332|     14| 99938978285|11.749506554373125|    2021-09-19|  Elit Dictum Eu Ltd|opticians, optica...|            b|     4.50|    1343547|  VIC|  Male|                38|                         1733|                        797|               350|                     2096|                         0.8|                     1955|                   2.9|     Manufacturing|                      17.0|\n",
       "|    3332|     14| 71674475255| 94.52879610579734|    2021-08-28|  Lacinia Mattis LLC|opticians, optica...|            b|     3.81|    1343547|  VIC|  Male|                38|                         1733|                        797|               350|                     2096|                         0.8|                     1955|                   2.9|     Manufacturing|                      17.0|\n",
       "|    3332|     14| 41251795489| 9.171567847068186|    2021-12-31|Ultricies Sem Lim...|opticians, optica...|            c|     2.91|    1343547|  VIC|  Male|                38|                         1733|                        797|               350|                     2096|                         0.8|                     1955|                   2.9|     Manufacturing|                      17.0|\n",
       "|    3332|     14| 72177236569|  383.250840827057|    2022-02-21|Elit Pellentesque...|opticians, optica...|            a|     5.53|    1343547|  VIC|  Male|                38|                         1733|                        797|               350|                     2096|                         0.8|                     1955|                   2.9|     Manufacturing|                      17.0|\n",
       "|    3332|     14| 46804135891|1.5309088444580956|    2022-02-20|Suspendisse Dui C...|opticians, optica...|            c|     2.93|    1343547|  VIC|  Male|                38|                         1733|                        797|               350|                     2096|                         0.8|                     1955|                   2.9|     Manufacturing|                      17.0|\n",
       "|    3332|     14| 48534649627| 96.35028023916583|    2022-01-22|Dignissim Maecena...|opticians, optica...|            a|     6.64|    1343547|  VIC|  Male|                38|                         1733|                        797|               350|                     2096|                         0.8|                     1955|                   2.9|     Manufacturing|                      17.0|\n",
       "+--------+-------+------------+------------------+--------------+--------------------+--------------------+-------------+---------+-----------+-----+------+------------------+-----------------------------+---------------------------+------------------+-------------------------+----------------------------+-------------------------+----------------------+------------------+--------------------------+\n",
       "only showing top 20 rows"
      ]
     },
     "execution_count": 25,
     "metadata": {},
     "output_type": "execute_result"
    }
   ],
   "source": [
    "# add the business_area_type into clean_full_dataset\n",
    "clean_full = clean_full.join(allocation_sdf, clean_full.business_area == allocation_sdf.business_area).drop(allocation_sdf.business_area)\n",
    "clean_full"
   ]
  },
  {
   "cell_type": "code",
   "execution_count": 26,
   "metadata": {},
   "outputs": [
    {
     "name": "stderr",
     "output_type": "stream",
     "text": [
      "                                                                                \r"
     ]
    }
   ],
   "source": [
    "# save dataset\n",
    "clean_full.write.mode('overwrite').parquet('../data/curated/clean_full_dataset/')"
   ]
  }
 ],
 "metadata": {
  "kernelspec": {
   "display_name": "Python 3.9.7 ('base')",
   "language": "python",
   "name": "python3"
  },
  "language_info": {
   "codemirror_mode": {
    "name": "ipython",
    "version": 3
   },
   "file_extension": ".py",
   "mimetype": "text/x-python",
   "name": "python",
   "nbconvert_exporter": "python",
   "pygments_lexer": "ipython3",
   "version": "3.9.7"
  },
  "vscode": {
   "interpreter": {
    "hash": "8b547a52226fc5fe22fa6147a895ab8492f18b840e638a9d35222f35938a0abf"
   }
  }
 },
 "nbformat": 4,
 "nbformat_minor": 2
}
