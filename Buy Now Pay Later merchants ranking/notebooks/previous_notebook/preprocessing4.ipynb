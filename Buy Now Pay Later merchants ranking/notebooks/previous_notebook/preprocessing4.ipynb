{
 "cells": [
  {
   "cell_type": "code",
   "execution_count": 1,
   "metadata": {},
   "outputs": [
    {
     "name": "stdout",
     "output_type": "stream",
     "text": [
      "22/09/19 21:57:43 WARN Utils: Your hostname, DESKTOP-B34N4CC resolves to a loopback address: 127.0.1.1; using 172.31.227.197 instead (on interface eth0)\n",
      "22/09/19 21:57:43 WARN Utils: Set SPARK_LOCAL_IP if you need to bind to another address\n"
     ]
    },
    {
     "name": "stderr",
     "output_type": "stream",
     "text": [
      "Setting default log level to \"WARN\".\n",
      "To adjust logging level use sc.setLogLevel(newLevel). For SparkR, use setLogLevel(newLevel).\n"
     ]
    },
    {
     "name": "stdout",
     "output_type": "stream",
     "text": [
      "22/09/19 21:57:45 WARN NativeCodeLoader: Unable to load native-hadoop library for your platform... using builtin-java classes where applicable\n",
      "22/09/19 21:57:45 WARN Utils: Service 'SparkUI' could not bind on port 4040. Attempting port 4041.\n"
     ]
    }
   ],
   "source": [
    "# create modeling spark session\n",
    "from pyspark.sql import SparkSession\n",
    "import pandas as pd\n",
    "\n",
    "spark = (\n",
    "    SparkSession.builder.appName('Project 2 test')\n",
    "    .config('spark.sql.repl.eagerEval.enabled', True) \n",
    "    .config('spark.sql.parquet.cacheMetadata', 'true')\n",
    "    .config(\"spark.sql.session.timeZone\", \"Etc/UTC\")\n",
    "    .config(\"spark.executor.memory\", \"8g\")\n",
    "    .config(\"spark.driver.memory\", \"8g\")\n",
    "    .getOrCreate()\n",
    ")"
   ]
  },
  {
   "cell_type": "code",
   "execution_count": 15,
   "metadata": {},
   "outputs": [
    {
     "data": {
      "text/html": [
       "<table border='1'>\n",
       "<tr><th>postcode</th><th>user_id</th><th>order_datetime</th><th>merchant_abn</th><th>dollar_value</th><th>name</th><th>business_area</th><th>revenue_level</th><th>take_rate</th><th>consumer_id</th><th>state</th><th>gender</th><th>fraud_prob_cons</th><th>Median_age_persons</th><th>Median_mortgage_repay_monthly</th><th>Median_tot_prsnl_inc_weekly</th><th>Median_rent_weekly</th><th>Median_tot_fam_inc_weekly</th><th>Average_num_psns_per_bedroom</th><th>Median_tot_hhd_inc_weekly</th><th>Average_household_size</th><th>business_area_type</th><th>annual_turnover_percentage</th></tr>\n",
       "<tr><td>2452</td><td>16</td><td>2021-08-15</td><td>19054547079</td><td>15.454798263822655</td><td>Tincidunt Adipisc...</td><td>gift, card, novel...</td><td>a</td><td> 6.65</td><td>1356405</td><td>NSW</td><td>Male</td><td>0</td><td>45</td><td>1603</td><td>663</td><td>370</td><td>1582</td><td>0.8</td><td>1260</td><td>2.3</td><td>Retail trade</td><td>21.9</td></tr>\n",
       "<tr><td>1350</td><td>16360</td><td>2022-09-26</td><td>51357574333</td><td>7.056006114773506</td><td>Varius Nam Portti...</td><td>gift, card, novel...</td><td>a</td><td> 5.73</td><td>634985</td><td>NSW</td><td>Male</td><td>0</td><td>null</td><td>null</td><td>null</td><td>null</td><td>null</td><td>null</td><td>null</td><td>null</td><td>Retail trade</td><td>21.9</td></tr>\n",
       "<tr><td>2452</td><td>16</td><td>2021-07-23</td><td>94493496784</td><td>90.16566051874901</td><td>Dictum Phasellus ...</td><td>gift, card, novel...</td><td>a</td><td> 5.65</td><td>1356405</td><td>NSW</td><td>Male</td><td>0</td><td>45</td><td>1603</td><td>663</td><td>370</td><td>1582</td><td>0.8</td><td>1260</td><td>2.3</td><td>Retail trade</td><td>21.9</td></tr>\n",
       "<tr><td>1350</td><td>16360</td><td>2022-09-02</td><td>13285958344</td><td>23.36895181819744</td><td>Purus Gravida Sag...</td><td>gift, card, novel...</td><td>a</td><td> 5.65</td><td>634985</td><td>NSW</td><td>Male</td><td>0</td><td>null</td><td>null</td><td>null</td><td>null</td><td>null</td><td>null</td><td>null</td><td>null</td><td>Retail trade</td><td>21.9</td></tr>\n",
       "<tr><td>2452</td><td>16</td><td>2021-07-23</td><td>40307304965</td><td>46.97194595886435</td><td>Interdum Ltd</td><td>gift, card, novel...</td><td>a</td><td> 6.91</td><td>1356405</td><td>NSW</td><td>Male</td><td>0</td><td>45</td><td>1603</td><td>663</td><td>370</td><td>1582</td><td>0.8</td><td>1260</td><td>2.3</td><td>Retail trade</td><td>21.9</td></tr>\n",
       "<tr><td>1350</td><td>16360</td><td>2022-09-04</td><td>80324045558</td><td>24.41435183520515</td><td>Ipsum Dolor Sit C...</td><td>gift, card, novel...</td><td>c</td><td> 1.47</td><td>634985</td><td>NSW</td><td>Male</td><td>0</td><td>null</td><td>null</td><td>null</td><td>null</td><td>null</td><td>null</td><td>null</td><td>null</td><td>Retail trade</td><td>21.9</td></tr>\n",
       "<tr><td>2452</td><td>16</td><td>2021-07-30</td><td>15269431008</td><td>138.86262214461505</td><td>Nisi Limited</td><td>gift, card, novel...</td><td>a</td><td> 6.48</td><td>1356405</td><td>NSW</td><td>Male</td><td>0</td><td>45</td><td>1603</td><td>663</td><td>370</td><td>1582</td><td>0.8</td><td>1260</td><td>2.3</td><td>Retail trade</td><td>21.9</td></tr>\n",
       "<tr><td>1350</td><td>16360</td><td>2022-07-23</td><td>81219314324</td><td>99.27311013089614</td><td>Faucibus Leo Ltd</td><td>gift, card, novel...</td><td>a</td><td> 6.35</td><td>634985</td><td>NSW</td><td>Male</td><td>0</td><td>null</td><td>null</td><td>null</td><td>null</td><td>null</td><td>null</td><td>null</td><td>null</td><td>Retail trade</td><td>21.9</td></tr>\n",
       "<tr><td>2452</td><td>16</td><td>2021-08-18</td><td>61447419161</td><td>29.973645380372613</td><td>Mollis Dui In LLP</td><td>gift, card, novel...</td><td>c</td><td> 2.06</td><td>1356405</td><td>NSW</td><td>Male</td><td>0</td><td>45</td><td>1603</td><td>663</td><td>370</td><td>1582</td><td>0.8</td><td>1260</td><td>2.3</td><td>Retail trade</td><td>21.9</td></tr>\n",
       "<tr><td>1350</td><td>16360</td><td>2022-10-06</td><td>78042516048</td><td>42.26987612641929</td><td>Est Ac Institute</td><td>gift, card, novel...</td><td>c</td><td> 1.89</td><td>634985</td><td>NSW</td><td>Male</td><td>0</td><td>null</td><td>null</td><td>null</td><td>null</td><td>null</td><td>null</td><td>null</td><td>null</td><td>Retail trade</td><td>21.9</td></tr>\n",
       "<tr><td>2452</td><td>16</td><td>2021-08-25</td><td>92308095254</td><td>142.93634592662625</td><td>Non Lorem LLC</td><td>gift, card, novel...</td><td>a</td><td> 6.53</td><td>1356405</td><td>NSW</td><td>Male</td><td>0</td><td>45</td><td>1603</td><td>663</td><td>370</td><td>1582</td><td>0.8</td><td>1260</td><td>2.3</td><td>Retail trade</td><td>21.9</td></tr>\n",
       "<tr><td>1350</td><td>16360</td><td>2022-06-17</td><td>60956456424</td><td>139.08119612862308</td><td>Ultricies Digniss...</td><td>gift, card, novel...</td><td>b</td><td> 4.69</td><td>634985</td><td>NSW</td><td>Male</td><td>0</td><td>null</td><td>null</td><td>null</td><td>null</td><td>null</td><td>null</td><td>null</td><td>null</td><td>Retail trade</td><td>21.9</td></tr>\n",
       "<tr><td>2452</td><td>16</td><td>2021-05-22</td><td>80324045558</td><td>42.27116726375498</td><td>Ipsum Dolor Sit C...</td><td>gift, card, novel...</td><td>c</td><td> 1.47</td><td>1356405</td><td>NSW</td><td>Male</td><td>0</td><td>45</td><td>1603</td><td>663</td><td>370</td><td>1582</td><td>0.8</td><td>1260</td><td>2.3</td><td>Retail trade</td><td>21.9</td></tr>\n",
       "<tr><td>1350</td><td>16360</td><td>2022-07-19</td><td>79417999332</td><td>71.39697279744786</td><td>Phasellus At Company</td><td>gift, card, novel...</td><td>b</td><td> 4.95</td><td>634985</td><td>NSW</td><td>Male</td><td>0</td><td>null</td><td>null</td><td>null</td><td>null</td><td>null</td><td>null</td><td>null</td><td>null</td><td>Retail trade</td><td>21.9</td></tr>\n",
       "<tr><td>2452</td><td>16</td><td>2021-07-01</td><td>45629217853</td><td>38.10880526867567</td><td>Lacus Consulting</td><td>gift, card, novel...</td><td>a</td><td> 6.98</td><td>1356405</td><td>NSW</td><td>Male</td><td>0</td><td>45</td><td>1603</td><td>663</td><td>370</td><td>1582</td><td>0.8</td><td>1260</td><td>2.3</td><td>Retail trade</td><td>21.9</td></tr>\n",
       "<tr><td>1350</td><td>16360</td><td>2022-06-29</td><td>45629217853</td><td>261.6925896733025</td><td>Lacus Consulting</td><td>gift, card, novel...</td><td>a</td><td> 6.98</td><td>634985</td><td>NSW</td><td>Male</td><td>0</td><td>null</td><td>null</td><td>null</td><td>null</td><td>null</td><td>null</td><td>null</td><td>null</td><td>Retail trade</td><td>21.9</td></tr>\n",
       "<tr><td>2452</td><td>16</td><td>2021-07-20</td><td>60956456424</td><td>80.29112216149423</td><td>Ultricies Digniss...</td><td>gift, card, novel...</td><td>b</td><td> 4.69</td><td>1356405</td><td>NSW</td><td>Male</td><td>0</td><td>45</td><td>1603</td><td>663</td><td>370</td><td>1582</td><td>0.8</td><td>1260</td><td>2.3</td><td>Retail trade</td><td>21.9</td></tr>\n",
       "<tr><td>1350</td><td>16360</td><td>2022-06-05</td><td>83690644458</td><td>39.36415169834851</td><td>Id Erat Etiam Con...</td><td>gift, card, novel...</td><td>b</td><td> 3.15</td><td>634985</td><td>NSW</td><td>Male</td><td>0</td><td>null</td><td>null</td><td>null</td><td>null</td><td>null</td><td>null</td><td>null</td><td>null</td><td>Retail trade</td><td>21.9</td></tr>\n",
       "<tr><td>2452</td><td>16</td><td>2021-08-10</td><td>94493496784</td><td>77.89730907853126</td><td>Dictum Phasellus ...</td><td>gift, card, novel...</td><td>a</td><td> 5.65</td><td>1356405</td><td>NSW</td><td>Male</td><td>0</td><td>45</td><td>1603</td><td>663</td><td>370</td><td>1582</td><td>0.8</td><td>1260</td><td>2.3</td><td>Retail trade</td><td>21.9</td></tr>\n",
       "<tr><td>1350</td><td>16360</td><td>2022-07-20</td><td>61845622676</td><td>51.84388876164761</td><td>Turpis In Incorpo...</td><td>gift, card, novel...</td><td>c</td><td> 2.48</td><td>634985</td><td>NSW</td><td>Male</td><td>0</td><td>null</td><td>null</td><td>null</td><td>null</td><td>null</td><td>null</td><td>null</td><td>null</td><td>Retail trade</td><td>21.9</td></tr>\n",
       "</table>\n",
       "only showing top 20 rows\n"
      ],
      "text/plain": [
       "+--------+-------+--------------+------------+------------------+--------------------+--------------------+-------------+---------+-----------+-----+------+---------------+------------------+-----------------------------+---------------------------+------------------+-------------------------+----------------------------+-------------------------+----------------------+------------------+--------------------------+\n",
       "|postcode|user_id|order_datetime|merchant_abn|      dollar_value|                name|       business_area|revenue_level|take_rate|consumer_id|state|gender|fraud_prob_cons|Median_age_persons|Median_mortgage_repay_monthly|Median_tot_prsnl_inc_weekly|Median_rent_weekly|Median_tot_fam_inc_weekly|Average_num_psns_per_bedroom|Median_tot_hhd_inc_weekly|Average_household_size|business_area_type|annual_turnover_percentage|\n",
       "+--------+-------+--------------+------------+------------------+--------------------+--------------------+-------------+---------+-----------+-----+------+---------------+------------------+-----------------------------+---------------------------+------------------+-------------------------+----------------------------+-------------------------+----------------------+------------------+--------------------------+\n",
       "|    2452|     16|    2021-08-15| 19054547079|15.454798263822655|Tincidunt Adipisc...|gift, card, novel...|            a|     6.65|    1356405|  NSW|  Male|              0|                45|                         1603|                        663|               370|                     1582|                         0.8|                     1260|                   2.3|      Retail trade|                      21.9|\n",
       "|    1350|  16360|    2022-09-26| 51357574333| 7.056006114773506|Varius Nam Portti...|gift, card, novel...|            a|     5.73|     634985|  NSW|  Male|              0|              null|                         null|                       null|              null|                     null|                        null|                     null|                  null|      Retail trade|                      21.9|\n",
       "|    2452|     16|    2021-07-23| 94493496784| 90.16566051874901|Dictum Phasellus ...|gift, card, novel...|            a|     5.65|    1356405|  NSW|  Male|              0|                45|                         1603|                        663|               370|                     1582|                         0.8|                     1260|                   2.3|      Retail trade|                      21.9|\n",
       "|    1350|  16360|    2022-09-02| 13285958344| 23.36895181819744|Purus Gravida Sag...|gift, card, novel...|            a|     5.65|     634985|  NSW|  Male|              0|              null|                         null|                       null|              null|                     null|                        null|                     null|                  null|      Retail trade|                      21.9|\n",
       "|    2452|     16|    2021-07-23| 40307304965| 46.97194595886435|        Interdum Ltd|gift, card, novel...|            a|     6.91|    1356405|  NSW|  Male|              0|                45|                         1603|                        663|               370|                     1582|                         0.8|                     1260|                   2.3|      Retail trade|                      21.9|\n",
       "|    1350|  16360|    2022-09-04| 80324045558| 24.41435183520515|Ipsum Dolor Sit C...|gift, card, novel...|            c|     1.47|     634985|  NSW|  Male|              0|              null|                         null|                       null|              null|                     null|                        null|                     null|                  null|      Retail trade|                      21.9|\n",
       "|    2452|     16|    2021-07-30| 15269431008|138.86262214461505|        Nisi Limited|gift, card, novel...|            a|     6.48|    1356405|  NSW|  Male|              0|                45|                         1603|                        663|               370|                     1582|                         0.8|                     1260|                   2.3|      Retail trade|                      21.9|\n",
       "|    1350|  16360|    2022-07-23| 81219314324| 99.27311013089614|    Faucibus Leo Ltd|gift, card, novel...|            a|     6.35|     634985|  NSW|  Male|              0|              null|                         null|                       null|              null|                     null|                        null|                     null|                  null|      Retail trade|                      21.9|\n",
       "|    2452|     16|    2021-08-18| 61447419161|29.973645380372613|   Mollis Dui In LLP|gift, card, novel...|            c|     2.06|    1356405|  NSW|  Male|              0|                45|                         1603|                        663|               370|                     1582|                         0.8|                     1260|                   2.3|      Retail trade|                      21.9|\n",
       "|    1350|  16360|    2022-10-06| 78042516048| 42.26987612641929|    Est Ac Institute|gift, card, novel...|            c|     1.89|     634985|  NSW|  Male|              0|              null|                         null|                       null|              null|                     null|                        null|                     null|                  null|      Retail trade|                      21.9|\n",
       "|    2452|     16|    2021-08-25| 92308095254|142.93634592662625|       Non Lorem LLC|gift, card, novel...|            a|     6.53|    1356405|  NSW|  Male|              0|                45|                         1603|                        663|               370|                     1582|                         0.8|                     1260|                   2.3|      Retail trade|                      21.9|\n",
       "|    1350|  16360|    2022-06-17| 60956456424|139.08119612862308|Ultricies Digniss...|gift, card, novel...|            b|     4.69|     634985|  NSW|  Male|              0|              null|                         null|                       null|              null|                     null|                        null|                     null|                  null|      Retail trade|                      21.9|\n",
       "|    2452|     16|    2021-05-22| 80324045558| 42.27116726375498|Ipsum Dolor Sit C...|gift, card, novel...|            c|     1.47|    1356405|  NSW|  Male|              0|                45|                         1603|                        663|               370|                     1582|                         0.8|                     1260|                   2.3|      Retail trade|                      21.9|\n",
       "|    1350|  16360|    2022-07-19| 79417999332| 71.39697279744786|Phasellus At Company|gift, card, novel...|            b|     4.95|     634985|  NSW|  Male|              0|              null|                         null|                       null|              null|                     null|                        null|                     null|                  null|      Retail trade|                      21.9|\n",
       "|    2452|     16|    2021-07-01| 45629217853| 38.10880526867567|    Lacus Consulting|gift, card, novel...|            a|     6.98|    1356405|  NSW|  Male|              0|                45|                         1603|                        663|               370|                     1582|                         0.8|                     1260|                   2.3|      Retail trade|                      21.9|\n",
       "|    1350|  16360|    2022-06-29| 45629217853| 261.6925896733025|    Lacus Consulting|gift, card, novel...|            a|     6.98|     634985|  NSW|  Male|              0|              null|                         null|                       null|              null|                     null|                        null|                     null|                  null|      Retail trade|                      21.9|\n",
       "|    2452|     16|    2021-07-20| 60956456424| 80.29112216149423|Ultricies Digniss...|gift, card, novel...|            b|     4.69|    1356405|  NSW|  Male|              0|                45|                         1603|                        663|               370|                     1582|                         0.8|                     1260|                   2.3|      Retail trade|                      21.9|\n",
       "|    1350|  16360|    2022-06-05| 83690644458| 39.36415169834851|Id Erat Etiam Con...|gift, card, novel...|            b|     3.15|     634985|  NSW|  Male|              0|              null|                         null|                       null|              null|                     null|                        null|                     null|                  null|      Retail trade|                      21.9|\n",
       "|    2452|     16|    2021-08-10| 94493496784| 77.89730907853126|Dictum Phasellus ...|gift, card, novel...|            a|     5.65|    1356405|  NSW|  Male|              0|                45|                         1603|                        663|               370|                     1582|                         0.8|                     1260|                   2.3|      Retail trade|                      21.9|\n",
       "|    1350|  16360|    2022-07-20| 61845622676| 51.84388876164761|Turpis In Incorpo...|gift, card, novel...|            c|     2.48|     634985|  NSW|  Male|              0|              null|                         null|                       null|              null|                     null|                        null|                     null|                  null|      Retail trade|                      21.9|\n",
       "+--------+-------+--------------+------------+------------------+--------------------+--------------------+-------------+---------+-----------+-----+------+---------------+------------------+-----------------------------+---------------------------+------------------+-------------------------+----------------------------+-------------------------+----------------------+------------------+--------------------------+\n",
       "only showing top 20 rows"
      ]
     },
     "execution_count": 15,
     "metadata": {},
     "output_type": "execute_result"
    }
   ],
   "source": [
    "full_data = spark.read.parquet(\"../data/curated/clean_full_dataset/\")\n",
    "full_data"
   ]
  },
  {
   "cell_type": "markdown",
   "metadata": {},
   "source": [
    "Calclate the increase rate based on "
   ]
  },
  {
   "cell_type": "code",
   "execution_count": 17,
   "metadata": {},
   "outputs": [
    {
     "data": {
      "text/html": [
       "<table border='1'>\n",
       "<tr><th>merchant_abn</th><th>annual_turnover_percentage</th><th>sum(dollar_value)</th></tr>\n",
       "<tr><td>41827752591</td><td>21.9</td><td>249767.87579002194</td></tr>\n",
       "<tr><td>15582655078</td><td>21.9</td><td>487536.97172615083</td></tr>\n",
       "<tr><td>12031655138</td><td>21.9</td><td>17143.149397947047</td></tr>\n",
       "<tr><td>52242018594</td><td>21.9</td><td>565628.6160352371</td></tr>\n",
       "<tr><td>75393511037</td><td>21.9</td><td>23819.65394589608</td></tr>\n",
       "<tr><td>64196096120</td><td>21.9</td><td>18475.76616392967</td></tr>\n",
       "<tr><td>90967287254</td><td>21.9</td><td>19276.725765407467</td></tr>\n",
       "<tr><td>41697741069</td><td>21.9</td><td>24256.269424109927</td></tr>\n",
       "<tr><td>32361057556</td><td>21.9</td><td>9434202.66476041</td></tr>\n",
       "<tr><td>40575200651</td><td>21.9</td><td>93276.30017979447</td></tr>\n",
       "<tr><td>81454203401</td><td>21.9</td><td>49216.80149470072</td></tr>\n",
       "<tr><td>13565102775</td><td>21.9</td><td>929803.4779506875</td></tr>\n",
       "<tr><td>45648966421</td><td>21.9</td><td>126087.64022639596</td></tr>\n",
       "<tr><td>33388024878</td><td>21.9</td><td>46679.06769035528</td></tr>\n",
       "<tr><td>54429225092</td><td>21.9</td><td>178497.91145376975</td></tr>\n",
       "<tr><td>24769745549</td><td>21.9</td><td>154754.55901709333</td></tr>\n",
       "<tr><td>19687751331</td><td>21.9</td><td>13882.86133502618</td></tr>\n",
       "<tr><td>38664088375</td><td>21.9</td><td>41667.165131066045</td></tr>\n",
       "<tr><td>69107197788</td><td>21.9</td><td>15459.551730509453</td></tr>\n",
       "<tr><td>10995883576</td><td>21.9</td><td>33822.32423916838</td></tr>\n",
       "</table>\n",
       "only showing top 20 rows\n"
      ],
      "text/plain": [
       "+------------+--------------------------+------------------+\n",
       "|merchant_abn|annual_turnover_percentage| sum(dollar_value)|\n",
       "+------------+--------------------------+------------------+\n",
       "| 41827752591|                      21.9|249767.87579002194|\n",
       "| 15582655078|                      21.9|487536.97172615083|\n",
       "| 12031655138|                      21.9|17143.149397947047|\n",
       "| 52242018594|                      21.9| 565628.6160352371|\n",
       "| 75393511037|                      21.9| 23819.65394589608|\n",
       "| 64196096120|                      21.9| 18475.76616392967|\n",
       "| 90967287254|                      21.9|19276.725765407467|\n",
       "| 41697741069|                      21.9|24256.269424109927|\n",
       "| 32361057556|                      21.9|  9434202.66476041|\n",
       "| 40575200651|                      21.9| 93276.30017979447|\n",
       "| 81454203401|                      21.9| 49216.80149470072|\n",
       "| 13565102775|                      21.9| 929803.4779506875|\n",
       "| 45648966421|                      21.9|126087.64022639596|\n",
       "| 33388024878|                      21.9| 46679.06769035528|\n",
       "| 54429225092|                      21.9|178497.91145376975|\n",
       "| 24769745549|                      21.9|154754.55901709333|\n",
       "| 19687751331|                      21.9| 13882.86133502618|\n",
       "| 38664088375|                      21.9|41667.165131066045|\n",
       "| 69107197788|                      21.9|15459.551730509453|\n",
       "| 10995883576|                      21.9| 33822.32423916838|\n",
       "+------------+--------------------------+------------------+\n",
       "only showing top 20 rows"
      ]
     },
     "execution_count": 17,
     "metadata": {},
     "output_type": "execute_result"
    }
   ],
   "source": [
    "selected = full_data.select(\"merchant_abn\", \"dollar_value\", \"annual_turnover_percentage\")\n",
    "selected = selected.groupBy([\"merchant_abn\",\"annual_turnover_percentage\"]).sum(\"dollar_value\")\n",
    "selected"
   ]
  }
 ],
 "metadata": {
  "kernelspec": {
   "display_name": "Python 3.8.9 64-bit",
   "language": "python",
   "name": "python3"
  },
  "language_info": {
   "codemirror_mode": {
    "name": "ipython",
    "version": 3
   },
   "file_extension": ".py",
   "mimetype": "text/x-python",
   "name": "python",
   "nbconvert_exporter": "python",
   "pygments_lexer": "ipython3",
   "version": "3.8.9"
  },
  "orig_nbformat": 4,
  "vscode": {
   "interpreter": {
    "hash": "31f2aee4e71d21fbe5cf8b01ff0e069b9275f58929596ceb00d14d90e3e16cd6"
   }
  }
 },
 "nbformat": 4,
 "nbformat_minor": 2
}
