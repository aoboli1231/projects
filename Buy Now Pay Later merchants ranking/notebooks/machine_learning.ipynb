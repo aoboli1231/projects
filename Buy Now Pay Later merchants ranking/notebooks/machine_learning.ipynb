{
 "cells": [
  {
   "cell_type": "code",
   "execution_count": 30,
   "metadata": {},
   "outputs": [],
   "source": [
    "import pandas as pd\n",
    "import numpy as np\n",
    "import re\n",
    "import matplotlib.pyplot as plt\n",
    "import os\n",
    "from sklearn.svm import SVR\n",
    "from sklearn.linear_model import Ridge\n",
    "from sklearn.pipeline import make_pipeline\n",
    "from sklearn.preprocessing import StandardScaler\n",
    "from sklearn.model_selection import cross_val_score"
   ]
  },
  {
   "cell_type": "code",
   "execution_count": 2,
   "metadata": {},
   "outputs": [],
   "source": [
    "consumer_user_details = pd.read_parquet(\"../data/tables/consumer_user_details.parquet\")\n",
    "tbl_merchants = pd.read_parquet(\"../data/tables/tbl_merchants.parquet\")\n",
    "consumer_fraud_probability = pd.read_csv(\"../data/tables/consumer_fraud_probability.csv\")\n",
    "merchant_fraud_probability = pd.read_csv(\"../data/tables/merchant_fraud_probability.csv\")\n",
    "tbl_consumer = pd.read_csv(\"../data/tables/tbl_consumer.csv\",sep=\"|\")"
   ]
  },
  {
   "cell_type": "code",
   "execution_count": 3,
   "metadata": {},
   "outputs": [],
   "source": [
    "def tags_process(s):\n",
    "    s2 = re.sub(\"[\\(\\)\\[\\]]\",\"###\",s)\n",
    "    s3lst = re.findall(\"###[^#]+###\",s2)\n",
    "    s3lst = [_s[3:-3] for _s in s3lst]\n",
    "    return s3lst"
   ]
  },
  {
   "cell_type": "code",
   "execution_count": 4,
   "metadata": {},
   "outputs": [],
   "source": [
    "tbl_merchants['tags_proed'] = tbl_merchants['tags'].apply(tags_process)\n",
    "_cols = ['business_area','revenue_level','take_rate']\n",
    "for i in range(3):\n",
    "    tbl_merchants[_cols[i]] = tbl_merchants['tags_proed'].apply(lambda _x: _x[i])\n",
    "tbl_merchants['take_rate'] = tbl_merchants['take_rate'].str[-4:].astype(float)\n",
    "tbl_merchants.reset_index(inplace=True)"
   ]
  },
  {
   "cell_type": "code",
   "execution_count": 5,
   "metadata": {},
   "outputs": [],
   "source": [
    "merchant_df = pd.merge(\n",
    "    merchant_fraud_probability,\n",
    "    tbl_merchants[['merchant_abn','business_area','revenue_level','take_rate']]\n",
    ")\n",
    "merchant_df['business_area'] = merchant_df['business_area'].apply(lambda _s: re.sub(\"\\s\",\"\",_s.lower()))\n",
    "merchant_df.to_parquet(\"../data/tables/merchant_df.parquet\")"
   ]
  },
  {
   "cell_type": "code",
   "execution_count": 6,
   "metadata": {},
   "outputs": [],
   "source": [
    "root_dir = \"../data/tables/transactions_20210228_20210827_snapshot\"\n",
    "trans_df = pd.DataFrame()\n",
    "for fs in os.listdir(root_dir):\n",
    "    folder_dir = root_dir + \"/\" + fs\n",
    "    try:\n",
    "        temp_df = pd.read_parquet(folder_dir +\"/\" + os.listdir(folder_dir)[1])[\n",
    "            ['user_id','merchant_abn','dollar_value']\n",
    "        ]\n",
    "    except NotADirectoryError:\n",
    "        continue\n",
    "    temp_df['date'] = fs[-10:]\n",
    "    trans_df = pd.concat([trans_df,temp_df])\n",
    "trans_df.to_parquet(root_dir + \"/\" + \"20210228_20210827.parquet\")"
   ]
  },
  {
   "cell_type": "code",
   "execution_count": 7,
   "metadata": {},
   "outputs": [],
   "source": [
    "root_dir = \"../data/tables/transactions_20210828_20220227_snapshot\"\n",
    "trans_df = pd.DataFrame()\n",
    "for fs in os.listdir(root_dir):\n",
    "    folder_dir = root_dir + \"/\" + fs\n",
    "    try:\n",
    "        temp_df = pd.read_parquet(folder_dir +\"/\" + os.listdir(folder_dir)[1])[\n",
    "            ['user_id','merchant_abn','dollar_value']\n",
    "        ]\n",
    "    except NotADirectoryError:\n",
    "        continue\n",
    "    temp_df['date'] = fs[-10:]\n",
    "    trans_df = pd.concat([trans_df,temp_df])\n",
    "trans_df.to_parquet(root_dir + \"/\" + \"20210828_20220227.parquet\")"
   ]
  },
  {
   "cell_type": "code",
   "execution_count": 8,
   "metadata": {},
   "outputs": [],
   "source": [
    "trans_df = pd.concat([\n",
    "    pd.read_parquet(\"../data/tables/transactions_20210228_20210827_snapshot/20210228_20210827.parquet\"),\n",
    "    pd.read_parquet(\"../data/tables/transactions_20210828_20220227_snapshot/20210828_20220227.parquet\")])"
   ]
  },
  {
   "cell_type": "code",
   "execution_count": 9,
   "metadata": {},
   "outputs": [],
   "source": [
    "merchant_merged_df = pd.merge(\n",
    "    trans_df,\n",
    "    merchant_df,\n",
    "    left_on=[\"merchant_abn\",\"date\"],\n",
    "    right_on=[\"merchant_abn\",\"order_datetime\"],\n",
    "    how=\"inner\"\n",
    ")"
   ]
  },
  {
   "cell_type": "code",
   "execution_count": 10,
   "metadata": {},
   "outputs": [],
   "source": [
    "merchant_train_df = merchant_merged_df[['fraud_probability','dollar_value','take_rate']]\n",
    "merchant_train_df = pd.concat([\n",
    "    merchant_train_df,\n",
    "    pd.get_dummies(merchant_merged_df['business_area'])],1)\n",
    "merchant_train_df = pd.concat([\n",
    "    merchant_train_df,\n",
    "    pd.get_dummies(merchant_merged_df['merchant_abn'])],1)\n",
    "merchant_train_df = pd.concat([\n",
    "    merchant_train_df,\n",
    "    pd.get_dummies(merchant_merged_df['revenue_level'])],1)\n",
    "\n",
    "merchant_X = merchant_train_df.iloc[:,1:].values\n",
    "merchant_y = merchant_train_df.iloc[:,0].values"
   ]
  },
  {
   "cell_type": "code",
   "execution_count": 12,
   "metadata": {},
   "outputs": [],
   "source": [
    "# merchant_cv_score_lst = []\n",
    "# merchant_params_lst = []\n",
    "\n",
    "# for C in [0.1,1.0,5.0]:\n",
    "#     for epsilon in [0.0,0.1,0.2]:\n",
    "#         regr = make_pipeline(StandardScaler(), SVR(C=C, epsilon=epsilon))\n",
    "#         merchant_cv_score_lst.append(cross_val_score(regr, merchant_X, merchant_y, cv=5))\n",
    "#         merchant_params_lst.append((C,epsilon))"
   ]
  },
  {
   "cell_type": "code",
   "execution_count": null,
   "metadata": {},
   "outputs": [],
   "source": [
    "np.mean(np.asarray(merchant_cv_score_lst),1)"
   ]
  },
  {
   "cell_type": "code",
   "execution_count": null,
   "metadata": {},
   "outputs": [],
   "source": [
    "merchant_params_lst[np.argmax(np.mean(np.asarray(merchant_cv_score_lst),1))]"
   ]
  },
  {
   "cell_type": "code",
   "execution_count": null,
   "metadata": {},
   "outputs": [],
   "source": [
    "# That's, C = 0.1 and epsilon = 0.2 gives the best result."
   ]
  },
  {
   "cell_type": "code",
   "execution_count": 13,
   "metadata": {},
   "outputs": [],
   "source": [
    "consumer_df = pd.merge(\n",
    "    tbl_consumer,\n",
    "    consumer_user_details,\n",
    "    on=\"consumer_id\",\n",
    "    how=\"inner\"\n",
    ")\n",
    "consumer_df = pd.merge(\n",
    "    consumer_df,\n",
    "    consumer_fraud_probability,\n",
    "    on=\"user_id\",\n",
    "    how=\"inner\"\n",
    ")"
   ]
  },
  {
   "cell_type": "code",
   "execution_count": 14,
   "metadata": {},
   "outputs": [],
   "source": [
    "consumer_merged_df = pd.merge(\n",
    "    trans_df,\n",
    "    consumer_df,\n",
    "    left_on=[\"user_id\",\"date\"],\n",
    "    right_on=[\"user_id\",\"order_datetime\"],\n",
    "    how=\"inner\"\n",
    ")"
   ]
  },
  {
   "cell_type": "code",
   "execution_count": 15,
   "metadata": {},
   "outputs": [],
   "source": [
    "consumer_train_df = consumer_merged_df[['fraud_probability','dollar_value']]\n",
    "consumer_train_df = pd.concat([\n",
    "    consumer_train_df,\n",
    "    pd.get_dummies(consumer_merged_df['state'])],1)\n",
    "consumer_train_df = pd.concat([\n",
    "    consumer_train_df,\n",
    "    pd.get_dummies(consumer_merged_df['gender'])],1)"
   ]
  },
  {
   "cell_type": "code",
   "execution_count": 16,
   "metadata": {},
   "outputs": [],
   "source": [
    "consumer_X = consumer_train_df.iloc[:,1:].values\n",
    "consumer_y = consumer_train_df.iloc[:,0].values"
   ]
  },
  {
   "cell_type": "code",
   "execution_count": null,
   "metadata": {},
   "outputs": [],
   "source": []
  },
  {
   "cell_type": "code",
   "execution_count": null,
   "metadata": {},
   "outputs": [],
   "source": [
    "consumer_cv_score_lst = []\n",
    "consumer_params_lst = []\n",
    "for alpha in [0.1,1,10]:\n",
    "    regr = make_pipeline(StandardScaler(), Ridge(alpha=alpha))\n",
    "    consumer_cv_score_lst.append(cross_val_score(regr, consumer_X, consumer_y, cv=5, n_jobs=-1))\n",
    "    consumer_params_lst.append(alpha)"
   ]
  },
  {
   "cell_type": "code",
   "execution_count": null,
   "metadata": {},
   "outputs": [],
   "source": [
    "np.mean(np.asarray(consumer_cv_score_lst),1)"
   ]
  },
  {
   "cell_type": "code",
   "execution_count": null,
   "metadata": {},
   "outputs": [],
   "source": [
    "consumer_params_lst[np.argmax(np.mean(np.asarray(consumer_cv_score_lst),1))]"
   ]
  },
  {
   "cell_type": "code",
   "execution_count": null,
   "metadata": {},
   "outputs": [],
   "source": [
    "# That is, alpha = 10 gives the best result"
   ]
  },
  {
   "cell_type": "code",
   "execution_count": null,
   "metadata": {},
   "outputs": [],
   "source": [
    "root_dir = \"../data/tables/transactions_20220228_20220828_snapshot\"\n",
    "trans_df_test = pd.DataFrame()\n",
    "for fs in os.listdir(root_dir):\n",
    "    folder_dir = root_dir + \"/\" + fs\n",
    "    try:\n",
    "        \n",
    "        temp_df = pd.read_parquet(folder_dir +\"/\" + np.sort(os.listdir(folder_dir))[-1])[\n",
    "            ['user_id','merchant_abn','dollar_value']\n",
    "        ]\n",
    "    except NotADirectoryError:\n",
    "        continue\n",
    "    temp_df['date'] = fs[-10:]\n",
    "    trans_df_test = pd.concat([trans_df_test,temp_df])\n",
    "trans_df_test.to_parquet(root_dir + \"/\" + \"20220228_20220828.parquet\")"
   ]
  },
  {
   "cell_type": "code",
   "execution_count": 21,
   "metadata": {},
   "outputs": [],
   "source": [
    "root_dir = \"../data/tables/transactions_20220228_20220828_snapshot\"\n",
    "trans_df_test = pd.read_parquet(root_dir + \"/\" + \"20220228_20220828.parquet\")"
   ]
  },
  {
   "cell_type": "code",
   "execution_count": 22,
   "metadata": {},
   "outputs": [],
   "source": [
    "merchant_merged_df_test = pd.merge(\n",
    "    trans_df_test,\n",
    "    merchant_df,\n",
    "    left_on=[\"merchant_abn\"],\n",
    "    right_on=[\"merchant_abn\"],\n",
    "    how=\"inner\"\n",
    ")"
   ]
  },
  {
   "cell_type": "code",
   "execution_count": 23,
   "metadata": {},
   "outputs": [],
   "source": [
    "merchant_train_df = merchant_merged_df[['fraud_probability','dollar_value','take_rate']]\n",
    "merchant_train_df = pd.concat([\n",
    "    merchant_train_df,\n",
    "    pd.get_dummies(merchant_merged_df['business_area'])],1)\n",
    "merchant_train_df = pd.concat([\n",
    "    merchant_train_df,\n",
    "    pd.get_dummies(merchant_merged_df['revenue_level'])],1)\n",
    "\n",
    "merchant_X = merchant_train_df.iloc[:,1:].values\n",
    "merchant_y = merchant_train_df.iloc[:,0].values"
   ]
  },
  {
   "cell_type": "code",
   "execution_count": 24,
   "metadata": {},
   "outputs": [],
   "source": [
    "merchant_test_df = merchant_merged_df_test[['dollar_value','take_rate']]\n",
    "merchant_test_df = pd.concat([\n",
    "    merchant_test_df,\n",
    "    pd.get_dummies(merchant_merged_df_test['business_area'])],1)\n",
    "merchant_test_df = pd.concat([\n",
    "    merchant_test_df,\n",
    "    pd.get_dummies(merchant_merged_df_test['revenue_level'])],1)\n",
    "merchant_X_test = merchant_test_df.values"
   ]
  },
  {
   "cell_type": "code",
   "execution_count": 42,
   "metadata": {},
   "outputs": [
    {
     "name": "stdout",
     "output_type": "stream",
     "text": [
      "training finished\n",
      "prediction finished\n"
     ]
    }
   ],
   "source": [
    "regr = make_pipeline(StandardScaler(), SVR(C=0.1, epsilon=0.2))\n",
    "regr.fit(merchant_X, merchant_y)\n",
    "print(\"training finished\")\n",
    "merchant_y_pred = regr.predict(merchant_X_test)\n",
    "print(\"prediction finished\")"
   ]
  },
  {
   "cell_type": "code",
   "execution_count": 43,
   "metadata": {},
   "outputs": [
    {
     "name": "stdout",
     "output_type": "stream",
     "text": [
      "merchant\n",
      "Accuracy on Training DataSet: 98.08%\n"
     ]
    }
   ],
   "source": [
    "y_pred = np.sign(regr.predict(merchant_X) - 50)\n",
    "y_real = np.sign(merchant_y - 50)\n",
    "print(\"merchant\")\n",
    "print(\"Accuracy on Training DataSet: %.2f%%\" %((y_pred == y_real).sum() / y_pred.shape[0] * 100))"
   ]
  },
  {
   "cell_type": "code",
   "execution_count": 26,
   "metadata": {},
   "outputs": [],
   "source": [
    "consumer_merged_df_test = pd.merge(\n",
    "    trans_df_test,\n",
    "    consumer_df,\n",
    "    left_on=[\"user_id\"],\n",
    "    right_on=[\"user_id\"],\n",
    "    how=\"inner\"\n",
    ")"
   ]
  },
  {
   "cell_type": "code",
   "execution_count": 27,
   "metadata": {},
   "outputs": [],
   "source": [
    "consumer_test_df = consumer_merged_df_test[['dollar_value']]\n",
    "consumer_test_df = pd.concat([\n",
    "    consumer_test_df,\n",
    "    pd.get_dummies(consumer_merged_df_test['state'])],1)\n",
    "consumer_test_df = pd.concat([\n",
    "    consumer_test_df,\n",
    "    pd.get_dummies(consumer_merged_df_test['gender'])],1)"
   ]
  },
  {
   "cell_type": "code",
   "execution_count": 28,
   "metadata": {},
   "outputs": [],
   "source": [
    "consumer_X_test = consumer_test_df.values"
   ]
  },
  {
   "cell_type": "code",
   "execution_count": 31,
   "metadata": {},
   "outputs": [
    {
     "name": "stdout",
     "output_type": "stream",
     "text": [
      "training finished\n",
      "prediction finished\n"
     ]
    }
   ],
   "source": [
    "regr = make_pipeline(StandardScaler(), Ridge(alpha=10))\n",
    "regr.fit(consumer_X, consumer_y)\n",
    "print(\"training finished\")\n",
    "consumer_y_pred = regr.predict(consumer_X_test)\n",
    "print(\"prediction finished\")"
   ]
  },
  {
   "cell_type": "code",
   "execution_count": 41,
   "metadata": {},
   "outputs": [
    {
     "name": "stdout",
     "output_type": "stream",
     "text": [
      "consumer\n",
      "Accuracy on Training DataSet: 98.41%\n"
     ]
    }
   ],
   "source": [
    "y_pred = np.sign(regr.predict(consumer_X) - 50)\n",
    "y_real = np.sign(consumer_y - 50)\n",
    "print(\"consumer\")\n",
    "print(\"Accuracy on Training DataSet: %.2f%%\" %((y_pred == y_real).sum() / y_pred.shape[0] * 100))"
   ]
  },
  {
   "cell_type": "code",
   "execution_count": null,
   "metadata": {},
   "outputs": [],
   "source": []
  }
 ],
 "metadata": {
  "kernelspec": {
   "display_name": "Python 3 (ipykernel)",
   "language": "python",
   "name": "python3"
  },
  "language_info": {
   "codemirror_mode": {
    "name": "ipython",
    "version": 3
   },
   "file_extension": ".py",
   "mimetype": "text/x-python",
   "name": "python",
   "nbconvert_exporter": "python",
   "pygments_lexer": "ipython3",
   "version": "3.8.5"
  }
 },
 "nbformat": 4,
 "nbformat_minor": 4
}
