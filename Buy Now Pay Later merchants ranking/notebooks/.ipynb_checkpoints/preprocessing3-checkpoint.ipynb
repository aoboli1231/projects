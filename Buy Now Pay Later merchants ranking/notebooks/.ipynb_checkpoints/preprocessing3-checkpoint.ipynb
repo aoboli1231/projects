{
 "cells": [
  {
   "cell_type": "markdown",
   "metadata": {},
   "source": [
    "## Buy Now, Pay Later Project\n",
    "### MAST30034: Applied Data Science \n",
    "#### Notebook 2: Preprocessing Data 2: Data Aggregation"
   ]
  },
  {
   "cell_type": "code",
   "execution_count": 2,
   "metadata": {},
   "outputs": [],
   "source": [
    "# create modeling spark session\n",
    "from pyspark.sql import SparkSession\n",
    "import pandas as pd\n",
    "\n",
    "spark = (\n",
    "    SparkSession.builder.appName('Project 2 test')\n",
    "    .config('spark.sql.repl.eagerEval.enabled', True) \n",
    "    .config('spark.sql.parquet.cacheMetadata', 'true')\n",
    "    .config(\"spark.sql.session.timeZone\", \"Etc/UTC\")\n",
    "    .config(\"spark.executor.memory\", \"8g\")\n",
    "    .config(\"spark.driver.memory\", \"8g\")\n",
    "    .getOrCreate()\n",
    ")"
   ]
  },
  {
   "cell_type": "code",
   "execution_count": 3,
   "metadata": {},
   "outputs": [
    {
     "data": {
      "text/html": [
       "<table border='1'>\n",
       "<tr><th>postcode</th><th>user_id</th><th>merchant_abn</th><th>dollar_value</th><th>order_datetime</th><th>name</th><th>business_area</th><th>revenue_level</th><th>take_rate</th><th>consumer_id</th><th>state</th><th>gender</th><th>Median_age_persons</th><th>Median_mortgage_repay_monthly</th><th>Median_tot_prsnl_inc_weekly</th><th>Median_rent_weekly</th><th>Median_tot_fam_inc_weekly</th><th>Average_num_psns_per_bedroom</th><th>Median_tot_hhd_inc_weekly</th><th>Average_household_size</th><th>business_area_type</th></tr>\n",
       "<tr><td>3332</td><td>14</td><td>68004106739</td><td>35.066583865041444</td><td>2021-08-08</td><td>Nec Ante Ltd</td><td>cable, satellite,...</td><td>a</td><td> 5.61</td><td>1343547</td><td>VIC</td><td>Male</td><td>38</td><td>1733</td><td>797</td><td>350</td><td>2096</td><td>0.8</td><td>1955</td><td>2.9</td><td>Retail_trade</td></tr>\n",
       "<tr><td>3432</td><td>4943</td><td>67609108741</td><td>87.09715299772967</td><td>2022-03-05</td><td>Metus Sit Amet In...</td><td>cable, satellite,...</td><td>e</td><td> 0.38</td><td>533495</td><td>VIC</td><td>Male</td><td>51</td><td>2000</td><td>791</td><td>550</td><td>2374</td><td>0.8</td><td>1792</td><td>2.7</td><td>Retail_trade</td></tr>\n",
       "<tr><td>3332</td><td>14</td><td>70052129860</td><td>10.624562993647425</td><td>2021-07-25</td><td>Donec Tempus Lore...</td><td>cable, satellite,...</td><td>b</td><td> 3.37</td><td>1343547</td><td>VIC</td><td>Male</td><td>38</td><td>1733</td><td>797</td><td>350</td><td>2096</td><td>0.8</td><td>1955</td><td>2.9</td><td>Retail_trade</td></tr>\n",
       "<tr><td>3432</td><td>4943</td><td>19237425345</td><td>36.91374841278192</td><td>2022-03-08</td><td>A Scelerisque Ass...</td><td>cable, satellite,...</td><td>c</td><td> 2.04</td><td>533495</td><td>VIC</td><td>Male</td><td>51</td><td>2000</td><td>791</td><td>550</td><td>2374</td><td>0.8</td><td>1792</td><td>2.7</td><td>Retail_trade</td></tr>\n",
       "<tr><td>3332</td><td>14</td><td>79645157255</td><td>21.838580731119894</td><td>2021-04-16</td><td>Consectetuer Maur...</td><td>cable, satellite,...</td><td>a</td><td> 6.46</td><td>1343547</td><td>VIC</td><td>Male</td><td>38</td><td>1733</td><td>797</td><td>350</td><td>2096</td><td>0.8</td><td>1955</td><td>2.9</td><td>Retail_trade</td></tr>\n",
       "<tr><td>3432</td><td>4943</td><td>67979471799</td><td>9.354001353615072</td><td>2022-03-16</td><td>Laoreet Ipsum Corp.</td><td>cable, satellite,...</td><td>d</td><td> 1.04</td><td>533495</td><td>VIC</td><td>Male</td><td>51</td><td>2000</td><td>791</td><td>550</td><td>2374</td><td>0.8</td><td>1792</td><td>2.7</td><td>Retail_trade</td></tr>\n",
       "<tr><td>3332</td><td>14</td><td>21439773999</td><td>57.50723650600155</td><td>2021-06-01</td><td>Mauris Non Institute</td><td>cable, satellite,...</td><td>a</td><td> 6.10</td><td>1343547</td><td>VIC</td><td>Male</td><td>38</td><td>1733</td><td>797</td><td>350</td><td>2096</td><td>0.8</td><td>1955</td><td>2.9</td><td>Retail_trade</td></tr>\n",
       "<tr><td>3432</td><td>4943</td><td>68501926042</td><td>72.64904714060505</td><td>2022-03-23</td><td>Dolor Corp.</td><td>cable, satellite,...</td><td>a</td><td> 5.78</td><td>533495</td><td>VIC</td><td>Male</td><td>51</td><td>2000</td><td>791</td><td>550</td><td>2374</td><td>0.8</td><td>1792</td><td>2.7</td><td>Retail_trade</td></tr>\n",
       "<tr><td>3332</td><td>14</td><td>66370248931</td><td>24.001048123394057</td><td>2021-05-04</td><td>Morbi Non PC</td><td>cable, satellite,...</td><td>b</td><td> 3.15</td><td>1343547</td><td>VIC</td><td>Male</td><td>38</td><td>1733</td><td>797</td><td>350</td><td>2096</td><td>0.8</td><td>1955</td><td>2.9</td><td>Retail_trade</td></tr>\n",
       "<tr><td>2082</td><td>4949</td><td>44454840859</td><td>34.990386491563186</td><td>2021-08-27</td><td>Erat Eget Ipsum PC</td><td>cable, satellite,...</td><td>a</td><td> 5.62</td><td>801928</td><td>NSW</td><td>Undisclosed</td><td>42</td><td>2500</td><td>977</td><td>580</td><td>2804</td><td>0.8</td><td>2449</td><td>2.9</td><td>Retail_trade</td></tr>\n",
       "<tr><td>3332</td><td>14</td><td>40590483301</td><td>14.93929154059108</td><td>2021-04-01</td><td>Donec Tempus Corp...</td><td>cable, satellite,...</td><td>c</td><td> 3.10</td><td>1343547</td><td>VIC</td><td>Male</td><td>38</td><td>1733</td><td>797</td><td>350</td><td>2096</td><td>0.8</td><td>1955</td><td>2.9</td><td>Retail_trade</td></tr>\n",
       "<tr><td>2082</td><td>4949</td><td>71350572766</td><td>67.5169153121267</td><td>2021-08-26</td><td>Dictum Placerat A...</td><td>cable, satellite,...</td><td>c</td><td> 1.57</td><td>801928</td><td>NSW</td><td>Undisclosed</td><td>42</td><td>2500</td><td>977</td><td>580</td><td>2804</td><td>0.8</td><td>2449</td><td>2.9</td><td>Retail_trade</td></tr>\n",
       "<tr><td>3332</td><td>14</td><td>85071946566</td><td>129.3921791743538</td><td>2021-03-27</td><td>Est Mauris Associ...</td><td>cable, satellite,...</td><td>b</td><td> 3.19</td><td>1343547</td><td>VIC</td><td>Male</td><td>38</td><td>1733</td><td>797</td><td>350</td><td>2096</td><td>0.8</td><td>1955</td><td>2.9</td><td>Retail_trade</td></tr>\n",
       "<tr><td>2082</td><td>4949</td><td>71350572766</td><td>55.77843473425574</td><td>2021-06-11</td><td>Dictum Placerat A...</td><td>cable, satellite,...</td><td>c</td><td> 1.57</td><td>801928</td><td>NSW</td><td>Undisclosed</td><td>42</td><td>2500</td><td>977</td><td>580</td><td>2804</td><td>0.8</td><td>2449</td><td>2.9</td><td>Retail_trade</td></tr>\n",
       "<tr><td>3332</td><td>14</td><td>69703285964</td><td>28.33157420502937</td><td>2021-12-13</td><td>Suspendisse Incor...</td><td>cable, satellite,...</td><td>a</td><td> 5.77</td><td>1343547</td><td>VIC</td><td>Male</td><td>38</td><td>1733</td><td>797</td><td>350</td><td>2096</td><td>0.8</td><td>1955</td><td>2.9</td><td>Retail_trade</td></tr>\n",
       "<tr><td>2082</td><td>4949</td><td>17488304283</td><td>12.529185818529875</td><td>2021-06-11</td><td>Posuere Cubilia C...</td><td>cable, satellite,...</td><td>a</td><td> 6.18</td><td>801928</td><td>NSW</td><td>Undisclosed</td><td>42</td><td>2500</td><td>977</td><td>580</td><td>2804</td><td>0.8</td><td>2449</td><td>2.9</td><td>Retail_trade</td></tr>\n",
       "<tr><td>3332</td><td>14</td><td>98545158925</td><td>27.119818754515343</td><td>2021-12-28</td><td>Dictum Eleifend I...</td><td>cable, satellite,...</td><td>c</td><td> 2.13</td><td>1343547</td><td>VIC</td><td>Male</td><td>38</td><td>1733</td><td>797</td><td>350</td><td>2096</td><td>0.8</td><td>1955</td><td>2.9</td><td>Retail_trade</td></tr>\n",
       "<tr><td>2082</td><td>4949</td><td>67609108741</td><td>107.22795647375638</td><td>2021-05-14</td><td>Metus Sit Amet In...</td><td>cable, satellite,...</td><td>e</td><td> 0.38</td><td>801928</td><td>NSW</td><td>Undisclosed</td><td>42</td><td>2500</td><td>977</td><td>580</td><td>2804</td><td>0.8</td><td>2449</td><td>2.9</td><td>Retail_trade</td></tr>\n",
       "<tr><td>3332</td><td>14</td><td>50885695263</td><td>16.546336274375896</td><td>2021-09-16</td><td>Euismod Institute</td><td>cable, satellite,...</td><td>c</td><td> 2.84</td><td>1343547</td><td>VIC</td><td>Male</td><td>38</td><td>1733</td><td>797</td><td>350</td><td>2096</td><td>0.8</td><td>1955</td><td>2.9</td><td>Retail_trade</td></tr>\n",
       "<tr><td>2082</td><td>4949</td><td>21793603759</td><td>70.65996399415438</td><td>2021-06-10</td><td>In Tincidunt Cong...</td><td>cable, satellite,...</td><td>c</td><td> 1.83</td><td>801928</td><td>NSW</td><td>Undisclosed</td><td>42</td><td>2500</td><td>977</td><td>580</td><td>2804</td><td>0.8</td><td>2449</td><td>2.9</td><td>Retail_trade</td></tr>\n",
       "</table>\n",
       "only showing top 20 rows\n"
      ],
      "text/plain": [
       "+--------+-------+------------+------------------+--------------+--------------------+--------------------+-------------+---------+-----------+-----+-----------+------------------+-----------------------------+---------------------------+------------------+-------------------------+----------------------------+-------------------------+----------------------+------------------+\n",
       "|postcode|user_id|merchant_abn|      dollar_value|order_datetime|                name|       business_area|revenue_level|take_rate|consumer_id|state|     gender|Median_age_persons|Median_mortgage_repay_monthly|Median_tot_prsnl_inc_weekly|Median_rent_weekly|Median_tot_fam_inc_weekly|Average_num_psns_per_bedroom|Median_tot_hhd_inc_weekly|Average_household_size|business_area_type|\n",
       "+--------+-------+------------+------------------+--------------+--------------------+--------------------+-------------+---------+-----------+-----+-----------+------------------+-----------------------------+---------------------------+------------------+-------------------------+----------------------------+-------------------------+----------------------+------------------+\n",
       "|    3332|     14| 68004106739|35.066583865041444|    2021-08-08|        Nec Ante Ltd|cable, satellite,...|            a|     5.61|    1343547|  VIC|       Male|                38|                         1733|                        797|               350|                     2096|                         0.8|                     1955|                   2.9|      Retail_trade|\n",
       "|    3432|   4943| 67609108741| 87.09715299772967|    2022-03-05|Metus Sit Amet In...|cable, satellite,...|            e|     0.38|     533495|  VIC|       Male|                51|                         2000|                        791|               550|                     2374|                         0.8|                     1792|                   2.7|      Retail_trade|\n",
       "|    3332|     14| 70052129860|10.624562993647425|    2021-07-25|Donec Tempus Lore...|cable, satellite,...|            b|     3.37|    1343547|  VIC|       Male|                38|                         1733|                        797|               350|                     2096|                         0.8|                     1955|                   2.9|      Retail_trade|\n",
       "|    3432|   4943| 19237425345| 36.91374841278192|    2022-03-08|A Scelerisque Ass...|cable, satellite,...|            c|     2.04|     533495|  VIC|       Male|                51|                         2000|                        791|               550|                     2374|                         0.8|                     1792|                   2.7|      Retail_trade|\n",
       "|    3332|     14| 79645157255|21.838580731119894|    2021-04-16|Consectetuer Maur...|cable, satellite,...|            a|     6.46|    1343547|  VIC|       Male|                38|                         1733|                        797|               350|                     2096|                         0.8|                     1955|                   2.9|      Retail_trade|\n",
       "|    3432|   4943| 67979471799| 9.354001353615072|    2022-03-16| Laoreet Ipsum Corp.|cable, satellite,...|            d|     1.04|     533495|  VIC|       Male|                51|                         2000|                        791|               550|                     2374|                         0.8|                     1792|                   2.7|      Retail_trade|\n",
       "|    3332|     14| 21439773999| 57.50723650600155|    2021-06-01|Mauris Non Institute|cable, satellite,...|            a|     6.10|    1343547|  VIC|       Male|                38|                         1733|                        797|               350|                     2096|                         0.8|                     1955|                   2.9|      Retail_trade|\n",
       "|    3432|   4943| 68501926042| 72.64904714060505|    2022-03-23|         Dolor Corp.|cable, satellite,...|            a|     5.78|     533495|  VIC|       Male|                51|                         2000|                        791|               550|                     2374|                         0.8|                     1792|                   2.7|      Retail_trade|\n",
       "|    3332|     14| 66370248931|24.001048123394057|    2021-05-04|        Morbi Non PC|cable, satellite,...|            b|     3.15|    1343547|  VIC|       Male|                38|                         1733|                        797|               350|                     2096|                         0.8|                     1955|                   2.9|      Retail_trade|\n",
       "|    2082|   4949| 44454840859|34.990386491563186|    2021-08-27|  Erat Eget Ipsum PC|cable, satellite,...|            a|     5.62|     801928|  NSW|Undisclosed|                42|                         2500|                        977|               580|                     2804|                         0.8|                     2449|                   2.9|      Retail_trade|\n",
       "|    3332|     14| 40590483301| 14.93929154059108|    2021-04-01|Donec Tempus Corp...|cable, satellite,...|            c|     3.10|    1343547|  VIC|       Male|                38|                         1733|                        797|               350|                     2096|                         0.8|                     1955|                   2.9|      Retail_trade|\n",
       "|    2082|   4949| 71350572766|  67.5169153121267|    2021-08-26|Dictum Placerat A...|cable, satellite,...|            c|     1.57|     801928|  NSW|Undisclosed|                42|                         2500|                        977|               580|                     2804|                         0.8|                     2449|                   2.9|      Retail_trade|\n",
       "|    3332|     14| 85071946566| 129.3921791743538|    2021-03-27|Est Mauris Associ...|cable, satellite,...|            b|     3.19|    1343547|  VIC|       Male|                38|                         1733|                        797|               350|                     2096|                         0.8|                     1955|                   2.9|      Retail_trade|\n",
       "|    2082|   4949| 71350572766| 55.77843473425574|    2021-06-11|Dictum Placerat A...|cable, satellite,...|            c|     1.57|     801928|  NSW|Undisclosed|                42|                         2500|                        977|               580|                     2804|                         0.8|                     2449|                   2.9|      Retail_trade|\n",
       "|    3332|     14| 69703285964| 28.33157420502937|    2021-12-13|Suspendisse Incor...|cable, satellite,...|            a|     5.77|    1343547|  VIC|       Male|                38|                         1733|                        797|               350|                     2096|                         0.8|                     1955|                   2.9|      Retail_trade|\n",
       "|    2082|   4949| 17488304283|12.529185818529875|    2021-06-11|Posuere Cubilia C...|cable, satellite,...|            a|     6.18|     801928|  NSW|Undisclosed|                42|                         2500|                        977|               580|                     2804|                         0.8|                     2449|                   2.9|      Retail_trade|\n",
       "|    3332|     14| 98545158925|27.119818754515343|    2021-12-28|Dictum Eleifend I...|cable, satellite,...|            c|     2.13|    1343547|  VIC|       Male|                38|                         1733|                        797|               350|                     2096|                         0.8|                     1955|                   2.9|      Retail_trade|\n",
       "|    2082|   4949| 67609108741|107.22795647375638|    2021-05-14|Metus Sit Amet In...|cable, satellite,...|            e|     0.38|     801928|  NSW|Undisclosed|                42|                         2500|                        977|               580|                     2804|                         0.8|                     2449|                   2.9|      Retail_trade|\n",
       "|    3332|     14| 50885695263|16.546336274375896|    2021-09-16|   Euismod Institute|cable, satellite,...|            c|     2.84|    1343547|  VIC|       Male|                38|                         1733|                        797|               350|                     2096|                         0.8|                     1955|                   2.9|      Retail_trade|\n",
       "|    2082|   4949| 21793603759| 70.65996399415438|    2021-06-10|In Tincidunt Cong...|cable, satellite,...|            c|     1.83|     801928|  NSW|Undisclosed|                42|                         2500|                        977|               580|                     2804|                         0.8|                     2449|                   2.9|      Retail_trade|\n",
       "+--------+-------+------------+------------------+--------------+--------------------+--------------------+-------------+---------+-----------+-----+-----------+------------------+-----------------------------+---------------------------+------------------+-------------------------+----------------------------+-------------------------+----------------------+------------------+\n",
       "only showing top 20 rows"
      ]
     },
     "execution_count": 3,
     "metadata": {},
     "output_type": "execute_result"
    }
   ],
   "source": [
    "full = spark.read.parquet('../data/curated/clean_full_dataset/')\n",
    "full"
   ]
  },
  {
   "cell_type": "markdown",
   "metadata": {},
   "source": [
    "### Calculating the Gender Percentage for Consumers\n",
    "\n",
    "Noting that the \"male_percentage\"/\"female_percentage\"/\"undisclosed_percentage\" here refer to the amount of transactions made by male/female/undisclosed consumers divided by the total amount of transactions. Multiple transaction records made by the same consumers are included in this calculation algorithm."
   ]
  },
  {
   "cell_type": "code",
   "execution_count": 4,
   "metadata": {},
   "outputs": [
    {
     "data": {
      "text/html": [
       "<table border='1'>\n",
       "<tr><th>merchant_abn</th><th>gender</th><th>count</th></tr>\n",
       "<tr><td>10023283211</td><td>Undisclosed</td><td>272</td></tr>\n",
       "<tr><td>10023283211</td><td>Male</td><td>1189</td></tr>\n",
       "<tr><td>10023283211</td><td>Female</td><td>1215</td></tr>\n",
       "<tr><td>10142254217</td><td>Undisclosed</td><td>253</td></tr>\n",
       "<tr><td>10142254217</td><td>Male</td><td>1183</td></tr>\n",
       "<tr><td>10142254217</td><td>Female</td><td>1070</td></tr>\n",
       "<tr><td>10165489824</td><td>Female</td><td>2</td></tr>\n",
       "<tr><td>10165489824</td><td>Undisclosed</td><td>1</td></tr>\n",
       "<tr><td>10165489824</td><td>Male</td><td>1</td></tr>\n",
       "<tr><td>10187291046</td><td>Undisclosed</td><td>33</td></tr>\n",
       "<tr><td>10187291046</td><td>Female</td><td>128</td></tr>\n",
       "<tr><td>10187291046</td><td>Male</td><td>129</td></tr>\n",
       "<tr><td>10192359162</td><td>Undisclosed</td><td>27</td></tr>\n",
       "<tr><td>10192359162</td><td>Female</td><td>146</td></tr>\n",
       "<tr><td>10192359162</td><td>Male</td><td>147</td></tr>\n",
       "<tr><td>10206519221</td><td>Male</td><td>3648</td></tr>\n",
       "<tr><td>10206519221</td><td>Female</td><td>3605</td></tr>\n",
       "<tr><td>10206519221</td><td>Undisclosed</td><td>790</td></tr>\n",
       "<tr><td>10255988167</td><td>Male</td><td>306</td></tr>\n",
       "<tr><td>10255988167</td><td>Undisclosed</td><td>65</td></tr>\n",
       "</table>\n",
       "only showing top 20 rows\n"
      ],
      "text/plain": [
       "+------------+-----------+-----+\n",
       "|merchant_abn|     gender|count|\n",
       "+------------+-----------+-----+\n",
       "| 10023283211|Undisclosed|  272|\n",
       "| 10023283211|       Male| 1189|\n",
       "| 10023283211|     Female| 1215|\n",
       "| 10142254217|Undisclosed|  253|\n",
       "| 10142254217|       Male| 1183|\n",
       "| 10142254217|     Female| 1070|\n",
       "| 10165489824|     Female|    2|\n",
       "| 10165489824|Undisclosed|    1|\n",
       "| 10165489824|       Male|    1|\n",
       "| 10187291046|Undisclosed|   33|\n",
       "| 10187291046|     Female|  128|\n",
       "| 10187291046|       Male|  129|\n",
       "| 10192359162|Undisclosed|   27|\n",
       "| 10192359162|     Female|  146|\n",
       "| 10192359162|       Male|  147|\n",
       "| 10206519221|       Male| 3648|\n",
       "| 10206519221|     Female| 3605|\n",
       "| 10206519221|Undisclosed|  790|\n",
       "| 10255988167|       Male|  306|\n",
       "| 10255988167|Undisclosed|   65|\n",
       "+------------+-----------+-----+\n",
       "only showing top 20 rows"
      ]
     },
     "execution_count": 4,
     "metadata": {},
     "output_type": "execute_result"
    }
   ],
   "source": [
    "# count the number of comsumers by gender and merchant\n",
    "gender_count_sdf = full.groupBy([\"merchant_abn\", \"gender\"]).count().sort(\"merchant_abn\")\n",
    "gender_count_sdf"
   ]
  },
  {
   "cell_type": "code",
   "execution_count": 5,
   "metadata": {},
   "outputs": [
    {
     "data": {
      "text/html": [
       "<table border='1'>\n",
       "<tr><th>merchant_abn</th><th>sum(count)</th></tr>\n",
       "<tr><td>10023283211</td><td>2676</td></tr>\n",
       "<tr><td>10142254217</td><td>2506</td></tr>\n",
       "<tr><td>10165489824</td><td>4</td></tr>\n",
       "<tr><td>10187291046</td><td>290</td></tr>\n",
       "<tr><td>10192359162</td><td>320</td></tr>\n",
       "<tr><td>10206519221</td><td>8043</td></tr>\n",
       "<tr><td>10255988167</td><td>682</td></tr>\n",
       "<tr><td>10264435225</td><td>4147</td></tr>\n",
       "<tr><td>10279061213</td><td>456</td></tr>\n",
       "<tr><td>10323485998</td><td>8559</td></tr>\n",
       "<tr><td>10342410215</td><td>708</td></tr>\n",
       "<tr><td>10346855916</td><td>8</td></tr>\n",
       "<tr><td>10364012396</td><td>34</td></tr>\n",
       "<tr><td>10385011947</td><td>21</td></tr>\n",
       "<tr><td>10385163239</td><td>63</td></tr>\n",
       "<tr><td>10385250025</td><td>555</td></tr>\n",
       "<tr><td>10404542215</td><td>1</td></tr>\n",
       "<tr><td>10430380319</td><td>135</td></tr>\n",
       "<tr><td>10441711491</td><td>3</td></tr>\n",
       "<tr><td>10462560289</td><td>1350</td></tr>\n",
       "</table>\n",
       "only showing top 20 rows\n"
      ],
      "text/plain": [
       "+------------+----------+\n",
       "|merchant_abn|sum(count)|\n",
       "+------------+----------+\n",
       "| 10023283211|      2676|\n",
       "| 10142254217|      2506|\n",
       "| 10165489824|         4|\n",
       "| 10187291046|       290|\n",
       "| 10192359162|       320|\n",
       "| 10206519221|      8043|\n",
       "| 10255988167|       682|\n",
       "| 10264435225|      4147|\n",
       "| 10279061213|       456|\n",
       "| 10323485998|      8559|\n",
       "| 10342410215|       708|\n",
       "| 10346855916|         8|\n",
       "| 10364012396|        34|\n",
       "| 10385011947|        21|\n",
       "| 10385163239|        63|\n",
       "| 10385250025|       555|\n",
       "| 10404542215|         1|\n",
       "| 10430380319|       135|\n",
       "| 10441711491|         3|\n",
       "| 10462560289|      1350|\n",
       "+------------+----------+\n",
       "only showing top 20 rows"
      ]
     },
     "execution_count": 5,
     "metadata": {},
     "output_type": "execute_result"
    }
   ],
   "source": [
    "# count the total number of consumers\n",
    "total_count = gender_count_sdf.groupBy('merchant_abn').sum('count').sort(\"merchant_abn\")\n",
    "total_count"
   ]
  },
  {
   "cell_type": "code",
   "execution_count": 6,
   "metadata": {},
   "outputs": [
    {
     "data": {
      "text/html": [
       "<table border='1'>\n",
       "<tr><th>merchant_abn</th><th>gender</th><th>count</th><th>total_transactions_count</th></tr>\n",
       "<tr><td>10023283211</td><td>Undisclosed</td><td>272</td><td>2676</td></tr>\n",
       "<tr><td>10023283211</td><td>Male</td><td>1189</td><td>2676</td></tr>\n",
       "<tr><td>10023283211</td><td>Female</td><td>1215</td><td>2676</td></tr>\n",
       "<tr><td>10142254217</td><td>Undisclosed</td><td>253</td><td>2506</td></tr>\n",
       "<tr><td>10142254217</td><td>Male</td><td>1183</td><td>2506</td></tr>\n",
       "<tr><td>10142254217</td><td>Female</td><td>1070</td><td>2506</td></tr>\n",
       "<tr><td>10165489824</td><td>Female</td><td>2</td><td>4</td></tr>\n",
       "<tr><td>10165489824</td><td>Undisclosed</td><td>1</td><td>4</td></tr>\n",
       "<tr><td>10165489824</td><td>Male</td><td>1</td><td>4</td></tr>\n",
       "<tr><td>10187291046</td><td>Undisclosed</td><td>33</td><td>290</td></tr>\n",
       "<tr><td>10187291046</td><td>Female</td><td>128</td><td>290</td></tr>\n",
       "<tr><td>10187291046</td><td>Male</td><td>129</td><td>290</td></tr>\n",
       "<tr><td>10192359162</td><td>Undisclosed</td><td>27</td><td>320</td></tr>\n",
       "<tr><td>10192359162</td><td>Female</td><td>146</td><td>320</td></tr>\n",
       "<tr><td>10192359162</td><td>Male</td><td>147</td><td>320</td></tr>\n",
       "<tr><td>10206519221</td><td>Male</td><td>3648</td><td>8043</td></tr>\n",
       "<tr><td>10206519221</td><td>Female</td><td>3605</td><td>8043</td></tr>\n",
       "<tr><td>10206519221</td><td>Undisclosed</td><td>790</td><td>8043</td></tr>\n",
       "<tr><td>10255988167</td><td>Male</td><td>306</td><td>682</td></tr>\n",
       "<tr><td>10255988167</td><td>Undisclosed</td><td>65</td><td>682</td></tr>\n",
       "</table>\n",
       "only showing top 20 rows\n"
      ],
      "text/plain": [
       "+------------+-----------+-----+------------------------+\n",
       "|merchant_abn|     gender|count|total_transactions_count|\n",
       "+------------+-----------+-----+------------------------+\n",
       "| 10023283211|Undisclosed|  272|                    2676|\n",
       "| 10023283211|       Male| 1189|                    2676|\n",
       "| 10023283211|     Female| 1215|                    2676|\n",
       "| 10142254217|Undisclosed|  253|                    2506|\n",
       "| 10142254217|       Male| 1183|                    2506|\n",
       "| 10142254217|     Female| 1070|                    2506|\n",
       "| 10165489824|     Female|    2|                       4|\n",
       "| 10165489824|Undisclosed|    1|                       4|\n",
       "| 10165489824|       Male|    1|                       4|\n",
       "| 10187291046|Undisclosed|   33|                     290|\n",
       "| 10187291046|     Female|  128|                     290|\n",
       "| 10187291046|       Male|  129|                     290|\n",
       "| 10192359162|Undisclosed|   27|                     320|\n",
       "| 10192359162|     Female|  146|                     320|\n",
       "| 10192359162|       Male|  147|                     320|\n",
       "| 10206519221|       Male| 3648|                    8043|\n",
       "| 10206519221|     Female| 3605|                    8043|\n",
       "| 10206519221|Undisclosed|  790|                    8043|\n",
       "| 10255988167|       Male|  306|                     682|\n",
       "| 10255988167|Undisclosed|   65|                     682|\n",
       "+------------+-----------+-----+------------------------+\n",
       "only showing top 20 rows"
      ]
     },
     "execution_count": 6,
     "metadata": {},
     "output_type": "execute_result"
    }
   ],
   "source": [
    "gender_count_sdf = gender_count_sdf.join(total_count, on='merchant_abn').sort(\"merchant_abn\")\n",
    "gender_count_sdf = gender_count_sdf.withColumnRenamed(\"sum(count)\",\"total_transactions_count\")\n",
    "gender_count_sdf\n"
   ]
  },
  {
   "cell_type": "code",
   "execution_count": 7,
   "metadata": {},
   "outputs": [
    {
     "data": {
      "text/html": [
       "<table border='1'>\n",
       "<tr><th>merchant_abn</th><th>gender</th><th>count</th><th>total_transactions_count</th><th>gender_percentage</th></tr>\n",
       "<tr><td>10023283211</td><td>Undisclosed</td><td>272</td><td>2676</td><td>0.10164424514200299</td></tr>\n",
       "<tr><td>10023283211</td><td>Male</td><td>1189</td><td>2676</td><td>0.44431988041853515</td></tr>\n",
       "<tr><td>10023283211</td><td>Female</td><td>1215</td><td>2676</td><td>0.45403587443946186</td></tr>\n",
       "<tr><td>10142254217</td><td>Undisclosed</td><td>253</td><td>2506</td><td>0.10095770151636073</td></tr>\n",
       "<tr><td>10142254217</td><td>Male</td><td>1183</td><td>2506</td><td>0.4720670391061452</td></tr>\n",
       "<tr><td>10142254217</td><td>Female</td><td>1070</td><td>2506</td><td>0.42697525937749403</td></tr>\n",
       "<tr><td>10165489824</td><td>Female</td><td>2</td><td>4</td><td>0.5</td></tr>\n",
       "<tr><td>10165489824</td><td>Undisclosed</td><td>1</td><td>4</td><td>0.25</td></tr>\n",
       "<tr><td>10165489824</td><td>Male</td><td>1</td><td>4</td><td>0.25</td></tr>\n",
       "<tr><td>10187291046</td><td>Undisclosed</td><td>33</td><td>290</td><td>0.11379310344827587</td></tr>\n",
       "<tr><td>10187291046</td><td>Female</td><td>128</td><td>290</td><td>0.4413793103448276</td></tr>\n",
       "<tr><td>10187291046</td><td>Male</td><td>129</td><td>290</td><td>0.44482758620689655</td></tr>\n",
       "<tr><td>10192359162</td><td>Undisclosed</td><td>27</td><td>320</td><td>0.084375</td></tr>\n",
       "<tr><td>10192359162</td><td>Female</td><td>146</td><td>320</td><td>0.45625</td></tr>\n",
       "<tr><td>10192359162</td><td>Male</td><td>147</td><td>320</td><td>0.459375</td></tr>\n",
       "<tr><td>10206519221</td><td>Male</td><td>3648</td><td>8043</td><td>0.453562103692652</td></tr>\n",
       "<tr><td>10206519221</td><td>Female</td><td>3605</td><td>8043</td><td>0.4482158398607485</td></tr>\n",
       "<tr><td>10206519221</td><td>Undisclosed</td><td>790</td><td>8043</td><td>0.09822205644659952</td></tr>\n",
       "<tr><td>10255988167</td><td>Male</td><td>306</td><td>682</td><td>0.44868035190615835</td></tr>\n",
       "<tr><td>10255988167</td><td>Undisclosed</td><td>65</td><td>682</td><td>0.09530791788856305</td></tr>\n",
       "</table>\n",
       "only showing top 20 rows\n"
      ],
      "text/plain": [
       "+------------+-----------+-----+------------------------+-------------------+\n",
       "|merchant_abn|     gender|count|total_transactions_count|  gender_percentage|\n",
       "+------------+-----------+-----+------------------------+-------------------+\n",
       "| 10023283211|Undisclosed|  272|                    2676|0.10164424514200299|\n",
       "| 10023283211|       Male| 1189|                    2676|0.44431988041853515|\n",
       "| 10023283211|     Female| 1215|                    2676|0.45403587443946186|\n",
       "| 10142254217|Undisclosed|  253|                    2506|0.10095770151636073|\n",
       "| 10142254217|       Male| 1183|                    2506| 0.4720670391061452|\n",
       "| 10142254217|     Female| 1070|                    2506|0.42697525937749403|\n",
       "| 10165489824|     Female|    2|                       4|                0.5|\n",
       "| 10165489824|Undisclosed|    1|                       4|               0.25|\n",
       "| 10165489824|       Male|    1|                       4|               0.25|\n",
       "| 10187291046|Undisclosed|   33|                     290|0.11379310344827587|\n",
       "| 10187291046|     Female|  128|                     290| 0.4413793103448276|\n",
       "| 10187291046|       Male|  129|                     290|0.44482758620689655|\n",
       "| 10192359162|Undisclosed|   27|                     320|           0.084375|\n",
       "| 10192359162|     Female|  146|                     320|            0.45625|\n",
       "| 10192359162|       Male|  147|                     320|           0.459375|\n",
       "| 10206519221|       Male| 3648|                    8043|  0.453562103692652|\n",
       "| 10206519221|     Female| 3605|                    8043| 0.4482158398607485|\n",
       "| 10206519221|Undisclosed|  790|                    8043|0.09822205644659952|\n",
       "| 10255988167|       Male|  306|                     682|0.44868035190615835|\n",
       "| 10255988167|Undisclosed|   65|                     682|0.09530791788856305|\n",
       "+------------+-----------+-----+------------------------+-------------------+\n",
       "only showing top 20 rows"
      ]
     },
     "execution_count": 7,
     "metadata": {},
     "output_type": "execute_result"
    }
   ],
   "source": [
    "# calculate the consumer gender percentage for each gender and for each merchants, save the percentage as \"gender_percentage\"\n",
    "from pyspark.sql import functions as F\n",
    "gender_count_sdf = gender_count_sdf.withColumn(\"gender_percentage\", F.col(\"count\")/F.col(\"total_transactions_count\"))\n",
    "gender_count_sdf"
   ]
  },
  {
   "cell_type": "code",
   "execution_count": 8,
   "metadata": {},
   "outputs": [],
   "source": [
    "# separate gender percentage by male, female and undisclosed\n",
    "male_percentage = gender_count_sdf.filter(\"gender == 'Male'\").select(F.col(\"merchant_abn\"),F.col(\"gender_percentage\")).withColumnRenamed(\"gender_percentage\",\"male_consumer_percentage\")\n",
    "female_percentage = gender_count_sdf.filter(\"gender == 'Female'\").select(F.col(\"merchant_abn\"),F.col(\"gender_percentage\")).withColumnRenamed(\"gender_percentage\",\"female_consumer_percentage\")\n",
    "undisclosed_percentage = gender_count_sdf.filter(\"gender == 'Undisclosed'\").select(F.col(\"merchant_abn\"),F.col(\"gender_percentage\")).withColumnRenamed(\"gender_percentage\",\"undisclosed_consumer_percentage\")"
   ]
  },
  {
   "cell_type": "code",
   "execution_count": 9,
   "metadata": {},
   "outputs": [
    {
     "data": {
      "text/html": [
       "<table border='1'>\n",
       "<tr><th>merchant_abn</th><th>male_consumer_percentage</th></tr>\n",
       "<tr><td>10023283211</td><td>0.44431988041853515</td></tr>\n",
       "<tr><td>10142254217</td><td>0.4720670391061452</td></tr>\n",
       "<tr><td>10165489824</td><td>0.25</td></tr>\n",
       "<tr><td>10187291046</td><td>0.44482758620689655</td></tr>\n",
       "<tr><td>10192359162</td><td>0.459375</td></tr>\n",
       "<tr><td>10206519221</td><td>0.453562103692652</td></tr>\n",
       "<tr><td>10255988167</td><td>0.44868035190615835</td></tr>\n",
       "<tr><td>10264435225</td><td>0.44586448034723897</td></tr>\n",
       "<tr><td>10279061213</td><td>0.4342105263157895</td></tr>\n",
       "<tr><td>10323485998</td><td>0.46325505316041593</td></tr>\n",
       "<tr><td>10342410215</td><td>0.4477401129943503</td></tr>\n",
       "<tr><td>10346855916</td><td>0.625</td></tr>\n",
       "<tr><td>10364012396</td><td>0.6176470588235294</td></tr>\n",
       "<tr><td>10385011947</td><td>0.5714285714285714</td></tr>\n",
       "<tr><td>10385163239</td><td>0.4603174603174603</td></tr>\n",
       "<tr><td>10385250025</td><td>0.45225225225225224</td></tr>\n",
       "<tr><td>10430380319</td><td>0.4740740740740741</td></tr>\n",
       "<tr><td>10441711491</td><td>0.3333333333333333</td></tr>\n",
       "<tr><td>10462560289</td><td>0.45481481481481484</td></tr>\n",
       "<tr><td>10463252268</td><td>0.4098360655737705</td></tr>\n",
       "</table>\n",
       "only showing top 20 rows\n"
      ],
      "text/plain": [
       "+------------+------------------------+\n",
       "|merchant_abn|male_consumer_percentage|\n",
       "+------------+------------------------+\n",
       "| 10023283211|     0.44431988041853515|\n",
       "| 10142254217|      0.4720670391061452|\n",
       "| 10165489824|                    0.25|\n",
       "| 10187291046|     0.44482758620689655|\n",
       "| 10192359162|                0.459375|\n",
       "| 10206519221|       0.453562103692652|\n",
       "| 10255988167|     0.44868035190615835|\n",
       "| 10264435225|     0.44586448034723897|\n",
       "| 10279061213|      0.4342105263157895|\n",
       "| 10323485998|     0.46325505316041593|\n",
       "| 10342410215|      0.4477401129943503|\n",
       "| 10346855916|                   0.625|\n",
       "| 10364012396|      0.6176470588235294|\n",
       "| 10385011947|      0.5714285714285714|\n",
       "| 10385163239|      0.4603174603174603|\n",
       "| 10385250025|     0.45225225225225224|\n",
       "| 10430380319|      0.4740740740740741|\n",
       "| 10441711491|      0.3333333333333333|\n",
       "| 10462560289|     0.45481481481481484|\n",
       "| 10463252268|      0.4098360655737705|\n",
       "+------------+------------------------+\n",
       "only showing top 20 rows"
      ]
     },
     "execution_count": 9,
     "metadata": {},
     "output_type": "execute_result"
    }
   ],
   "source": [
    "# observe one of the outcome dataframe\n",
    "male_percentage"
   ]
  },
  {
   "cell_type": "code",
   "execution_count": 10,
   "metadata": {},
   "outputs": [
    {
     "data": {
      "text/html": [
       "<table border='1'>\n",
       "<tr><th>merchant_abn</th><th>male_consumer_percentage</th><th>female_consumer_percentage</th><th>undisclosed_consumer_percentage</th><th>total_transactions_count</th></tr>\n",
       "<tr><td>10023283211</td><td>0.44431988041853515</td><td>0.45403587443946186</td><td>0.10164424514200299</td><td>2676</td></tr>\n",
       "<tr><td>10142254217</td><td>0.4720670391061452</td><td>0.42697525937749403</td><td>0.10095770151636073</td><td>2506</td></tr>\n",
       "<tr><td>10165489824</td><td>0.25</td><td>0.5</td><td>0.25</td><td>4</td></tr>\n",
       "<tr><td>10187291046</td><td>0.44482758620689655</td><td>0.4413793103448276</td><td>0.11379310344827587</td><td>290</td></tr>\n",
       "<tr><td>10192359162</td><td>0.459375</td><td>0.45625</td><td>0.084375</td><td>320</td></tr>\n",
       "<tr><td>10206519221</td><td>0.453562103692652</td><td>0.4482158398607485</td><td>0.09822205644659952</td><td>8043</td></tr>\n",
       "<tr><td>10255988167</td><td>0.44868035190615835</td><td>0.4560117302052786</td><td>0.09530791788856305</td><td>682</td></tr>\n",
       "<tr><td>10264435225</td><td>0.44586448034723897</td><td>0.45285748734024595</td><td>0.10127803231251507</td><td>4147</td></tr>\n",
       "<tr><td>10279061213</td><td>0.4342105263157895</td><td>0.47368421052631576</td><td>0.09210526315789473</td><td>456</td></tr>\n",
       "<tr><td>10323485998</td><td>0.46325505316041593</td><td>0.4303072788877205</td><td>0.10643766795186353</td><td>8559</td></tr>\n",
       "<tr><td>10342410215</td><td>0.4477401129943503</td><td>0.4519774011299435</td><td>0.10028248587570622</td><td>708</td></tr>\n",
       "<tr><td>10364012396</td><td>0.6176470588235294</td><td>0.29411764705882354</td><td>0.08823529411764706</td><td>34</td></tr>\n",
       "<tr><td>10385011947</td><td>0.5714285714285714</td><td>0.38095238095238093</td><td>0.047619047619047616</td><td>21</td></tr>\n",
       "<tr><td>10385163239</td><td>0.4603174603174603</td><td>0.4444444444444444</td><td>0.09523809523809523</td><td>63</td></tr>\n",
       "<tr><td>10385250025</td><td>0.45225225225225224</td><td>0.45045045045045046</td><td>0.0972972972972973</td><td>555</td></tr>\n",
       "<tr><td>10430380319</td><td>0.4740740740740741</td><td>0.4074074074074074</td><td>0.11851851851851852</td><td>135</td></tr>\n",
       "<tr><td>10462560289</td><td>0.45481481481481484</td><td>0.45481481481481484</td><td>0.09037037037037036</td><td>1350</td></tr>\n",
       "<tr><td>10463252268</td><td>0.4098360655737705</td><td>0.3770491803278688</td><td>0.21311475409836064</td><td>61</td></tr>\n",
       "<tr><td>10487253336</td><td>0.44203944203944207</td><td>0.43722943722943725</td><td>0.12073112073112073</td><td>2079</td></tr>\n",
       "<tr><td>10530696903</td><td>0.44765342960288806</td><td>0.4566787003610108</td><td>0.09566787003610108</td><td>554</td></tr>\n",
       "</table>\n",
       "only showing top 20 rows\n"
      ],
      "text/plain": [
       "+------------+------------------------+--------------------------+-------------------------------+------------------------+\n",
       "|merchant_abn|male_consumer_percentage|female_consumer_percentage|undisclosed_consumer_percentage|total_transactions_count|\n",
       "+------------+------------------------+--------------------------+-------------------------------+------------------------+\n",
       "| 10023283211|     0.44431988041853515|       0.45403587443946186|            0.10164424514200299|                    2676|\n",
       "| 10142254217|      0.4720670391061452|       0.42697525937749403|            0.10095770151636073|                    2506|\n",
       "| 10165489824|                    0.25|                       0.5|                           0.25|                       4|\n",
       "| 10187291046|     0.44482758620689655|        0.4413793103448276|            0.11379310344827587|                     290|\n",
       "| 10192359162|                0.459375|                   0.45625|                       0.084375|                     320|\n",
       "| 10206519221|       0.453562103692652|        0.4482158398607485|            0.09822205644659952|                    8043|\n",
       "| 10255988167|     0.44868035190615835|        0.4560117302052786|            0.09530791788856305|                     682|\n",
       "| 10264435225|     0.44586448034723897|       0.45285748734024595|            0.10127803231251507|                    4147|\n",
       "| 10279061213|      0.4342105263157895|       0.47368421052631576|            0.09210526315789473|                     456|\n",
       "| 10323485998|     0.46325505316041593|        0.4303072788877205|            0.10643766795186353|                    8559|\n",
       "| 10342410215|      0.4477401129943503|        0.4519774011299435|            0.10028248587570622|                     708|\n",
       "| 10364012396|      0.6176470588235294|       0.29411764705882354|            0.08823529411764706|                      34|\n",
       "| 10385011947|      0.5714285714285714|       0.38095238095238093|           0.047619047619047616|                      21|\n",
       "| 10385163239|      0.4603174603174603|        0.4444444444444444|            0.09523809523809523|                      63|\n",
       "| 10385250025|     0.45225225225225224|       0.45045045045045046|             0.0972972972972973|                     555|\n",
       "| 10430380319|      0.4740740740740741|        0.4074074074074074|            0.11851851851851852|                     135|\n",
       "| 10462560289|     0.45481481481481484|       0.45481481481481484|            0.09037037037037036|                    1350|\n",
       "| 10463252268|      0.4098360655737705|        0.3770491803278688|            0.21311475409836064|                      61|\n",
       "| 10487253336|     0.44203944203944207|       0.43722943722943725|            0.12073112073112073|                    2079|\n",
       "| 10530696903|     0.44765342960288806|        0.4566787003610108|            0.09566787003610108|                     554|\n",
       "+------------+------------------------+--------------------------+-------------------------------+------------------------+\n",
       "only showing top 20 rows"
      ]
     },
     "execution_count": 10,
     "metadata": {},
     "output_type": "execute_result"
    }
   ],
   "source": [
    "# combine the 3 gender percentages together into 1 dataframe\n",
    "agg_df = male_percentage.join(female_percentage, on=\"merchant_abn\")\n",
    "agg_df = agg_df.join(undisclosed_percentage, on=\"merchant_abn\")\n",
    "# add the total transaction count into aggregated dataframe and rename the column name\n",
    "agg_df = agg_df.join(total_count, on=\"merchant_abn\")\n",
    "agg_df = agg_df.withColumnRenamed(\"sum(count)\",\"total_transactions_count\")\n",
    "agg_df"
   ]
  },
  {
   "cell_type": "code",
   "execution_count": 11,
   "metadata": {},
   "outputs": [
    {
     "data": {
      "text/html": [
       "<table border='1'>\n",
       "<tr><th>merchant_abn</th><th>ave_age</th><th>ave_income</th><th>ave_rent</th></tr>\n",
       "<tr><td>19839532017</td><td>43.40066225165563</td><td>942.0645695364238</td><td>307.20364238410593</td></tr>\n",
       "<tr><td>38700038932</td><td>43.489169367218146</td><td>824.3348115299335</td><td>301.4045710387174</td></tr>\n",
       "<tr><td>57798993346</td><td>45.11764705882353</td><td>941.1764705882352</td><td>335.11764705882354</td></tr>\n",
       "<tr><td>45339304653</td><td>43.78842105263158</td><td>797.061052631579</td><td>294.70526315789476</td></tr>\n",
       "<tr><td>51561881468</td><td>43.61951219512195</td><td>784.0390243902439</td><td>294.2829268292683</td></tr>\n",
       "<tr><td>66610548417</td><td>44.0</td><td>768.1141304347826</td><td>307.3097826086956</td></tr>\n",
       "<tr><td>98545158925</td><td>43.553484036355165</td><td>812.2920065252855</td><td>302.18433931484503</td></tr>\n",
       "<tr><td>46331355995</td><td>43.15366289458011</td><td>857.8147706968433</td><td>303.5092316855271</td></tr>\n",
       "<tr><td>90568944804</td><td>43.461451631109604</td><td>815.516198216503</td><td>301.28027994130264</td></tr>\n",
       "<tr><td>43719937438</td><td>43.21381847914963</td><td>797.8556827473426</td><td>300.1749795584628</td></tr>\n",
       "</table>\n"
      ],
      "text/plain": [
       "+------------+------------------+-----------------+------------------+\n",
       "|merchant_abn|           ave_age|       ave_income|          ave_rent|\n",
       "+------------+------------------+-----------------+------------------+\n",
       "| 19839532017| 43.40066225165563|942.0645695364238|307.20364238410593|\n",
       "| 38700038932|43.489169367218146|824.3348115299335| 301.4045710387174|\n",
       "| 57798993346| 45.11764705882353|941.1764705882352|335.11764705882354|\n",
       "| 45339304653| 43.78842105263158| 797.061052631579|294.70526315789476|\n",
       "| 51561881468| 43.61951219512195|784.0390243902439| 294.2829268292683|\n",
       "| 66610548417|              44.0|768.1141304347826| 307.3097826086956|\n",
       "| 98545158925|43.553484036355165|812.2920065252855|302.18433931484503|\n",
       "| 46331355995| 43.15366289458011|857.8147706968433| 303.5092316855271|\n",
       "| 90568944804|43.461451631109604| 815.516198216503|301.28027994130264|\n",
       "| 43719937438| 43.21381847914963|797.8556827473426| 300.1749795584628|\n",
       "+------------+------------------+-----------------+------------------+"
      ]
     },
     "execution_count": 11,
     "metadata": {},
     "output_type": "execute_result"
    }
   ],
   "source": [
    "full.groupBy(\"merchant_abn\") \\\n",
    "    .agg(F.mean(\"Median_age_persons\").alias(\"ave_age\"), \\\n",
    "         F.mean(\"Median_tot_prsnl_inc_weekly\").alias(\"ave_income\"), \\\n",
    "         F.mean(\"Median_rent_weekly\").alias(\"ave_rent\") \\\n",
    "     ).limit(10)"
   ]
  }
 ],
 "metadata": {
  "kernelspec": {
   "display_name": "Python 3",
   "language": "python",
   "name": "python3"
  },
  "language_info": {
   "codemirror_mode": {
    "name": "ipython",
    "version": 3
   },
   "file_extension": ".py",
   "mimetype": "text/x-python",
   "name": "python",
   "nbconvert_exporter": "python",
   "pygments_lexer": "ipython3",
   "version": "3.9.2"
  },
  "vscode": {
   "interpreter": {
    "hash": "8b547a52226fc5fe22fa6147a895ab8492f18b840e638a9d35222f35938a0abf"
   }
  }
 },
 "nbformat": 4,
 "nbformat_minor": 2
}
