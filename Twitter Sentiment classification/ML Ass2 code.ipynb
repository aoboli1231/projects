{
 "cells": [
  {
   "cell_type": "markdown",
   "metadata": {},
   "source": [
    "##### The University of Melbourne, School of Computing and Information Systems\n",
    "# COMP30027 Machine Learning, 2022 Semester 1\n",
    "\n",
    "## Assignment 2: Sentiment Classification of Tweets\n",
    "\n",
    "This is a sample code to assist you with vectorising the 'Train' dataset for your assignment 2.\n",
    "\n",
    "First we read the CSV datafiles (Train and Test)."
   ]
  },
  {
   "cell_type": "code",
   "execution_count": 1,
   "metadata": {},
   "outputs": [],
   "source": [
    "import pandas as pd\n",
    "import numpy as np\n",
    "train_data = pd.read_csv(\"Train.csv\", sep=',')\n",
    "test_data = pd.read_csv(\"Test.csv\", sep=',')"
   ]
  },
  {
   "cell_type": "markdown",
   "metadata": {},
   "source": [
    "Then we separate the tweet text and the label (sentiment). "
   ]
  },
  {
   "cell_type": "code",
   "execution_count": 2,
   "metadata": {},
   "outputs": [
    {
     "name": "stdout",
     "output_type": "stream",
     "text": [
      "Train length: 21802\n",
      "Test length: 6099\n"
     ]
    }
   ],
   "source": [
    "#separating instance and label for Train\n",
    "X_train_raw = [x[0] for x in train_data[['text']].values]\n",
    "Y_train_final = [x[0] for x in train_data[['sentiment']].values]\n",
    "# obtain tweet id for test data\n",
    "tweet_id = test_data['id']\n",
    "\n",
    "#check the result\n",
    "print(\"Train length:\",len(X_train_raw))\n",
    "\n",
    "#separating instance and label for Test\n",
    "X_test_raw = [x[0] for x in test_data[['text']].values]\n",
    "\n",
    "#check the result\n",
    "print(\"Test length:\",len(X_test_raw))\n"
   ]
  },
  {
   "cell_type": "code",
   "execution_count": 3,
   "metadata": {},
   "outputs": [
    {
     "data": {
      "image/png": "[encoded data removed]",
      "text/plain": [
       "<Figure size 432x288 with 1 Axes>"
      ]
     },
     "metadata": {
      "needs_background": "light"
     },
     "output_type": "display_data"
    }
   ],
   "source": [
    "# class distriution in the trainning set shows that class distributed unevenly. \n",
    "import matplotlib.pyplot as plt\n",
    "import collections\n",
    "count = dict(collections.Counter(Y_train_final))\n",
    "freq = list(count.values())\n",
    "sentiment = list(count.keys())\n",
    "plt.bar(sentiment, freq)\n",
    "plt.title(\"Class distribution in the trainning set\", fontsize = 16)\n",
    "plt.xlabel(\"Class\", fontsize=12)\n",
    "plt.ylabel(\"Frequency\", fontsize=12)\n",
    "plt.savefig(\"Class distribution in the trainning set\")\n",
    "plt.show()"
   ]
  },
  {
   "cell_type": "code",
   "execution_count": 4,
   "metadata": {},
   "outputs": [
    {
     "name": "stdout",
     "output_type": "stream",
     "text": [
      " doctors hit campaign trail as race to medical council elections heats up https://t.co/iifdwb9v0w #homeopathy\n"
     ]
    }
   ],
   "source": [
    "#Let's see one example tweet\n",
    "print(X_train_raw[0])"
   ]
  },
  {
   "cell_type": "code",
   "execution_count": 5,
   "metadata": {},
   "outputs": [],
   "source": [
    "import nltk\n",
    "import sys  \n",
    "from word2number import w2n\n",
    "\n",
    "# use the following line to install packages if haven't\n",
    "# nltk.download()\n",
    "# !{sys.executable} -m pip install contractions\n",
    "# !pip install word2number"
   ]
  },
  {
   "cell_type": "code",
   "execution_count": 6,
   "metadata": {},
   "outputs": [],
   "source": [
    "from word2number import w2n\n",
    "from nltk.tag import pos_tag\n",
    "from nltk.tokenize import word_tokenize\n",
    "\n",
    "# This cell contains some functions which will be used in preprocessing. \n",
    "\n",
    "# This function takes a str and convert any number in word to numeric numbers\n",
    "def wordtonum(text):\n",
    "    lst = text.split()\n",
    "    res = []\n",
    "    for word in lst:\n",
    "        try:\n",
    "            res += [str(w2n.word_to_num(word))]\n",
    "        except ValueError:\n",
    "            res += [word] \n",
    "    return ' '.join(res)\n",
    "\n",
    "# This lemmatises noun, verb and adjectives at the same time accroding to its 'nltk.tag'. \n",
    "# Referenced at: \n",
    "# Jonathan. (2016, September 7). python 3.x - apply multiple pos argument in lemmatization. Stack Overflow. \n",
    "# Retrieved May 12, 2022, from https://stackoverflow.com/questions/39361976/apply-multiple-pos-argument-in-lemmatization\n",
    "def lemmatize_all(sentence):\n",
    "    wnl = WordNetLemmatizer()\n",
    "    for word, tag in pos_tag(word_tokenize(sentence)):\n",
    "        if tag.startswith(\"NN\"):\n",
    "            yield wnl.lemmatize(word, pos='n')\n",
    "        elif tag.startswith('VB'):\n",
    "            yield wnl.lemmatize(word, pos='v')\n",
    "        elif tag.startswith('JJ'):\n",
    "            yield wnl.lemmatize(word, pos='a')\n",
    "        else:\n",
    "            yield word"
   ]
  },
  {
   "cell_type": "code",
   "execution_count": 7,
   "metadata": {},
   "outputs": [
    {
     "name": "stdout",
     "output_type": "stream",
     "text": [
      "Original count of feature:  69285\n",
      "Reduced count of feature :  24892\n",
      "Percentage of features remaining after preprocessing is: 35.93 %\n"
     ]
    }
   ],
   "source": [
    "import re\n",
    "import string\n",
    "import nltk\n",
    "import contractions\n",
    "from nltk.corpus import stopwords\n",
    "from nltk.stem.wordnet import WordNetLemmatizer\n",
    "\n",
    "# generate stopwords in english in a list and remove the negatives in the list since we wish to keep negatives in text\n",
    "stop = stopwords.words('english')\n",
    "stop.remove('nor')\n",
    "stop.remove('no')\n",
    "stop.remove('not')\n",
    "\n",
    "\n",
    "# preprocess dataset to remove strings that are not useful\n",
    "def preprocess(dataset):\n",
    "    data = dataset.copy()\n",
    "    # run through all the data\n",
    "    for i in range(len(data)):   \n",
    "\n",
    "        # convert all string to lowercase\n",
    "        data[i] = data[i].lower()\n",
    "        \n",
    "        # expand contractions (e.g. \"don't\" to \"do not\")\n",
    "        data[i] = contractions.fix(data[i])\\\n",
    "        \n",
    "        # remove all URLs since they are not informative to the predicted label\n",
    "        data[i] = re.sub(r'https?:\\/\\/\\S+', '', data[i])\n",
    "        \n",
    "        # remove all the '@username' since they are not informative to the predicted label\n",
    "        data[i] = re.sub(r'@\\S+', '', data[i])\n",
    "        \n",
    "        # convert all the number in words to numeric number. (e.g. \"three\" -> \"3\")\n",
    "        data[i] = wordtonum(data[i])\n",
    "        # remove all the digits since they are not informative to the label, \n",
    "        # for dates('21st', '22nd', '23rd'and '24th'): remove both digit and the following \"st\" \n",
    "        # for combination of digit and word, like \"12stay\": remove the '12' and keep the word 'stay'\n",
    "        data[i] = re.sub(r'\\d+([th]|[rd]|[nd]|[st]){0,2}\\b', '', data[i])\n",
    "        data[i] = re.sub(r'\\d', '', data[i])\n",
    "\n",
    "        # remove punctuations\n",
    "        data[i] = data[i].translate(str.maketrans('', '', string.punctuation))\n",
    "        \n",
    "        # remove consecutive non-ASCII characters\n",
    "        data[i] = re.sub(r'[^\\x00-\\x7f]', '', data[i])\n",
    "        \n",
    "        # remove elongated words that has 3 or more consequtive letter to one, (eg. \"whyyyy\" -> \"why\")\n",
    "        # (.) -> any letter, \\1{3,} a letter that occurs 3 or more times, '\\1' replaced by one of this letter \n",
    "        data[i] = re.sub(r'(.)\\1{3,}', r'\\1', data[i])\n",
    "        \n",
    "        # split the string to remove stopwords\n",
    "        data[i] = ' '.join([word for word in data[i].split() if word not in stop])\n",
    "        \n",
    "        # lemmatize the string to reduce useless features after splitting\n",
    "        data[i] = ' '.join(lemmatize_all(data[i]))\n",
    "        \n",
    "        # remove single letter from the data (considered to be useless) (e.g. \"u\", \"f\"...)\n",
    "        data[i] = ' '.join([word for word in data[i].split() if len(word) > 1])\n",
    "\n",
    "    return data\n",
    "\n",
    "# get all words from the input data, use for checking the number of features\n",
    "def get_words(data):\n",
    "    word_list = []\n",
    "    for i in range(len(data)):\n",
    "        a = data[i].split()\n",
    "        for word in a:\n",
    "            word_list.append(word)\n",
    "    return list(set(word_list))\n",
    "\n",
    "\n",
    "# preprocess training and test data set to be clean\n",
    "X_train_clean = preprocess(X_train_raw)\n",
    "X_test_clean = preprocess(X_test_raw)\n",
    "# check percentage of features (words) remaining after preprocessing\n",
    "train_raw_features = get_words(X_train_raw)\n",
    "train_clean_features = get_words(X_train_clean)\n",
    "\n",
    "\n",
    "# print out the correponding data after preprocessing\n",
    "print(\"Original count of feature: \", len(train_raw_features))\n",
    "print(\"Reduced count of feature : \", len(train_clean_features))\n",
    "print(\"Percentage of features remaining after preprocessing is: {:.2f} %\".format(len(train_clean_features)/len(train_raw_features)*100))"
   ]
  },
  {
   "cell_type": "markdown",
   "metadata": {},
   "source": [
    "### Validation Set"
   ]
  },
  {
   "cell_type": "code",
   "execution_count": 8,
   "metadata": {},
   "outputs": [
    {
     "name": "stdout",
     "output_type": "stream",
     "text": [
      "There are 15697 instances in sub_training set.\n",
      "There are 6105 instances in validation set.\n"
     ]
    }
   ],
   "source": [
    "# Split the training data to a subset of training data and a validation set, \n",
    "# which will be used to estimate the model performance\n",
    "# The original training set was randomly splitted into 2 parts, while keeping the size of testing set \n",
    "# consistent with the original testing set (6099 instances). \n",
    "# Since there are 21802 instances in the original training set, the test_size ratio is 6099/21802  0.28.\n",
    "\n",
    "from sklearn.model_selection import train_test_split \n",
    "\n",
    "X_train, X_test, Y_train, Y_test = train_test_split(X_train_clean, Y_train_final, test_size=0.28, shuffle=False, random_state=42)\n",
    "\n",
    "print(\"There are\",len(X_train), \"instances in sub_training set.\")\n",
    "print(\"There are\", len(X_test), \"instances in validation set.\")"
   ]
  },
  {
   "cell_type": "code",
   "execution_count": 13,
   "metadata": {},
   "outputs": [
    {
     "data": {
      "image/png": "[encoded data removed]",
      "text/plain": [
       "<Figure size 432x288 with 1 Axes>"
      ]
     },
     "metadata": {
      "needs_background": "light"
     },
     "output_type": "display_data"
    },
    {
     "data": {
      "image/png": "[encoded data removed]",
      "text/plain": [
       "<Figure size 432x288 with 1 Axes>"
      ]
     },
     "metadata": {
      "needs_background": "light"
     },
     "output_type": "display_data"
    }
   ],
   "source": [
    "# This cell generates a figure which shows that class distriution unevenly in the validation set. \n",
    "import matplotlib.pyplot as plt\n",
    "import collections\n",
    "count = dict(collections.Counter(Y_train).most_common())\n",
    "freq = list(count.values())\n",
    "sentiment = list(count.keys())\n",
    "plt.bar(sentiment, freq)\n",
    "plt.title(\"Class distribution in the validation training set\", fontsize = 16)\n",
    "plt.xlabel(\"Class\", fontsize=12)\n",
    "plt.ylabel(\"Frequency\", fontsize=12)\n",
    "plt.savefig('class distribution in the validation training set')\n",
    "plt.show()\n",
    "\n",
    "\n",
    "count = dict(collections.Counter(Y_test).most_common())\n",
    "freq = list(count.values())\n",
    "sentiment = list(count.keys())\n",
    "plt.bar(sentiment, freq)\n",
    "plt.title(\"Class distribution in the validation testing set\", fontsize = 16)\n",
    "plt.xlabel(\"Class\", fontsize=12)\n",
    "plt.ylabel(\"Frequency\", fontsize=12)\n",
    "plt.savefig('class distribution in the validation testing set')\n",
    "plt.show()\n"
   ]
  },
  {
   "cell_type": "markdown",
   "metadata": {},
   "source": [
    "### 1. Bag of Words (BoW)\n",
    "In this approach, we use the **CountVectorizer** library to separate all the words in the Train corpus (dataset). These words are then used as the 'vectors' or 'features' to represent each instance (Tweet) in `Train` and `Test` datasets. "
   ]
  },
  {
   "cell_type": "code",
   "execution_count": 14,
   "metadata": {},
   "outputs": [],
   "source": [
    "from sklearn.feature_extraction.text import CountVectorizer\n",
    "from nltk.corpus import stopwords\n",
    "from nltk.tokenize import word_tokenize\n",
    "\n",
    "# This function uses Bag of Words to vectorise text into features for each instance in both trainning and test dataset\n",
    "# returns matrix of X_train_BoW, X_test_BoW, 'features' after vectorisation and convert the created vocabulary to a csv file.\n",
    "def BoW(X_train_clean, X_test_clean, ngram):\n",
    "\n",
    "    BoW_vectorizer = CountVectorizer(analyzer='word', tokenizer=word_tokenize, ngram_range=ngram, min_df=1)\n",
    "    #Build the feature set (vocabulary) and vectorise the Tarin dataset using BoW\n",
    "    X_train_BoW = BoW_vectorizer.fit_transform(X_train_clean)\n",
    "\n",
    "    #Use the feature set (vocabulary) from Train to vectorise the Test dataset \n",
    "    X_test_BoW = BoW_vectorizer.transform(X_test_clean)\n",
    "\n",
    "    features = BoW_vectorizer.get_feature_names()\n",
    "    \n",
    "    # We can save the created vocabulary for the given dataset in a separate file.\n",
    "    output_dict = BoW_vectorizer.vocabulary_\n",
    "    output_pd = pd.DataFrame(list(output_dict.items()),columns = ['word','index'])\n",
    "    output_pd.T.to_csv('BoW-vocab.csv',index=False)\n",
    "    \n",
    "    return X_train_BoW, X_test_BoW, features, output_pd"
   ]
  },
  {
   "cell_type": "markdown",
   "metadata": {},
   "source": [
    "Now each row is a list of tuples with the vector_id (word_id in the vocabulary) and the number of times it repeated in that given instance (tweet)."
   ]
  },
  {
   "cell_type": "markdown",
   "metadata": {},
   "source": [
    "### 2. TFIDF\n",
    "In this approach, we use the **TfidfVectorizer** library to separate all the words in this corpus (dataset). Same as the BoW approach, these words are then used as the 'vectors' or 'features' to represent each instance (Tweet).\n",
    "\n",
    "However, in this method for each instance the value associated with each 'vector' (word) is not the number of times the word repeated in that tweet, but the TFIDF value of then 'voctor' (word)."
   ]
  },
  {
   "cell_type": "code",
   "execution_count": 15,
   "metadata": {},
   "outputs": [],
   "source": [
    "from sklearn.feature_extraction.text import TfidfVectorizer\n",
    "\n",
    "# this function is TFIDF vectorization\n",
    "def TFIDF(X_train_clean, X_test_clean, ngram):\n",
    "    tfidf_vectorizer = TfidfVectorizer(analyzer='word', tokenizer=word_tokenize, ngram_range=ngram, min_df=1)\n",
    "\n",
    "    #Build the feature set (vocabulary) and vectorise the Tarin dataset using TFIDF\n",
    "    X_train_tfidf = tfidf_vectorizer.fit_transform(X_train_clean)\n",
    "\n",
    "    #Use the feature set (vocabulary) from Train to vectorise the Test dataset \n",
    "    X_test_tfidf = tfidf_vectorizer.transform(X_test_clean)\n",
    "\n",
    "    return X_train_tfidf, X_test_tfidf"
   ]
  },
  {
   "cell_type": "code",
   "execution_count": 16,
   "metadata": {},
   "outputs": [],
   "source": [
    "# This cell vectorises text depending on 'method'. 'method' can be \"TFIDF\" or \"BoW\".\n",
    "def vectorizer(X_train_clean, X_test_clean, method, ngram):\n",
    "    # BoW: CountVectorizer\n",
    "    if method == \"BoW\":\n",
    "        X_train_vec, X_test_vec, features, output_pd = BoW(X_train_clean, X_test_clean, ngram=ngram)\n",
    "        \n",
    "    # TFIDF: TfidfVectorizer\n",
    "    else:\n",
    "        X_train_vec, X_test_vec = TFIDF(X_train_clean, X_test_clean, ngram=ngram)\n",
    "    \n",
    "    return X_train_vec, X_test_vec"
   ]
  },
  {
   "cell_type": "markdown",
   "metadata": {},
   "source": [
    "# 3. Conduct Machine Learning\n",
    "We need to first select features from the preprocessed data"
   ]
  },
  {
   "cell_type": "code",
   "execution_count": 17,
   "metadata": {},
   "outputs": [],
   "source": [
    "# This cell implements feature selections.\n",
    "import math\n",
    "from sklearn.feature_selection import SelectKBest, chi2, f_classif, mutual_info_classif, VarianceThreshold\n",
    "\n",
    "\n",
    "# This function selects the most important features through 4 different ways depending on the parameter \"method\".\n",
    "# For best-k selection: 1. 'method' takes three different measurements, including \"k-best-chi\", \"k-best-F\" and \"k-best-MI\"\n",
    "#                       2. function takes an extra parameter \"kratio\", which indicates how much k should be selected\n",
    "# For varianceThreshold selection: 1. method = \"var-threshold\"; takes an extra parameter \"var_threshold\"\n",
    "#                                  2. any features that has a variance below 'var_threshold' will be removed\n",
    "def feature_selection(X_train, Y_train, X_test, method, kratio=0, var_threshold=0):\n",
    "    \n",
    "    # let the number of top features selected be a half of the original number of features\n",
    "    k = math.ceil(X_train.shape[1]*kratio)\n",
    "    \n",
    "    \n",
    "    # k-best with chisquare selection:\n",
    "    if method == \"k-best-chi\":\n",
    "        selector = SelectKBest(chi2, k=k)\n",
    "        \n",
    "    # k-best with F test selection:\n",
    "    elif method == \"k-best-F\":\n",
    "        selector = SelectKBest(f_classif, k=k)\n",
    "        \n",
    "    # k-best with Mutual information selection:    \n",
    "    elif method == \"k-best-MI\":\n",
    "        selector = SelectKBest(mutual_info_classif, k=k)\n",
    "    \n",
    "    # Variance Threshold selection:\n",
    "    elif method == \"var-threshold\":\n",
    "        selector = VarianceThreshold(threshold=var_threshold)\n",
    "    \n",
    "    # select features for training set\n",
    "    X_train_selected = selector.fit_transform(X_train, Y_train)\n",
    "    # fit the same features from training to testing\n",
    "    X_test_selected = selector.transform(X_test)\n",
    "    \n",
    "    return X_train_selected, X_test_selected\n"
   ]
  },
  {
   "cell_type": "markdown",
   "metadata": {},
   "source": [
    "# Baseline Model (0-R)"
   ]
  },
  {
   "cell_type": "code",
   "execution_count": 31,
   "metadata": {},
   "outputs": [
    {
     "name": "stdout",
     "output_type": "stream",
     "text": [
      "Base model (0-R) validation accuracy is:  0.3280999679589875\n"
     ]
    }
   ],
   "source": [
    "from sklearn.dummy import DummyClassifier\n",
    "from collections import Counter\n",
    "# 0-R baseline model\n",
    "# this is a model prediction we need to beat\n",
    "\n",
    "zero_r = DummyClassifier(strategy= 'most_frequent')\n",
    "\n",
    "# predict for validation set\n",
    "zero_r.fit(X_train, Y_train)\n",
    "zr_pred = zero_r.predict(X_test) \n",
    "print(\"Base model (0-R) validation accuracy is: \", zero_r.score(X_test, Y_test))\n"
   ]
  },
  {
   "cell_type": "code",
   "execution_count": 16,
   "metadata": {},
   "outputs": [],
   "source": [
    "# predict for testing set\n",
    "import time\n",
    "t0 = time.time()\n",
    "pred = zero_r.fit(X_train_clean, Y_train_final).predict(X_test_clean)\n",
    "df = pd.DataFrame(data={\"id\": tweet_id, \"sentiment\": pred})\n",
    "df.to_csv('baseline.csv', index=False)\n",
    "t1 = time.time() - t0"
   ]
  },
  {
   "cell_type": "code",
   "execution_count": 17,
   "metadata": {},
   "outputs": [
    {
     "data": {
      "text/plain": [
       "{'accuracy': 0.6571662571662572,\n",
       " 'weighted_precision': 0.43186748955790727,\n",
       " 'weighted_recall': 0.6571662571662572,\n",
       " 'weighted_f1': 0.5212120240686021,\n",
       " 'confusion_M': array([[   0,  814,    0],\n",
       "        [   0, 4012,    0],\n",
       "        [   0, 1279,    0]]),\n",
       " 'time': 0.053334951400756836}"
      ]
     },
     "execution_count": 17,
     "metadata": {},
     "output_type": "execute_result"
    }
   ],
   "source": [
    "from sklearn.metrics import accuracy_score, precision_score, recall_score, f1_score\n",
    "from sklearn.metrics import confusion_matrix, ConfusionMatrixDisplay\n",
    "import matplotlib.pyplot as plt\n",
    "from matplotlib import cm\n",
    "\n",
    "# This is to ignore the warning in calculating the precision metric since the zero-R simply predict everything as 'Nuetral'\n",
    "import warnings\n",
    "warnings.filterwarnings(\"ignore\")\n",
    "\n",
    "labels=['negative','neutral','positive']\n",
    "\n",
    "\n",
    "# save all the information for baseline model, which might be used later\n",
    "baseline_metrics={}\n",
    "baseline_metrics['accuracy'] = accuracy_score(Y_test, zr_pred)\n",
    "baseline_metrics['weighted_precision'] = precision_score(Y_test, zr_pred, average=\"weighted\")\n",
    "baseline_metrics['weighted_recall'] = recall_score(Y_test, zr_pred, average=\"weighted\")\n",
    "baseline_metrics['weighted_f1'] = f1_score(Y_test, zr_pred, average=\"weighted\")\n",
    "baseline_metrics['confusion_M'] = confusion_matrix(Y_test, zr_pred)\n",
    "baseline_metrics['time'] = t1\n",
    "baseline_metrics"
   ]
  },
  {
   "cell_type": "markdown",
   "metadata": {},
   "source": [
    "# Multinomial Naive Bayes"
   ]
  },
  {
   "cell_type": "code",
   "execution_count": 18,
   "metadata": {},
   "outputs": [],
   "source": [
    "from sklearn.metrics import accuracy_score\n",
    "from sklearn.naive_bayes import MultinomialNB \n",
    "from sklearn.metrics import f1_score\n",
    "from sklearn.model_selection import cross_val_score\n",
    "\n",
    "\n",
    "def MNB(validation=False):\n",
    "    \n",
    "    # fit the multinomialNB model\n",
    "    mnb = MultinomialNB()\n",
    "    \n",
    "    # if we are just validate the accuracy using a subset of trainning set\n",
    "    if validation == True:\n",
    "        \n",
    "        pred = mnb.fit(X_train_sub, Y_train).predict(X_test_sub)\n",
    "        accuracy = accuracy_score(Y_test, pred)\n",
    "        \n",
    "        # \"weighed-averaging\" is used to determine the f1-score since there exists unbalanced class distribution\n",
    "        avg_f1 = f1_score(Y_test, pred,average = 'weighted')\n",
    "        \n",
    "        return accuracy, avg_f1, pred\n",
    "\n",
    "    # training using the whole trainning set and predict for the testing set with unknown label\n",
    "    else:\n",
    "        pred = mnb.fit(X_train_final, Y_train_final).predict(X_test_final)\n",
    "        # save test prediction as a csv file\n",
    "        df = pd.DataFrame(data={\"id\": tweet_id, \"sentiment\": pred})\n",
    "        df.to_csv('MNB.csv', index=False)\n",
    "\n",
    "        return pred\n",
    "    \n",
    "    "
   ]
  },
  {
   "cell_type": "code",
   "execution_count": 19,
   "metadata": {},
   "outputs": [
    {
     "name": "stdout",
     "output_type": "stream",
     "text": [
      "BoW\n",
      "The model with the highest accuracy:  0.6422604422604422 with k_ratio of  0.4\n",
      "The model with the highest weighed-averaging f1_score is : 0.6412661947870919 with k_ratio of  0.4\n",
      "\n",
      "\n",
      "TFIDF\n",
      "The model with the highest accuracy:  0.6753480753480754 with k_ratio of  0.5\n",
      "The model with the highest weighed-averaging f1_score is : 0.5949916797428245 with k_ratio of  0.5\n",
      "\n",
      "\n"
     ]
    }
   ],
   "source": [
    "# testing to find the best parameters using \"k-best-chi\"\n",
    "method = [\"BoW\", \"TFIDF\"]\n",
    "ratio = [0.4,0.5,0.6,0.7]\n",
    "\n",
    "# go through both method with different ratio to test the best method and parameter\n",
    "\n",
    "for mtype in method:\n",
    "    max_f1score = 0\n",
    "    f1_k_ratio = 0\n",
    "    max_accuracy = 0\n",
    "    acc_k_ratio = 0\n",
    "    \n",
    "    X_train_vec, X_test_vec = vectorizer(X_train, X_test, method=mtype, ngram=(1,1))\n",
    "    for k in ratio:\n",
    "        X_train_sub, X_test_sub = feature_selection(X_train_vec, Y_train, X_test_vec, method=\"k-best-chi\", kratio=k)\n",
    "        \n",
    "        accuracy, avg_f1, pred = MNB(validation=True)\n",
    "        if avg_f1 > max_f1score:\n",
    "            max_f1score = avg_f1\n",
    "            f1_k_ratio = k\n",
    "        if accuracy > max_accuracy:\n",
    "            max_accuracy = accuracy\n",
    "            acc_k_ratio = k\n",
    "\n",
    "    print(mtype)\n",
    "    print(\"The model with the highest accuracy: \", max_accuracy, \"with k_ratio of \", acc_k_ratio)\n",
    "    print(\"The model with the highest weighed-averaging f1_score is :\", max_f1score, \"with k_ratio of \", f1_k_ratio)\n",
    "    print(\"\\n\")\n",
    "    "
   ]
  },
  {
   "cell_type": "code",
   "execution_count": 20,
   "metadata": {},
   "outputs": [
    {
     "name": "stdout",
     "output_type": "stream",
     "text": [
      "BoW\n",
      "The model with the highest accuracy:  0.6434070434070434 with k_ratio of  0.4\n",
      "The model with the highest weighed-averaging f1_score is : 0.6423965054708233 with k_ratio of  0.4\n",
      "\n",
      "\n",
      "TFIDF\n",
      "The model with the highest accuracy:  0.6755118755118755 with k_ratio of  0.5\n",
      "The model with the highest weighed-averaging f1_score is : 0.594393041907828 with k_ratio of  0.5\n",
      "\n",
      "\n"
     ]
    }
   ],
   "source": [
    "# testing to find the best parameters using \"k-best-F\"\n",
    "\n",
    "# go through both method with different ratio to test the best method and parameter\n",
    "for mtype in method:\n",
    "    max_f1score = 0\n",
    "    f1_k_ratio = 0\n",
    "    max_accuracy = 0\n",
    "    acc_k_ratio = 0\n",
    "    \n",
    "    X_train_vec, X_test_vec = vectorizer(X_train, X_test, method=mtype, ngram=(1,1))\n",
    "    for k in ratio:\n",
    "        X_train_sub, X_test_sub = feature_selection(X_train_vec, Y_train, X_test_vec, method=\"k-best-F\", kratio=k)\n",
    "        \n",
    "        accuracy, avg_f1, pred = MNB(validation=True)\n",
    "        if avg_f1 > max_f1score:\n",
    "            max_f1score = avg_f1\n",
    "            f1_k_ratio = k\n",
    "        if accuracy > max_accuracy:\n",
    "            max_accuracy = accuracy\n",
    "            acc_k_ratio = k\n",
    "\n",
    "    print(mtype)\n",
    "    print(\"The model with the highest accuracy: \", max_accuracy, \"with k_ratio of \", acc_k_ratio)\n",
    "    print(\"The model with the highest weighed-averaging f1_score is :\", max_f1score, \"with k_ratio of \", f1_k_ratio)\n",
    "    print(\"\\n\")"
   ]
  },
  {
   "cell_type": "markdown",
   "metadata": {},
   "source": [
    "From the cell above, we can see that both accuracy and f1_score stay relatively high when k=0.4 for both feature selection methods(chi and F). "
   ]
  },
  {
   "cell_type": "code",
   "execution_count": 21,
   "metadata": {
    "scrolled": true
   },
   "outputs": [
    {
     "name": "stdout",
     "output_type": "stream",
     "text": [
      "BoW\n",
      "The model with the highest accuracy:  0.6312858312858313 with var_threshold of  1e-05\n",
      "The model with the highest weighed-averaging f1_score is : 0.6356482220519303 with var_threshold of  1e-05\n",
      "\n",
      "\n",
      "TFIDF\n",
      "The model with the highest accuracy:  0.6766584766584767 with var_threshold of  0.0001\n",
      "The model with the highest weighed-averaging f1_score is : 0.636090128884796 with var_threshold of  0.0001\n",
      "\n",
      "\n"
     ]
    }
   ],
   "source": [
    "# testing to find the best parameters using \"variance threshold\"\n",
    "var = [0.00001, 0.0001, 0.001]\n",
    "\n",
    "# BoW vec: feature selection, selectMethod = \"var-threshold\", var_threshold = 0.0001\n",
    "for mtype in method:\n",
    "    max_f1score = 0\n",
    "    f1_var_ratio = 0\n",
    "    max_accuracy = 0\n",
    "    acc_var_ratio = 0\n",
    "    X_train_vec, X_test_vec = vectorizer(X_train, X_test, method=mtype, ngram=(1,1))\n",
    "    for v in var:\n",
    "        X_train_sub, X_test_sub = feature_selection(X_train_vec, Y_train, X_test_vec, method=\"var-threshold\", var_threshold = v)\n",
    "        accuracy, avg_f1, pred = MNB(validation=True)\n",
    "        if avg_f1 > max_f1score:\n",
    "            max_f1score = avg_f1\n",
    "            f1_var_ratio = v\n",
    "        if accuracy > max_accuracy:\n",
    "            max_accuracy = accuracy\n",
    "            acc_var_ratio = v\n",
    "    print(mtype)\n",
    "    print(\"The model with the highest accuracy: \", max_accuracy, \"with var_threshold of \", acc_var_ratio)\n",
    "    print(\"The model with the highest weighed-averaging f1_score is :\", max_f1score, \"with var_threshold of \", f1_var_ratio)\n",
    "    print(\"\\n\")\n",
    "    "
   ]
  },
  {
   "cell_type": "code",
   "execution_count": 22,
   "metadata": {},
   "outputs": [
    {
     "data": {
      "text/plain": [
       "Counter({'neutral': 5518, 'positive': 448, 'negative': 133})"
      ]
     },
     "execution_count": 22,
     "metadata": {},
     "output_type": "execute_result"
    }
   ],
   "source": [
    "X_train_vec, X_test_vec = vectorizer(X_train_clean, X_test_clean, method=\"TFIDF\", ngram=(1,1))\n",
    "X_train_final, X_test_final = feature_selection(X_train_vec, Y_train_final, X_test_vec, method=\"var-threshold\", var_threshold = 0.00001)\n",
    "Counter(MNB(validation=False))"
   ]
  },
  {
   "cell_type": "markdown",
   "metadata": {},
   "source": [
    "It is noticed that although the var-threshold method gives the highest averaging f1_score, the actual prediction has a distribution similarily to the baseline model. This shows a sign of overfitting due to the unevenly distributed class in trainning set. Therefore, we eliminates this model which using var-threshold as feature selection method."
   ]
  },
  {
   "cell_type": "code",
   "execution_count": 23,
   "metadata": {},
   "outputs": [
    {
     "name": "stdout",
     "output_type": "stream",
     "text": [
      "Predict for whole testing set:\n",
      "Counter({'neutral': 3853, 'positive': 1268, 'negative': 978})\n",
      "The time:  5.0396270751953125\n",
      "\n",
      "\n",
      "Predict for validation set:\n",
      "The validation accuracy:  0.6737100737100737\n",
      "The validation weighted-averaging f1 score:  0.5900364342389068\n"
     ]
    }
   ],
   "source": [
    "# The final MNB model: \"BoW\", ngram=(1,1), \"k-best-chi\", k_ratio =0.4\n",
    "import time\n",
    "\n",
    "t0 = time.time()\n",
    "X_train_vec, X_test_vec = vectorizer(X_train_clean, X_test_clean, method=\"BoW\", ngram=(1,1))\n",
    "X_train_final, X_test_final = feature_selection(X_train_vec, Y_train_final, X_test_vec, method=\"k-best-chi\", kratio=0.4)\n",
    "pred = MNB(validation=False)\n",
    "t1 = time.time() - t0\n",
    "print(\"Predict for whole testing set:\")\n",
    "print(Counter(pred))\n",
    "print(\"The time: \", t1)\n",
    "\n",
    "# predict for validation set\n",
    "X_train_vec, X_test_vec = vectorizer(X_train, X_test, method=\"TFIDF\", ngram=(1,1))\n",
    "X_train_sub, X_test_sub = feature_selection(X_train_vec, Y_train, X_test_vec, method=\"k-best-chi\", kratio=0.4)\n",
    "acc, f1, validation_pred = MNB(validation=True)\n",
    "print(\"\\n\")\n",
    "print(\"Predict for validation set:\")\n",
    "print(\"The validation accuracy: \", acc)\n",
    "print(\"The validation weighted-averaging f1 score: \", f1)\n"
   ]
  },
  {
   "cell_type": "markdown",
   "metadata": {},
   "source": [
    "The final MNB model uses \"BoW\" vectorisation with ngram=(1,1), and \"k-best-chi\" as feature selection method with k_ratio =0.4.<br/> \n",
    "The model has a validation accuracy of 0.7013923013923014 and a weighted averaging f1 score of 0.7010080534683671.<br/> \n",
    "The testing accuracy(40%) on Kaggle was 0.55596. "
   ]
  },
  {
   "cell_type": "code",
   "execution_count": 24,
   "metadata": {},
   "outputs": [
    {
     "data": {
      "text/plain": [
       "{'accuracy': 0.6737100737100737,\n",
       " 'weighted_precision': 0.650699271016843,\n",
       " 'weighted_recall': 0.6737100737100737,\n",
       " 'weighted_f1': 0.5900364342389068,\n",
       " 'confusion_M': array([[  36,  774,    4],\n",
       "        [  28, 3857,  127],\n",
       "        [   1, 1058,  220]]),\n",
       " 'time': 5.0396270751953125}"
      ]
     },
     "execution_count": 24,
     "metadata": {},
     "output_type": "execute_result"
    }
   ],
   "source": [
    "from sklearn.metrics import accuracy_score, precision_score, recall_score, f1_score\n",
    "from sklearn.metrics import confusion_matrix, ConfusionMatrixDisplay\n",
    "import matplotlib.pyplot as plt\n",
    "from matplotlib import cm\n",
    "labels=['negative','neutral','positive']\n",
    "\n",
    "\n",
    "# save all the information for MNB model, which will be use for graph\n",
    "MNB_metrics={}\n",
    "MNB_metrics['accuracy'] = accuracy_score(Y_test, validation_pred)\n",
    "MNB_metrics['weighted_precision'] = precision_score(Y_test, validation_pred, average=\"weighted\")\n",
    "MNB_metrics['weighted_recall'] = recall_score(Y_test, validation_pred, average=\"weighted\")\n",
    "MNB_metrics['weighted_f1'] = f1_score(Y_test, validation_pred, average=\"weighted\")\n",
    "MNB_metrics['confusion_M'] = confusion_matrix(Y_test, validation_pred, labels = labels)\n",
    "MNB_metrics['time'] = t1\n",
    "MNB_metrics"
   ]
  },
  {
   "cell_type": "code",
   "execution_count": 25,
   "metadata": {},
   "outputs": [
    {
     "data": {
      "image/png": "[encoded data removed]",
      "text/plain": [
       "<Figure size 432x288 with 2 Axes>"
      ]
     },
     "metadata": {
      "needs_background": "light"
     },
     "output_type": "display_data"
    }
   ],
   "source": [
    "# How to plot confusion matrix\n",
    "ConfusionMatrixDisplay(MNB_metrics['confusion_M'],display_labels=labels).plot()\n",
    "plt.savefig(\"MNB confusion\")"
   ]
  },
  {
   "cell_type": "markdown",
   "metadata": {},
   "source": [
    "# Support Vector Machines (One Vs Rest)"
   ]
  },
  {
   "cell_type": "code",
   "execution_count": 19,
   "metadata": {},
   "outputs": [],
   "source": [
    "from sklearn import svm\n",
    "\n",
    "# This function implements one vs rest linear support vector machines model. \n",
    "def SVM(C, validation=False):\n",
    "    \n",
    "    svm_model = svm.SVC(C=C, kernel='linear')\n",
    "    \n",
    "    if validation == True:\n",
    "        pred = svm_model.fit(X_train_sub, Y_train).predict(X_test_sub)\n",
    "        accuracy = accuracy_score(Y_test, pred)\n",
    "        avg_f1 = f1_score(Y_test, pred ,average = 'weighted')\n",
    "        return accuracy, avg_f1, pred\n",
    "        \n",
    "    else:\n",
    "        pred = svm_model.fit(X_train_final, Y_train_final).predict(X_test_final)\n",
    "        df = pd.DataFrame(data={\"id\": tweet_id, \"sentiment\": pred})\n",
    "        df.to_csv('One-vs-rest-SVM.csv', index=False)\n",
    "        return pred"
   ]
  },
  {
   "cell_type": "code",
   "execution_count": 27,
   "metadata": {},
   "outputs": [],
   "source": [
    "# choices of \"k_ratio\"\n",
    "ratio = [0.4,0.5,0.6,0.7]\n",
    "# choice of \"C\"\n",
    "C_lst = [0.5,0.7,1,5,10]"
   ]
  },
  {
   "cell_type": "markdown",
   "metadata": {},
   "source": [
    "After a series of testing, we found that the combination of \"TFIDF\" and \"k-best-chi\" has the greatest performance for both accuracy and weighted averaging f1_score. "
   ]
  },
  {
   "cell_type": "code",
   "execution_count": null,
   "metadata": {},
   "outputs": [],
   "source": [
    "# Using \"TFIDF\" and \"k-best-chi\" and to test different k_ratio and c to find best parameters.\n",
    "\n",
    "max_f1score = 0\n",
    "f1_k_ratio = 0\n",
    "f1_c_value = 0\n",
    "max_accuracy = 0\n",
    "acc_k_ratio = 0\n",
    "acc_c_value = 0\n",
    "\n",
    "X_train_vec, X_test_vec = vectorizer(X_train, X_test, method=\"TFIDF\", ngram=(1,1))\n",
    "for k in ratio:\n",
    "    for c in C_lst:\n",
    "        X_train_sub, X_test_sub = feature_selection(X_train_vec, Y_train, X_test_vec, method=\"k-best-chi\", kratio=k)\n",
    "        accuracy, avg_f1, pred = SVM(C = c, validation=True)\n",
    "        if avg_f1 > max_f1score:\n",
    "            max_f1score = avg_f1\n",
    "            f1_k_ratio = k\n",
    "            f1_c_value = c\n",
    "        if accuracy > max_accuracy:\n",
    "            max_accuracy = accuracy\n",
    "            acc_k_ratio = k\n",
    "            acc_c_value = c\n",
    "\n",
    "print(\"TFIDF\")\n",
    "print(\"The model with  the highest accuracy is :\", max_accuracy, \"with ratio of\", acc_k_ratio, \"and c of\", acc_c_value)\n",
    "print(\"The model with  the highest weighted avg f1_score is :\", max_f1score, \"with ratio of\", f1_k_ratio, \"and c of\", f1_c_value)\n",
    "print(\"\\n\")\n",
    "\n"
   ]
  },
  {
   "cell_type": "markdown",
   "metadata": {},
   "source": [
    "Since the running time of the above cell is ridiculously long, its result has been saved into this markdown cell.<br> \n",
    "\n",
    "*TFIDF<br>\n",
    "The model with  the highest accuracy is : 0.6835380835380835 with ratio of 0.5 and c of 0.5<br>\n",
    "The model with  the highest weighted avg f1_score is : 0.6670920932094809 with ratio of 0.6 and c of 1*"
   ]
  },
  {
   "cell_type": "markdown",
   "metadata": {},
   "source": [
    "It is decided to use C=1 which has the highest f1 score rather than c=0.5(highest accuracy)."
   ]
  },
  {
   "cell_type": "code",
   "execution_count": 29,
   "metadata": {},
   "outputs": [
    {
     "name": "stdout",
     "output_type": "stream",
     "text": [
      "Predict for whole testing set:\n",
      "Counter({'neutral': 4384, 'positive': 1052, 'negative': 663})\n",
      "The time:  67.40354871749878\n",
      "\n",
      "\n",
      "Predict for validation set:\n",
      "The validation accuracy:  0.6764946764946765\n",
      "The validation weighted-averaging f1 score:  0.6670920932094809\n"
     ]
    }
   ],
   "source": [
    "# The final SVM model: method=\"TFIDF\", ngram=(1,1), method=\"k-best-chi\", kratio=0.6, C=1\n",
    "import time\n",
    "\n",
    "t0 = time.time()\n",
    "X_train_vec, X_test_vec = vectorizer(X_train_clean, X_test_clean, method=\"TFIDF\", ngram=(1,1))\n",
    "X_train_final, X_test_final = feature_selection(X_train_vec, Y_train_final, X_test_vec, method=\"k-best-chi\", kratio=0.5)\n",
    "pred = SVM(C = 1, validation=False)\n",
    "t1 = time.time() - t0\n",
    "print(\"Predict for whole testing set:\")\n",
    "print(Counter(pred))\n",
    "print(\"The time: \", t1)\n",
    "\n",
    "# predict for validation set\n",
    "X_train_vec, X_test_vec = vectorizer(X_train, X_test, method=\"TFIDF\", ngram=(1,1))\n",
    "X_train_sub, X_test_sub = feature_selection(X_train_vec, Y_train, X_test_vec, method=\"k-best-chi\", kratio=0.6)\n",
    "acc, f1, validation_pred = SVM(C = 1, validation=True)\n",
    "print(\"\\n\")\n",
    "print(\"Predict for validation set:\")\n",
    "print(\"The validation accuracy: \", acc)\n",
    "print(\"The validation weighted-averaging f1 score: \", f1)"
   ]
  },
  {
   "cell_type": "markdown",
   "metadata": {},
   "source": [
    "The final SVM model uses \"TFIDF\" vectorisation with ngram=(1,1), and \"k-best-chi\" as feature selection method with k_ratio = 0.6.<br/>\n",
    "The model has a validation accuracy of 0.6764946764946765 and a weighted averaging f1 score of 0.6670920932094809.<br/> The testing accuracy(40%) on Kaggle was 0.54940. "
   ]
  },
  {
   "cell_type": "markdown",
   "metadata": {},
   "source": [
    "### Evaluation"
   ]
  },
  {
   "cell_type": "code",
   "execution_count": 30,
   "metadata": {},
   "outputs": [
    {
     "data": {
      "text/plain": [
       "{'accuracy': 0.6764946764946765,\n",
       " 'weighted_precision': 0.662817248710915,\n",
       " 'weighted_recall': 0.6764946764946765,\n",
       " 'weighted_f1': 0.6670920932094809,\n",
       " 'confusion_M': array([[ 297,  494,   23],\n",
       "        [ 326, 3233,  453],\n",
       "        [  20,  659,  600]]),\n",
       " 'time': 67.40354871749878}"
      ]
     },
     "execution_count": 30,
     "metadata": {},
     "output_type": "execute_result"
    }
   ],
   "source": [
    "# accuracy, weighted precision, weighted recall, weighted f1, confusion_matrix，error_rate =1-accuracy, time\n",
    "\n",
    "from sklearn.metrics import accuracy_score, precision_score, recall_score, f1_score\n",
    "from sklearn.metrics import confusion_matrix, ConfusionMatrixDisplay\n",
    "import matplotlib.pyplot as plt\n",
    "from matplotlib import cm\n",
    "labels=['negative','neutral','positive']\n",
    "\n",
    "# save all the information for SVM model, which will be use for graph\n",
    "SVM_metrics={}\n",
    "SVM_metrics['accuracy'] = accuracy_score(Y_test, validation_pred)\n",
    "SVM_metrics['weighted_precision'] = precision_score(Y_test, validation_pred, average=\"weighted\")\n",
    "SVM_metrics['weighted_recall'] = recall_score(Y_test, validation_pred, average=\"weighted\")\n",
    "SVM_metrics['weighted_f1'] = f1_score(Y_test, validation_pred, average=\"weighted\")\n",
    "SVM_metrics['confusion_M'] = confusion_matrix(Y_test, validation_pred, labels=labels)\n",
    "SVM_metrics['time'] = t1\n",
    "SVM_metrics"
   ]
  },
  {
   "cell_type": "code",
   "execution_count": 31,
   "metadata": {},
   "outputs": [
    {
     "data": {
      "image/png": "[encoded data removed]",
      "text/plain": [
       "<Figure size 432x288 with 2 Axes>"
      ]
     },
     "metadata": {
      "needs_background": "light"
     },
     "output_type": "display_data"
    }
   ],
   "source": [
    "# How to plot confusion matrix\n",
    "ConfusionMatrixDisplay(SVM_metrics['confusion_M'],display_labels=labels).plot()\n",
    "plt.savefig(\"SVM confusion\")"
   ]
  },
  {
   "cell_type": "markdown",
   "metadata": {},
   "source": [
    "# Multi-Class Logistic Regression"
   ]
  },
  {
   "cell_type": "code",
   "execution_count": 20,
   "metadata": {},
   "outputs": [],
   "source": [
    "from sklearn.linear_model import LogisticRegression\n",
    "from sklearn.metrics import f1_score\n",
    "# This function implements multi-class logistic regression classifer.\n",
    "def lgr(C,validation=False):\n",
    "    \n",
    "    # choices of \"solver\": \"sag\" and \"saga\" are both suitable for large dataset and there is not much difference on\n",
    "    #                      performance of our model. so we uses \"sag\"\n",
    "    # since we have a multi-class problem, we use \"multinomial\" as multi-class.\n",
    "    lgr = LogisticRegression(solver=\"sag\", C=C, max_iter=1000, penalty='l2', multi_class='multinomial')\n",
    "    \n",
    "    # if we are just validate the accuracy using a subset of trainning set\n",
    "    if validation == True:\n",
    "        # random hold-out validation\n",
    "        pred = lgr.fit(X_train_sub, Y_train).predict(X_test_sub)\n",
    "        accuracy = accuracy_score(Y_test, pred)\n",
    "        avg_f1 = f1_score(Y_test, pred, average = \"weighted\")\n",
    "        return accuracy, avg_f1, pred\n",
    "    \n",
    "    # training using the whole trainning set and predict for the testing set with unknown label\n",
    "    else:\n",
    "        pred = lgr.fit(X_train_final, Y_train_final).predict(X_test_final)\n",
    "        # save test prediction as a csv file\n",
    "        df = pd.DataFrame(data={\"id\": tweet_id, \"sentiment\": pred})\n",
    "        df.to_csv('Multiclass Logistic Regression.csv', index=False)\n",
    "        return pred\n"
   ]
  },
  {
   "cell_type": "code",
   "execution_count": 33,
   "metadata": {},
   "outputs": [],
   "source": [
    "# choices of parameters\n",
    "ratio = [0.4,0.5,0.6,0.7]\n",
    "C_lst = [0.5,1, 5,10]\n",
    "method = ['BoW','TFIDF']"
   ]
  },
  {
   "cell_type": "code",
   "execution_count": 34,
   "metadata": {},
   "outputs": [
    {
     "name": "stdout",
     "output_type": "stream",
     "text": [
      "BoW\n",
      "The model with  the highest accuracy is : 0.6614250614250614 with ratio of  0.4 and c of 0.5\n",
      "The model with  the highest weighted avg f1_score is : 0.6549700495726918 with ratio of  0.4 and c of 0.5\n",
      "\n",
      "\n",
      "TFIDF\n",
      "The model with  the highest accuracy is : 0.6774774774774774 with ratio of  0.4 and c of 0.5\n",
      "The model with  the highest weighted avg f1_score is : 0.6621258355541977 with ratio of  0.6 and c of 1\n",
      "\n",
      "\n"
     ]
    }
   ],
   "source": [
    "# using k-best-F to test parameters\n",
    "for mtype in method:\n",
    "    \n",
    "    max_f1score = 0\n",
    "    f1_k_ratio = 0\n",
    "    f1_c = 0\n",
    "\n",
    "    max_acc = 0\n",
    "    acc_k_ratio = 0\n",
    "    acc_c = 0\n",
    "    \n",
    "    X_train_vec, X_test_vec = vectorizer(X_train, X_test, method=mtype, ngram=(1,1))\n",
    "    for k in ratio:\n",
    "        X_train_sub, X_test_sub = feature_selection(X_train_vec, Y_train, X_test_vec, method=\"k-best-F\", kratio=k)\n",
    "        for c in C_lst:\n",
    "            acc, f1, pred = lgr(c, validation=True)\n",
    "\n",
    "            if f1 > max_f1score:\n",
    "                max_f1score = f1\n",
    "                f1_k_ratio = k\n",
    "                f1_c = c\n",
    "            \n",
    "            if acc > max_acc:\n",
    "                max_acc = acc\n",
    "                acc_k_ratio = k\n",
    "                acc_c = c\n",
    "            \n",
    "    print(mtype)\n",
    "    print(\"The model with  the highest accuracy is :\", max_acc, \"with ratio of \", acc_k_ratio, \"and c of\", acc_c)\n",
    "    print(\"The model with  the highest weighted avg f1_score is :\", max_f1score, \"with ratio of \", f1_k_ratio, \"and c of\", f1_c) \n",
    "    print(\"\\n\")\n"
   ]
  },
  {
   "cell_type": "code",
   "execution_count": 33,
   "metadata": {},
   "outputs": [
    {
     "name": "stdout",
     "output_type": "stream",
     "text": [
      "BoW\n",
      "The model with  the highest accuracy is : 0.6592956592956593 with ratio of  0.4 and c of 0.5\n",
      "The model with  the highest weighted avg f1_score is : 0.6545554859174986 with ratio of  0.6 and c of 0.5\n",
      "\n",
      "\n",
      "TFIDF\n",
      "The model with  the highest accuracy is : 0.6778050778050778 with ratio of  0.5 and c of 0.5\n",
      "The model with  the highest weighted avg f1_score is : 0.6621428006281156 with ratio of  0.6 and c of 1\n",
      "\n",
      "\n"
     ]
    }
   ],
   "source": [
    "# using k-best-chi to test for different parameters to find the bests\n",
    "for mtype in method:\n",
    "    max_f1score = 0\n",
    "    f1_k_ratio = 0\n",
    "    f1_c = 0\n",
    "    \n",
    "    max_acc = 0\n",
    "    acc_k_ratio = 0\n",
    "    acc_c = 0\n",
    "    \n",
    "    X_train_vec, X_test_vec = vectorizer(X_train, X_test, method=mtype, ngram=(1,1))\n",
    "    for k in ratio:\n",
    "        X_train_sub, X_test_sub = feature_selection(X_train_vec, Y_train, X_test_vec, method=\"k-best-chi\", kratio=k)\n",
    "        for c in C_lst:\n",
    "            acc, f1, pred = lgr(c, validation=True)\n",
    "\n",
    "            if f1 > max_f1score:\n",
    "                max_f1score = f1\n",
    "                f1_k_ratio = k\n",
    "                f1_c = c\n",
    "            \n",
    "            if acc > max_acc:\n",
    "                max_acc = acc\n",
    "                acc_k_ratio = k\n",
    "                acc_c = c\n",
    "            \n",
    "    print(mtype)\n",
    "    print(\"The model with  the highest accuracy is :\", max_acc, \"with ratio of \", acc_k_ratio, \"and c of\", acc_c)\n",
    "    print(\"The model with  the highest weighted avg f1_score is :\", max_f1score, \"with ratio of \", f1_k_ratio, \"and c of\", f1_c) \n",
    "    print(\"\\n\")\n",
    "\n"
   ]
  },
  {
   "cell_type": "markdown",
   "metadata": {},
   "source": [
    "It is observed that TFIDF vectorisation has higher performance than BoW; k-best-chi has a slightly better performance than k-best-F. "
   ]
  },
  {
   "cell_type": "code",
   "execution_count": 35,
   "metadata": {},
   "outputs": [
    {
     "name": "stdout",
     "output_type": "stream",
     "text": [
      "Predict for whole testing set:\n",
      "Counter({'neutral': 4267, 'positive': 1142, 'negative': 690})\n",
      "The time:  4.6390700340271\n",
      "\n",
      "\n",
      "Predict for validation set:\n",
      "The validation accuracy:  0.6727272727272727\n",
      "The validation weighted-averaging f1 score:  0.6621428006281156\n"
     ]
    }
   ],
   "source": [
    "# Final model for Logistic Regression: TFIDF, ngram=(1,1), k_ratio = 0.6, C=1\n",
    "\n",
    "t0 = time.time()\n",
    "X_train_vec, X_test_vec = vectorizer(X_train_clean, X_test_clean, method=\"TFIDF\", ngram=(1,1))\n",
    "\n",
    "X_train_final, X_test_final = feature_selection(X_train_vec, Y_train_final, X_test_vec, method=\"k-best-chi\", kratio=0.6)\n",
    "pred = lgr(C=1, validation = False)\n",
    "t1 = time.time() - t0\n",
    "print(\"Predict for whole testing set:\")\n",
    "print(Counter(pred))\n",
    "print(\"The time: \", t1)\n",
    "\n",
    "# predict for validation set\n",
    "X_train_vec, X_test_vec = vectorizer(X_train, X_test, method=\"TFIDF\", ngram=(1,1))\n",
    "X_train_sub, X_test_sub = feature_selection(X_train_vec, Y_train, X_test_vec, method=\"k-best-chi\", kratio=0.6)\n",
    "acc, f1, validation_pred = lgr(C=1, validation = True)\n",
    "print(\"\\n\")\n",
    "print(\"Predict for validation set:\")\n",
    "print(\"The validation accuracy: \", acc)\n",
    "print(\"The validation weighted-averaging f1 score: \", f1)"
   ]
  },
  {
   "cell_type": "markdown",
   "metadata": {},
   "source": [
    "The final logistic regression model uses \"TFIDF\" vectorisation with ngram=(1,1), and \"k-best-chi\" as feature selection method with k_ratio = 0.6, soft margin C=1.<br/>\n",
    "The model has a validation accuracy of 0.6727272727272727 and a weighted averaging f1 score of 0.6621428006281156.<br/> The testing accuracy(40%) on Kaggle was 0.55760. "
   ]
  },
  {
   "cell_type": "code",
   "execution_count": 36,
   "metadata": {},
   "outputs": [
    {
     "data": {
      "text/plain": [
       "{'accuracy': 0.6727272727272727,\n",
       " 'weighted_precision': 0.6574767056379339,\n",
       " 'weighted_recall': 0.6727272727272727,\n",
       " 'weighted_f1': 0.6621428006281156,\n",
       " 'confusion_M': array([[ 274,  510,   30],\n",
       "        [ 303, 3233,  476],\n",
       "        [  17,  662,  600]]),\n",
       " 'time': 4.6390700340271}"
      ]
     },
     "execution_count": 36,
     "metadata": {},
     "output_type": "execute_result"
    }
   ],
   "source": [
    "labels=['negative','neutral','positive']\n",
    "\n",
    "# save all the information for LGR model, which will be use for graph\n",
    "LGR_metrics={}\n",
    "LGR_metrics['accuracy'] = accuracy_score(Y_test, validation_pred)\n",
    "LGR_metrics['weighted_precision'] = precision_score(Y_test, validation_pred, average=\"weighted\")\n",
    "LGR_metrics['weighted_recall'] = recall_score(Y_test, validation_pred, average=\"weighted\")\n",
    "LGR_metrics['weighted_f1'] = f1_score(Y_test, validation_pred, average=\"weighted\")\n",
    "LGR_metrics['confusion_M'] = confusion_matrix(Y_test, validation_pred, labels=labels)\n",
    "LGR_metrics['time'] = t1\n",
    "LGR_metrics"
   ]
  },
  {
   "cell_type": "code",
   "execution_count": 37,
   "metadata": {},
   "outputs": [
    {
     "data": {
      "image/png": "[encoded data removed]",
      "text/plain": [
       "<Figure size 432x288 with 2 Axes>"
      ]
     },
     "metadata": {
      "needs_background": "light"
     },
     "output_type": "display_data"
    }
   ],
   "source": [
    "# Visualise confusion matrix\n",
    "ConfusionMatrixDisplay(LGR_metrics['confusion_M'],display_labels=labels).plot()\n",
    "# save fig if nessesary\n",
    "plt.savefig(\"LGR confusion\")"
   ]
  },
  {
   "cell_type": "markdown",
   "metadata": {},
   "source": [
    "# Random Forest"
   ]
  },
  {
   "cell_type": "code",
   "execution_count": 21,
   "metadata": {},
   "outputs": [
    {
     "data": {
      "text/plain": [
       "(0.6825552825552825, 0.6422418510317794)"
      ]
     },
     "execution_count": 21,
     "metadata": {},
     "output_type": "execute_result"
    }
   ],
   "source": [
    "# This cell implements the random forest model. \n",
    "from sklearn.ensemble import RandomForestClassifier\n",
    "# using 100 decision trees, spliting node by 'entropy'(information gain),\"gini\"-gini impurity, \n",
    "forest = RandomForestClassifier(n_estimators=200, criterion=\"entropy\", max_depth=150, min_samples_split=10,\n",
    "                                min_samples_leaf=1, max_features=\"sqrt\")\n",
    "# predict for validation set\n",
    "X_train_vec, X_test_vec = vectorizer(X_train, X_test, method=\"BoW\", ngram=(1,1))\n",
    "X_train_sub, X_test_sub = feature_selection(X_train_vec, Y_train, X_test_vec, method=\"k-best-chi\", kratio=0.6)\n",
    "validation_pred = forest.fit(X_train_sub, Y_train).predict(X_test_sub)\n",
    "accuracy = accuracy_score(Y_test, validation_pred)\n",
    "f1 = f1_score(Y_test, validation_pred, average = \"weighted\")\n",
    "(accuracy,f1) "
   ]
  },
  {
   "cell_type": "markdown",
   "metadata": {},
   "source": [
    "A trial comparision of results using different vectorisation methods:<br>\n",
    "tfidf: (0.6819000819000819, 0.6461283343861257)<br>\n",
    "bow: (0.6805896805896806, 0.6396399114230008)<br>\n",
    "It is noticed that TFIDF random forest has a better performance than BoW random forest. So \"TFIDF\" is used. <br>\n",
    "NOTE: The above results may vary every time we run the random forest model since this classifier selects features at random, which means that the model would not be the same everytime. However, we have tested for several trials and TFIDF always perform slightly better than BoW."
   ]
  },
  {
   "cell_type": "code",
   "execution_count": 39,
   "metadata": {},
   "outputs": [
    {
     "name": "stdout",
     "output_type": "stream",
     "text": [
      "Predict for whole testing set:\n",
      "Counter({'neutral': 5046, 'positive': 799, 'negative': 254})\n",
      "The time:  30.365751028060913\n"
     ]
    }
   ],
   "source": [
    "# predict for the whole test set \n",
    "# Note that the output of this prediction will not be the same if you run the code again, due to randomness in random\n",
    "# forest\n",
    "t0=time.time()\n",
    "X_train_vec, X_test_vec = vectorizer(X_train_clean, X_test_clean, method=\"TFIDF\", ngram=(1,1))\n",
    "X_train_final, X_test_final = feature_selection(X_train_vec, Y_train_final, X_test_vec, method=\"k-best-chi\", kratio=0.6)\n",
    "pred = forest.fit(X_train_final, Y_train_final).predict(X_test_final)\n",
    "df = pd.DataFrame(data={\"id\": tweet_id, \"sentiment\": pred})\n",
    "df.to_csv('Random_forest.csv', index=False)\n",
    "t1 = time.time() - t0\n",
    "\n",
    "print(\"Predict for whole testing set:\")\n",
    "print(Counter(pred))\n",
    "print(\"The time: \", t1)\n"
   ]
  },
  {
   "cell_type": "markdown",
   "metadata": {},
   "source": [
    "The final random forest model uses \"TFIDF\" vectorisation with ngram=(1,1), and \"k-best-chi\" as feature selection method with k_ratio = 0.6, n_estimators=200, criterion=\"entropy\", max_depth=150, min_samples_split=10,\n",
    "min_samples_leaf=1, max_features=\"sqrt\".<br/>\n",
    "The model has a validation accuracy of 0.6837018837018837 and a weighted averaging f1 score of 0.6441274410953975. (Again, this validation result may vary if running the random forest classifier again due to randomness)<br>\n",
    "The testing accuracy(40%) on Kaggle was 0.47273. "
   ]
  },
  {
   "cell_type": "code",
   "execution_count": 40,
   "metadata": {},
   "outputs": [
    {
     "data": {
      "text/plain": [
       "{'accuracy': 0.6810810810810811,\n",
       " 'weighted_precision': 0.6520998230106546,\n",
       " 'weighted_recall': 0.6810810810810811,\n",
       " 'weighted_f1': 0.6419995926394101,\n",
       " 'confusion_M': array([[ 127,  666,   21],\n",
       "        [ 117, 3574,  321],\n",
       "        [   6,  816,  457]]),\n",
       " 'time': 30.365751028060913}"
      ]
     },
     "execution_count": 40,
     "metadata": {},
     "output_type": "execute_result"
    }
   ],
   "source": [
    "labels=['negative','neutral','positive']\n",
    "\n",
    "\n",
    "# save all the information for RF model, which will be use for graph\n",
    "RF_metrics={}\n",
    "RF_metrics['accuracy'] = accuracy_score(Y_test, validation_pred)\n",
    "RF_metrics['weighted_precision'] = precision_score(Y_test, validation_pred, average=\"weighted\")\n",
    "RF_metrics['weighted_recall'] = recall_score(Y_test, validation_pred, average=\"weighted\")\n",
    "RF_metrics['weighted_f1'] = f1_score(Y_test, validation_pred, average=\"weighted\")\n",
    "RF_metrics['confusion_M'] = confusion_matrix(Y_test, validation_pred, labels = labels)\n",
    "RF_metrics['time'] = t1\n",
    "RF_metrics"
   ]
  },
  {
   "cell_type": "code",
   "execution_count": 41,
   "metadata": {},
   "outputs": [
    {
     "data": {
      "image/png": "[encoded data removed]",
      "text/plain": [
       "<Figure size 432x288 with 2 Axes>"
      ]
     },
     "metadata": {
      "needs_background": "light"
     },
     "output_type": "display_data"
    }
   ],
   "source": [
    "# Visualise confusion matrix\n",
    "ConfusionMatrixDisplay(RF_metrics['confusion_M'],display_labels=labels).plot()\n",
    "# save fig if nessesary\n",
    "plt.savefig(\"RF confusion\")"
   ]
  },
  {
   "cell_type": "markdown",
   "metadata": {},
   "source": [
    "# Ensemble model – stacking"
   ]
  },
  {
   "cell_type": "code",
   "execution_count": 24,
   "metadata": {},
   "outputs": [],
   "source": [
    "import numpy as np\n",
    "from sklearn.ensemble import StackingClassifier\n",
    "from sklearn.linear_model import LogisticRegression\n",
    "from sklearn.ensemble import RandomForestClassifier\n",
    "from sklearn.naive_bayes import MultinomialNB \n",
    "from sklearn import svm\n",
    "from sklearn.metrics import accuracy_score\n",
    "\n",
    "# use the previous 4 models as base model in stacking, and final classifer as logistic Regression using the outcomes\n",
    "# of the 4 base models\n",
    "classifiers = [(\"SVM\",svm.SVC(C=1, kernel='linear')),\n",
    "               (\"MNB\",MultinomialNB()),\n",
    "               (\"RandomForest\",RandomForestClassifier(n_estimators=200, criterion=\"entropy\", max_depth=150, min_samples_split=10,\n",
    "                                min_samples_leaf=1, max_features=\"sqrt\")),\n",
    "               (\"LogisticReg\", LogisticRegression(solver=\"sag\", C=1, max_iter=200, penalty='l2', multi_class='multinomial'))]\n",
    "\n",
    "stacker_lr = StackingClassifier(estimators=classifiers, \n",
    "                                final_estimator = LogisticRegression(solver=\"sag\", C=1, max_iter=200, penalty='l2', multi_class='multinomial'))\n"
   ]
  },
  {
   "cell_type": "code",
   "execution_count": 43,
   "metadata": {},
   "outputs": [
    {
     "name": "stdout",
     "output_type": "stream",
     "text": [
      "Stack validation Accuracy: 0.6592956592956593\n",
      "Stack validation weighted-averaging: 0.6596251992410703\n"
     ]
    }
   ],
   "source": [
    "# accuracy based on validation set\n",
    "X_train_vec, X_test_vec = vectorizer(X_train, X_test, method=\"TFIDF\", ngram=(1,1))\n",
    "X_train_sub, X_test_sub = feature_selection(X_train_vec, Y_train, X_test_vec, method=\"k-best-chi\", kratio=0.6)\n",
    "validation_pred = stacker_lr.fit(X_train_sub, Y_train).predict(X_test_sub)\n",
    "print(\"Stack validation Accuracy:\", accuracy_score(Y_test, validation_pred))\n",
    "print(\"Stack validation weighted-averaging:\", f1_score(Y_test, validation_pred, average=\"weighted\"))"
   ]
  },
  {
   "cell_type": "code",
   "execution_count": 44,
   "metadata": {},
   "outputs": [
    {
     "name": "stdout",
     "output_type": "stream",
     "text": [
      "Predict for whole testing set:\n",
      "Counter({'neutral': 3895, 'positive': 1303, 'negative': 901})\n",
      "The time:  639.4721891880035\n"
     ]
    }
   ],
   "source": [
    "# Predictions of the test data\n",
    "# Note that the output of this prediction will not be the same if you run the code again, due to randomness in random\n",
    "# forest\n",
    "\n",
    "t0=time.time()\n",
    "X_train_vec, X_test_vec = vectorizer(X_train_clean, X_test_clean, method=\"TFIDF\", ngram=(1,1))\n",
    "X_train_final, X_test_final = feature_selection(X_train_vec, Y_train_final, X_test_vec, method=\"k-best-chi\", kratio=0.6)\n",
    "\n",
    "stack_model = stacker_lr.fit(X_train_final, Y_train_final).predict(X_test_final)\n",
    "df = pd.DataFrame(data={\"id\": tweet_id, \"sentiment\": stack_model})\n",
    "df.to_csv('Stacking.csv', index=False)\n",
    "t1 = time.time() - t0\n",
    "\n",
    "print(\"Predict for whole testing set:\")\n",
    "print(Counter(stack_model))\n",
    "print(\"The time: \", t1)"
   ]
  },
  {
   "cell_type": "markdown",
   "metadata": {},
   "source": [
    "The final stacking model uses \"TFIDF\" vectorisation with ngram=(1,1), and \"k-best-chi\" as feature selection method with k_ratio = 0.6, all of models as base-estimators and logistic regression estimator as the meta classifier.<br/>\n",
    "The model has a validation accuracy of 0.6604422604422604 and a weighted averaging f1 score of 0.6608697664082144.<br/> The testing accuracy(40%) on Kaggle was 0.58548. "
   ]
  },
  {
   "cell_type": "code",
   "execution_count": 45,
   "metadata": {},
   "outputs": [
    {
     "data": {
      "text/plain": [
       "{'accuracy': 0.6592956592956593,\n",
       " 'weighted_precision': 0.6599660786476363,\n",
       " 'weighted_recall': 0.6592956592956593,\n",
       " 'weighted_f1': 0.6596251992410703,\n",
       " 'confusion_M': array([[ 360,  427,   27],\n",
       "        [ 431, 2990,  591],\n",
       "        [  26,  578,  675]]),\n",
       " 'time': 639.4721891880035}"
      ]
     },
     "execution_count": 45,
     "metadata": {},
     "output_type": "execute_result"
    }
   ],
   "source": [
    "Stacking_metrics={}\n",
    "\n",
    "\n",
    "# save all the information for Stacking model, which will be use for graph\n",
    "Stacking_metrics['accuracy'] = accuracy_score(Y_test, validation_pred)\n",
    "Stacking_metrics['weighted_precision'] = precision_score(Y_test, validation_pred, average=\"weighted\")\n",
    "Stacking_metrics['weighted_recall'] = recall_score(Y_test, validation_pred, average=\"weighted\")\n",
    "Stacking_metrics['weighted_f1'] = f1_score(Y_test, validation_pred, average=\"weighted\")\n",
    "Stacking_metrics['confusion_M'] = confusion_matrix(Y_test, validation_pred, labels=labels)\n",
    "Stacking_metrics['time'] = t1\n",
    "Stacking_metrics"
   ]
  },
  {
   "cell_type": "code",
   "execution_count": 50,
   "metadata": {},
   "outputs": [
    {
     "data": {
      "image/png": "[encoded data removed]",
      "text/plain": [
       "<Figure size 432x288 with 2 Axes>"
      ]
     },
     "metadata": {
      "needs_background": "light"
     },
     "output_type": "display_data"
    }
   ],
   "source": [
    "# Visualise confusion matrix\n",
    "ConfusionMatrixDisplay(Stacking_metrics['confusion_M'],display_labels=labels).plot()\n",
    "# save fig if nessesary\n",
    "plt.savefig(\"Stacking_confusion\")"
   ]
  },
  {
   "cell_type": "code",
   "execution_count": 49,
   "metadata": {},
   "outputs": [
    {
     "data": {
      "image/png": "[encoded data removed]",
      "text/plain": [
       "<Figure size 432x288 with 2 Axes>"
      ]
     },
     "metadata": {
      "needs_background": "light"
     },
     "output_type": "display_data"
    }
   ],
   "source": [
    "X_train_vec, X_test_vec = vectorizer(X_train, X_test, method=\"TFIDF\", ngram=(1,1))\n",
    "X_train_sub, X_test_sub = feature_selection(X_train_vec, Y_train, X_test_vec, method=\"k-best-chi\", kratio=0.6)\n",
    "acc, f1, validation_pred_tfidf = MNB(validation=True)\n",
    "\n",
    "# Visualise confusion matrix\n",
    "ConfusionMatrixDisplay(confusion_matrix(Y_test, validation_pred_tfidf, labels=labels),display_labels=labels).plot()\n",
    "# save fig if nessesary\n",
    "plt.savefig(\"MNB TFIDF\")"
   ]
  },
  {
   "cell_type": "markdown",
   "metadata": {},
   "source": [
    "## Adjust dataset in order to let training set have the same class distribution"
   ]
  },
  {
   "cell_type": "code",
   "execution_count": 56,
   "metadata": {},
   "outputs": [],
   "source": [
    "import random\n",
    "\n",
    "positive= []\n",
    "negative = []\n",
    "neutral = []\n",
    "# classify the training dataset into three classes\n",
    "for i in range(len(X_train_clean)):\n",
    "    if Y_train_final[i] == \"positive\":\n",
    "        positive.append(X_train_clean[i])\n",
    "    elif Y_train_final[i] == \"negative\":\n",
    "        negative.append(X_train_clean[i])\n",
    "    elif Y_train_final[i] == \"neutral\":\n",
    "        neutral.append(X_train_clean[i])\n",
    "\n",
    "# we have learnt that negative sentiment is the least in the dataset, therefore we randomly extract the \n",
    "# same number of negative sentiment from three classified dataset,\n",
    "r_positive = random.choices(positive, k=len(negative))\n",
    "r_neutral = random.choices(neutral, k=len(negative))\n",
    "r_negative = negative\n",
    "x_adjust_train = r_positive+r_neutral+r_negative\n",
    "\n",
    "sentiment = ['positive', 'neutral', 'negative']\n",
    "y_adjust_train = [i for i in sentiment for n in range(len(negative))]\n"
   ]
  },
  {
   "cell_type": "code",
   "execution_count": 57,
   "metadata": {},
   "outputs": [
    {
     "name": "stdout",
     "output_type": "stream",
     "text": [
      "Stack validation Accuracy: 0.6613264979173342\n",
      "Stack validation weighted-averaging f1: 0.658767171083002\n"
     ]
    }
   ],
   "source": [
    "# use the adjusted training data to run stacking model\n",
    "\n",
    "# predict for validation set\n",
    "# we have a much smaller dataset now, but we'll still split the balanced dataset with test size = 0.28 of training\n",
    "X_train, X_test, Y_train, Y_test = train_test_split(x_adjust_train, y_adjust_train, test_size=0.28, shuffle=True, random_state=42)\n",
    "X_train_vec, X_test_vec = vectorizer(X_train, X_test, method=\"TFIDF\", ngram=(1,1))\n",
    "X_train_sub, X_test_sub = feature_selection(X_train_vec, Y_train, X_test_vec, method=\"k-best-chi\", kratio=0.8)\n",
    "validation_pred = stacker_lr.fit(X_train_sub, Y_train).predict(X_test_sub)\n",
    "print(\"Stack validation Accuracy:\", accuracy_score(Y_test, validation_pred))\n",
    "print(\"Stack validation weighted-averaging f1:\", f1_score(Y_test, validation_pred, average=\"weighted\"))\n",
    "# Note that the output of this prediction will not be the same if you run the code again, due to randomness in random\n",
    "# forest and process of generating balanced data"
   ]
  },
  {
   "cell_type": "markdown",
   "metadata": {},
   "source": [
    "Since the feature size has been reduced significantly if the balanced training set is used, we thought it might be necessary to increase the number of features (k_ratio). So we ran some trials with exact same classfifer(stacking) and parameters but different values of k_ratio. The results have been recorded below. <br>\n",
    "\n",
    "kratio=0.6:<br>\n",
    "Stack validation Accuracy: 0.6744633130406921<br>\n",
    "Stack validation weighted-averaging f1: 0.6710532198546785<br>\n",
    "\n",
    "kratio=0.7:<br>\n",
    "Stack validation Accuracy: 0.6776674142902915<br>\n",
    "Stack validation weighted-averaging f1: 0.6742301866637038<br>\n",
    "\n",
    "kratio=0.8:<br>\n",
    "Stack validation Accuracy: 0.6799102851650112<br>\n",
    "Stack validation weighted-averaging f1: 0.6762185768173528<br>\n",
    "\n",
    "It turns out that the new stacking model performed the best when k_ratio = 0.8.  <br>\n",
    "Therefore, it is decided that our final stacking model with balanced training set uses TFIDF with unigrams, selectKbest with chi-square feature selection with 0.8 k_ratio. "
   ]
  },
  {
   "cell_type": "code",
   "execution_count": 58,
   "metadata": {
    "scrolled": true
   },
   "outputs": [
    {
     "name": "stdout",
     "output_type": "stream",
     "text": [
      "Predict for whole testing set:\n",
      "Counter({'negative': 2246, 'positive': 1934, 'neutral': 1919})\n",
      "The time:  221.0543360710144\n"
     ]
    }
   ],
   "source": [
    "# Predictions of the test data\n",
    "# Note that the output of this prediction will not be the same if you run the code again, due to randomness in random\n",
    "# forest and process of generating balanced data\n",
    "\n",
    "import time\n",
    "t0 = time.time()\n",
    "X_train_vec, X_test_vec = vectorizer(x_adjust_train, X_test_clean, method=\"TFIDF\", ngram=(1,1))\n",
    "X_train_final, X_test_final = feature_selection(X_train_vec, y_adjust_train, X_test_vec, method=\"k-best-chi\", kratio=0.8)\n",
    "\n",
    "stack_model = stacker_lr.fit(X_train_final, y_adjust_train).predict(X_test_final)\n",
    "df = pd.DataFrame(data={\"id\": tweet_id, \"sentiment\": stack_model})\n",
    "df.to_csv('Stacking.csv', index=False)\n",
    "t1 = time.time() - t0\n",
    "\n",
    "print(\"Predict for whole testing set:\")\n",
    "print(Counter(stack_model))\n",
    "print(\"The time: \", t1)"
   ]
  },
  {
   "cell_type": "code",
   "execution_count": 59,
   "metadata": {},
   "outputs": [
    {
     "data": {
      "text/plain": [
       "{'accuracy': 0.6613264979173342,\n",
       " 'weighted_precision': 0.657679968307072,\n",
       " 'weighted_recall': 0.6613264979173342,\n",
       " 'weighted_f1': 0.658767171083002,\n",
       " 'confusion_M': array([[740, 189,  95],\n",
       "        [272, 548, 224],\n",
       "        [ 70, 207, 776]]),\n",
       " 'time': 221.0543360710144}"
      ]
     },
     "execution_count": 59,
     "metadata": {},
     "output_type": "execute_result"
    }
   ],
   "source": [
    "Stack_balance_metrics={}\n",
    "Stack_balance_metrics['accuracy'] = accuracy_score(Y_test, validation_pred)\n",
    "Stack_balance_metrics['weighted_precision'] = precision_score(Y_test, validation_pred, average=\"weighted\")\n",
    "Stack_balance_metrics['weighted_recall'] = recall_score(Y_test, validation_pred, average=\"weighted\")\n",
    "Stack_balance_metrics['weighted_f1'] = f1_score(Y_test, validation_pred, average=\"weighted\")\n",
    "Stack_balance_metrics['confusion_M'] = confusion_matrix(Y_test, validation_pred)\n",
    "Stack_balance_metrics['time'] = t1\n",
    "Stack_balance_metrics"
   ]
  },
  {
   "cell_type": "code",
   "execution_count": 60,
   "metadata": {},
   "outputs": [
    {
     "data": {
      "image/png": "[encoded data removed]",
      "text/plain": [
       "<Figure size 432x288 with 2 Axes>"
      ]
     },
     "metadata": {
      "needs_background": "light"
     },
     "output_type": "display_data"
    }
   ],
   "source": [
    "# Visualise confusion matrix\n",
    "ConfusionMatrixDisplay(Stack_balance_metrics['confusion_M'],display_labels=labels).plot()\n",
    "# save fig if nessesary\n",
    "plt.savefig(\"Stack balance metrics\")"
   ]
  },
  {
   "cell_type": "markdown",
   "metadata": {},
   "source": [
    "### Graphs for discussion"
   ]
  },
  {
   "cell_type": "code",
   "execution_count": 61,
   "metadata": {},
   "outputs": [
    {
     "data": {
      "image/png": "[encoded data removed]",
      "text/plain": [
       "<Figure size 432x288 with 1 Axes>"
      ]
     },
     "metadata": {
      "needs_background": "light"
     },
     "output_type": "display_data"
    }
   ],
   "source": [
    "# accuracy, weighted precision, weighted recall, weighted f1\n",
    "n_groups = 4\n",
    "MNB = (MNB_metrics[\"accuracy\"], MNB_metrics[\"weighted_precision\"], MNB_metrics[\"weighted_recall\"], \n",
    "      MNB_metrics[\"weighted_f1\"])\n",
    "SVM = (SVM_metrics[\"accuracy\"], SVM_metrics[\"weighted_precision\"], SVM_metrics[\"weighted_recall\"], \n",
    "      SVM_metrics[\"weighted_f1\"])\n",
    "LGR = (LGR_metrics[\"accuracy\"], LGR_metrics[\"weighted_precision\"], LGR_metrics[\"weighted_recall\"], \n",
    "      LGR_metrics[\"weighted_f1\"])\n",
    "RF = (RF_metrics[\"accuracy\"], RF_metrics[\"weighted_precision\"], RF_metrics[\"weighted_recall\"], \n",
    "      RF_metrics[\"weighted_f1\"])\n",
    "Stacking = (Stacking_metrics[\"accuracy\"], Stacking_metrics[\"weighted_precision\"], Stacking_metrics[\"weighted_recall\"], \n",
    "      Stacking_metrics[\"weighted_f1\"])\n",
    "\n",
    "\n",
    "# create plot\n",
    "fig = plt.figure()\n",
    "ax = fig.add_axes([0,0,3,1])\n",
    "index = np.arange(n_groups)\n",
    "bar_width = 0.12\n",
    "\n",
    "rects1 = ax.bar(index, MNB, bar_width,\n",
    "color='cornflowerblue',\n",
    "label='MNB')\n",
    "\n",
    "rects2 = ax.bar(index + bar_width, SVM, bar_width,\n",
    "color='mediumpurple',\n",
    "label='SVM')\n",
    "\n",
    "rects3 = ax.bar(index + 2*bar_width, LGR, bar_width,\n",
    "color='orange',\n",
    "label='LGR')\n",
    "\n",
    "rects4 = ax.bar(index + 3*bar_width, RF, bar_width,\n",
    "color='yellow',\n",
    "label='RF')\n",
    "\n",
    "rects5 = ax.bar(index + 4*bar_width, Stacking, bar_width,\n",
    "color='skyblue',\n",
    "label='Stacking')\n",
    "\n",
    "\n",
    "\n",
    "plt.xlabel('Evaluation Metrics', fontsize=16)\n",
    "plt.ylabel('Ratios', fontsize=16)\n",
    "plt.title('Evaluation Metrics Comparision Between Models', fontsize=16)\n",
    "plt.xticks(index + 2*bar_width, ('accuracy', 'weighted_precision', 'weighted_recall', 'weighted_f1'))\n",
    "plt.ylim(0.56, 0.70) \n",
    "plt.legend()\n",
    "plt.savefig(\"Evaluation Metrics Comparision Between Models.png\", bbox_inches = 'tight')\n"
   ]
  },
  {
   "cell_type": "code",
   "execution_count": 62,
   "metadata": {},
   "outputs": [
    {
     "data": {
      "image/png": "[encoded data removed]",
      "text/plain": [
       "<Figure size 432x288 with 1 Axes>"
      ]
     },
     "metadata": {
      "needs_background": "light"
     },
     "output_type": "display_data"
    }
   ],
   "source": [
    "n_groups = 4\n",
    "\n",
    "Stacking = (Stacking_metrics[\"accuracy\"], Stacking_metrics[\"weighted_precision\"], Stacking_metrics[\"weighted_recall\"], \n",
    "      Stacking_metrics[\"weighted_f1\"])\n",
    "Stack_balance = (Stack_balance_metrics[\"accuracy\"], Stack_balance_metrics[\"weighted_precision\"], Stack_balance_metrics[\"weighted_recall\"], \n",
    "      Stack_balance_metrics[\"weighted_f1\"])\n",
    "\n",
    "\n",
    "# create plot\n",
    "fig = plt.figure()\n",
    "ax = fig.add_axes([0,0,2,1])\n",
    "index = np.arange(n_groups)\n",
    "bar_width = 0.3\n",
    "\n",
    "rects_im = ax.bar(index + bar_width, Stacking, bar_width,\n",
    "color='skyblue',\n",
    "label='Imbalance Stacking')\n",
    "\n",
    "rects_b = ax.bar(index + 2*bar_width, Stack_balance, bar_width,\n",
    "color='slategrey',\n",
    "label='Balanced Stacking')\n",
    "\n",
    "\n",
    "plt.xlabel('Evaluation Metrics', fontsize=16)\n",
    "plt.ylabel('Ratios', fontsize=16)\n",
    "plt.title('Evaluation Metrics Comparision Balanced and Imbalanced Ensemble Models', fontsize=16)\n",
    "plt.xticks(index + 1.5*bar_width, ('accuracy', 'weighted_precision', 'weighted_recall', 'weighted_f1'))\n",
    "plt.ylim(0.6, 0.70) \n",
    "plt.legend()\n",
    "plt.savefig(\"Evaluation Metrics Stacking.png\", bbox_inches = 'tight')\n",
    "\n"
   ]
  },
  {
   "cell_type": "code",
   "execution_count": 63,
   "metadata": {},
   "outputs": [
    {
     "data": {
      "image/png": "[encoded data removed]",
      "text/plain": [
       "<Figure size 720x360 with 1 Axes>"
      ]
     },
     "metadata": {
      "needs_background": "light"
     },
     "output_type": "display_data"
    }
   ],
   "source": [
    "# Time Complexity between Models\n",
    "n_groups = 5\n",
    "\n",
    "all_time = (MNB_metrics[\"time\"], SVM_metrics[\"time\"],LGR_metrics['time'] , RF_metrics['time'], Stacking_metrics['time'])\n",
    "\n",
    "models = (\"MNB\", \"SVM\", \"LGR\", \"RF\", \"Stacking\")\n",
    "\n",
    "indx = np.arange(n_groups)\n",
    "fig, ax = plt.subplots(figsize = (10,5))\n",
    "ax.bar(indx,all_time,width=0.8)\n",
    "\n",
    "for index,data in enumerate(all_time):\n",
    "    data = round(data,2)\n",
    "    plt.text(x=index-0.15, y=data, s=f\"{data}\", fontdict=dict(fontsize=10))\n",
    "plt.xlabel('Models', fontsize=16)\n",
    "plt.ylabel('Time(s)', fontsize=16)\n",
    "plt.title('Model Time Complexity', fontsize=16)\n",
    "plt.xticks(indx, ('MNB', 'SVM', 'LGR', 'RF', 'Stacking'))\n",
    "\n",
    "plt.savefig(\"Model Time Complexity\")\n",
    "plt.show()\n"
   ]
  }
 ],
 "metadata": {
  "kernelspec": {
   "display_name": "Python 3 (ipykernel)",
   "language": "python",
   "name": "python3"
  },
  "language_info": {
   "codemirror_mode": {
    "name": "ipython",
    "version": 3
   },
   "file_extension": ".py",
   "mimetype": "text/x-python",
   "name": "python",
   "nbconvert_exporter": "python",
   "pygments_lexer": "ipython3",
   "version": "3.9.7"
  }
 },
 "nbformat": 4,
 "nbformat_minor": 4
}
